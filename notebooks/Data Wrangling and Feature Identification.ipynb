{
 "cells": [
  {
   "cell_type": "markdown",
   "metadata": {},
   "source": [
    "# COVID-19 Risk Stratification\n",
    "(description}"
   ]
  },
  {
   "cell_type": "markdown",
   "metadata": {},
   "source": [
    "## Dataset "
   ]
  },
  {
   "cell_type": "code",
   "execution_count": 1,
   "metadata": {
    "scrolled": true
   },
   "outputs": [],
   "source": [
    "import pandas as pd\n",
    "import numpy as np\n",
    "import scipy \n",
    "import matplotlib.pyplot as plt\n",
    "import seaborn as sns\n",
    "%matplotlib inline "
   ]
  },
  {
   "cell_type": "code",
   "execution_count": 2,
   "metadata": {},
   "outputs": [],
   "source": [
    "xls = pd.ExcelFile('/home/shikha/Documents/PS1/COVID-19/input/Hospital104.xlsx')\n",
    "df = pd.read_excel(xls, 'Batch2_Data')"
   ]
  },
  {
   "cell_type": "code",
   "execution_count": 3,
   "metadata": {},
   "outputs": [
    {
     "data": {
      "text/html": [
       "<div>\n",
       "<style scoped>\n",
       "    .dataframe tbody tr th:only-of-type {\n",
       "        vertical-align: middle;\n",
       "    }\n",
       "\n",
       "    .dataframe tbody tr th {\n",
       "        vertical-align: top;\n",
       "    }\n",
       "\n",
       "    .dataframe thead th {\n",
       "        text-align: right;\n",
       "    }\n",
       "</style>\n",
       "<table border=\"1\" class=\"dataframe\">\n",
       "  <thead>\n",
       "    <tr style=\"text-align: right;\">\n",
       "      <th></th>\n",
       "      <th>Sample No.</th>\n",
       "      <th>Patient ID</th>\n",
       "      <th>Study ID</th>\n",
       "      <th>Age</th>\n",
       "      <th>Gender</th>\n",
       "      <th>BMI</th>\n",
       "      <th>Symptoms Presented</th>\n",
       "      <th>Symptoms Present?</th>\n",
       "      <th>Fever</th>\n",
       "      <th>Cough</th>\n",
       "      <th>...</th>\n",
       "      <th>ERYTHROCYTE SEDIMENTATION RATE</th>\n",
       "      <th>PRO-CALCITONIN</th>\n",
       "      <th>D-DIMER</th>\n",
       "      <th>IL-6</th>\n",
       "      <th>SERUM FERRITIN</th>\n",
       "      <th>ECG</th>\n",
       "      <th>CXR</th>\n",
       "      <th>CORADS SCORE ON HRCT</th>\n",
       "      <th>PATIENT CATEGORY</th>\n",
       "      <th>PLASMA THERAPY</th>\n",
       "    </tr>\n",
       "  </thead>\n",
       "  <tbody>\n",
       "    <tr>\n",
       "      <th>0</th>\n",
       "      <td>1013</td>\n",
       "      <td>IGIB1040201013</td>\n",
       "      <td>IGIB1040201013-1</td>\n",
       "      <td>53</td>\n",
       "      <td>1</td>\n",
       "      <td>22.5</td>\n",
       "      <td>fever, cough,breathlessness</td>\n",
       "      <td>1</td>\n",
       "      <td>1</td>\n",
       "      <td>1</td>\n",
       "      <td>...</td>\n",
       "      <td>8.0</td>\n",
       "      <td>NaN</td>\n",
       "      <td>98</td>\n",
       "      <td>NaN</td>\n",
       "      <td>NaN</td>\n",
       "      <td>sinus rhythm</td>\n",
       "      <td>normal</td>\n",
       "      <td>4</td>\n",
       "      <td>5a</td>\n",
       "      <td>No</td>\n",
       "    </tr>\n",
       "    <tr>\n",
       "      <th>1</th>\n",
       "      <td>1014</td>\n",
       "      <td>IGIB1040201014</td>\n",
       "      <td>IGIB1040201014-1</td>\n",
       "      <td>26</td>\n",
       "      <td>0</td>\n",
       "      <td>25.7</td>\n",
       "      <td>asymptomatic</td>\n",
       "      <td>0</td>\n",
       "      <td>0</td>\n",
       "      <td>0</td>\n",
       "      <td>...</td>\n",
       "      <td>NaN</td>\n",
       "      <td>NaN</td>\n",
       "      <td>0.2</td>\n",
       "      <td>NaN</td>\n",
       "      <td>NaN</td>\n",
       "      <td>sinus rhythm</td>\n",
       "      <td>normal</td>\n",
       "      <td>0</td>\n",
       "      <td>5b</td>\n",
       "      <td>No</td>\n",
       "    </tr>\n",
       "    <tr>\n",
       "      <th>2</th>\n",
       "      <td>1015</td>\n",
       "      <td>IGIB1040201015</td>\n",
       "      <td>IGIB1040201015-1</td>\n",
       "      <td>28</td>\n",
       "      <td>1</td>\n",
       "      <td>22.2</td>\n",
       "      <td>asymptomatic</td>\n",
       "      <td>0</td>\n",
       "      <td>0</td>\n",
       "      <td>0</td>\n",
       "      <td>...</td>\n",
       "      <td>4.0</td>\n",
       "      <td>0.20</td>\n",
       "      <td>0.35</td>\n",
       "      <td>NaN</td>\n",
       "      <td>NaN</td>\n",
       "      <td>sinus rhythm</td>\n",
       "      <td>normal</td>\n",
       "      <td>0</td>\n",
       "      <td>5b</td>\n",
       "      <td>No</td>\n",
       "    </tr>\n",
       "    <tr>\n",
       "      <th>3</th>\n",
       "      <td>1016</td>\n",
       "      <td>IGIB1040201016</td>\n",
       "      <td>IGIB1040201016-1</td>\n",
       "      <td>73</td>\n",
       "      <td>1</td>\n",
       "      <td>21.5</td>\n",
       "      <td>fever, cough,breathlessness</td>\n",
       "      <td>1</td>\n",
       "      <td>1</td>\n",
       "      <td>1</td>\n",
       "      <td>...</td>\n",
       "      <td>NaN</td>\n",
       "      <td>NaN</td>\n",
       "      <td>NaN</td>\n",
       "      <td>63.31</td>\n",
       "      <td>NaN</td>\n",
       "      <td>sinus rhythm</td>\n",
       "      <td>normal</td>\n",
       "      <td>5</td>\n",
       "      <td>4</td>\n",
       "      <td>No</td>\n",
       "    </tr>\n",
       "    <tr>\n",
       "      <th>4</th>\n",
       "      <td>1060</td>\n",
       "      <td>IGIB1040201060</td>\n",
       "      <td>IGIB1040201060-1</td>\n",
       "      <td>49</td>\n",
       "      <td>1</td>\n",
       "      <td>27.4</td>\n",
       "      <td>fever,cough</td>\n",
       "      <td>1</td>\n",
       "      <td>1</td>\n",
       "      <td>1</td>\n",
       "      <td>...</td>\n",
       "      <td>8.0</td>\n",
       "      <td>NaN</td>\n",
       "      <td>350.55</td>\n",
       "      <td>4.33</td>\n",
       "      <td>NaN</td>\n",
       "      <td>sinus rhythm</td>\n",
       "      <td>normal</td>\n",
       "      <td>5</td>\n",
       "      <td>4</td>\n",
       "      <td>No</td>\n",
       "    </tr>\n",
       "    <tr>\n",
       "      <th>...</th>\n",
       "      <td>...</td>\n",
       "      <td>...</td>\n",
       "      <td>...</td>\n",
       "      <td>...</td>\n",
       "      <td>...</td>\n",
       "      <td>...</td>\n",
       "      <td>...</td>\n",
       "      <td>...</td>\n",
       "      <td>...</td>\n",
       "      <td>...</td>\n",
       "      <td>...</td>\n",
       "      <td>...</td>\n",
       "      <td>...</td>\n",
       "      <td>...</td>\n",
       "      <td>...</td>\n",
       "      <td>...</td>\n",
       "      <td>...</td>\n",
       "      <td>...</td>\n",
       "      <td>...</td>\n",
       "      <td>...</td>\n",
       "      <td>...</td>\n",
       "    </tr>\n",
       "    <tr>\n",
       "      <th>186</th>\n",
       "      <td>950</td>\n",
       "      <td>IGIB104020950</td>\n",
       "      <td>IGIB104020950-1</td>\n",
       "      <td>53</td>\n",
       "      <td>1</td>\n",
       "      <td>27.2</td>\n",
       "      <td>fever, cough,breathlessness</td>\n",
       "      <td>1</td>\n",
       "      <td>1</td>\n",
       "      <td>1</td>\n",
       "      <td>...</td>\n",
       "      <td>14.0</td>\n",
       "      <td>NaN</td>\n",
       "      <td>410</td>\n",
       "      <td>NaN</td>\n",
       "      <td>NaN</td>\n",
       "      <td>sinus rhythm</td>\n",
       "      <td>normal</td>\n",
       "      <td>5</td>\n",
       "      <td>4</td>\n",
       "      <td>No</td>\n",
       "    </tr>\n",
       "    <tr>\n",
       "      <th>187</th>\n",
       "      <td>965</td>\n",
       "      <td>IGIB104020965</td>\n",
       "      <td>IGIB104020965-1</td>\n",
       "      <td>33</td>\n",
       "      <td>1</td>\n",
       "      <td>26.0</td>\n",
       "      <td>fever, cough,breathlessness</td>\n",
       "      <td>1</td>\n",
       "      <td>1</td>\n",
       "      <td>1</td>\n",
       "      <td>...</td>\n",
       "      <td>6.0</td>\n",
       "      <td>NaN</td>\n",
       "      <td>1120</td>\n",
       "      <td>37.90</td>\n",
       "      <td>NaN</td>\n",
       "      <td>sinus tachycardia</td>\n",
       "      <td>normal</td>\n",
       "      <td>5</td>\n",
       "      <td>4</td>\n",
       "      <td>No</td>\n",
       "    </tr>\n",
       "    <tr>\n",
       "      <th>188</th>\n",
       "      <td>9667</td>\n",
       "      <td>IGIB1040209667</td>\n",
       "      <td>IGIB1040209667-1</td>\n",
       "      <td>70</td>\n",
       "      <td>1</td>\n",
       "      <td>21.4</td>\n",
       "      <td>fever, breathlessness</td>\n",
       "      <td>1</td>\n",
       "      <td>1</td>\n",
       "      <td>0</td>\n",
       "      <td>...</td>\n",
       "      <td>8.0</td>\n",
       "      <td>0.54</td>\n",
       "      <td>1078</td>\n",
       "      <td>735.60</td>\n",
       "      <td>NaN</td>\n",
       "      <td>sinus rhythm</td>\n",
       "      <td>normal</td>\n",
       "      <td>5</td>\n",
       "      <td>4</td>\n",
       "      <td>No</td>\n",
       "    </tr>\n",
       "    <tr>\n",
       "      <th>189</th>\n",
       "      <td>9759</td>\n",
       "      <td>IGIB1040209759</td>\n",
       "      <td>IGIB1040209759-1</td>\n",
       "      <td>65</td>\n",
       "      <td>0</td>\n",
       "      <td>22.4</td>\n",
       "      <td>breathlessness and cough</td>\n",
       "      <td>1</td>\n",
       "      <td>0</td>\n",
       "      <td>1</td>\n",
       "      <td>...</td>\n",
       "      <td>6.0</td>\n",
       "      <td>NaN</td>\n",
       "      <td>1224</td>\n",
       "      <td>NaN</td>\n",
       "      <td>NaN</td>\n",
       "      <td>sinus rhythm</td>\n",
       "      <td>normal</td>\n",
       "      <td>6</td>\n",
       "      <td>4</td>\n",
       "      <td>No</td>\n",
       "    </tr>\n",
       "    <tr>\n",
       "      <th>190</th>\n",
       "      <td>9766</td>\n",
       "      <td>IGIB1040209766</td>\n",
       "      <td>IGIB1040209766-1</td>\n",
       "      <td>75</td>\n",
       "      <td>1</td>\n",
       "      <td>26.2</td>\n",
       "      <td>fever, breathlessness</td>\n",
       "      <td>1</td>\n",
       "      <td>1</td>\n",
       "      <td>0</td>\n",
       "      <td>...</td>\n",
       "      <td>NaN</td>\n",
       "      <td>NaN</td>\n",
       "      <td>200</td>\n",
       "      <td>NaN</td>\n",
       "      <td>NaN</td>\n",
       "      <td>sinus rhythm</td>\n",
       "      <td>normal</td>\n",
       "      <td>NaN</td>\n",
       "      <td>4</td>\n",
       "      <td>No</td>\n",
       "    </tr>\n",
       "  </tbody>\n",
       "</table>\n",
       "<p>191 rows × 65 columns</p>\n",
       "</div>"
      ],
      "text/plain": [
       "     Sample No.      Patient ID          Study ID  Age  Gender   BMI  \\\n",
       "0          1013  IGIB1040201013  IGIB1040201013-1   53       1  22.5   \n",
       "1          1014  IGIB1040201014  IGIB1040201014-1   26       0  25.7   \n",
       "2          1015  IGIB1040201015  IGIB1040201015-1   28       1  22.2   \n",
       "3          1016  IGIB1040201016  IGIB1040201016-1   73       1  21.5   \n",
       "4          1060  IGIB1040201060  IGIB1040201060-1   49       1  27.4   \n",
       "..          ...             ...               ...  ...     ...   ...   \n",
       "186         950   IGIB104020950   IGIB104020950-1   53       1  27.2   \n",
       "187         965   IGIB104020965   IGIB104020965-1   33       1  26.0   \n",
       "188        9667  IGIB1040209667  IGIB1040209667-1   70       1  21.4   \n",
       "189        9759  IGIB1040209759  IGIB1040209759-1   65       0  22.4   \n",
       "190        9766  IGIB1040209766  IGIB1040209766-1   75       1  26.2   \n",
       "\n",
       "              Symptoms Presented  Symptoms Present?  Fever  Cough  ...  \\\n",
       "0    fever, cough,breathlessness                  1      1      1  ...   \n",
       "1                   asymptomatic                  0      0      0  ...   \n",
       "2                   asymptomatic                  0      0      0  ...   \n",
       "3    fever, cough,breathlessness                  1      1      1  ...   \n",
       "4                    fever,cough                  1      1      1  ...   \n",
       "..                           ...                ...    ...    ...  ...   \n",
       "186  fever, cough,breathlessness                  1      1      1  ...   \n",
       "187  fever, cough,breathlessness                  1      1      1  ...   \n",
       "188        fever, breathlessness                  1      1      0  ...   \n",
       "189     breathlessness and cough                  1      0      1  ...   \n",
       "190        fever, breathlessness                  1      1      0  ...   \n",
       "\n",
       "     ERYTHROCYTE SEDIMENTATION RATE  PRO-CALCITONIN  D-DIMER    IL-6  \\\n",
       "0                               8.0             NaN       98     NaN   \n",
       "1                               NaN             NaN      0.2     NaN   \n",
       "2                               4.0            0.20     0.35     NaN   \n",
       "3                               NaN             NaN      NaN   63.31   \n",
       "4                               8.0             NaN   350.55    4.33   \n",
       "..                              ...             ...      ...     ...   \n",
       "186                            14.0             NaN      410     NaN   \n",
       "187                             6.0             NaN     1120   37.90   \n",
       "188                             8.0            0.54     1078  735.60   \n",
       "189                             6.0             NaN     1224     NaN   \n",
       "190                             NaN             NaN      200     NaN   \n",
       "\n",
       "     SERUM FERRITIN                ECG     CXR  CORADS SCORE ON HRCT  \\\n",
       "0               NaN       sinus rhythm  normal                     4   \n",
       "1               NaN       sinus rhythm  normal                     0   \n",
       "2               NaN       sinus rhythm  normal                     0   \n",
       "3               NaN       sinus rhythm  normal                     5   \n",
       "4               NaN       sinus rhythm  normal                     5   \n",
       "..              ...                ...     ...                   ...   \n",
       "186             NaN       sinus rhythm  normal                     5   \n",
       "187             NaN  sinus tachycardia  normal                     5   \n",
       "188             NaN       sinus rhythm  normal                     5   \n",
       "189             NaN       sinus rhythm  normal                     6   \n",
       "190             NaN       sinus rhythm  normal                   NaN   \n",
       "\n",
       "     PATIENT CATEGORY  PLASMA THERAPY  \n",
       "0                  5a              No  \n",
       "1                  5b              No  \n",
       "2                  5b              No  \n",
       "3                   4              No  \n",
       "4                   4              No  \n",
       "..                ...             ...  \n",
       "186                 4              No  \n",
       "187                 4              No  \n",
       "188                 4              No  \n",
       "189                 4              No  \n",
       "190                 4              No  \n",
       "\n",
       "[191 rows x 65 columns]"
      ]
     },
     "execution_count": 3,
     "metadata": {},
     "output_type": "execute_result"
    }
   ],
   "source": [
    "df"
   ]
  },
  {
   "cell_type": "code",
   "execution_count": 4,
   "metadata": {},
   "outputs": [
    {
     "data": {
      "text/html": [
       "<div>\n",
       "<style scoped>\n",
       "    .dataframe tbody tr th:only-of-type {\n",
       "        vertical-align: middle;\n",
       "    }\n",
       "\n",
       "    .dataframe tbody tr th {\n",
       "        vertical-align: top;\n",
       "    }\n",
       "\n",
       "    .dataframe thead th {\n",
       "        text-align: right;\n",
       "    }\n",
       "</style>\n",
       "<table border=\"1\" class=\"dataframe\">\n",
       "  <thead>\n",
       "    <tr style=\"text-align: right;\">\n",
       "      <th></th>\n",
       "      <th>Sample No.</th>\n",
       "      <th>Age</th>\n",
       "      <th>Gender</th>\n",
       "      <th>BMI</th>\n",
       "      <th>Symptoms Present?</th>\n",
       "      <th>Fever</th>\n",
       "      <th>Cough</th>\n",
       "      <th>Breathlessness</th>\n",
       "      <th>Travel History</th>\n",
       "      <th>Temp</th>\n",
       "      <th>...</th>\n",
       "      <th>UREA</th>\n",
       "      <th>CREATININE</th>\n",
       "      <th>SODIUM</th>\n",
       "      <th>POTASSIUM</th>\n",
       "      <th>CHLORIDE</th>\n",
       "      <th>LACTATE DEHYDROGENASE4</th>\n",
       "      <th>ERYTHROCYTE SEDIMENTATION RATE</th>\n",
       "      <th>PRO-CALCITONIN</th>\n",
       "      <th>IL-6</th>\n",
       "      <th>SERUM FERRITIN</th>\n",
       "    </tr>\n",
       "  </thead>\n",
       "  <tbody>\n",
       "    <tr>\n",
       "      <th>count</th>\n",
       "      <td>191.000000</td>\n",
       "      <td>191.000000</td>\n",
       "      <td>191.000000</td>\n",
       "      <td>188.000000</td>\n",
       "      <td>191.000000</td>\n",
       "      <td>191.000000</td>\n",
       "      <td>191.000000</td>\n",
       "      <td>191.000000</td>\n",
       "      <td>191.000000</td>\n",
       "      <td>189.000000</td>\n",
       "      <td>...</td>\n",
       "      <td>184.000000</td>\n",
       "      <td>184.000000</td>\n",
       "      <td>182.000000</td>\n",
       "      <td>182.000000</td>\n",
       "      <td>182.000000</td>\n",
       "      <td>101.000000</td>\n",
       "      <td>92.000000</td>\n",
       "      <td>51.000000</td>\n",
       "      <td>47.000000</td>\n",
       "      <td>65.000000</td>\n",
       "    </tr>\n",
       "    <tr>\n",
       "      <th>mean</th>\n",
       "      <td>4674.560209</td>\n",
       "      <td>47.471204</td>\n",
       "      <td>0.617801</td>\n",
       "      <td>23.083191</td>\n",
       "      <td>0.832461</td>\n",
       "      <td>0.497382</td>\n",
       "      <td>0.413613</td>\n",
       "      <td>0.392670</td>\n",
       "      <td>0.020942</td>\n",
       "      <td>98.242328</td>\n",
       "      <td>...</td>\n",
       "      <td>38.034783</td>\n",
       "      <td>32.826087</td>\n",
       "      <td>1012.218681</td>\n",
       "      <td>5.593956</td>\n",
       "      <td>105.246703</td>\n",
       "      <td>521.916832</td>\n",
       "      <td>10.808696</td>\n",
       "      <td>1.672549</td>\n",
       "      <td>405.037872</td>\n",
       "      <td>382.350000</td>\n",
       "    </tr>\n",
       "    <tr>\n",
       "      <th>std</th>\n",
       "      <td>2650.590877</td>\n",
       "      <td>18.381855</td>\n",
       "      <td>0.487202</td>\n",
       "      <td>1.604113</td>\n",
       "      <td>0.374438</td>\n",
       "      <td>0.501307</td>\n",
       "      <td>0.493775</td>\n",
       "      <td>0.489628</td>\n",
       "      <td>0.143568</td>\n",
       "      <td>1.249386</td>\n",
       "      <td>...</td>\n",
       "      <td>29.426918</td>\n",
       "      <td>427.487868</td>\n",
       "      <td>11775.539089</td>\n",
       "      <td>10.490022</td>\n",
       "      <td>11.940546</td>\n",
       "      <td>471.188023</td>\n",
       "      <td>6.455999</td>\n",
       "      <td>3.022584</td>\n",
       "      <td>1054.095729</td>\n",
       "      <td>502.651379</td>\n",
       "    </tr>\n",
       "    <tr>\n",
       "      <th>min</th>\n",
       "      <td>246.000000</td>\n",
       "      <td>5.000000</td>\n",
       "      <td>0.000000</td>\n",
       "      <td>18.700000</td>\n",
       "      <td>0.000000</td>\n",
       "      <td>0.000000</td>\n",
       "      <td>0.000000</td>\n",
       "      <td>0.000000</td>\n",
       "      <td>0.000000</td>\n",
       "      <td>95.700000</td>\n",
       "      <td>...</td>\n",
       "      <td>11.800000</td>\n",
       "      <td>0.300000</td>\n",
       "      <td>11.800000</td>\n",
       "      <td>2.800000</td>\n",
       "      <td>1.100000</td>\n",
       "      <td>11.800000</td>\n",
       "      <td>2.000000</td>\n",
       "      <td>0.010000</td>\n",
       "      <td>0.800000</td>\n",
       "      <td>11.800000</td>\n",
       "    </tr>\n",
       "    <tr>\n",
       "      <th>25%</th>\n",
       "      <td>1651.000000</td>\n",
       "      <td>34.000000</td>\n",
       "      <td>0.000000</td>\n",
       "      <td>22.100000</td>\n",
       "      <td>1.000000</td>\n",
       "      <td>0.000000</td>\n",
       "      <td>0.000000</td>\n",
       "      <td>0.000000</td>\n",
       "      <td>0.000000</td>\n",
       "      <td>97.300000</td>\n",
       "      <td>...</td>\n",
       "      <td>21.000000</td>\n",
       "      <td>0.900000</td>\n",
       "      <td>137.000000</td>\n",
       "      <td>3.800000</td>\n",
       "      <td>104.000000</td>\n",
       "      <td>250.000000</td>\n",
       "      <td>6.000000</td>\n",
       "      <td>0.060000</td>\n",
       "      <td>6.550000</td>\n",
       "      <td>111.800000</td>\n",
       "    </tr>\n",
       "    <tr>\n",
       "      <th>50%</th>\n",
       "      <td>6257.000000</td>\n",
       "      <td>47.000000</td>\n",
       "      <td>1.000000</td>\n",
       "      <td>22.750000</td>\n",
       "      <td>1.000000</td>\n",
       "      <td>0.000000</td>\n",
       "      <td>0.000000</td>\n",
       "      <td>0.000000</td>\n",
       "      <td>0.000000</td>\n",
       "      <td>98.100000</td>\n",
       "      <td>...</td>\n",
       "      <td>26.700000</td>\n",
       "      <td>1.000000</td>\n",
       "      <td>140.000000</td>\n",
       "      <td>4.300000</td>\n",
       "      <td>108.000000</td>\n",
       "      <td>447.300000</td>\n",
       "      <td>8.000000</td>\n",
       "      <td>0.400000</td>\n",
       "      <td>29.680000</td>\n",
       "      <td>236.900000</td>\n",
       "    </tr>\n",
       "    <tr>\n",
       "      <th>75%</th>\n",
       "      <td>6687.500000</td>\n",
       "      <td>60.500000</td>\n",
       "      <td>1.000000</td>\n",
       "      <td>24.100000</td>\n",
       "      <td>1.000000</td>\n",
       "      <td>1.000000</td>\n",
       "      <td>1.000000</td>\n",
       "      <td>1.000000</td>\n",
       "      <td>0.000000</td>\n",
       "      <td>98.900000</td>\n",
       "      <td>...</td>\n",
       "      <td>43.300000</td>\n",
       "      <td>1.200000</td>\n",
       "      <td>143.000000</td>\n",
       "      <td>4.900000</td>\n",
       "      <td>110.000000</td>\n",
       "      <td>666.000000</td>\n",
       "      <td>14.000000</td>\n",
       "      <td>0.900000</td>\n",
       "      <td>260.990000</td>\n",
       "      <td>388.000000</td>\n",
       "    </tr>\n",
       "    <tr>\n",
       "      <th>max</th>\n",
       "      <td>9766.000000</td>\n",
       "      <td>92.000000</td>\n",
       "      <td>1.000000</td>\n",
       "      <td>27.400000</td>\n",
       "      <td>1.000000</td>\n",
       "      <td>1.000000</td>\n",
       "      <td>1.000000</td>\n",
       "      <td>1.000000</td>\n",
       "      <td>1.000000</td>\n",
       "      <td>102.000000</td>\n",
       "      <td>...</td>\n",
       "      <td>176.000000</td>\n",
       "      <td>5800.000000</td>\n",
       "      <td>159000.000000</td>\n",
       "      <td>104.000000</td>\n",
       "      <td>125.000000</td>\n",
       "      <td>3250.000000</td>\n",
       "      <td>26.000000</td>\n",
       "      <td>12.540000</td>\n",
       "      <td>4967.800000</td>\n",
       "      <td>2378.900000</td>\n",
       "    </tr>\n",
       "  </tbody>\n",
       "</table>\n",
       "<p>8 rows × 42 columns</p>\n",
       "</div>"
      ],
      "text/plain": [
       "        Sample No.         Age      Gender         BMI  Symptoms Present?  \\\n",
       "count   191.000000  191.000000  191.000000  188.000000         191.000000   \n",
       "mean   4674.560209   47.471204    0.617801   23.083191           0.832461   \n",
       "std    2650.590877   18.381855    0.487202    1.604113           0.374438   \n",
       "min     246.000000    5.000000    0.000000   18.700000           0.000000   \n",
       "25%    1651.000000   34.000000    0.000000   22.100000           1.000000   \n",
       "50%    6257.000000   47.000000    1.000000   22.750000           1.000000   \n",
       "75%    6687.500000   60.500000    1.000000   24.100000           1.000000   \n",
       "max    9766.000000   92.000000    1.000000   27.400000           1.000000   \n",
       "\n",
       "            Fever       Cough  Breathlessness  Travel History        Temp  \\\n",
       "count  191.000000  191.000000      191.000000      191.000000  189.000000   \n",
       "mean     0.497382    0.413613        0.392670        0.020942   98.242328   \n",
       "std      0.501307    0.493775        0.489628        0.143568    1.249386   \n",
       "min      0.000000    0.000000        0.000000        0.000000   95.700000   \n",
       "25%      0.000000    0.000000        0.000000        0.000000   97.300000   \n",
       "50%      0.000000    0.000000        0.000000        0.000000   98.100000   \n",
       "75%      1.000000    1.000000        1.000000        0.000000   98.900000   \n",
       "max      1.000000    1.000000        1.000000        1.000000  102.000000   \n",
       "\n",
       "       ...        UREA   CREATININE         SODIUM   POTASSIUM    CHLORIDE  \\\n",
       "count  ...  184.000000   184.000000     182.000000  182.000000  182.000000   \n",
       "mean   ...   38.034783    32.826087    1012.218681    5.593956  105.246703   \n",
       "std    ...   29.426918   427.487868   11775.539089   10.490022   11.940546   \n",
       "min    ...   11.800000     0.300000      11.800000    2.800000    1.100000   \n",
       "25%    ...   21.000000     0.900000     137.000000    3.800000  104.000000   \n",
       "50%    ...   26.700000     1.000000     140.000000    4.300000  108.000000   \n",
       "75%    ...   43.300000     1.200000     143.000000    4.900000  110.000000   \n",
       "max    ...  176.000000  5800.000000  159000.000000  104.000000  125.000000   \n",
       "\n",
       "       LACTATE DEHYDROGENASE4  ERYTHROCYTE SEDIMENTATION RATE  PRO-CALCITONIN  \\\n",
       "count              101.000000                       92.000000       51.000000   \n",
       "mean               521.916832                       10.808696        1.672549   \n",
       "std                471.188023                        6.455999        3.022584   \n",
       "min                 11.800000                        2.000000        0.010000   \n",
       "25%                250.000000                        6.000000        0.060000   \n",
       "50%                447.300000                        8.000000        0.400000   \n",
       "75%                666.000000                       14.000000        0.900000   \n",
       "max               3250.000000                       26.000000       12.540000   \n",
       "\n",
       "              IL-6  SERUM FERRITIN  \n",
       "count    47.000000       65.000000  \n",
       "mean    405.037872      382.350000  \n",
       "std    1054.095729      502.651379  \n",
       "min       0.800000       11.800000  \n",
       "25%       6.550000      111.800000  \n",
       "50%      29.680000      236.900000  \n",
       "75%     260.990000      388.000000  \n",
       "max    4967.800000     2378.900000  \n",
       "\n",
       "[8 rows x 42 columns]"
      ]
     },
     "execution_count": 4,
     "metadata": {},
     "output_type": "execute_result"
    }
   ],
   "source": [
    "df.describe()"
   ]
  },
  {
   "cell_type": "markdown",
   "metadata": {},
   "source": [
    "### Missing Data\n",
    "\n",
    "The missing values are converted by default. We use the following functions to identify these missing values. There are two methods to detect missing data:\n",
    "\n",
    "<ol>\n",
    "    <li><b>.isnull()</b></li>\n",
    "    <li><b>.notnull()</b></li>\n",
    "</ol>\n",
    "The output is a boolean value indicating whether the value that is passed into the argument is in fact missing data."
   ]
  },
  {
   "cell_type": "code",
   "execution_count": 5,
   "metadata": {},
   "outputs": [
    {
     "name": "stdout",
     "output_type": "stream",
     "text": [
      "Sample No.\n",
      "False    191\n",
      "Name: Sample No., dtype: int64\n",
      "\n",
      "Patient ID\n",
      "False    191\n",
      "Name: Patient ID, dtype: int64\n",
      "\n",
      "Study ID\n",
      "False    191\n",
      "Name: Study ID, dtype: int64\n",
      "\n",
      "Age\n",
      "False    191\n",
      "Name: Age, dtype: int64\n",
      "\n",
      "Gender\n",
      "False    191\n",
      "Name: Gender, dtype: int64\n",
      "\n",
      "BMI\n",
      "False    188\n",
      "True       3\n",
      "Name: BMI, dtype: int64\n",
      "\n",
      "Symptoms Presented\n",
      "False    191\n",
      "Name: Symptoms Presented, dtype: int64\n",
      "\n",
      "Symptoms Present?\n",
      "False    191\n",
      "Name: Symptoms Present?, dtype: int64\n",
      "\n",
      "Fever\n",
      "False    191\n",
      "Name: Fever, dtype: int64\n",
      "\n",
      "Cough\n",
      "False    191\n",
      "Name: Cough, dtype: int64\n",
      "\n",
      "Breathlessness\n",
      "False    191\n",
      "Name: Breathlessness, dtype: int64\n",
      "\n",
      "Travel History\n",
      "False    191\n",
      "Name: Travel History, dtype: int64\n",
      "\n",
      "Temp\n",
      "False    189\n",
      "True       2\n",
      "Name: Temp, dtype: int64\n",
      "\n",
      "SPO2\n",
      "False    188\n",
      "True       3\n",
      "Name: SPO2, dtype: int64\n",
      "\n",
      "METHYLPREDNISOLONE\n",
      "False    191\n",
      "Name: METHYLPREDNISOLONE, dtype: int64\n",
      "\n",
      "Low molecular weight heparin\n",
      "False    191\n",
      "Name: Low molecular weight heparin, dtype: int64\n",
      "\n",
      "Hydroxychloroquine\n",
      "False    191\n",
      "Name: Hydroxychloroquine, dtype: int64\n",
      "\n",
      "FABIFLU\n",
      "False    191\n",
      "Name: FABIFLU, dtype: int64\n",
      "\n",
      "REMDESIVIR\n",
      "False    191\n",
      "Name: REMDESIVIR, dtype: int64\n",
      "\n",
      "IVERMECTIN\n",
      "False    191\n",
      "Name: IVERMECTIN, dtype: int64\n",
      "\n",
      "ANTIBIOTICS\n",
      "False    191\n",
      "Name: ANTIBIOTICS, dtype: int64\n",
      "\n",
      "VITAMINs and zinc\n",
      "False    191\n",
      "Name: VITAMINs and zinc, dtype: int64\n",
      "\n",
      "Medicine Administered\n",
      "False    190\n",
      "True       1\n",
      "Name: Medicine Administered, dtype: int64\n",
      "\n",
      "Contact to NCOVID Patient\n",
      "False    191\n",
      "Name: Contact to NCOVID Patient, dtype: int64\n",
      "\n",
      "Co-morbid Condition\n",
      "False    190\n",
      "True       1\n",
      "Name: Co-morbid Condition, dtype: int64\n",
      "\n",
      "Co-morbidity?\n",
      "False    191\n",
      "Name: Co-morbidity?, dtype: int64\n",
      "\n",
      "Diabetes\n",
      "False    191\n",
      "Name: Diabetes, dtype: int64\n",
      "\n",
      "Hypertension\n",
      "False    191\n",
      "Name: Hypertension, dtype: int64\n",
      "\n",
      "Heart Condition\n",
      "False    191\n",
      "Name: Heart Condition, dtype: int64\n",
      "\n",
      "Hospital stay in days\n",
      "False    141\n",
      "True      50\n",
      "Name: Hospital stay in days, dtype: int64\n",
      "\n",
      "Respiratory Support\n",
      "False    188\n",
      "True       3\n",
      "Name: Respiratory Support, dtype: int64\n",
      "\n",
      "Respiratory rate(breaths per minute)\n",
      "False    188\n",
      "True       3\n",
      "Name: Respiratory rate(breaths per minute), dtype: int64\n",
      "\n",
      "Outcome\n",
      "False    141\n",
      "True      50\n",
      "Name: Outcome, dtype: int64\n",
      "\n",
      "O2 supplementation required\n",
      "False    188\n",
      "True       3\n",
      "Name: O2 supplementation required, dtype: int64\n",
      "\n",
      "Ventilatory support required\n",
      "False    188\n",
      "True       3\n",
      "Name: Ventilatory support required, dtype: int64\n",
      "\n",
      "qSOFA SCORE\n",
      "False    188\n",
      "True       3\n",
      "Name: qSOFA SCORE, dtype: int64\n",
      "\n",
      "RESPIRATORY FINDINGS\n",
      "False    191\n",
      "Name: RESPIRATORY FINDINGS, dtype: int64\n",
      "\n",
      "HEMOGLOBIN\n",
      "False    185\n",
      "True       6\n",
      "Name: HEMOGLOBIN, dtype: int64\n",
      "\n",
      "TLC COUNT\n",
      "False    185\n",
      "True       6\n",
      "Name: TLC COUNT, dtype: int64\n",
      "\n",
      "PLATELET COUNT\n",
      "False    185\n",
      "True       6\n",
      "Name: PLATELET COUNT, dtype: int64\n",
      "\n",
      "RANDOM BLOOD SUGAR\n",
      "False    185\n",
      "True       6\n",
      "Name: RANDOM BLOOD SUGAR, dtype: int64\n",
      "\n",
      "UREA\n",
      "False    184\n",
      "True       7\n",
      "Name: UREA, dtype: int64\n",
      "\n",
      "CREATININE\n",
      "False    184\n",
      "True       7\n",
      "Name: CREATININE, dtype: int64\n",
      "\n",
      "SODIUM\n",
      "False    182\n",
      "True       9\n",
      "Name: SODIUM, dtype: int64\n",
      "\n",
      "POTASSIUM\n",
      "False    182\n",
      "True       9\n",
      "Name: POTASSIUM, dtype: int64\n",
      "\n",
      "CHLORIDE\n",
      "False    182\n",
      "True       9\n",
      "Name: CHLORIDE, dtype: int64\n",
      "\n",
      "TOTAL BILIRUBIN\n",
      "False    181\n",
      "True      10\n",
      "Name: TOTAL BILIRUBIN, dtype: int64\n",
      "\n",
      "DIRECT BILIRUBIN\n",
      "False    181\n",
      "True      10\n",
      "Name: DIRECT BILIRUBIN, dtype: int64\n",
      "\n",
      "SGOT\n",
      "False    181\n",
      "True      10\n",
      "Name: SGOT, dtype: int64\n",
      "\n",
      "SGPT\n",
      "False    181\n",
      "True      10\n",
      "Name: SGPT, dtype: int64\n",
      "\n",
      "TOTALPROTEINS\n",
      "False    181\n",
      "True      10\n",
      "Name: TOTALPROTEINS, dtype: int64\n",
      "\n",
      "ALBUMIN\n",
      "False    181\n",
      "True      10\n",
      "Name: ALBUMIN, dtype: int64\n",
      "\n",
      "ALKALINE PHOSPHATASE\n",
      "False    181\n",
      "True      10\n",
      "Name: ALKALINE PHOSPHATASE, dtype: int64\n",
      "\n",
      "LACTATE DEHYDROGENASE4\n",
      "False    101\n",
      "True      90\n",
      "Name: LACTATE DEHYDROGENASE4, dtype: int64\n",
      "\n",
      "C-REACTIVE PROTEINS\n",
      "False    181\n",
      "True      10\n",
      "Name: C-REACTIVE PROTEINS, dtype: int64\n",
      "\n",
      "ERYTHROCYTE SEDIMENTATION RATE\n",
      "True     99\n",
      "False    92\n",
      "Name: ERYTHROCYTE SEDIMENTATION RATE, dtype: int64\n",
      "\n",
      "PRO-CALCITONIN\n",
      "True     140\n",
      "False     51\n",
      "Name: PRO-CALCITONIN, dtype: int64\n",
      "\n",
      "D-DIMER\n",
      "False    115\n",
      "True      76\n",
      "Name: D-DIMER, dtype: int64\n",
      "\n",
      "IL-6\n",
      "True     144\n",
      "False     47\n",
      "Name: IL-6, dtype: int64\n",
      "\n",
      "SERUM FERRITIN\n",
      "True     126\n",
      "False     65\n",
      "Name: SERUM FERRITIN, dtype: int64\n",
      "\n",
      "ECG\n",
      "False    191\n",
      "Name: ECG, dtype: int64\n",
      "\n",
      "CXR\n",
      "False    142\n",
      "True      49\n",
      "Name: CXR, dtype: int64\n",
      "\n",
      "CORADS SCORE ON HRCT\n",
      "False    161\n",
      "True      30\n",
      "Name: CORADS SCORE ON HRCT, dtype: int64\n",
      "\n",
      "PATIENT CATEGORY\n",
      "False    185\n",
      "True       6\n",
      "Name: PATIENT CATEGORY, dtype: int64\n",
      "\n",
      "PLASMA THERAPY\n",
      "False    191\n",
      "Name: PLASMA THERAPY, dtype: int64\n",
      "\n"
     ]
    }
   ],
   "source": [
    "missing_data = df.isnull()\n",
    "for column in missing_data.columns.values.tolist():\n",
    "    print(column)\n",
    "    print (missing_data[column].value_counts())\n",
    "    print(\"\")"
   ]
  },
  {
   "cell_type": "markdown",
   "metadata": {},
   "source": [
    "Outcome is an important parameter for us to measure. We observe that outcome is heavily correlated to ventilatory support sequired, shown below."
   ]
  },
  {
   "cell_type": "code",
   "execution_count": 6,
   "metadata": {},
   "outputs": [
    {
     "data": {
      "text/html": [
       "<div>\n",
       "<style scoped>\n",
       "    .dataframe tbody tr th:only-of-type {\n",
       "        vertical-align: middle;\n",
       "    }\n",
       "\n",
       "    .dataframe tbody tr th {\n",
       "        vertical-align: top;\n",
       "    }\n",
       "\n",
       "    .dataframe thead th {\n",
       "        text-align: right;\n",
       "    }\n",
       "</style>\n",
       "<table border=\"1\" class=\"dataframe\">\n",
       "  <thead>\n",
       "    <tr style=\"text-align: right;\">\n",
       "      <th></th>\n",
       "      <th>Outcome</th>\n",
       "      <th>Ventilatory support required</th>\n",
       "    </tr>\n",
       "  </thead>\n",
       "  <tbody>\n",
       "    <tr>\n",
       "      <th>Outcome</th>\n",
       "      <td>1.000000</td>\n",
       "      <td>0.904134</td>\n",
       "    </tr>\n",
       "    <tr>\n",
       "      <th>Ventilatory support required</th>\n",
       "      <td>0.904134</td>\n",
       "      <td>1.000000</td>\n",
       "    </tr>\n",
       "  </tbody>\n",
       "</table>\n",
       "</div>"
      ],
      "text/plain": [
       "                               Outcome  Ventilatory support required\n",
       "Outcome                       1.000000                      0.904134\n",
       "Ventilatory support required  0.904134                      1.000000"
      ]
     },
     "execution_count": 6,
     "metadata": {},
     "output_type": "execute_result"
    }
   ],
   "source": [
    "df['Outcome'] = pd.to_numeric(df.Outcome, errors='coerce')\n",
    "outcome = df.dropna(subset=[\"Outcome\",\"Ventilatory support required\"], axis=0)\n",
    "outcome[[\"Outcome\",\"Ventilatory support required\"]].corr()"
   ]
  },
  {
   "cell_type": "code",
   "execution_count": 7,
   "metadata": {},
   "outputs": [
    {
     "data": {
      "text/html": [
       "<div>\n",
       "<style scoped>\n",
       "    .dataframe tbody tr th:only-of-type {\n",
       "        vertical-align: middle;\n",
       "    }\n",
       "\n",
       "    .dataframe tbody tr th {\n",
       "        vertical-align: top;\n",
       "    }\n",
       "\n",
       "    .dataframe thead tr th {\n",
       "        text-align: left;\n",
       "    }\n",
       "\n",
       "    .dataframe thead tr:last-of-type th {\n",
       "        text-align: right;\n",
       "    }\n",
       "</style>\n",
       "<table border=\"1\" class=\"dataframe\">\n",
       "  <thead>\n",
       "    <tr>\n",
       "      <th></th>\n",
       "      <th colspan=\"3\" halign=\"left\">size</th>\n",
       "    </tr>\n",
       "    <tr>\n",
       "      <th>Ventilatory support required</th>\n",
       "      <th>0.0</th>\n",
       "      <th>1.0</th>\n",
       "      <th>2.0</th>\n",
       "    </tr>\n",
       "    <tr>\n",
       "      <th>Outcome</th>\n",
       "      <th></th>\n",
       "      <th></th>\n",
       "      <th></th>\n",
       "    </tr>\n",
       "  </thead>\n",
       "  <tbody>\n",
       "    <tr>\n",
       "      <th>0.0</th>\n",
       "      <td>116.0</td>\n",
       "      <td>1.0</td>\n",
       "      <td>NaN</td>\n",
       "    </tr>\n",
       "    <tr>\n",
       "      <th>1.0</th>\n",
       "      <td>1.0</td>\n",
       "      <td>6.0</td>\n",
       "      <td>9.0</td>\n",
       "    </tr>\n",
       "  </tbody>\n",
       "</table>\n",
       "</div>"
      ],
      "text/plain": [
       "                               size          \n",
       "Ventilatory support required    0.0  1.0  2.0\n",
       "Outcome                                      \n",
       "0.0                           116.0  1.0  NaN\n",
       "1.0                             1.0  6.0  9.0"
      ]
     },
     "execution_count": 7,
     "metadata": {},
     "output_type": "execute_result"
    }
   ],
   "source": [
    "df_gptest = df[['Outcome','Ventilatory support required']]\n",
    "grouped = df_gptest.groupby(['Outcome','Ventilatory support required'],as_index=False).size()\n",
    "grouped_pivot = grouped.pivot(index='Outcome',columns='Ventilatory support required')\n",
    "grouped_pivot"
   ]
  },
  {
   "cell_type": "markdown",
   "metadata": {},
   "source": [
    "According to the table above, it would be okay to replace the null values of Outcome as 0 if no ventilatory support was needed, and 1 if ventilatory support severity is 1(Non-invasive ventilation) or 2(Intubation)."
   ]
  },
  {
   "cell_type": "code",
   "execution_count": 8,
   "metadata": {},
   "outputs": [
    {
     "data": {
      "text/plain": [
       "0.0    159\n",
       "1.0     29\n",
       "Name: Outcome, dtype: int64"
      ]
     },
     "execution_count": 8,
     "metadata": {},
     "output_type": "execute_result"
    }
   ],
   "source": [
    "df['Outcome'].fillna(df['Ventilatory support required'], inplace=True)\n",
    "df['Outcome'].replace(2,1, inplace=True)\n",
    "df['Outcome'].value_counts()"
   ]
  },
  {
   "cell_type": "markdown",
   "metadata": {},
   "source": [
    "## Initial Factors and Vital Signs\n",
    "\n",
    "Let us take a close look at the initial signs of disease that set in. How much information can we gauge about the patient just when he/she is admitted? Or, can we know the risk level associated with the patient by doing some simple tests at home?"
   ]
  },
  {
   "cell_type": "markdown",
   "metadata": {},
   "source": [
    "### Features\n",
    "In this section, we will analyse the following features to gain some idea about how these initial factors and vital signs play a role in the disease onset and severity. We will use the Ventilatory Support to categorize the severity of the disease.\n",
    "\n",
    "Initial Factors\n",
    "- Age\n",
    "- Gender\n",
    "- BMI\n",
    "- Contact to N-Covid Person\n",
    "- Travel history\n",
    "\n",
    "Vital Signs\n",
    "- Temperature\n",
    "- SPO2\n",
    "- Respiratory Rate\n",
    "- Random Blood Sugar\n",
    "\n",
    "These values should be readily available for any patient, and can help in making important decisions regarding the severity of the disease. I believe we can predict if the patient will require ventilatory support or not, which is directly correlated to the outcome of the disease, as shown below."
   ]
  },
  {
   "cell_type": "markdown",
   "metadata": {},
   "source": [
    "### Dealing With Missing Values\n",
    "\n",
    "- BMI, Temperature, Random Blood Sugar: We will replace these values with the mean values.\n",
    "\n",
    "- Respiratory Rate and SPO2: Some are unavailable, we will drop these rows, since even their ventilatory support data is not available."
   ]
  },
  {
   "cell_type": "code",
   "execution_count": 9,
   "metadata": {},
   "outputs": [],
   "source": [
    "avg_BMI=df['BMI'].astype('float').mean(axis=0)\n",
    "df['BMI'].replace(np.nan, avg_BMI, inplace=True)\n",
    "\n",
    "avg_Temp=df['Temp'].astype('float').mean(axis=0)\n",
    "df['Temp'].replace(np.nan, avg_Temp, inplace=True)\n",
    "\n",
    "avg_BP=df['RANDOM BLOOD SUGAR'].astype('float').mean(axis=0)\n",
    "df['RANDOM BLOOD SUGAR'].replace(np.nan, avg_BP, inplace=True)\n",
    "\n",
    "df.dropna(subset=[\"Ventilatory support required\"], axis=0,inplace=True)"
   ]
  },
  {
   "cell_type": "markdown",
   "metadata": {},
   "source": [
    "### Normalizing Data\n",
    "\n",
    "\n",
    "<p>Normalization is the process of transforming values of several variables into a similar range. Typical normalizations include scaling the variable so the variable average is 0, scaling the variable so the variance is 1, or scaling the variable so the variable values range from 0 to 1. Here we will use min-max normalization for the BMI and temperature data."
   ]
  },
  {
   "cell_type": "code",
   "execution_count": 10,
   "metadata": {},
   "outputs": [
    {
     "name": "stderr",
     "output_type": "stream",
     "text": [
      "/home/shikha/snap/jupyter/common/lib/python3.7/site-packages/joblib/_multiprocessing_helpers.py:45: UserWarning: [Errno 13] Permission denied.  joblib will operate in serial mode\n",
      "  warnings.warn('%s.  joblib will operate in serial mode' % (e,))\n"
     ]
    },
    {
     "data": {
      "text/html": [
       "<div>\n",
       "<style scoped>\n",
       "    .dataframe tbody tr th:only-of-type {\n",
       "        vertical-align: middle;\n",
       "    }\n",
       "\n",
       "    .dataframe tbody tr th {\n",
       "        vertical-align: top;\n",
       "    }\n",
       "\n",
       "    .dataframe thead th {\n",
       "        text-align: right;\n",
       "    }\n",
       "</style>\n",
       "<table border=\"1\" class=\"dataframe\">\n",
       "  <thead>\n",
       "    <tr style=\"text-align: right;\">\n",
       "      <th></th>\n",
       "      <th>Age</th>\n",
       "      <th>BMI</th>\n",
       "      <th>Temp</th>\n",
       "      <th>SPO2</th>\n",
       "      <th>Respiratory rate(breaths per minute)</th>\n",
       "      <th>RANDOM BLOOD SUGAR</th>\n",
       "    </tr>\n",
       "  </thead>\n",
       "  <tbody>\n",
       "    <tr>\n",
       "      <th>0</th>\n",
       "      <td>0.551724</td>\n",
       "      <td>0.436782</td>\n",
       "      <td>0.174603</td>\n",
       "      <td>0.833333</td>\n",
       "      <td>0.3</td>\n",
       "      <td>0.259876</td>\n",
       "    </tr>\n",
       "    <tr>\n",
       "      <th>1</th>\n",
       "      <td>0.241379</td>\n",
       "      <td>0.804598</td>\n",
       "      <td>0.476190</td>\n",
       "      <td>0.666667</td>\n",
       "      <td>0.1</td>\n",
       "      <td>0.200381</td>\n",
       "    </tr>\n",
       "    <tr>\n",
       "      <th>2</th>\n",
       "      <td>0.264368</td>\n",
       "      <td>0.402299</td>\n",
       "      <td>0.428571</td>\n",
       "      <td>0.666667</td>\n",
       "      <td>0.1</td>\n",
       "      <td>0.214660</td>\n",
       "    </tr>\n",
       "    <tr>\n",
       "      <th>3</th>\n",
       "      <td>0.781609</td>\n",
       "      <td>0.321839</td>\n",
       "      <td>0.365079</td>\n",
       "      <td>0.666667</td>\n",
       "      <td>0.6</td>\n",
       "      <td>0.255117</td>\n",
       "    </tr>\n",
       "    <tr>\n",
       "      <th>4</th>\n",
       "      <td>0.505747</td>\n",
       "      <td>1.000000</td>\n",
       "      <td>0.841270</td>\n",
       "      <td>0.666667</td>\n",
       "      <td>0.3</td>\n",
       "      <td>0.190861</td>\n",
       "    </tr>\n",
       "    <tr>\n",
       "      <th>...</th>\n",
       "      <td>...</td>\n",
       "      <td>...</td>\n",
       "      <td>...</td>\n",
       "      <td>...</td>\n",
       "      <td>...</td>\n",
       "      <td>...</td>\n",
       "    </tr>\n",
       "    <tr>\n",
       "      <th>186</th>\n",
       "      <td>0.551724</td>\n",
       "      <td>0.977011</td>\n",
       "      <td>0.507937</td>\n",
       "      <td>0.333333</td>\n",
       "      <td>0.7</td>\n",
       "      <td>0.447882</td>\n",
       "    </tr>\n",
       "    <tr>\n",
       "      <th>187</th>\n",
       "      <td>0.321839</td>\n",
       "      <td>0.839080</td>\n",
       "      <td>0.571429</td>\n",
       "      <td>0.666667</td>\n",
       "      <td>0.7</td>\n",
       "      <td>0.331271</td>\n",
       "    </tr>\n",
       "    <tr>\n",
       "      <th>188</th>\n",
       "      <td>0.747126</td>\n",
       "      <td>0.310345</td>\n",
       "      <td>0.412698</td>\n",
       "      <td>0.833333</td>\n",
       "      <td>0.3</td>\n",
       "      <td>0.421704</td>\n",
       "    </tr>\n",
       "    <tr>\n",
       "      <th>189</th>\n",
       "      <td>0.689655</td>\n",
       "      <td>0.425287</td>\n",
       "      <td>0.507937</td>\n",
       "      <td>0.500000</td>\n",
       "      <td>0.9</td>\n",
       "      <td>0.471680</td>\n",
       "    </tr>\n",
       "    <tr>\n",
       "      <th>190</th>\n",
       "      <td>0.804598</td>\n",
       "      <td>0.862069</td>\n",
       "      <td>0.523810</td>\n",
       "      <td>0.166667</td>\n",
       "      <td>0.7</td>\n",
       "      <td>0.326511</td>\n",
       "    </tr>\n",
       "  </tbody>\n",
       "</table>\n",
       "<p>188 rows × 6 columns</p>\n",
       "</div>"
      ],
      "text/plain": [
       "          Age       BMI      Temp      SPO2  \\\n",
       "0    0.551724  0.436782  0.174603  0.833333   \n",
       "1    0.241379  0.804598  0.476190  0.666667   \n",
       "2    0.264368  0.402299  0.428571  0.666667   \n",
       "3    0.781609  0.321839  0.365079  0.666667   \n",
       "4    0.505747  1.000000  0.841270  0.666667   \n",
       "..        ...       ...       ...       ...   \n",
       "186  0.551724  0.977011  0.507937  0.333333   \n",
       "187  0.321839  0.839080  0.571429  0.666667   \n",
       "188  0.747126  0.310345  0.412698  0.833333   \n",
       "189  0.689655  0.425287  0.507937  0.500000   \n",
       "190  0.804598  0.862069  0.523810  0.166667   \n",
       "\n",
       "     Respiratory rate(breaths per minute)  RANDOM BLOOD SUGAR  \n",
       "0                                     0.3            0.259876  \n",
       "1                                     0.1            0.200381  \n",
       "2                                     0.1            0.214660  \n",
       "3                                     0.6            0.255117  \n",
       "4                                     0.3            0.190861  \n",
       "..                                    ...                 ...  \n",
       "186                                   0.7            0.447882  \n",
       "187                                   0.7            0.331271  \n",
       "188                                   0.3            0.421704  \n",
       "189                                   0.9            0.471680  \n",
       "190                                   0.7            0.326511  \n",
       "\n",
       "[188 rows x 6 columns]"
      ]
     },
     "execution_count": 10,
     "metadata": {},
     "output_type": "execute_result"
    }
   ],
   "source": [
    "from sklearn.preprocessing import MinMaxScaler\n",
    "scaler = MinMaxScaler()\n",
    "df[['Age','BMI','Temp','SPO2','Respiratory rate(breaths per minute)','RANDOM BLOOD SUGAR']] = scaler.fit_transform(df[['Age','BMI','Temp','SPO2','Respiratory rate(breaths per minute)','RANDOM BLOOD SUGAR']])\n",
    "df[['Age','BMI','Temp','SPO2','Respiratory rate(breaths per minute)','RANDOM BLOOD SUGAR']]"
   ]
  },
  {
   "cell_type": "markdown",
   "metadata": {},
   "source": [
    "### Correlation between different features\n",
    "(description)"
   ]
  },
  {
   "cell_type": "code",
   "execution_count": 11,
   "metadata": {},
   "outputs": [],
   "source": [
    "def plot_count(new_column_name,old_column,groups,group_names):\n",
    "    df[new_column_name] = pd.cut(df[old_column], groups, labels=group_names, include_lowest=True )\n",
    "    sns.countplot(df[new_column_name])\n",
    "    return df\n",
    "    \n",
    "def contingency(data,column):\n",
    "    grouped = data.groupby([column,'Outcome'],as_index=False).size()\n",
    "    grouped_pivot = grouped.pivot(index=column,columns='Outcome')\n",
    "    return grouped_pivot"
   ]
  },
  {
   "cell_type": "markdown",
   "metadata": {},
   "source": [
    "#### Age\n",
    "First let us look at the age. Its correlation with outcome is approximately 0.435, so it does have some positive linear relationship with the outcome. "
   ]
  },
  {
   "cell_type": "code",
   "execution_count": 12,
   "metadata": {},
   "outputs": [
    {
     "data": {
      "text/plain": [
       "<AxesSubplot:xlabel='Outcome', ylabel='Age'>"
      ]
     },
     "execution_count": 12,
     "metadata": {},
     "output_type": "execute_result"
    },
    {
     "data": {
      "image/png": "[encoded data removed]",
      "text/plain": [
       "<Figure size 432x288 with 1 Axes>"
      ]
     },
     "metadata": {
      "needs_background": "light"
     },
     "output_type": "display_data"
    }
   ],
   "source": [
    "sns.boxplot(x=\"Outcome\", y=\"Age\", data=df)"
   ]
  },
  {
   "cell_type": "markdown",
   "metadata": {},
   "source": [
    "It looks like age can be a good predictor of the outcome, since most of the deaths have occured in patients above the age of 60, and those below 60 have survived, except a few outliers.\n",
    "Accordingly, let us group the results in age groups.\n",
    "- Above 60\n",
    "- 40 to 60\n",
    "- 20 to 40\n",
    "- Below 20"
   ]
  },
  {
   "cell_type": "code",
   "execution_count": 13,
   "metadata": {},
   "outputs": [
    {
     "name": "stderr",
     "output_type": "stream",
     "text": [
      "/home/shikha/snap/jupyter/common/lib/python3.7/site-packages/seaborn/_decorators.py:43: FutureWarning: Pass the following variable as a keyword arg: x. From version 0.12, the only valid positional argument will be `data`, and passing other arguments without an explicit keyword will result in an error or misinterpretation.\n",
      "  FutureWarning\n"
     ]
    },
    {
     "data": {
      "image/png": "[encoded data removed]",
      "text/plain": [
       "<Figure size 432x288 with 1 Axes>"
      ]
     },
     "metadata": {
      "needs_background": "light"
     },
     "output_type": "display_data"
    }
   ],
   "source": [
    "age_groups = np.linspace(df['Age'].min(),df['Age'].max(),5)\n",
    "group_names = ['Young', 'Adult', 'Middle Aged','Aged']\n",
    "df = plot_count('Age Groups','Age', age_groups, group_names)"
   ]
  },
  {
   "cell_type": "code",
   "execution_count": 14,
   "metadata": {},
   "outputs": [
    {
     "data": {
      "text/html": [
       "<div>\n",
       "<style scoped>\n",
       "    .dataframe tbody tr th:only-of-type {\n",
       "        vertical-align: middle;\n",
       "    }\n",
       "\n",
       "    .dataframe tbody tr th {\n",
       "        vertical-align: top;\n",
       "    }\n",
       "\n",
       "    .dataframe thead tr th {\n",
       "        text-align: left;\n",
       "    }\n",
       "\n",
       "    .dataframe thead tr:last-of-type th {\n",
       "        text-align: right;\n",
       "    }\n",
       "</style>\n",
       "<table border=\"1\" class=\"dataframe\">\n",
       "  <thead>\n",
       "    <tr>\n",
       "      <th></th>\n",
       "      <th colspan=\"2\" halign=\"left\">size</th>\n",
       "    </tr>\n",
       "    <tr>\n",
       "      <th>Outcome</th>\n",
       "      <th>0.0</th>\n",
       "      <th>1.0</th>\n",
       "    </tr>\n",
       "    <tr>\n",
       "      <th>Age Groups</th>\n",
       "      <th></th>\n",
       "      <th></th>\n",
       "    </tr>\n",
       "  </thead>\n",
       "  <tbody>\n",
       "    <tr>\n",
       "      <th>Young</th>\n",
       "      <td>29</td>\n",
       "      <td>0</td>\n",
       "    </tr>\n",
       "    <tr>\n",
       "      <th>Adult</th>\n",
       "      <td>67</td>\n",
       "      <td>7</td>\n",
       "    </tr>\n",
       "    <tr>\n",
       "      <th>Middle Aged</th>\n",
       "      <td>54</td>\n",
       "      <td>10</td>\n",
       "    </tr>\n",
       "    <tr>\n",
       "      <th>Aged</th>\n",
       "      <td>9</td>\n",
       "      <td>12</td>\n",
       "    </tr>\n",
       "  </tbody>\n",
       "</table>\n",
       "</div>"
      ],
      "text/plain": [
       "            size    \n",
       "Outcome      0.0 1.0\n",
       "Age Groups          \n",
       "Young         29   0\n",
       "Adult         67   7\n",
       "Middle Aged   54  10\n",
       "Aged           9  12"
      ]
     },
     "execution_count": 14,
     "metadata": {},
     "output_type": "execute_result"
    }
   ],
   "source": [
    "df_age = df[['Age Groups','Outcome']]\n",
    "c_age = contingency(df_age,'Age Groups')\n",
    "c_age"
   ]
  },
  {
   "cell_type": "markdown",
   "metadata": {},
   "source": [
    "We cannot use a chi-squared test here since the value counts can be quite small. \n",
    "Another classification worthy to look at is Above 60 and Below 60. Let us try to use fisher's exact test on the classification of above and below 60."
   ]
  },
  {
   "cell_type": "code",
   "execution_count": 17,
   "metadata": {},
   "outputs": [
    {
     "name": "stderr",
     "output_type": "stream",
     "text": [
      "/home/shikha/snap/jupyter/common/lib/python3.7/site-packages/seaborn/_decorators.py:43: FutureWarning: Pass the following variable as a keyword arg: x. From version 0.12, the only valid positional argument will be `data`, and passing other arguments without an explicit keyword will result in an error or misinterpretation.\n",
      "  FutureWarning\n"
     ]
    },
    {
     "data": {
      "image/png": "[encoded data removed]",
      "text/plain": [
       "<Figure size 432x288 with 1 Axes>"
      ]
     },
     "metadata": {
      "needs_background": "light"
     },
     "output_type": "display_data"
    }
   ],
   "source": [
    "age_groups = [0,0.6,1]\n",
    "group_names = [0,1]\n",
    "df = plot_count('Age Above 60','Age',age_groups,group_names)"
   ]
  },
  {
   "cell_type": "code",
   "execution_count": 19,
   "metadata": {},
   "outputs": [
    {
     "data": {
      "text/html": [
       "<div>\n",
       "<style scoped>\n",
       "    .dataframe tbody tr th:only-of-type {\n",
       "        vertical-align: middle;\n",
       "    }\n",
       "\n",
       "    .dataframe tbody tr th {\n",
       "        vertical-align: top;\n",
       "    }\n",
       "\n",
       "    .dataframe thead tr th {\n",
       "        text-align: left;\n",
       "    }\n",
       "\n",
       "    .dataframe thead tr:last-of-type th {\n",
       "        text-align: right;\n",
       "    }\n",
       "</style>\n",
       "<table border=\"1\" class=\"dataframe\">\n",
       "  <thead>\n",
       "    <tr>\n",
       "      <th></th>\n",
       "      <th colspan=\"2\" halign=\"left\">size</th>\n",
       "    </tr>\n",
       "    <tr>\n",
       "      <th>Outcome</th>\n",
       "      <th>0.0</th>\n",
       "      <th>1.0</th>\n",
       "    </tr>\n",
       "    <tr>\n",
       "      <th>Age Above 60</th>\n",
       "      <th></th>\n",
       "      <th></th>\n",
       "    </tr>\n",
       "  </thead>\n",
       "  <tbody>\n",
       "    <tr>\n",
       "      <th>0</th>\n",
       "      <td>122</td>\n",
       "      <td>10</td>\n",
       "    </tr>\n",
       "    <tr>\n",
       "      <th>1</th>\n",
       "      <td>37</td>\n",
       "      <td>19</td>\n",
       "    </tr>\n",
       "  </tbody>\n",
       "</table>\n",
       "</div>"
      ],
      "text/plain": [
       "             size    \n",
       "Outcome       0.0 1.0\n",
       "Age Above 60         \n",
       "0             122  10\n",
       "1              37  19"
      ]
     },
     "execution_count": 19,
     "metadata": {},
     "output_type": "execute_result"
    }
   ],
   "source": [
    "age = df[['Age Above 60','Outcome']]\n",
    "c_age = contingency(age,'Age Above 60')\n",
    "c_age"
   ]
  },
  {
   "cell_type": "markdown",
   "metadata": {},
   "source": [
    "##### Chi-Squared and Fisher Exact Test on age groups"
   ]
  },
  {
   "cell_type": "code",
   "execution_count": 21,
   "metadata": {},
   "outputs": [
    {
     "data": {
      "text/plain": [
       "2.7343882537215717e-05"
      ]
     },
     "execution_count": 21,
     "metadata": {},
     "output_type": "execute_result"
    }
   ],
   "source": [
    "oddsratio, pvalue = scipy.stats.fisher_exact(np.array(c_age))\n",
    "pvalue"
   ]
  },
  {
   "cell_type": "code",
   "execution_count": 22,
   "metadata": {},
   "outputs": [
    {
     "data": {
      "text/plain": [
       "(20.930455216727175, 4.76262195624435e-06)"
      ]
     },
     "execution_count": 22,
     "metadata": {},
     "output_type": "execute_result"
    }
   ],
   "source": [
    "chi2, p, dof, ex = scipy.stats.chi2_contingency(np.array(c_age), correction=False)\n",
    "chi2, p"
   ]
  },
  {
   "cell_type": "markdown",
   "metadata": {},
   "source": [
    "Both these tests tell us that there is a strong correlation between the outcome of the patient and if he/she is above 60 or not. Let us explore further."
   ]
  },
  {
   "cell_type": "markdown",
   "metadata": {},
   "source": [
    "#### Gender\n",
    "(description)"
   ]
  },
  {
   "cell_type": "code",
   "execution_count": 23,
   "metadata": {},
   "outputs": [
    {
     "name": "stderr",
     "output_type": "stream",
     "text": [
      "/home/shikha/snap/jupyter/common/lib/python3.7/site-packages/seaborn/_decorators.py:43: FutureWarning: Pass the following variable as a keyword arg: x. From version 0.12, the only valid positional argument will be `data`, and passing other arguments without an explicit keyword will result in an error or misinterpretation.\n",
      "  FutureWarning\n"
     ]
    },
    {
     "data": {
      "text/plain": [
       "<AxesSubplot:xlabel='Gender', ylabel='count'>"
      ]
     },
     "execution_count": 23,
     "metadata": {},
     "output_type": "execute_result"
    },
    {
     "data": {
      "image/png": "[encoded data removed]",
      "text/plain": [
       "<Figure size 432x288 with 1 Axes>"
      ]
     },
     "metadata": {
      "needs_background": "light"
     },
     "output_type": "display_data"
    }
   ],
   "source": [
    "sns.countplot(df['Gender'])"
   ]
  },
  {
   "cell_type": "code",
   "execution_count": 25,
   "metadata": {},
   "outputs": [
    {
     "data": {
      "text/html": [
       "<div>\n",
       "<style scoped>\n",
       "    .dataframe tbody tr th:only-of-type {\n",
       "        vertical-align: middle;\n",
       "    }\n",
       "\n",
       "    .dataframe tbody tr th {\n",
       "        vertical-align: top;\n",
       "    }\n",
       "\n",
       "    .dataframe thead tr th {\n",
       "        text-align: left;\n",
       "    }\n",
       "\n",
       "    .dataframe thead tr:last-of-type th {\n",
       "        text-align: right;\n",
       "    }\n",
       "</style>\n",
       "<table border=\"1\" class=\"dataframe\">\n",
       "  <thead>\n",
       "    <tr>\n",
       "      <th></th>\n",
       "      <th colspan=\"2\" halign=\"left\">size</th>\n",
       "    </tr>\n",
       "    <tr>\n",
       "      <th>Outcome</th>\n",
       "      <th>0.0</th>\n",
       "      <th>1.0</th>\n",
       "    </tr>\n",
       "    <tr>\n",
       "      <th>Gender</th>\n",
       "      <th></th>\n",
       "      <th></th>\n",
       "    </tr>\n",
       "  </thead>\n",
       "  <tbody>\n",
       "    <tr>\n",
       "      <th>0</th>\n",
       "      <td>65</td>\n",
       "      <td>8</td>\n",
       "    </tr>\n",
       "    <tr>\n",
       "      <th>1</th>\n",
       "      <td>94</td>\n",
       "      <td>21</td>\n",
       "    </tr>\n",
       "  </tbody>\n",
       "</table>\n",
       "</div>"
      ],
      "text/plain": [
       "        size    \n",
       "Outcome  0.0 1.0\n",
       "Gender          \n",
       "0         65   8\n",
       "1         94  21"
      ]
     },
     "execution_count": 25,
     "metadata": {},
     "output_type": "execute_result"
    }
   ],
   "source": [
    "df_gender = df[['Gender','Outcome']]\n",
    "c_gender = contingency(df_gender,'Gender')\n",
    "c_gender"
   ]
  },
  {
   "cell_type": "markdown",
   "metadata": {},
   "source": [
    "##### Fisher's exact test for gender dependency on the outcome"
   ]
  },
  {
   "cell_type": "code",
   "execution_count": 27,
   "metadata": {},
   "outputs": [
    {
     "data": {
      "text/plain": [
       "0.2162571534492208"
      ]
     },
     "execution_count": 27,
     "metadata": {},
     "output_type": "execute_result"
    }
   ],
   "source": [
    "oddsratio, pvalue = scipy.stats.fisher_exact(np.array(c_gender))\n",
    "pvalue"
   ]
  },
  {
   "cell_type": "markdown",
   "metadata": {},
   "source": [
    "Since the p-value < 5%, we can conclude that there is some dependency of gender on the final outcome."
   ]
  },
  {
   "cell_type": "markdown",
   "metadata": {},
   "source": [
    "#### Outcome probability based on age group + gender"
   ]
  },
  {
   "cell_type": "code",
   "execution_count": null,
   "metadata": {},
   "outputs": [],
   "source": [
    "age_gender = df[['Age Above 60','Gender','Outcome']]\n",
    "basics = age_gender.query(\"Outcome == 1\").groupby(['Age Above 60','Gender'],as_index=False).size()\n",
    "basics_pivot = basics.pivot(index='Gender',columns='Age Above 60')\n",
    "basics_pivot"
   ]
  },
  {
   "cell_type": "code",
   "execution_count": null,
   "metadata": {},
   "outputs": [],
   "source": [
    "%matplotlib inline\n",
    "fig, ax = plt.subplots()\n",
    "im = ax.pcolor(basics_pivot, cmap='Reds')\n",
    "\n",
    "#label names\n",
    "row_labels = basics_pivot.columns.levels[1]\n",
    "col_labels = ['Female','Male']\n",
    "\n",
    "#move ticks and labels to the center\n",
    "ax.set_xticks(np.arange(basics_pivot.shape[1]) + 0.5, minor=False)\n",
    "ax.set_yticks(np.arange(basics_pivot.shape[0]) + 0.5, minor=False)\n",
    "\n",
    "#insert labels\n",
    "ax.set_xticklabels(row_labels, minor=False)\n",
    "ax.set_yticklabels(col_labels, minor=False)\n",
    "\n",
    "#rotate label if too long\n",
    "plt.xticks(rotation=90)\n",
    "\n",
    "fig.colorbar(im)\n",
    "plt.show()"
   ]
  },
  {
   "cell_type": "markdown",
   "metadata": {},
   "source": [
    "From the analysis above, we can see clearly that covid-affected males above the age of 60 are at the highest risk of mortality from the disease."
   ]
  },
  {
   "cell_type": "markdown",
   "metadata": {},
   "source": [
    "#### BMI\n",
    "(description)"
   ]
  },
  {
   "cell_type": "code",
   "execution_count": null,
   "metadata": {},
   "outputs": [],
   "source": [
    "sns.boxplot(x=\"Outcome\", y=\"BMI\", data=df)"
   ]
  },
  {
   "cell_type": "markdown",
   "metadata": {},
   "source": [
    "It doesn't look like we can get much information with BMI data for the patient, since it is quite evenly distributed. Thus, we will not use this as one of our features."
   ]
  },
  {
   "cell_type": "markdown",
   "metadata": {},
   "source": [
    "#### Temperature\n",
    "(description)"
   ]
  },
  {
   "cell_type": "code",
   "execution_count": null,
   "metadata": {},
   "outputs": [],
   "source": [
    "sns.boxplot(x=\"Outcome\", y=\"Temp\", data=df)"
   ]
  },
  {
   "cell_type": "markdown",
   "metadata": {},
   "source": [
    "It doesn't look like we can get much information with temperature data for the patient, since it is quite evenly distributed. Thus, we will not use this as one of our features."
   ]
  },
  {
   "cell_type": "code",
   "execution_count": null,
   "metadata": {},
   "outputs": [],
   "source": [
    "df['Temp']=df['Temp'].round(1)\n",
    "\n",
    "temp_groups = np.linspace(df['Temp'].min(),df['Temp'].max(),6)\n",
    "group_names = [0.2,0.4,0.6,0.8,1]\n",
    "df['Temp Groups'] = pd.cut(df['Temp'], resp_groups, labels=group_names, include_lowest=True )\n",
    "sns.countplot(df['Temp Groups'])\n",
    "\n",
    "df_gptest = df[['Temp Groups','Outcome']]\n",
    "grouped = df_gptest.groupby(['Temp Groups','Outcome'],as_index=False).size()\n",
    "grouped_pivot = grouped.pivot(index='Temp Groups',columns='Outcome')\n",
    "grouped_pivot"
   ]
  },
  {
   "cell_type": "markdown",
   "metadata": {},
   "source": [
    "#### Contact to NCOVID Patient\n",
    "(description)"
   ]
  },
  {
   "cell_type": "code",
   "execution_count": null,
   "metadata": {},
   "outputs": [],
   "source": [
    "sns.countplot(df[\"Contact to NCOVID Patient\"])"
   ]
  },
  {
   "cell_type": "code",
   "execution_count": null,
   "metadata": {},
   "outputs": [],
   "source": [
    "df_gptest = df[['Contact to NCOVID Patient','Outcome']]\n",
    "grouped = df_gptest.groupby(['Contact to NCOVID Patient','Outcome'],as_index=False).size()\n",
    "grouped_pivot = grouped.pivot(index='Contact to NCOVID Patient',columns='Outcome')\n",
    "grouped_pivot"
   ]
  },
  {
   "cell_type": "code",
   "execution_count": null,
   "metadata": {},
   "outputs": [],
   "source": [
    "chi2, p, dof, ex = scipy.stats.chi2_contingency(np.array(grouped_pivot), correction=False)\n",
    "chi2, p"
   ]
  },
  {
   "cell_type": "markdown",
   "metadata": {},
   "source": [
    "The p-value in the chi2 test is > 0.5 and so, this is mostly an independent feature from outcome. We will not use this."
   ]
  },
  {
   "cell_type": "markdown",
   "metadata": {},
   "source": [
    "#### Travel History\n",
    "(description)"
   ]
  },
  {
   "cell_type": "code",
   "execution_count": null,
   "metadata": {},
   "outputs": [],
   "source": [
    "sns.countplot(df[\"Travel History\"])"
   ]
  },
  {
   "cell_type": "code",
   "execution_count": null,
   "metadata": {},
   "outputs": [],
   "source": [
    "df_gptest = df[['Travel History','Outcome']]\n",
    "grouped = df_gptest.groupby(['Travel History','Outcome'],as_index=False).size()\n",
    "grouped_pivot = grouped.pivot(index='Travel History',columns='Outcome')\n",
    "grouped_pivot"
   ]
  },
  {
   "cell_type": "code",
   "execution_count": null,
   "metadata": {},
   "outputs": [],
   "source": [
    "oddsratio, pvalue = scipy.stats.fisher_exact(np.array(grouped_pivot))\n",
    "pvalue"
   ]
  },
  {
   "cell_type": "markdown",
   "metadata": {},
   "source": [
    "The p-value in the Fisher exact test is > 0.5 and so, this is mostly an independent feature from outcome. We will not use this."
   ]
  },
  {
   "cell_type": "markdown",
   "metadata": {},
   "source": [
    "#### SPO2\n",
    "(description)"
   ]
  },
  {
   "cell_type": "code",
   "execution_count": null,
   "metadata": {},
   "outputs": [],
   "source": [
    "sns.boxplot(x=\"Outcome\", y=\"SPO2\", data=df)"
   ]
  },
  {
   "cell_type": "markdown",
   "metadata": {},
   "source": [
    "It doesn't look like we can get much information with SPO2 data for the patient, since it is quite evenly distributed. Thus, we will not use this as one of our features."
   ]
  },
  {
   "cell_type": "markdown",
   "metadata": {},
   "source": [
    "#### Respiratory Rate\n",
    "(description)"
   ]
  },
  {
   "cell_type": "code",
   "execution_count": null,
   "metadata": {},
   "outputs": [],
   "source": [
    "sns.boxplot(x=\"Outcome\", y=\"Respiratory rate(breaths per minute)\", data=df)"
   ]
  },
  {
   "cell_type": "code",
   "execution_count": null,
   "metadata": {},
   "outputs": [],
   "source": [
    "# create a new column of percentile rank\n",
    "df['Respiratory rate(breaths per minute)']=df['Respiratory rate(breaths per minute)'].round(1)\n",
    "\n",
    "resp_groups = np.linspace(df['Respiratory rate(breaths per minute)'].min(),df['Respiratory rate(breaths per minute)'].max(),6)\n",
    "group_names = [0.2,0.4,0.6,0.8,1]\n",
    "df['Respiratory Rate Groups'] = pd.cut(df['Respiratory rate(breaths per minute)'], resp_groups, labels=group_names, include_lowest=True )\n",
    "sns.countplot(df['Respiratory Rate Groups'])\n",
    "\n",
    "df_gptest = df[['Respiratory Rate Groups','Outcome']]\n",
    "grouped = df_gptest.groupby(['Respiratory Rate Groups','Outcome'],as_index=False).size()\n",
    "grouped_pivot = grouped.pivot(index='Respiratory Rate Groups',columns='Outcome')\n",
    "grouped_pivot"
   ]
  },
  {
   "cell_type": "markdown",
   "metadata": {},
   "source": [
    "This seems like a good indicator for our the outcome. Let us consider it."
   ]
  },
  {
   "cell_type": "markdown",
   "metadata": {},
   "source": [
    "#### Random Blood Sugar\n",
    "(description)"
   ]
  },
  {
   "cell_type": "code",
   "execution_count": null,
   "metadata": {},
   "outputs": [],
   "source": [
    "sns.boxplot(x=\"Outcome\", y=\"RANDOM BLOOD SUGAR\", data=df)"
   ]
  },
  {
   "cell_type": "markdown",
   "metadata": {},
   "source": [
    "It doesn't look like we can get much information with blood sugar data for the patient, since it is quite evenly distributed. Thus, we will not use this as one of our features."
   ]
  },
  {
   "cell_type": "markdown",
   "metadata": {},
   "source": [
    "Let us try to develop some models that can help us see if we can classify the severity risk.\n",
    "\n",
    "### Logistic Regression Model"
   ]
  },
  {
   "cell_type": "code",
   "execution_count": null,
   "metadata": {},
   "outputs": [],
   "source": [
    "from sklearn.linear_model import LogisticRegression\n",
    "from sklearn.model_selection import train_test_split\n",
    "from sklearn import metrics"
   ]
  },
  {
   "cell_type": "markdown",
   "metadata": {},
   "source": [
    "#### Training Model"
   ]
  },
  {
   "cell_type": "code",
   "execution_count": null,
   "metadata": {},
   "outputs": [],
   "source": [
    "lm = LogisticRegression(max_iter=1000)\n",
    "X = df[['Age Above 60','Gender','Temp Groups','Respiratory Rate Groups']]\n",
    "Y = df['Outcome']\n",
    "x_train, x_test, y_train, y_test = train_test_split(X, Y, test_size=0.20, random_state=1)\n",
    "lm.fit(x_train,y_train)\n",
    "prediction = lm.predict(x_test)\n",
    "score = lm.score(x_test, y_test)\n",
    "print(score)"
   ]
  },
  {
   "cell_type": "markdown",
   "metadata": {},
   "source": [
    "#### How well the model runs on the training set -"
   ]
  },
  {
   "cell_type": "code",
   "execution_count": null,
   "metadata": {},
   "outputs": [],
   "source": [
    "cm = metrics.confusion_matrix(y_train, lm.predict(x_train))\n",
    "plt.figure\n",
    "sns.heatmap(cm, annot=True, fmt=\".3f\", linewidths=.5, square = True, cmap = 'Blues_r');\n",
    "print(\"Train Set\")\n",
    "plt.ylabel('Actual label');\n",
    "plt.xlabel('Predicted label');\n",
    "all_sample_title = 'Accuracy Score: {0}'.format(lm.score(x_train, y_train))\n",
    "plt.title(all_sample_title, size = 15);\n",
    "plt.savefig('covidseverity.png')"
   ]
  },
  {
   "cell_type": "markdown",
   "metadata": {},
   "source": [
    "#### How well the model runs on the test set -"
   ]
  },
  {
   "cell_type": "code",
   "execution_count": null,
   "metadata": {},
   "outputs": [],
   "source": [
    "cm = metrics.confusion_matrix(y_test, prediction)\n",
    "plt.figure\n",
    "sns.heatmap(cm, annot=True, fmt=\".3f\", linewidths=.5, square = True, cmap = 'Blues_r');\n",
    "print(\"Test Set\")\n",
    "plt.ylabel('Actual label');\n",
    "plt.xlabel('Predicted label');\n",
    "all_sample_title = 'Accuracy Score: {0}'.format(score)\n",
    "plt.title(all_sample_title, size = 15);\n",
    "plt.savefig('covidseverity.png')"
   ]
  },
  {
   "cell_type": "markdown",
   "metadata": {},
   "source": [
    "#### Error in this model"
   ]
  },
  {
   "cell_type": "code",
   "execution_count": null,
   "metadata": {},
   "outputs": [],
   "source": [
    "from sklearn.metrics import mean_squared_error\n",
    "mse = mean_squared_error(y_test, prediction)\n",
    "print('The mean square error of actual and predicted value is: ', mse)"
   ]
  },
  {
   "cell_type": "markdown",
   "metadata": {},
   "source": [
    "#### Precision and Recall"
   ]
  },
  {
   "cell_type": "markdown",
   "metadata": {},
   "source": [
    "### Symptoms\n",
    "\n",
    "With relation to symptoms, there are a few questions we can answer with the data we have.\n",
    "1. How are these symptoms related to each other? And to the initial factors?\n",
    "2. How will the symptoms affect the vital signs of the patient?\n",
    "3. Which symptom is the strongest indicator of severity of the disease?\n",
    "4. Which medications are most effective to treat these symptoms?\n",
    "5. Do asymptomatic patients have a better response?\n",
    "\n",
    "We have three major symptoms in the data - fever, cough and breathlessness. Let us examine them."
   ]
  },
  {
   "cell_type": "code",
   "execution_count": null,
   "metadata": {},
   "outputs": [],
   "source": [
    "symptoms = df[['Fever','Breathlessness','Cough','Outcome']]"
   ]
  },
  {
   "cell_type": "code",
   "execution_count": null,
   "metadata": {},
   "outputs": [],
   "source": [
    "sns.countplot(df['Symptoms Present?'])"
   ]
  },
  {
   "cell_type": "code",
   "execution_count": null,
   "metadata": {},
   "outputs": [],
   "source": [
    "df_symptoms = df[['Symptoms Present?','Outcome']]\n",
    "grouped_symptoms = df_symptoms.groupby(['Symptoms Present?','Outcome'],as_index=False).size()\n",
    "grouped_symptoms_pivot = grouped_symptoms.pivot(index='Symptoms Present?',columns='Outcome')\n",
    "grouped_symptoms_pivot"
   ]
  },
  {
   "cell_type": "markdown",
   "metadata": {},
   "source": [
    "From this, we can see that asymptomatic patients do not die. This can be a strong indicator in our model."
   ]
  },
  {
   "cell_type": "markdown",
   "metadata": {},
   "source": [
    "#### Fever\n",
    "(description)"
   ]
  },
  {
   "cell_type": "code",
   "execution_count": null,
   "metadata": {},
   "outputs": [],
   "source": [
    "sns.countplot(df['Fever'])"
   ]
  },
  {
   "cell_type": "code",
   "execution_count": null,
   "metadata": {},
   "outputs": [],
   "source": [
    "df_fever = df[['Fever','Outcome']]\n",
    "grouped_fever = df_fever.groupby(['Fever','Outcome'],as_index=False).size()\n",
    "grouped_fever_pivot = grouped_fever.pivot(index='Fever',columns='Outcome')\n",
    "grouped_fever_pivot"
   ]
  },
  {
   "cell_type": "markdown",
   "metadata": {},
   "source": [
    "##### Chi-sqaured test for fever dependency on the outcome"
   ]
  },
  {
   "cell_type": "code",
   "execution_count": null,
   "metadata": {},
   "outputs": [],
   "source": [
    "chi2, p, dof, ex = scipy.stats.chi2_contingency(np.array(grouped_fever_pivot))\n",
    "chi2, p"
   ]
  },
  {
   "cell_type": "markdown",
   "metadata": {},
   "source": [
    "Since the p-value > 5%, we can conclude that there is no dependency of only fever on the final outcome."
   ]
  },
  {
   "cell_type": "markdown",
   "metadata": {},
   "source": [
    "#### Cough\n",
    "(description)"
   ]
  },
  {
   "cell_type": "code",
   "execution_count": null,
   "metadata": {},
   "outputs": [],
   "source": [
    "sns.countplot(df['Cough'])"
   ]
  },
  {
   "cell_type": "code",
   "execution_count": null,
   "metadata": {},
   "outputs": [],
   "source": [
    "df_cough = df[['Cough','Outcome']]\n",
    "grouped_cough = df_cough.groupby(['Cough','Outcome'],as_index=False).size()\n",
    "grouped_cough_pivot = grouped_cough.pivot(index='Cough',columns='Outcome')\n",
    "grouped_cough_pivot"
   ]
  },
  {
   "cell_type": "markdown",
   "metadata": {},
   "source": [
    "##### Chi-squared exact test for cough dependency on the outcome"
   ]
  },
  {
   "cell_type": "code",
   "execution_count": null,
   "metadata": {},
   "outputs": [],
   "source": [
    "chi2, p, dof, ex = scipy.stats.chi2_contingency(np.array(grouped_cough_pivot))\n",
    "chi2, p"
   ]
  },
  {
   "cell_type": "markdown",
   "metadata": {},
   "source": [
    "Since the p-value << 5%, we can conclude that there is a strong dependency of cough on the final outcome."
   ]
  },
  {
   "cell_type": "markdown",
   "metadata": {},
   "source": [
    "#### Breathlessness\n",
    "(description)"
   ]
  },
  {
   "cell_type": "code",
   "execution_count": null,
   "metadata": {},
   "outputs": [],
   "source": [
    "sns.countplot(df['Breathlessness'])"
   ]
  },
  {
   "cell_type": "code",
   "execution_count": null,
   "metadata": {},
   "outputs": [],
   "source": [
    "df_Breathlessness = df[['Breathlessness','Outcome']]\n",
    "grouped_Breathlessness = df_Breathlessness.groupby(['Breathlessness','Outcome'],as_index=False).size()\n",
    "grouped_Breathlessness_pivot = grouped_Breathlessness.pivot(index='Breathlessness',columns='Outcome')\n",
    "grouped_Breathlessness_pivot"
   ]
  },
  {
   "cell_type": "markdown",
   "metadata": {},
   "source": [
    "##### Fisher's exact test for breathlessness dependency on the outcome"
   ]
  },
  {
   "cell_type": "code",
   "execution_count": null,
   "metadata": {},
   "outputs": [],
   "source": [
    "oddsratio, pvalue = scipy.stats.fisher_exact(np.array(grouped_Breathlessness_pivot))\n",
    "pvalue"
   ]
  },
  {
   "cell_type": "markdown",
   "metadata": {},
   "source": [
    "Since the p-value <<< 5%, we can conclude that breathlessness is the strongest indicator of the final outcome."
   ]
  },
  {
   "cell_type": "code",
   "execution_count": null,
   "metadata": {},
   "outputs": [],
   "source": [
    "grouped_symptoms = symptoms.groupby(['Fever','Cough','Breathlessness'],as_index=False).mean().round(2)\n",
    "grouped_symptoms"
   ]
  },
  {
   "cell_type": "code",
   "execution_count": null,
   "metadata": {},
   "outputs": [],
   "source": [
    "grouped_symptoms = symptoms.groupby(['Fever','Cough','Breathlessness'],as_index=False).size()\n",
    "grouped_symptoms"
   ]
  },
  {
   "cell_type": "markdown",
   "metadata": {},
   "source": [
    "### Comorbidities\n",
    "\n",
    "With relation to comorbidities, there are a few questions we will answer this very imprtant question.\n",
    "1. Which comorbidity is the most dangerous?\n",
    "\n",
    "We have three major comorbidities in the dataset - diabetes, hypertension and heart conditions. Let us examine them."
   ]
  },
  {
   "cell_type": "code",
   "execution_count": null,
   "metadata": {},
   "outputs": [],
   "source": [
    "comorbidities = df[['Diabetes', 'Hypertension','Heart Condition','Outcome']]"
   ]
  },
  {
   "cell_type": "code",
   "execution_count": null,
   "metadata": {},
   "outputs": [],
   "source": [
    "sns.countplot(df['Co-morbidity?'])"
   ]
  },
  {
   "cell_type": "code",
   "execution_count": null,
   "metadata": {},
   "outputs": [],
   "source": [
    "df_com = df[['Co-morbidity?','Outcome']]\n",
    "grouped_com = df_com.groupby(['Co-morbidity?','Outcome'],as_index=False).size()\n",
    "grouped_com_pivot = grouped_com.pivot(index='Co-morbidity?',columns='Outcome')\n",
    "grouped_com_pivot"
   ]
  },
  {
   "cell_type": "code",
   "execution_count": null,
   "metadata": {},
   "outputs": [],
   "source": [
    "chi2, p, dof, ex = scipy.stats.chi2_contingency(np.array(grouped_com_pivot))\n",
    "chi2, p"
   ]
  },
  {
   "cell_type": "markdown",
   "metadata": {},
   "source": [
    "From this, we can see that patients without comorbidities are less likely to have a fatal outcome. This can be an indicator in our model."
   ]
  },
  {
   "cell_type": "markdown",
   "metadata": {},
   "source": [
    "#### Diabetes\n",
    "(description)"
   ]
  },
  {
   "cell_type": "code",
   "execution_count": null,
   "metadata": {},
   "outputs": [],
   "source": [
    "sns.countplot(df['Diabetes'])"
   ]
  },
  {
   "cell_type": "code",
   "execution_count": null,
   "metadata": {},
   "outputs": [],
   "source": [
    "df_Diabetes = df[['Diabetes','Outcome']]\n",
    "grouped_Diabetes = df_Diabetes.groupby(['Diabetes','Outcome'],as_index=False).size()\n",
    "grouped_Diabetes_pivot = grouped_Diabetes.pivot(index='Diabetes',columns='Outcome')\n",
    "grouped_Diabetes_pivot"
   ]
  },
  {
   "cell_type": "markdown",
   "metadata": {},
   "source": [
    "##### Chi-sqaured test for diabetes dependency on the outcome"
   ]
  },
  {
   "cell_type": "code",
   "execution_count": null,
   "metadata": {},
   "outputs": [],
   "source": [
    "chi2, p, dof, ex = scipy.stats.chi2_contingency(np.array(grouped_Diabetes_pivot))\n",
    "chi2, p"
   ]
  },
  {
   "cell_type": "markdown",
   "metadata": {},
   "source": [
    "Since the p-value < 5%, we can conclude that there is a dependency of diabetes on the final outcome."
   ]
  },
  {
   "cell_type": "markdown",
   "metadata": {},
   "source": [
    "#### Hypertension\n",
    "(description)"
   ]
  },
  {
   "cell_type": "code",
   "execution_count": null,
   "metadata": {},
   "outputs": [],
   "source": [
    "sns.countplot(df['Hypertension'])"
   ]
  },
  {
   "cell_type": "code",
   "execution_count": null,
   "metadata": {},
   "outputs": [],
   "source": [
    "df_Hypertension = df[['Hypertension','Outcome']]\n",
    "grouped_Hypertension = df_Hypertension.groupby(['Hypertension','Outcome'],as_index=False).size()\n",
    "grouped_Hypertension_pivot = grouped_Hypertension.pivot(index='Hypertension',columns='Outcome')\n",
    "grouped_Hypertension_pivot"
   ]
  },
  {
   "cell_type": "markdown",
   "metadata": {},
   "source": [
    "##### Chi-squared exact test for hypertension dependency on the outcome"
   ]
  },
  {
   "cell_type": "code",
   "execution_count": null,
   "metadata": {},
   "outputs": [],
   "source": [
    "chi2, p, dof, ex = scipy.stats.chi2_contingency(np.array(grouped_Hypertension_pivot))\n",
    "chi2, p"
   ]
  },
  {
   "cell_type": "markdown",
   "metadata": {},
   "source": [
    "Since the p-value < 5%, we can conclude that there is a dependency of Hypertension on the final outcome."
   ]
  },
  {
   "cell_type": "markdown",
   "metadata": {},
   "source": [
    "#### Heart Conditions\n",
    "(description)"
   ]
  },
  {
   "cell_type": "code",
   "execution_count": null,
   "metadata": {},
   "outputs": [],
   "source": [
    "sns.countplot(df['Heart Condition'])"
   ]
  },
  {
   "cell_type": "code",
   "execution_count": null,
   "metadata": {},
   "outputs": [],
   "source": [
    "df_heart = df[['Heart Condition','Outcome']]\n",
    "grouped_heart = df_heart.groupby(['Heart Condition','Outcome'],as_index=False).size()\n",
    "grouped_heart_pivot = grouped_heart.pivot(index='Heart Condition',columns='Outcome')\n",
    "grouped_heart_pivot"
   ]
  },
  {
   "cell_type": "code",
   "execution_count": null,
   "metadata": {},
   "outputs": [],
   "source": [
    "chi2, p, dof, ex = scipy.stats.chi2_contingency(np.array(grouped_heart_pivot))\n",
    "chi2, p"
   ]
  },
  {
   "cell_type": "markdown",
   "metadata": {},
   "source": [
    "##### Fisher's exact test for heart condition dependency on the outcome"
   ]
  },
  {
   "cell_type": "code",
   "execution_count": null,
   "metadata": {},
   "outputs": [],
   "source": [
    "grouped_com = comorbidities.groupby(['Diabetes','Hypertension','Heart Condition'],as_index=False).mean().round(2)\n",
    "grouped_com"
   ]
  },
  {
   "cell_type": "code",
   "execution_count": null,
   "metadata": {},
   "outputs": [],
   "source": [
    "grouped_com = comorbidities.groupby(['Diabetes','Hypertension','Heart Condition'],as_index=False).size()\n",
    "grouped_com"
   ]
  },
  {
   "cell_type": "markdown",
   "metadata": {},
   "source": [
    "Let us try to develop some models that can help us see if we can classify the severity risk.\n",
    "\n",
    "### Logistic Regression Model"
   ]
  },
  {
   "cell_type": "code",
   "execution_count": null,
   "metadata": {},
   "outputs": [],
   "source": [
    "from sklearn.linear_model import LogisticRegression\n",
    "from sklearn.model_selection import train_test_split\n",
    "from sklearn import metrics"
   ]
  },
  {
   "cell_type": "markdown",
   "metadata": {},
   "source": [
    "#### Training Model"
   ]
  },
  {
   "cell_type": "code",
   "execution_count": null,
   "metadata": {},
   "outputs": [],
   "source": [
    "lm = LogisticRegression(max_iter=1000)\n",
    "X = df[['Age Above 60','Gender','Temp Groups','Respiratory Rate Groups','Symptoms Present?','Co-morbidity?','Cough','Breathlessness','Hypertension','Diabetes']]\n",
    "Y = df['Outcome']\n",
    "x_train, x_test, y_train, y_test = train_test_split(X, Y, test_size=0.15, random_state=1)\n",
    "lm.fit(x_train,y_train)\n",
    "prediction = lm.predict(x_test)\n",
    "score = lm.score(x_test, y_test)\n",
    "print(score)"
   ]
  },
  {
   "cell_type": "markdown",
   "metadata": {},
   "source": [
    "#### How well the model runs on the training set -"
   ]
  },
  {
   "cell_type": "code",
   "execution_count": null,
   "metadata": {},
   "outputs": [],
   "source": [
    "cm = metrics.confusion_matrix(y_train, lm.predict(x_train))\n",
    "plt.figure\n",
    "sns.heatmap(cm, annot=True, fmt=\".3f\", linewidths=.5, square = True, cmap = 'Blues_r');\n",
    "print(\"Train Set\")\n",
    "plt.ylabel('Actual label');\n",
    "plt.xlabel('Predicted label');\n",
    "all_sample_title = 'Accuracy Score: {0}'.format(lm.score(x_train, y_train))\n",
    "plt.title(all_sample_title, size = 15);\n",
    "plt.savefig('covidseverity.png')"
   ]
  },
  {
   "cell_type": "markdown",
   "metadata": {},
   "source": [
    "#### How well the model runs on the test set -"
   ]
  },
  {
   "cell_type": "code",
   "execution_count": null,
   "metadata": {},
   "outputs": [],
   "source": [
    "cm = metrics.confusion_matrix(y_test, prediction)\n",
    "plt.figure\n",
    "sns.heatmap(cm, annot=True, fmt=\".3f\", linewidths=.5, square = True, cmap = 'Blues_r');\n",
    "print(\"Test Set\")\n",
    "plt.ylabel('Actual label');\n",
    "plt.xlabel('Predicted label');\n",
    "all_sample_title = 'Accuracy Score: {0}'.format(score)\n",
    "plt.title(all_sample_title, size = 15);\n",
    "plt.savefig('covidseverity.png')"
   ]
  },
  {
   "cell_type": "markdown",
   "metadata": {},
   "source": [
    "#### Error in this model"
   ]
  },
  {
   "cell_type": "code",
   "execution_count": null,
   "metadata": {},
   "outputs": [],
   "source": [
    "from sklearn.metrics import mean_squared_error\n",
    "mse = mean_squared_error(y_test, prediction)\n",
    "print('The mean square error of actual and predicted value is: ', mse)"
   ]
  },
  {
   "cell_type": "markdown",
   "metadata": {},
   "source": [
    "#### Precision and Recall"
   ]
  },
  {
   "cell_type": "markdown",
   "metadata": {},
   "source": [
    "## Blood \n",
    "(description)"
   ]
  },
  {
   "cell_type": "code",
   "execution_count": null,
   "metadata": {},
   "outputs": [],
   "source": [
    "blood = df[['HEMOGLOBIN','TLC COUNT','PLATELET COUNT','RANDOM BLOOD SUGAR','UREA','CREATININE','SODIUM','POTASSIUM','CHLORIDE','TOTAL BILIRUBIN','DIRECT BILIRUBIN','SGOT','SGPT','TOTALPROTEINS','ALBUMIN','ALKALINE PHOSPHATASE','LACTATE DEHYDROGENASE4','C-REACTIVE PROTEINS','ERYTHROCYTE SEDIMENTATION RATE','PRO-CALCITONIN','D-DIMER','IL-6','SERUM FERRITIN','Outcome']]"
   ]
  },
  {
   "cell_type": "code",
   "execution_count": null,
   "metadata": {},
   "outputs": [],
   "source": [
    "blood"
   ]
  },
  {
   "cell_type": "markdown",
   "metadata": {},
   "source": [
    "### Dealing with Missing values\n",
    "\n",
    "The columns IL-6, D-DIMER, SERUM FERTININ, PRO CALCITONIN, ERYTHROCYTE SEDIMENTATION RATE, LACTATE DEHYDROGENASE4 Have too mnay null values for us to make any useful assumptions from them. Thus we will drop these columns.\n",
    "\n",
    "All other columns have approximately 10 null values from the same patients, so we shall drop those rows."
   ]
  },
  {
   "cell_type": "code",
   "execution_count": null,
   "metadata": {},
   "outputs": [],
   "source": [
    "blood.drop(columns=['IL-6', 'D-DIMER', 'SERUM FERRITIN', 'PRO-CALCITONIN', 'ERYTHROCYTE SEDIMENTATION RATE', 'LACTATE DEHYDROGENASE4'],inplace=True)\n",
    "blood.dropna(subset = ['Outcome'],axis=0,inplace=True)\n",
    "blood.dropna(axis=0,inplace=True)\n",
    "blood"
   ]
  },
  {
   "cell_type": "code",
   "execution_count": null,
   "metadata": {},
   "outputs": [],
   "source": [
    "missing_data = blood.isnull()\n",
    "for column in missing_data.columns.values.tolist():\n",
    "    print(column)\n",
    "    print (missing_data[column].value_counts())\n",
    "    print(\"\")"
   ]
  },
  {
   "cell_type": "markdown",
   "metadata": {},
   "source": [
    "Now there are no missing values in our data.\n",
    "We have 178 patients data, and now we can analyse how their blood factors are affecting the ventilatory support."
   ]
  },
  {
   "cell_type": "code",
   "execution_count": null,
   "metadata": {},
   "outputs": [],
   "source": [
    "sns.heatmap(blood.corr())\n",
    "plt.figure(figsize = (10, 8))"
   ]
  },
  {
   "cell_type": "markdown",
   "metadata": {},
   "source": [
    "Urea and TLC Count seem to be strong factors of indication from our initial look."
   ]
  },
  {
   "cell_type": "code",
   "execution_count": null,
   "metadata": {},
   "outputs": [],
   "source": [
    "sns.boxplot(x=\"Outcome\", y=\"TLC COUNT\", data=blood)"
   ]
  },
  {
   "cell_type": "code",
   "execution_count": null,
   "metadata": {},
   "outputs": [],
   "source": []
  }
 ],
 "metadata": {
  "kernelspec": {
   "display_name": "Python 3",
   "language": "python",
   "name": "python3"
  },
  "language_info": {
   "codemirror_mode": {
    "name": "ipython",
    "version": 3
   },
   "file_extension": ".py",
   "mimetype": "text/x-python",
   "name": "python",
   "nbconvert_exporter": "python",
   "pygments_lexer": "ipython3",
   "version": "3.7.3"
  }
 },
 "nbformat": 4,
 "nbformat_minor": 2
}
