{
 "cells": [
  {
   "cell_type": "markdown",
   "metadata": {},
   "source": [
    "# COVID-19 Hospital 104 Data"
   ]
  },
  {
   "cell_type": "markdown",
   "metadata": {},
   "source": [
    "## Dataset "
   ]
  },
  {
   "cell_type": "code",
   "execution_count": 1,
   "metadata": {
    "scrolled": true
   },
   "outputs": [
    {
     "name": "stderr",
     "output_type": "stream",
     "text": [
      "/home/shikha/snap/jupyter/common/lib/python3.7/site-packages/joblib/_multiprocessing_helpers.py:45: UserWarning: [Errno 13] Permission denied.  joblib will operate in serial mode\n",
      "  warnings.warn('%s.  joblib will operate in serial mode' % (e,))\n"
     ]
    }
   ],
   "source": [
    "import pandas as pd\n",
    "import numpy as np\n",
    "import scipy \n",
    "import matplotlib.pyplot as plt\n",
    "import seaborn as sns\n",
    "import sklearn.metrics\n",
    "%matplotlib inline "
   ]
  },
  {
   "cell_type": "code",
   "execution_count": 2,
   "metadata": {},
   "outputs": [],
   "source": [
    "xls = pd.ExcelFile('../input/Hospital104.xlsx')\n",
    "df = pd.read_excel(xls, 'Batch2_Data')"
   ]
  },
  {
   "cell_type": "code",
   "execution_count": 3,
   "metadata": {},
   "outputs": [
    {
     "data": {
      "text/html": [
       "<div>\n",
       "<style scoped>\n",
       "    .dataframe tbody tr th:only-of-type {\n",
       "        vertical-align: middle;\n",
       "    }\n",
       "\n",
       "    .dataframe tbody tr th {\n",
       "        vertical-align: top;\n",
       "    }\n",
       "\n",
       "    .dataframe thead th {\n",
       "        text-align: right;\n",
       "    }\n",
       "</style>\n",
       "<table border=\"1\" class=\"dataframe\">\n",
       "  <thead>\n",
       "    <tr style=\"text-align: right;\">\n",
       "      <th></th>\n",
       "      <th>Sample No.</th>\n",
       "      <th>Patient ID</th>\n",
       "      <th>Study ID</th>\n",
       "      <th>Age</th>\n",
       "      <th>Gender</th>\n",
       "      <th>BMI</th>\n",
       "      <th>Symptoms Presented</th>\n",
       "      <th>Symptoms Present?</th>\n",
       "      <th>Fever</th>\n",
       "      <th>Cough</th>\n",
       "      <th>...</th>\n",
       "      <th>ERYTHROCYTE SEDIMENTATION RATE</th>\n",
       "      <th>PRO-CALCITONIN</th>\n",
       "      <th>D-DIMER</th>\n",
       "      <th>IL-6</th>\n",
       "      <th>SERUM FERRITIN</th>\n",
       "      <th>ECG</th>\n",
       "      <th>CXR</th>\n",
       "      <th>CORADS SCORE ON HRCT</th>\n",
       "      <th>PATIENT CATEGORY</th>\n",
       "      <th>PLASMA THERAPY</th>\n",
       "    </tr>\n",
       "  </thead>\n",
       "  <tbody>\n",
       "    <tr>\n",
       "      <th>0</th>\n",
       "      <td>1013</td>\n",
       "      <td>IGIB1040201013</td>\n",
       "      <td>IGIB1040201013-1</td>\n",
       "      <td>53</td>\n",
       "      <td>1</td>\n",
       "      <td>22.5</td>\n",
       "      <td>fever, cough,breathlessness</td>\n",
       "      <td>1</td>\n",
       "      <td>1</td>\n",
       "      <td>1</td>\n",
       "      <td>...</td>\n",
       "      <td>8.0</td>\n",
       "      <td>NaN</td>\n",
       "      <td>98</td>\n",
       "      <td>NaN</td>\n",
       "      <td>NaN</td>\n",
       "      <td>sinus rhythm</td>\n",
       "      <td>normal</td>\n",
       "      <td>4</td>\n",
       "      <td>5a</td>\n",
       "      <td>No</td>\n",
       "    </tr>\n",
       "    <tr>\n",
       "      <th>1</th>\n",
       "      <td>1014</td>\n",
       "      <td>IGIB1040201014</td>\n",
       "      <td>IGIB1040201014-1</td>\n",
       "      <td>26</td>\n",
       "      <td>0</td>\n",
       "      <td>25.7</td>\n",
       "      <td>asymptomatic</td>\n",
       "      <td>0</td>\n",
       "      <td>0</td>\n",
       "      <td>0</td>\n",
       "      <td>...</td>\n",
       "      <td>NaN</td>\n",
       "      <td>NaN</td>\n",
       "      <td>0.2</td>\n",
       "      <td>NaN</td>\n",
       "      <td>NaN</td>\n",
       "      <td>sinus rhythm</td>\n",
       "      <td>normal</td>\n",
       "      <td>0</td>\n",
       "      <td>5b</td>\n",
       "      <td>No</td>\n",
       "    </tr>\n",
       "    <tr>\n",
       "      <th>2</th>\n",
       "      <td>1015</td>\n",
       "      <td>IGIB1040201015</td>\n",
       "      <td>IGIB1040201015-1</td>\n",
       "      <td>28</td>\n",
       "      <td>1</td>\n",
       "      <td>22.2</td>\n",
       "      <td>asymptomatic</td>\n",
       "      <td>0</td>\n",
       "      <td>0</td>\n",
       "      <td>0</td>\n",
       "      <td>...</td>\n",
       "      <td>4.0</td>\n",
       "      <td>0.20</td>\n",
       "      <td>0.35</td>\n",
       "      <td>NaN</td>\n",
       "      <td>NaN</td>\n",
       "      <td>sinus rhythm</td>\n",
       "      <td>normal</td>\n",
       "      <td>0</td>\n",
       "      <td>5b</td>\n",
       "      <td>No</td>\n",
       "    </tr>\n",
       "    <tr>\n",
       "      <th>3</th>\n",
       "      <td>1016</td>\n",
       "      <td>IGIB1040201016</td>\n",
       "      <td>IGIB1040201016-1</td>\n",
       "      <td>73</td>\n",
       "      <td>1</td>\n",
       "      <td>21.5</td>\n",
       "      <td>fever, cough,breathlessness</td>\n",
       "      <td>1</td>\n",
       "      <td>1</td>\n",
       "      <td>1</td>\n",
       "      <td>...</td>\n",
       "      <td>NaN</td>\n",
       "      <td>NaN</td>\n",
       "      <td>NaN</td>\n",
       "      <td>63.31</td>\n",
       "      <td>NaN</td>\n",
       "      <td>sinus rhythm</td>\n",
       "      <td>normal</td>\n",
       "      <td>5</td>\n",
       "      <td>4</td>\n",
       "      <td>No</td>\n",
       "    </tr>\n",
       "    <tr>\n",
       "      <th>4</th>\n",
       "      <td>1060</td>\n",
       "      <td>IGIB1040201060</td>\n",
       "      <td>IGIB1040201060-1</td>\n",
       "      <td>49</td>\n",
       "      <td>1</td>\n",
       "      <td>27.4</td>\n",
       "      <td>fever,cough</td>\n",
       "      <td>1</td>\n",
       "      <td>1</td>\n",
       "      <td>1</td>\n",
       "      <td>...</td>\n",
       "      <td>8.0</td>\n",
       "      <td>NaN</td>\n",
       "      <td>350.55</td>\n",
       "      <td>4.33</td>\n",
       "      <td>NaN</td>\n",
       "      <td>sinus rhythm</td>\n",
       "      <td>normal</td>\n",
       "      <td>5</td>\n",
       "      <td>4</td>\n",
       "      <td>No</td>\n",
       "    </tr>\n",
       "    <tr>\n",
       "      <th>...</th>\n",
       "      <td>...</td>\n",
       "      <td>...</td>\n",
       "      <td>...</td>\n",
       "      <td>...</td>\n",
       "      <td>...</td>\n",
       "      <td>...</td>\n",
       "      <td>...</td>\n",
       "      <td>...</td>\n",
       "      <td>...</td>\n",
       "      <td>...</td>\n",
       "      <td>...</td>\n",
       "      <td>...</td>\n",
       "      <td>...</td>\n",
       "      <td>...</td>\n",
       "      <td>...</td>\n",
       "      <td>...</td>\n",
       "      <td>...</td>\n",
       "      <td>...</td>\n",
       "      <td>...</td>\n",
       "      <td>...</td>\n",
       "      <td>...</td>\n",
       "    </tr>\n",
       "    <tr>\n",
       "      <th>185</th>\n",
       "      <td>950</td>\n",
       "      <td>IGIB104020950</td>\n",
       "      <td>IGIB104020950-1</td>\n",
       "      <td>53</td>\n",
       "      <td>1</td>\n",
       "      <td>27.2</td>\n",
       "      <td>fever, cough,breathlessness</td>\n",
       "      <td>1</td>\n",
       "      <td>1</td>\n",
       "      <td>1</td>\n",
       "      <td>...</td>\n",
       "      <td>14.0</td>\n",
       "      <td>NaN</td>\n",
       "      <td>410</td>\n",
       "      <td>NaN</td>\n",
       "      <td>NaN</td>\n",
       "      <td>sinus rhythm</td>\n",
       "      <td>normal</td>\n",
       "      <td>5</td>\n",
       "      <td>4</td>\n",
       "      <td>No</td>\n",
       "    </tr>\n",
       "    <tr>\n",
       "      <th>186</th>\n",
       "      <td>965</td>\n",
       "      <td>IGIB104020965</td>\n",
       "      <td>IGIB104020965-1</td>\n",
       "      <td>33</td>\n",
       "      <td>1</td>\n",
       "      <td>26.0</td>\n",
       "      <td>fever, cough,breathlessness</td>\n",
       "      <td>1</td>\n",
       "      <td>1</td>\n",
       "      <td>1</td>\n",
       "      <td>...</td>\n",
       "      <td>6.0</td>\n",
       "      <td>NaN</td>\n",
       "      <td>1120</td>\n",
       "      <td>37.90</td>\n",
       "      <td>NaN</td>\n",
       "      <td>sinus tachycardia</td>\n",
       "      <td>normal</td>\n",
       "      <td>5</td>\n",
       "      <td>4</td>\n",
       "      <td>No</td>\n",
       "    </tr>\n",
       "    <tr>\n",
       "      <th>187</th>\n",
       "      <td>9667</td>\n",
       "      <td>IGIB1040209667</td>\n",
       "      <td>IGIB1040209667-1</td>\n",
       "      <td>70</td>\n",
       "      <td>1</td>\n",
       "      <td>21.4</td>\n",
       "      <td>fever, breathlessness</td>\n",
       "      <td>1</td>\n",
       "      <td>1</td>\n",
       "      <td>0</td>\n",
       "      <td>...</td>\n",
       "      <td>8.0</td>\n",
       "      <td>0.54</td>\n",
       "      <td>1078</td>\n",
       "      <td>735.60</td>\n",
       "      <td>NaN</td>\n",
       "      <td>sinus rhythm</td>\n",
       "      <td>normal</td>\n",
       "      <td>5</td>\n",
       "      <td>4</td>\n",
       "      <td>No</td>\n",
       "    </tr>\n",
       "    <tr>\n",
       "      <th>188</th>\n",
       "      <td>9759</td>\n",
       "      <td>IGIB1040209759</td>\n",
       "      <td>IGIB1040209759-1</td>\n",
       "      <td>65</td>\n",
       "      <td>0</td>\n",
       "      <td>22.4</td>\n",
       "      <td>breathlessness and cough</td>\n",
       "      <td>1</td>\n",
       "      <td>0</td>\n",
       "      <td>1</td>\n",
       "      <td>...</td>\n",
       "      <td>6.0</td>\n",
       "      <td>NaN</td>\n",
       "      <td>1224</td>\n",
       "      <td>NaN</td>\n",
       "      <td>NaN</td>\n",
       "      <td>sinus rhythm</td>\n",
       "      <td>normal</td>\n",
       "      <td>6</td>\n",
       "      <td>4</td>\n",
       "      <td>No</td>\n",
       "    </tr>\n",
       "    <tr>\n",
       "      <th>189</th>\n",
       "      <td>9766</td>\n",
       "      <td>IGIB1040209766</td>\n",
       "      <td>IGIB1040209766-1</td>\n",
       "      <td>75</td>\n",
       "      <td>1</td>\n",
       "      <td>26.2</td>\n",
       "      <td>fever, breathlessness</td>\n",
       "      <td>1</td>\n",
       "      <td>1</td>\n",
       "      <td>0</td>\n",
       "      <td>...</td>\n",
       "      <td>NaN</td>\n",
       "      <td>NaN</td>\n",
       "      <td>200</td>\n",
       "      <td>NaN</td>\n",
       "      <td>NaN</td>\n",
       "      <td>sinus rhythm</td>\n",
       "      <td>normal</td>\n",
       "      <td>NaN</td>\n",
       "      <td>4</td>\n",
       "      <td>No</td>\n",
       "    </tr>\n",
       "  </tbody>\n",
       "</table>\n",
       "<p>190 rows × 57 columns</p>\n",
       "</div>"
      ],
      "text/plain": [
       "     Sample No.      Patient ID          Study ID  Age  Gender   BMI  \\\n",
       "0          1013  IGIB1040201013  IGIB1040201013-1   53       1  22.5   \n",
       "1          1014  IGIB1040201014  IGIB1040201014-1   26       0  25.7   \n",
       "2          1015  IGIB1040201015  IGIB1040201015-1   28       1  22.2   \n",
       "3          1016  IGIB1040201016  IGIB1040201016-1   73       1  21.5   \n",
       "4          1060  IGIB1040201060  IGIB1040201060-1   49       1  27.4   \n",
       "..          ...             ...               ...  ...     ...   ...   \n",
       "185         950   IGIB104020950   IGIB104020950-1   53       1  27.2   \n",
       "186         965   IGIB104020965   IGIB104020965-1   33       1  26.0   \n",
       "187        9667  IGIB1040209667  IGIB1040209667-1   70       1  21.4   \n",
       "188        9759  IGIB1040209759  IGIB1040209759-1   65       0  22.4   \n",
       "189        9766  IGIB1040209766  IGIB1040209766-1   75       1  26.2   \n",
       "\n",
       "              Symptoms Presented  Symptoms Present?  Fever  Cough  ...  \\\n",
       "0    fever, cough,breathlessness                  1      1      1  ...   \n",
       "1                   asymptomatic                  0      0      0  ...   \n",
       "2                   asymptomatic                  0      0      0  ...   \n",
       "3    fever, cough,breathlessness                  1      1      1  ...   \n",
       "4                    fever,cough                  1      1      1  ...   \n",
       "..                           ...                ...    ...    ...  ...   \n",
       "185  fever, cough,breathlessness                  1      1      1  ...   \n",
       "186  fever, cough,breathlessness                  1      1      1  ...   \n",
       "187        fever, breathlessness                  1      1      0  ...   \n",
       "188     breathlessness and cough                  1      0      1  ...   \n",
       "189        fever, breathlessness                  1      1      0  ...   \n",
       "\n",
       "     ERYTHROCYTE SEDIMENTATION RATE  PRO-CALCITONIN  D-DIMER    IL-6  \\\n",
       "0                               8.0             NaN       98     NaN   \n",
       "1                               NaN             NaN      0.2     NaN   \n",
       "2                               4.0            0.20     0.35     NaN   \n",
       "3                               NaN             NaN      NaN   63.31   \n",
       "4                               8.0             NaN   350.55    4.33   \n",
       "..                              ...             ...      ...     ...   \n",
       "185                            14.0             NaN      410     NaN   \n",
       "186                             6.0             NaN     1120   37.90   \n",
       "187                             8.0            0.54     1078  735.60   \n",
       "188                             6.0             NaN     1224     NaN   \n",
       "189                             NaN             NaN      200     NaN   \n",
       "\n",
       "    SERUM FERRITIN                ECG     CXR  CORADS SCORE ON HRCT  \\\n",
       "0              NaN       sinus rhythm  normal                     4   \n",
       "1              NaN       sinus rhythm  normal                     0   \n",
       "2              NaN       sinus rhythm  normal                     0   \n",
       "3              NaN       sinus rhythm  normal                     5   \n",
       "4              NaN       sinus rhythm  normal                     5   \n",
       "..             ...                ...     ...                   ...   \n",
       "185            NaN       sinus rhythm  normal                     5   \n",
       "186            NaN  sinus tachycardia  normal                     5   \n",
       "187            NaN       sinus rhythm  normal                     5   \n",
       "188            NaN       sinus rhythm  normal                     6   \n",
       "189            NaN       sinus rhythm  normal                   NaN   \n",
       "\n",
       "     PATIENT CATEGORY  PLASMA THERAPY  \n",
       "0                  5a              No  \n",
       "1                  5b              No  \n",
       "2                  5b              No  \n",
       "3                   4              No  \n",
       "4                   4              No  \n",
       "..                ...             ...  \n",
       "185                 4              No  \n",
       "186                 4              No  \n",
       "187                 4              No  \n",
       "188                 4              No  \n",
       "189                 4              No  \n",
       "\n",
       "[190 rows x 57 columns]"
      ]
     },
     "execution_count": 3,
     "metadata": {},
     "output_type": "execute_result"
    }
   ],
   "source": [
    "df"
   ]
  },
  {
   "cell_type": "code",
   "execution_count": null,
   "metadata": {},
   "outputs": [],
   "source": []
  },
  {
   "cell_type": "code",
   "execution_count": 4,
   "metadata": {},
   "outputs": [
    {
     "data": {
      "text/html": [
       "<div>\n",
       "<style scoped>\n",
       "    .dataframe tbody tr th:only-of-type {\n",
       "        vertical-align: middle;\n",
       "    }\n",
       "\n",
       "    .dataframe tbody tr th {\n",
       "        vertical-align: top;\n",
       "    }\n",
       "\n",
       "    .dataframe thead th {\n",
       "        text-align: right;\n",
       "    }\n",
       "</style>\n",
       "<table border=\"1\" class=\"dataframe\">\n",
       "  <thead>\n",
       "    <tr style=\"text-align: right;\">\n",
       "      <th></th>\n",
       "      <th>Sample No.</th>\n",
       "      <th>Age</th>\n",
       "      <th>Gender</th>\n",
       "      <th>BMI</th>\n",
       "      <th>Symptoms Present?</th>\n",
       "      <th>Fever</th>\n",
       "      <th>Cough</th>\n",
       "      <th>Breathlessness</th>\n",
       "      <th>Travel History</th>\n",
       "      <th>Temp</th>\n",
       "      <th>...</th>\n",
       "      <th>SGPT</th>\n",
       "      <th>TOTAL PROTEINS</th>\n",
       "      <th>ALBUMIN</th>\n",
       "      <th>ALKALINE PHOSPHATASE</th>\n",
       "      <th>LACTATE DEHYDROGENASE4</th>\n",
       "      <th>C-REACTIVE PROTEINS</th>\n",
       "      <th>ERYTHROCYTE SEDIMENTATION RATE</th>\n",
       "      <th>PRO-CALCITONIN</th>\n",
       "      <th>IL-6</th>\n",
       "      <th>SERUM FERRITIN</th>\n",
       "    </tr>\n",
       "  </thead>\n",
       "  <tbody>\n",
       "    <tr>\n",
       "      <th>count</th>\n",
       "      <td>190.000000</td>\n",
       "      <td>190.000000</td>\n",
       "      <td>190.000000</td>\n",
       "      <td>187.000000</td>\n",
       "      <td>190.000000</td>\n",
       "      <td>190.000000</td>\n",
       "      <td>190.000000</td>\n",
       "      <td>190.000000</td>\n",
       "      <td>190.000000</td>\n",
       "      <td>188.000000</td>\n",
       "      <td>...</td>\n",
       "      <td>179.000000</td>\n",
       "      <td>179.000000</td>\n",
       "      <td>179.000000</td>\n",
       "      <td>179.000000</td>\n",
       "      <td>100.000000</td>\n",
       "      <td>179.000000</td>\n",
       "      <td>91.000000</td>\n",
       "      <td>50.000000</td>\n",
       "      <td>46.000000</td>\n",
       "      <td>64.000000</td>\n",
       "    </tr>\n",
       "    <tr>\n",
       "      <th>mean</th>\n",
       "      <td>4688.400000</td>\n",
       "      <td>47.368421</td>\n",
       "      <td>0.615789</td>\n",
       "      <td>23.086845</td>\n",
       "      <td>0.831579</td>\n",
       "      <td>0.500000</td>\n",
       "      <td>0.415789</td>\n",
       "      <td>0.394737</td>\n",
       "      <td>0.021053</td>\n",
       "      <td>98.243617</td>\n",
       "      <td>...</td>\n",
       "      <td>43.379888</td>\n",
       "      <td>6.334078</td>\n",
       "      <td>3.558101</td>\n",
       "      <td>81.163687</td>\n",
       "      <td>527.018000</td>\n",
       "      <td>43.795922</td>\n",
       "      <td>10.797802</td>\n",
       "      <td>1.470000</td>\n",
       "      <td>413.586522</td>\n",
       "      <td>388.139844</td>\n",
       "    </tr>\n",
       "    <tr>\n",
       "      <th>std</th>\n",
       "      <td>2650.665385</td>\n",
       "      <td>18.375307</td>\n",
       "      <td>0.487693</td>\n",
       "      <td>1.607635</td>\n",
       "      <td>0.375229</td>\n",
       "      <td>0.501321</td>\n",
       "      <td>0.494160</td>\n",
       "      <td>0.490085</td>\n",
       "      <td>0.143939</td>\n",
       "      <td>1.252596</td>\n",
       "      <td>...</td>\n",
       "      <td>37.229672</td>\n",
       "      <td>0.764457</td>\n",
       "      <td>0.493188</td>\n",
       "      <td>41.536575</td>\n",
       "      <td>470.750464</td>\n",
       "      <td>60.978641</td>\n",
       "      <td>6.490916</td>\n",
       "      <td>2.680938</td>\n",
       "      <td>1064.095040</td>\n",
       "      <td>504.435650</td>\n",
       "    </tr>\n",
       "    <tr>\n",
       "      <th>min</th>\n",
       "      <td>246.000000</td>\n",
       "      <td>5.000000</td>\n",
       "      <td>0.000000</td>\n",
       "      <td>18.700000</td>\n",
       "      <td>0.000000</td>\n",
       "      <td>0.000000</td>\n",
       "      <td>0.000000</td>\n",
       "      <td>0.000000</td>\n",
       "      <td>0.000000</td>\n",
       "      <td>95.700000</td>\n",
       "      <td>...</td>\n",
       "      <td>3.800000</td>\n",
       "      <td>3.600000</td>\n",
       "      <td>2.600000</td>\n",
       "      <td>3.800000</td>\n",
       "      <td>16.800000</td>\n",
       "      <td>0.100000</td>\n",
       "      <td>2.000000</td>\n",
       "      <td>0.010000</td>\n",
       "      <td>0.800000</td>\n",
       "      <td>21.000000</td>\n",
       "    </tr>\n",
       "    <tr>\n",
       "      <th>25%</th>\n",
       "      <td>1603.500000</td>\n",
       "      <td>34.000000</td>\n",
       "      <td>0.000000</td>\n",
       "      <td>22.100000</td>\n",
       "      <td>1.000000</td>\n",
       "      <td>0.000000</td>\n",
       "      <td>0.000000</td>\n",
       "      <td>0.000000</td>\n",
       "      <td>0.000000</td>\n",
       "      <td>97.300000</td>\n",
       "      <td>...</td>\n",
       "      <td>20.950000</td>\n",
       "      <td>5.900000</td>\n",
       "      <td>3.200000</td>\n",
       "      <td>55.900000</td>\n",
       "      <td>262.750000</td>\n",
       "      <td>1.835000</td>\n",
       "      <td>6.000000</td>\n",
       "      <td>0.060000</td>\n",
       "      <td>6.475000</td>\n",
       "      <td>112.602500</td>\n",
       "    </tr>\n",
       "    <tr>\n",
       "      <th>50%</th>\n",
       "      <td>6258.000000</td>\n",
       "      <td>46.500000</td>\n",
       "      <td>1.000000</td>\n",
       "      <td>22.800000</td>\n",
       "      <td>1.000000</td>\n",
       "      <td>0.500000</td>\n",
       "      <td>0.000000</td>\n",
       "      <td>0.000000</td>\n",
       "      <td>0.000000</td>\n",
       "      <td>98.150000</td>\n",
       "      <td>...</td>\n",
       "      <td>31.200000</td>\n",
       "      <td>6.400000</td>\n",
       "      <td>3.500000</td>\n",
       "      <td>68.000000</td>\n",
       "      <td>451.650000</td>\n",
       "      <td>12.000000</td>\n",
       "      <td>8.000000</td>\n",
       "      <td>0.395000</td>\n",
       "      <td>31.430000</td>\n",
       "      <td>236.900000</td>\n",
       "    </tr>\n",
       "    <tr>\n",
       "      <th>75%</th>\n",
       "      <td>6687.750000</td>\n",
       "      <td>60.000000</td>\n",
       "      <td>1.000000</td>\n",
       "      <td>24.100000</td>\n",
       "      <td>1.000000</td>\n",
       "      <td>1.000000</td>\n",
       "      <td>1.000000</td>\n",
       "      <td>1.000000</td>\n",
       "      <td>0.000000</td>\n",
       "      <td>98.925000</td>\n",
       "      <td>...</td>\n",
       "      <td>48.700000</td>\n",
       "      <td>6.700000</td>\n",
       "      <td>3.800000</td>\n",
       "      <td>96.200000</td>\n",
       "      <td>668.250000</td>\n",
       "      <td>66.565000</td>\n",
       "      <td>14.000000</td>\n",
       "      <td>0.900000</td>\n",
       "      <td>260.990000</td>\n",
       "      <td>397.045000</td>\n",
       "    </tr>\n",
       "    <tr>\n",
       "      <th>max</th>\n",
       "      <td>9766.000000</td>\n",
       "      <td>92.000000</td>\n",
       "      <td>1.000000</td>\n",
       "      <td>27.400000</td>\n",
       "      <td>1.000000</td>\n",
       "      <td>1.000000</td>\n",
       "      <td>1.000000</td>\n",
       "      <td>1.000000</td>\n",
       "      <td>1.000000</td>\n",
       "      <td>102.000000</td>\n",
       "      <td>...</td>\n",
       "      <td>190.000000</td>\n",
       "      <td>12.600000</td>\n",
       "      <td>6.600000</td>\n",
       "      <td>320.900000</td>\n",
       "      <td>3250.000000</td>\n",
       "      <td>381.000000</td>\n",
       "      <td>26.000000</td>\n",
       "      <td>12.540000</td>\n",
       "      <td>4967.800000</td>\n",
       "      <td>2378.900000</td>\n",
       "    </tr>\n",
       "  </tbody>\n",
       "</table>\n",
       "<p>8 rows × 43 columns</p>\n",
       "</div>"
      ],
      "text/plain": [
       "        Sample No.         Age      Gender         BMI  Symptoms Present?  \\\n",
       "count   190.000000  190.000000  190.000000  187.000000         190.000000   \n",
       "mean   4688.400000   47.368421    0.615789   23.086845           0.831579   \n",
       "std    2650.665385   18.375307    0.487693    1.607635           0.375229   \n",
       "min     246.000000    5.000000    0.000000   18.700000           0.000000   \n",
       "25%    1603.500000   34.000000    0.000000   22.100000           1.000000   \n",
       "50%    6258.000000   46.500000    1.000000   22.800000           1.000000   \n",
       "75%    6687.750000   60.000000    1.000000   24.100000           1.000000   \n",
       "max    9766.000000   92.000000    1.000000   27.400000           1.000000   \n",
       "\n",
       "            Fever       Cough  Breathlessness  Travel History        Temp  \\\n",
       "count  190.000000  190.000000      190.000000      190.000000  188.000000   \n",
       "mean     0.500000    0.415789        0.394737        0.021053   98.243617   \n",
       "std      0.501321    0.494160        0.490085        0.143939    1.252596   \n",
       "min      0.000000    0.000000        0.000000        0.000000   95.700000   \n",
       "25%      0.000000    0.000000        0.000000        0.000000   97.300000   \n",
       "50%      0.500000    0.000000        0.000000        0.000000   98.150000   \n",
       "75%      1.000000    1.000000        1.000000        0.000000   98.925000   \n",
       "max      1.000000    1.000000        1.000000        1.000000  102.000000   \n",
       "\n",
       "       ...        SGPT  TOTAL PROTEINS     ALBUMIN  ALKALINE PHOSPHATASE  \\\n",
       "count  ...  179.000000      179.000000  179.000000            179.000000   \n",
       "mean   ...   43.379888        6.334078    3.558101             81.163687   \n",
       "std    ...   37.229672        0.764457    0.493188             41.536575   \n",
       "min    ...    3.800000        3.600000    2.600000              3.800000   \n",
       "25%    ...   20.950000        5.900000    3.200000             55.900000   \n",
       "50%    ...   31.200000        6.400000    3.500000             68.000000   \n",
       "75%    ...   48.700000        6.700000    3.800000             96.200000   \n",
       "max    ...  190.000000       12.600000    6.600000            320.900000   \n",
       "\n",
       "       LACTATE DEHYDROGENASE4  C-REACTIVE PROTEINS  \\\n",
       "count              100.000000           179.000000   \n",
       "mean               527.018000            43.795922   \n",
       "std                470.750464            60.978641   \n",
       "min                 16.800000             0.100000   \n",
       "25%                262.750000             1.835000   \n",
       "50%                451.650000            12.000000   \n",
       "75%                668.250000            66.565000   \n",
       "max               3250.000000           381.000000   \n",
       "\n",
       "       ERYTHROCYTE SEDIMENTATION RATE  PRO-CALCITONIN         IL-6  \\\n",
       "count                       91.000000       50.000000    46.000000   \n",
       "mean                        10.797802        1.470000   413.586522   \n",
       "std                          6.490916        2.680938  1064.095040   \n",
       "min                          2.000000        0.010000     0.800000   \n",
       "25%                          6.000000        0.060000     6.475000   \n",
       "50%                          8.000000        0.395000    31.430000   \n",
       "75%                         14.000000        0.900000   260.990000   \n",
       "max                         26.000000       12.540000  4967.800000   \n",
       "\n",
       "       SERUM FERRITIN  \n",
       "count       64.000000  \n",
       "mean       388.139844  \n",
       "std        504.435650  \n",
       "min         21.000000  \n",
       "25%        112.602500  \n",
       "50%        236.900000  \n",
       "75%        397.045000  \n",
       "max       2378.900000  \n",
       "\n",
       "[8 rows x 43 columns]"
      ]
     },
     "execution_count": 4,
     "metadata": {},
     "output_type": "execute_result"
    }
   ],
   "source": [
    "df.describe()"
   ]
  },
  {
   "cell_type": "markdown",
   "metadata": {},
   "source": [
    "### Important Functions"
   ]
  },
  {
   "cell_type": "code",
   "execution_count": 5,
   "metadata": {},
   "outputs": [],
   "source": [
    "#Finding missing data\n",
    "def missing_data(data):\n",
    "    missing = data.isnull()\n",
    "    for column in missing.columns.values.tolist():\n",
    "        print(column)\n",
    "        print (missing[column].value_counts())\n",
    "        print(\"\")\n",
    "        \n",
    "def plot_count(new_column_name,old_column,groups,group_names):\n",
    "    df[new_column_name] = pd.cut(df[old_column], groups, labels=group_names, include_lowest=True )\n",
    "    sns.countplot(df[new_column_name])\n",
    "    return df\n",
    "    \n",
    "def contingency(data,column):\n",
    "    grouped = data.groupby([column,'Outcome'],as_index=False).size()\n",
    "    grouped_pivot = grouped.pivot(index=column,columns='Outcome')\n",
    "    return grouped_pivot  "
   ]
  },
  {
   "cell_type": "markdown",
   "metadata": {},
   "source": [
    "### Missing Data\n",
    "\n",
    "The missing values are converted by default. We use the following functions to identify these missing values. There are two methods to detect missing data:\n",
    "\n",
    "<ol>\n",
    "    <li><b>.isnull()</b></li>\n",
    "    <li><b>.notnull()</b></li>\n",
    "</ol>\n",
    "The output is a boolean value indicating whether the value that is passed into the argument is in fact missing data."
   ]
  },
  {
   "cell_type": "code",
   "execution_count": 6,
   "metadata": {
    "scrolled": false
   },
   "outputs": [
    {
     "name": "stdout",
     "output_type": "stream",
     "text": [
      "Sample No.\n",
      "False    190\n",
      "Name: Sample No., dtype: int64\n",
      "\n",
      "Patient ID\n",
      "False    190\n",
      "Name: Patient ID, dtype: int64\n",
      "\n",
      "Study ID\n",
      "False    190\n",
      "Name: Study ID, dtype: int64\n",
      "\n",
      "Age\n",
      "False    190\n",
      "Name: Age, dtype: int64\n",
      "\n",
      "Gender\n",
      "False    190\n",
      "Name: Gender, dtype: int64\n",
      "\n",
      "BMI\n",
      "False    187\n",
      "True       3\n",
      "Name: BMI, dtype: int64\n",
      "\n",
      "Symptoms Presented\n",
      "False    190\n",
      "Name: Symptoms Presented, dtype: int64\n",
      "\n",
      "Symptoms Present?\n",
      "False    190\n",
      "Name: Symptoms Present?, dtype: int64\n",
      "\n",
      "Fever\n",
      "False    190\n",
      "Name: Fever, dtype: int64\n",
      "\n",
      "Cough\n",
      "False    190\n",
      "Name: Cough, dtype: int64\n",
      "\n",
      "Breathlessness\n",
      "False    190\n",
      "Name: Breathlessness, dtype: int64\n",
      "\n",
      "Travel History\n",
      "False    190\n",
      "Name: Travel History, dtype: int64\n",
      "\n",
      "Temp\n",
      "False    188\n",
      "True       2\n",
      "Name: Temp, dtype: int64\n",
      "\n",
      "SPO2\n",
      "False    187\n",
      "True       3\n",
      "Name: SPO2, dtype: int64\n",
      "\n",
      "Medicine Administered\n",
      "False    189\n",
      "True       1\n",
      "Name: Medicine Administered, dtype: int64\n",
      "\n",
      "Contact to NCOVID Patient\n",
      "False    190\n",
      "Name: Contact to NCOVID Patient, dtype: int64\n",
      "\n",
      "Co-morbid Condition\n",
      "False    189\n",
      "True       1\n",
      "Name: Co-morbid Condition, dtype: int64\n",
      "\n",
      "Co-morbidity?\n",
      "False    190\n",
      "Name: Co-morbidity?, dtype: int64\n",
      "\n",
      "Diabetes\n",
      "False    190\n",
      "Name: Diabetes, dtype: int64\n",
      "\n",
      "Hypertension\n",
      "False    190\n",
      "Name: Hypertension, dtype: int64\n",
      "\n",
      "Heart Condition\n",
      "False    190\n",
      "Name: Heart Condition, dtype: int64\n",
      "\n",
      "Hospital stay in days\n",
      "False    141\n",
      "True      49\n",
      "Name: Hospital stay in days, dtype: int64\n",
      "\n",
      "Respiratory Support\n",
      "False    187\n",
      "True       3\n",
      "Name: Respiratory Support, dtype: int64\n",
      "\n",
      "Respiratory rate(breaths per minute)\n",
      "False    187\n",
      "True       3\n",
      "Name: Respiratory rate(breaths per minute), dtype: int64\n",
      "\n",
      "Outcome\n",
      "False    141\n",
      "True      49\n",
      "Name: Outcome, dtype: int64\n",
      "\n",
      "O2 supplementation required\n",
      "False    187\n",
      "True       3\n",
      "Name: O2 supplementation required, dtype: int64\n",
      "\n",
      "Ventilatory support required\n",
      "False    187\n",
      "True       3\n",
      "Name: Ventilatory support required, dtype: int64\n",
      "\n",
      "qSOFA SCORE\n",
      "False    187\n",
      "True       3\n",
      "Name: qSOFA SCORE, dtype: int64\n",
      "\n",
      "RESPIRATORY FINDINGS\n",
      "False    190\n",
      "Name: RESPIRATORY FINDINGS, dtype: int64\n",
      "\n",
      "HEMOGLOBIN\n",
      "False    184\n",
      "True       6\n",
      "Name: HEMOGLOBIN, dtype: int64\n",
      "\n",
      "TLC COUNT\n",
      "False    184\n",
      "True       6\n",
      "Name: TLC COUNT, dtype: int64\n",
      "\n",
      "PLATELET COUNT\n",
      "False    184\n",
      "True       6\n",
      "Name: PLATELET COUNT, dtype: int64\n",
      "\n",
      "RANDOM BLOOD SUGAR\n",
      "False    184\n",
      "True       6\n",
      "Name: RANDOM BLOOD SUGAR, dtype: int64\n",
      "\n",
      "UREA\n",
      "False    183\n",
      "True       7\n",
      "Name: UREA, dtype: int64\n",
      "\n",
      "CREATININE\n",
      "False    183\n",
      "True       7\n",
      "Name: CREATININE, dtype: int64\n",
      "\n",
      "SODIUM\n",
      "False    181\n",
      "True       9\n",
      "Name: SODIUM, dtype: int64\n",
      "\n",
      "POTASSIUM\n",
      "False    181\n",
      "True       9\n",
      "Name: POTASSIUM, dtype: int64\n",
      "\n",
      "CHLORIDE\n",
      "False    181\n",
      "True       9\n",
      "Name: CHLORIDE, dtype: int64\n",
      "\n",
      "TOTAL BILIRUBIN\n",
      "False    179\n",
      "True      11\n",
      "Name: TOTAL BILIRUBIN, dtype: int64\n",
      "\n",
      "DIRECT BILIRUBIN\n",
      "False    179\n",
      "True      11\n",
      "Name: DIRECT BILIRUBIN, dtype: int64\n",
      "\n",
      "SGOT\n",
      "False    179\n",
      "True      11\n",
      "Name: SGOT, dtype: int64\n",
      "\n",
      "SGPT\n",
      "False    179\n",
      "True      11\n",
      "Name: SGPT, dtype: int64\n",
      "\n",
      "TOTAL PROTEINS\n",
      "False    179\n",
      "True      11\n",
      "Name: TOTAL PROTEINS, dtype: int64\n",
      "\n",
      "ALBUMIN\n",
      "False    179\n",
      "True      11\n",
      "Name: ALBUMIN, dtype: int64\n",
      "\n",
      "ALKALINE PHOSPHATASE\n",
      "False    179\n",
      "True      11\n",
      "Name: ALKALINE PHOSPHATASE, dtype: int64\n",
      "\n",
      "LACTATE DEHYDROGENASE4\n",
      "False    100\n",
      "True      90\n",
      "Name: LACTATE DEHYDROGENASE4, dtype: int64\n",
      "\n",
      "C-REACTIVE PROTEINS\n",
      "False    179\n",
      "True      11\n",
      "Name: C-REACTIVE PROTEINS, dtype: int64\n",
      "\n",
      "ERYTHROCYTE SEDIMENTATION RATE\n",
      "True     99\n",
      "False    91\n",
      "Name: ERYTHROCYTE SEDIMENTATION RATE, dtype: int64\n",
      "\n",
      "PRO-CALCITONIN\n",
      "True     140\n",
      "False     50\n",
      "Name: PRO-CALCITONIN, dtype: int64\n",
      "\n",
      "D-DIMER\n",
      "False    114\n",
      "True      76\n",
      "Name: D-DIMER, dtype: int64\n",
      "\n",
      "IL-6\n",
      "True     144\n",
      "False     46\n",
      "Name: IL-6, dtype: int64\n",
      "\n",
      "SERUM FERRITIN\n",
      "True     126\n",
      "False     64\n",
      "Name: SERUM FERRITIN, dtype: int64\n",
      "\n",
      "ECG\n",
      "False    190\n",
      "Name: ECG, dtype: int64\n",
      "\n",
      "CXR\n",
      "False    142\n",
      "True      48\n",
      "Name: CXR, dtype: int64\n",
      "\n",
      "CORADS SCORE ON HRCT\n",
      "False    160\n",
      "True      30\n",
      "Name: CORADS SCORE ON HRCT, dtype: int64\n",
      "\n",
      "PATIENT CATEGORY\n",
      "False    184\n",
      "True       6\n",
      "Name: PATIENT CATEGORY, dtype: int64\n",
      "\n",
      "PLASMA THERAPY\n",
      "False    190\n",
      "Name: PLASMA THERAPY, dtype: int64\n",
      "\n"
     ]
    }
   ],
   "source": [
    "missing_data(df)"
   ]
  },
  {
   "cell_type": "markdown",
   "metadata": {},
   "source": [
    "Outcome is an important parameter for us to measure. We observe that outcome is heavily correlated to ventilatory support sequired, shown below."
   ]
  },
  {
   "cell_type": "code",
   "execution_count": 7,
   "metadata": {},
   "outputs": [
    {
     "data": {
      "text/html": [
       "<div>\n",
       "<style scoped>\n",
       "    .dataframe tbody tr th:only-of-type {\n",
       "        vertical-align: middle;\n",
       "    }\n",
       "\n",
       "    .dataframe tbody tr th {\n",
       "        vertical-align: top;\n",
       "    }\n",
       "\n",
       "    .dataframe thead tr th {\n",
       "        text-align: left;\n",
       "    }\n",
       "\n",
       "    .dataframe thead tr:last-of-type th {\n",
       "        text-align: right;\n",
       "    }\n",
       "</style>\n",
       "<table border=\"1\" class=\"dataframe\">\n",
       "  <thead>\n",
       "    <tr>\n",
       "      <th></th>\n",
       "      <th colspan=\"2\" halign=\"left\">size</th>\n",
       "    </tr>\n",
       "    <tr>\n",
       "      <th>Outcome</th>\n",
       "      <th>0.0</th>\n",
       "      <th>1.0</th>\n",
       "    </tr>\n",
       "    <tr>\n",
       "      <th>Ventilatory support required</th>\n",
       "      <th></th>\n",
       "      <th></th>\n",
       "    </tr>\n",
       "  </thead>\n",
       "  <tbody>\n",
       "    <tr>\n",
       "      <th>0.0</th>\n",
       "      <td>116.0</td>\n",
       "      <td>1.0</td>\n",
       "    </tr>\n",
       "    <tr>\n",
       "      <th>1.0</th>\n",
       "      <td>1.0</td>\n",
       "      <td>6.0</td>\n",
       "    </tr>\n",
       "    <tr>\n",
       "      <th>2.0</th>\n",
       "      <td>NaN</td>\n",
       "      <td>9.0</td>\n",
       "    </tr>\n",
       "  </tbody>\n",
       "</table>\n",
       "</div>"
      ],
      "text/plain": [
       "                               size     \n",
       "Outcome                         0.0  1.0\n",
       "Ventilatory support required            \n",
       "0.0                           116.0  1.0\n",
       "1.0                             1.0  6.0\n",
       "2.0                             NaN  9.0"
      ]
     },
     "execution_count": 7,
     "metadata": {},
     "output_type": "execute_result"
    }
   ],
   "source": [
    "df['Outcome'] = pd.to_numeric(df.Outcome, errors='coerce')\n",
    "c_vent = contingency(df,'Ventilatory support required')\n",
    "c_vent"
   ]
  },
  {
   "cell_type": "code",
   "execution_count": 8,
   "metadata": {},
   "outputs": [
    {
     "data": {
      "text/html": [
       "<div>\n",
       "<style scoped>\n",
       "    .dataframe tbody tr th:only-of-type {\n",
       "        vertical-align: middle;\n",
       "    }\n",
       "\n",
       "    .dataframe tbody tr th {\n",
       "        vertical-align: top;\n",
       "    }\n",
       "\n",
       "    .dataframe thead th {\n",
       "        text-align: right;\n",
       "    }\n",
       "</style>\n",
       "<table border=\"1\" class=\"dataframe\">\n",
       "  <thead>\n",
       "    <tr style=\"text-align: right;\">\n",
       "      <th></th>\n",
       "      <th>Outcome</th>\n",
       "      <th>Ventilatory support required</th>\n",
       "    </tr>\n",
       "  </thead>\n",
       "  <tbody>\n",
       "    <tr>\n",
       "      <th>Outcome</th>\n",
       "      <td>1.000000</td>\n",
       "      <td>0.904134</td>\n",
       "    </tr>\n",
       "    <tr>\n",
       "      <th>Ventilatory support required</th>\n",
       "      <td>0.904134</td>\n",
       "      <td>1.000000</td>\n",
       "    </tr>\n",
       "  </tbody>\n",
       "</table>\n",
       "</div>"
      ],
      "text/plain": [
       "                               Outcome  Ventilatory support required\n",
       "Outcome                       1.000000                      0.904134\n",
       "Ventilatory support required  0.904134                      1.000000"
      ]
     },
     "execution_count": 8,
     "metadata": {},
     "output_type": "execute_result"
    }
   ],
   "source": [
    "df[['Outcome','Ventilatory support required']].corr()"
   ]
  },
  {
   "cell_type": "markdown",
   "metadata": {},
   "source": [
    "According to the table above, it would be okay to replace the null values of Outcome as 0 if no ventilatory support was needed, and 1 if ventilatory support severity is 1 (Non-invasive ventilation) or 2 (Intubation)."
   ]
  },
  {
   "cell_type": "code",
   "execution_count": 9,
   "metadata": {},
   "outputs": [
    {
     "data": {
      "text/plain": [
       "0.0    158\n",
       "1.0     29\n",
       "Name: Outcome, dtype: int64"
      ]
     },
     "execution_count": 9,
     "metadata": {},
     "output_type": "execute_result"
    }
   ],
   "source": [
    "df['Outcome'].fillna(df['Ventilatory support required'], inplace=True)\n",
    "df['Outcome'].replace(2,1, inplace=True)\n",
    "df['Outcome'].value_counts()"
   ]
  },
  {
   "cell_type": "markdown",
   "metadata": {},
   "source": [
    "## Initial Factors and Vital Signs\n",
    "\n",
    "Let us take a close look at the initial signs of disease that set in. How much information can we gauge about the patient just when he/she is admitted? Or, can we know the risk level associated with the patient by doing some simple tests at home?"
   ]
  },
  {
   "cell_type": "markdown",
   "metadata": {},
   "source": [
    "### Features\n",
    "In this section, we will analyse the following features to gain some idea about how these initial factors and vital signs play a role in the disease onset and severity. We will use the Ventilatory Support to categorize the severity of the disease.\n",
    "\n",
    "Initial Factors\n",
    "- Age\n",
    "- Gender\n",
    "- BMI\n",
    "- Contact to N-Covid Person\n",
    "- Travel history\n",
    "\n",
    "Vital Signs\n",
    "- Temperature\n",
    "- SPO2\n",
    "- Respiratory Rate\n",
    "- Random Blood Sugar\n",
    "\n",
    "These values should be readily available for any patient, and can help in making important decisions regarding the severity of the disease. I believe we can predict if the patient will require ventilatory support or not, which is directly correlated to the outcome of the disease, as shown below."
   ]
  },
  {
   "cell_type": "markdown",
   "metadata": {},
   "source": [
    "### Dealing With Missing Values\n",
    "\n",
    "- BMI, Temperature, Random Blood Sugar: We will replace these values with the mean values.\n",
    "\n",
    "- Respiratory Rate and SPO2: Some are unavailable, we will drop these rows, since even their ventilatory support data is not available."
   ]
  },
  {
   "cell_type": "code",
   "execution_count": 10,
   "metadata": {},
   "outputs": [
    {
     "data": {
      "text/html": [
       "<div>\n",
       "<style scoped>\n",
       "    .dataframe tbody tr th:only-of-type {\n",
       "        vertical-align: middle;\n",
       "    }\n",
       "\n",
       "    .dataframe tbody tr th {\n",
       "        vertical-align: top;\n",
       "    }\n",
       "\n",
       "    .dataframe thead th {\n",
       "        text-align: right;\n",
       "    }\n",
       "</style>\n",
       "<table border=\"1\" class=\"dataframe\">\n",
       "  <thead>\n",
       "    <tr style=\"text-align: right;\">\n",
       "      <th></th>\n",
       "      <th>Patient ID</th>\n",
       "      <th>Age</th>\n",
       "      <th>Gender</th>\n",
       "      <th>BMI</th>\n",
       "      <th>Symptoms Present?</th>\n",
       "      <th>Fever</th>\n",
       "      <th>Cough</th>\n",
       "      <th>Breathlessness</th>\n",
       "      <th>Travel History</th>\n",
       "      <th>Temp</th>\n",
       "      <th>...</th>\n",
       "      <th>POTASSIUM</th>\n",
       "      <th>CHLORIDE</th>\n",
       "      <th>TOTAL BILIRUBIN</th>\n",
       "      <th>DIRECT BILIRUBIN</th>\n",
       "      <th>SGOT</th>\n",
       "      <th>SGPT</th>\n",
       "      <th>TOTAL PROTEINS</th>\n",
       "      <th>ALBUMIN</th>\n",
       "      <th>ALKALINE PHOSPHATASE</th>\n",
       "      <th>C-REACTIVE PROTEINS</th>\n",
       "    </tr>\n",
       "  </thead>\n",
       "  <tbody>\n",
       "    <tr>\n",
       "      <th>0</th>\n",
       "      <td>IGIB1040201013</td>\n",
       "      <td>53</td>\n",
       "      <td>1</td>\n",
       "      <td>22.5</td>\n",
       "      <td>1</td>\n",
       "      <td>1</td>\n",
       "      <td>1</td>\n",
       "      <td>1</td>\n",
       "      <td>0</td>\n",
       "      <td>96.8</td>\n",
       "      <td>...</td>\n",
       "      <td>4.8</td>\n",
       "      <td>108.0</td>\n",
       "      <td>0.5</td>\n",
       "      <td>0.2</td>\n",
       "      <td>81.3</td>\n",
       "      <td>70.0</td>\n",
       "      <td>5.9</td>\n",
       "      <td>3.8</td>\n",
       "      <td>44.1</td>\n",
       "      <td>58.10</td>\n",
       "    </tr>\n",
       "    <tr>\n",
       "      <th>1</th>\n",
       "      <td>IGIB1040201014</td>\n",
       "      <td>26</td>\n",
       "      <td>0</td>\n",
       "      <td>25.7</td>\n",
       "      <td>0</td>\n",
       "      <td>0</td>\n",
       "      <td>0</td>\n",
       "      <td>0</td>\n",
       "      <td>0</td>\n",
       "      <td>98.7</td>\n",
       "      <td>...</td>\n",
       "      <td>4.1</td>\n",
       "      <td>108.0</td>\n",
       "      <td>0.3</td>\n",
       "      <td>0.1</td>\n",
       "      <td>22.2</td>\n",
       "      <td>14.8</td>\n",
       "      <td>6.6</td>\n",
       "      <td>3.9</td>\n",
       "      <td>58.5</td>\n",
       "      <td>3.66</td>\n",
       "    </tr>\n",
       "    <tr>\n",
       "      <th>2</th>\n",
       "      <td>IGIB1040201015</td>\n",
       "      <td>28</td>\n",
       "      <td>1</td>\n",
       "      <td>22.2</td>\n",
       "      <td>0</td>\n",
       "      <td>0</td>\n",
       "      <td>0</td>\n",
       "      <td>0</td>\n",
       "      <td>0</td>\n",
       "      <td>98.4</td>\n",
       "      <td>...</td>\n",
       "      <td>18.1</td>\n",
       "      <td>1.1</td>\n",
       "      <td>0.8</td>\n",
       "      <td>0.3</td>\n",
       "      <td>19.3</td>\n",
       "      <td>12.8</td>\n",
       "      <td>7.0</td>\n",
       "      <td>4.2</td>\n",
       "      <td>86.0</td>\n",
       "      <td>10.17</td>\n",
       "    </tr>\n",
       "    <tr>\n",
       "      <th>3</th>\n",
       "      <td>IGIB1040201016</td>\n",
       "      <td>73</td>\n",
       "      <td>1</td>\n",
       "      <td>21.5</td>\n",
       "      <td>1</td>\n",
       "      <td>1</td>\n",
       "      <td>1</td>\n",
       "      <td>1</td>\n",
       "      <td>0</td>\n",
       "      <td>98.0</td>\n",
       "      <td>...</td>\n",
       "      <td>4.2</td>\n",
       "      <td>104.0</td>\n",
       "      <td>2.4</td>\n",
       "      <td>1.2</td>\n",
       "      <td>59.0</td>\n",
       "      <td>47.9</td>\n",
       "      <td>6.3</td>\n",
       "      <td>3.7</td>\n",
       "      <td>120.0</td>\n",
       "      <td>168.90</td>\n",
       "    </tr>\n",
       "    <tr>\n",
       "      <th>4</th>\n",
       "      <td>IGIB1040201060</td>\n",
       "      <td>49</td>\n",
       "      <td>1</td>\n",
       "      <td>27.4</td>\n",
       "      <td>1</td>\n",
       "      <td>1</td>\n",
       "      <td>1</td>\n",
       "      <td>0</td>\n",
       "      <td>0</td>\n",
       "      <td>101.0</td>\n",
       "      <td>...</td>\n",
       "      <td>3.8</td>\n",
       "      <td>92.0</td>\n",
       "      <td>4.2</td>\n",
       "      <td>2.1</td>\n",
       "      <td>44.6</td>\n",
       "      <td>55.5</td>\n",
       "      <td>5.9</td>\n",
       "      <td>3.1</td>\n",
       "      <td>177.0</td>\n",
       "      <td>164.00</td>\n",
       "    </tr>\n",
       "    <tr>\n",
       "      <th>...</th>\n",
       "      <td>...</td>\n",
       "      <td>...</td>\n",
       "      <td>...</td>\n",
       "      <td>...</td>\n",
       "      <td>...</td>\n",
       "      <td>...</td>\n",
       "      <td>...</td>\n",
       "      <td>...</td>\n",
       "      <td>...</td>\n",
       "      <td>...</td>\n",
       "      <td>...</td>\n",
       "      <td>...</td>\n",
       "      <td>...</td>\n",
       "      <td>...</td>\n",
       "      <td>...</td>\n",
       "      <td>...</td>\n",
       "      <td>...</td>\n",
       "      <td>...</td>\n",
       "      <td>...</td>\n",
       "      <td>...</td>\n",
       "      <td>...</td>\n",
       "    </tr>\n",
       "    <tr>\n",
       "      <th>185</th>\n",
       "      <td>IGIB104020950</td>\n",
       "      <td>53</td>\n",
       "      <td>1</td>\n",
       "      <td>27.2</td>\n",
       "      <td>1</td>\n",
       "      <td>1</td>\n",
       "      <td>1</td>\n",
       "      <td>1</td>\n",
       "      <td>0</td>\n",
       "      <td>98.9</td>\n",
       "      <td>...</td>\n",
       "      <td>2.9</td>\n",
       "      <td>97.0</td>\n",
       "      <td>1.4</td>\n",
       "      <td>0.5</td>\n",
       "      <td>43.8</td>\n",
       "      <td>38.8</td>\n",
       "      <td>6.2</td>\n",
       "      <td>3.7</td>\n",
       "      <td>73.3</td>\n",
       "      <td>127.60</td>\n",
       "    </tr>\n",
       "    <tr>\n",
       "      <th>186</th>\n",
       "      <td>IGIB104020965</td>\n",
       "      <td>33</td>\n",
       "      <td>1</td>\n",
       "      <td>26.0</td>\n",
       "      <td>1</td>\n",
       "      <td>1</td>\n",
       "      <td>1</td>\n",
       "      <td>1</td>\n",
       "      <td>0</td>\n",
       "      <td>99.3</td>\n",
       "      <td>...</td>\n",
       "      <td>4.2</td>\n",
       "      <td>106.0</td>\n",
       "      <td>0.5</td>\n",
       "      <td>0.2</td>\n",
       "      <td>80.6</td>\n",
       "      <td>42.6</td>\n",
       "      <td>6.6</td>\n",
       "      <td>3.8</td>\n",
       "      <td>57.4</td>\n",
       "      <td>138.15</td>\n",
       "    </tr>\n",
       "    <tr>\n",
       "      <th>187</th>\n",
       "      <td>IGIB1040209667</td>\n",
       "      <td>70</td>\n",
       "      <td>1</td>\n",
       "      <td>21.4</td>\n",
       "      <td>1</td>\n",
       "      <td>1</td>\n",
       "      <td>0</td>\n",
       "      <td>1</td>\n",
       "      <td>0</td>\n",
       "      <td>98.3</td>\n",
       "      <td>...</td>\n",
       "      <td>4.2</td>\n",
       "      <td>106.0</td>\n",
       "      <td>1.8</td>\n",
       "      <td>0.6</td>\n",
       "      <td>77.0</td>\n",
       "      <td>27.9</td>\n",
       "      <td>5.9</td>\n",
       "      <td>3.3</td>\n",
       "      <td>60.1</td>\n",
       "      <td>143.00</td>\n",
       "    </tr>\n",
       "    <tr>\n",
       "      <th>188</th>\n",
       "      <td>IGIB1040209759</td>\n",
       "      <td>65</td>\n",
       "      <td>0</td>\n",
       "      <td>22.4</td>\n",
       "      <td>1</td>\n",
       "      <td>0</td>\n",
       "      <td>1</td>\n",
       "      <td>1</td>\n",
       "      <td>0</td>\n",
       "      <td>98.9</td>\n",
       "      <td>...</td>\n",
       "      <td>3.8</td>\n",
       "      <td>110.0</td>\n",
       "      <td>1.2</td>\n",
       "      <td>0.6</td>\n",
       "      <td>56.2</td>\n",
       "      <td>43.2</td>\n",
       "      <td>5.6</td>\n",
       "      <td>3.4</td>\n",
       "      <td>216.0</td>\n",
       "      <td>124.00</td>\n",
       "    </tr>\n",
       "    <tr>\n",
       "      <th>189</th>\n",
       "      <td>IGIB1040209766</td>\n",
       "      <td>75</td>\n",
       "      <td>1</td>\n",
       "      <td>26.2</td>\n",
       "      <td>1</td>\n",
       "      <td>1</td>\n",
       "      <td>0</td>\n",
       "      <td>1</td>\n",
       "      <td>0</td>\n",
       "      <td>99.0</td>\n",
       "      <td>...</td>\n",
       "      <td>6.7</td>\n",
       "      <td>93.0</td>\n",
       "      <td>0.6</td>\n",
       "      <td>0.3</td>\n",
       "      <td>474.2</td>\n",
       "      <td>157.9</td>\n",
       "      <td>6.6</td>\n",
       "      <td>3.3</td>\n",
       "      <td>320.9</td>\n",
       "      <td>163.15</td>\n",
       "    </tr>\n",
       "  </tbody>\n",
       "</table>\n",
       "<p>175 rows × 36 columns</p>\n",
       "</div>"
      ],
      "text/plain": [
       "         Patient ID  Age  Gender   BMI  Symptoms Present?  Fever  Cough  \\\n",
       "0    IGIB1040201013   53       1  22.5                  1      1      1   \n",
       "1    IGIB1040201014   26       0  25.7                  0      0      0   \n",
       "2    IGIB1040201015   28       1  22.2                  0      0      0   \n",
       "3    IGIB1040201016   73       1  21.5                  1      1      1   \n",
       "4    IGIB1040201060   49       1  27.4                  1      1      1   \n",
       "..              ...  ...     ...   ...                ...    ...    ...   \n",
       "185   IGIB104020950   53       1  27.2                  1      1      1   \n",
       "186   IGIB104020965   33       1  26.0                  1      1      1   \n",
       "187  IGIB1040209667   70       1  21.4                  1      1      0   \n",
       "188  IGIB1040209759   65       0  22.4                  1      0      1   \n",
       "189  IGIB1040209766   75       1  26.2                  1      1      0   \n",
       "\n",
       "     Breathlessness  Travel History   Temp  ...  POTASSIUM  CHLORIDE  \\\n",
       "0                 1               0   96.8  ...        4.8     108.0   \n",
       "1                 0               0   98.7  ...        4.1     108.0   \n",
       "2                 0               0   98.4  ...       18.1       1.1   \n",
       "3                 1               0   98.0  ...        4.2     104.0   \n",
       "4                 0               0  101.0  ...        3.8      92.0   \n",
       "..              ...             ...    ...  ...        ...       ...   \n",
       "185               1               0   98.9  ...        2.9      97.0   \n",
       "186               1               0   99.3  ...        4.2     106.0   \n",
       "187               1               0   98.3  ...        4.2     106.0   \n",
       "188               1               0   98.9  ...        3.8     110.0   \n",
       "189               1               0   99.0  ...        6.7      93.0   \n",
       "\n",
       "     TOTAL BILIRUBIN  DIRECT BILIRUBIN   SGOT   SGPT  TOTAL PROTEINS  ALBUMIN  \\\n",
       "0                0.5               0.2   81.3   70.0             5.9      3.8   \n",
       "1                0.3               0.1   22.2   14.8             6.6      3.9   \n",
       "2                0.8               0.3   19.3   12.8             7.0      4.2   \n",
       "3                2.4               1.2   59.0   47.9             6.3      3.7   \n",
       "4                4.2               2.1   44.6   55.5             5.9      3.1   \n",
       "..               ...               ...    ...    ...             ...      ...   \n",
       "185              1.4               0.5   43.8   38.8             6.2      3.7   \n",
       "186              0.5               0.2   80.6   42.6             6.6      3.8   \n",
       "187              1.8               0.6   77.0   27.9             5.9      3.3   \n",
       "188              1.2               0.6   56.2   43.2             5.6      3.4   \n",
       "189              0.6               0.3  474.2  157.9             6.6      3.3   \n",
       "\n",
       "     ALKALINE PHOSPHATASE  C-REACTIVE PROTEINS  \n",
       "0                    44.1                58.10  \n",
       "1                    58.5                 3.66  \n",
       "2                    86.0                10.17  \n",
       "3                   120.0               168.90  \n",
       "4                   177.0               164.00  \n",
       "..                    ...                  ...  \n",
       "185                  73.3               127.60  \n",
       "186                  57.4               138.15  \n",
       "187                  60.1               143.00  \n",
       "188                 216.0               124.00  \n",
       "189                 320.9               163.15  \n",
       "\n",
       "[175 rows x 36 columns]"
      ]
     },
     "execution_count": 10,
     "metadata": {},
     "output_type": "execute_result"
    }
   ],
   "source": [
    "\n",
    "\n",
    "#dropping unnecessary columns\n",
    "df.drop(inplace=True,columns=['Respiratory Support','Ventilatory support required','LACTATE DEHYDROGENASE4','O2 supplementation required','Sample No.','Study ID','Medicine Administered','Symptoms Presented','Co-morbid Condition','Hospital stay in days','RESPIRATORY FINDINGS','ERYTHROCYTE SEDIMENTATION RATE','PRO-CALCITONIN','D-DIMER','IL-6','SERUM FERRITIN','ECG','CXR','CORADS SCORE ON HRCT','PATIENT CATEGORY','PLASMA THERAPY'])\n",
    "\n",
    "#dropping NA values\n",
    "df.dropna(subset=['Temp','BMI','HEMOGLOBIN','TLC COUNT','PLATELET COUNT','RANDOM BLOOD SUGAR','UREA','CREATININE','SODIUM','POTASSIUM','CHLORIDE','TOTAL BILIRUBIN','DIRECT BILIRUBIN','SGOT','SGPT','TOTAL PROTEINS','ALBUMIN','ALKALINE PHOSPHATASE','C-REACTIVE PROTEINS'],axis=0,inplace=True)\n",
    "df.to_csv(\"unnormalized.csv\")\n",
    "df"
   ]
  },
  {
   "cell_type": "code",
   "execution_count": null,
   "metadata": {},
   "outputs": [],
   "source": []
  },
  {
   "cell_type": "code",
   "execution_count": 11,
   "metadata": {},
   "outputs": [
    {
     "name": "stdout",
     "output_type": "stream",
     "text": [
      "Patient ID\n",
      "False    175\n",
      "Name: Patient ID, dtype: int64\n",
      "\n",
      "Age\n",
      "False    175\n",
      "Name: Age, dtype: int64\n",
      "\n",
      "Gender\n",
      "False    175\n",
      "Name: Gender, dtype: int64\n",
      "\n",
      "BMI\n",
      "False    175\n",
      "Name: BMI, dtype: int64\n",
      "\n",
      "Symptoms Present?\n",
      "False    175\n",
      "Name: Symptoms Present?, dtype: int64\n",
      "\n",
      "Fever\n",
      "False    175\n",
      "Name: Fever, dtype: int64\n",
      "\n",
      "Cough\n",
      "False    175\n",
      "Name: Cough, dtype: int64\n",
      "\n",
      "Breathlessness\n",
      "False    175\n",
      "Name: Breathlessness, dtype: int64\n",
      "\n",
      "Travel History\n",
      "False    175\n",
      "Name: Travel History, dtype: int64\n",
      "\n",
      "Temp\n",
      "False    175\n",
      "Name: Temp, dtype: int64\n",
      "\n",
      "SPO2\n",
      "False    175\n",
      "Name: SPO2, dtype: int64\n",
      "\n",
      "Contact to NCOVID Patient\n",
      "False    175\n",
      "Name: Contact to NCOVID Patient, dtype: int64\n",
      "\n",
      "Co-morbidity?\n",
      "False    175\n",
      "Name: Co-morbidity?, dtype: int64\n",
      "\n",
      "Diabetes\n",
      "False    175\n",
      "Name: Diabetes, dtype: int64\n",
      "\n",
      "Hypertension\n",
      "False    175\n",
      "Name: Hypertension, dtype: int64\n",
      "\n",
      "Heart Condition\n",
      "False    175\n",
      "Name: Heart Condition, dtype: int64\n",
      "\n",
      "Respiratory rate(breaths per minute)\n",
      "False    175\n",
      "Name: Respiratory rate(breaths per minute), dtype: int64\n",
      "\n",
      "Outcome\n",
      "False    175\n",
      "Name: Outcome, dtype: int64\n",
      "\n",
      "qSOFA SCORE\n",
      "False    175\n",
      "Name: qSOFA SCORE, dtype: int64\n",
      "\n",
      "HEMOGLOBIN\n",
      "False    175\n",
      "Name: HEMOGLOBIN, dtype: int64\n",
      "\n",
      "TLC COUNT\n",
      "False    175\n",
      "Name: TLC COUNT, dtype: int64\n",
      "\n",
      "PLATELET COUNT\n",
      "False    175\n",
      "Name: PLATELET COUNT, dtype: int64\n",
      "\n",
      "RANDOM BLOOD SUGAR\n",
      "False    175\n",
      "Name: RANDOM BLOOD SUGAR, dtype: int64\n",
      "\n",
      "UREA\n",
      "False    175\n",
      "Name: UREA, dtype: int64\n",
      "\n",
      "CREATININE\n",
      "False    175\n",
      "Name: CREATININE, dtype: int64\n",
      "\n",
      "SODIUM\n",
      "False    175\n",
      "Name: SODIUM, dtype: int64\n",
      "\n",
      "POTASSIUM\n",
      "False    175\n",
      "Name: POTASSIUM, dtype: int64\n",
      "\n",
      "CHLORIDE\n",
      "False    175\n",
      "Name: CHLORIDE, dtype: int64\n",
      "\n",
      "TOTAL BILIRUBIN\n",
      "False    175\n",
      "Name: TOTAL BILIRUBIN, dtype: int64\n",
      "\n",
      "DIRECT BILIRUBIN\n",
      "False    175\n",
      "Name: DIRECT BILIRUBIN, dtype: int64\n",
      "\n",
      "SGOT\n",
      "False    175\n",
      "Name: SGOT, dtype: int64\n",
      "\n",
      "SGPT\n",
      "False    175\n",
      "Name: SGPT, dtype: int64\n",
      "\n",
      "TOTAL PROTEINS\n",
      "False    175\n",
      "Name: TOTAL PROTEINS, dtype: int64\n",
      "\n",
      "ALBUMIN\n",
      "False    175\n",
      "Name: ALBUMIN, dtype: int64\n",
      "\n",
      "ALKALINE PHOSPHATASE\n",
      "False    175\n",
      "Name: ALKALINE PHOSPHATASE, dtype: int64\n",
      "\n",
      "C-REACTIVE PROTEINS\n",
      "False    175\n",
      "Name: C-REACTIVE PROTEINS, dtype: int64\n",
      "\n"
     ]
    }
   ],
   "source": [
    "missing_data(df)"
   ]
  },
  {
   "cell_type": "markdown",
   "metadata": {},
   "source": [
    "### Normalizing Data\n",
    "\n",
    "\n",
    "<p>Normalization is the process of transforming values of several variables into a similar range. Typical normalizations include scaling the variable so the variable average is 0, scaling the variable so the variance is 1, or scaling the variable so the variable values range from 0 to 1. Here we will use min-max normalization for the BMI and temperature data."
   ]
  },
  {
   "cell_type": "code",
   "execution_count": null,
   "metadata": {},
   "outputs": [],
   "source": []
  },
  {
   "cell_type": "markdown",
   "metadata": {},
   "source": [
    "### Examining different features"
   ]
  },
  {
   "cell_type": "markdown",
   "metadata": {},
   "source": [
    "#### Age"
   ]
  },
  {
   "cell_type": "code",
   "execution_count": 12,
   "metadata": {},
   "outputs": [
    {
     "data": {
      "text/plain": [
       "<AxesSubplot:xlabel='Outcome', ylabel='Age'>"
      ]
     },
     "execution_count": 12,
     "metadata": {},
     "output_type": "execute_result"
    },
    {
     "data": {
      "image/png": "[encoded data removed]",
      "text/plain": [
       "<Figure size 432x288 with 1 Axes>"
      ]
     },
     "metadata": {
      "needs_background": "light"
     },
     "output_type": "display_data"
    }
   ],
   "source": [
    "sns.boxplot(x=\"Outcome\", y=\"Age\", data=df)"
   ]
  },
  {
   "cell_type": "code",
   "execution_count": 13,
   "metadata": {},
   "outputs": [
    {
     "data": {
      "text/plain": [
       "PointbiserialrResult(correlation=0.39833615210065176, pvalue=4.7781606808729274e-08)"
      ]
     },
     "execution_count": 13,
     "metadata": {},
     "output_type": "execute_result"
    }
   ],
   "source": [
    "scipy.stats.pointbiserialr(df['Outcome'],df['Age'])"
   ]
  },
  {
   "cell_type": "markdown",
   "metadata": {},
   "source": [
    "From the box plot, we can see that fatal outcome is more prominent in people aged over 60. Let us look at this in more detail by dividing people into 2 age groups, above and below 60."
   ]
  },
  {
   "cell_type": "code",
   "execution_count": 14,
   "metadata": {},
   "outputs": [
    {
     "name": "stderr",
     "output_type": "stream",
     "text": [
      "/home/shikha/snap/jupyter/common/lib/python3.7/site-packages/seaborn/_decorators.py:43: FutureWarning: Pass the following variable as a keyword arg: x. From version 0.12, the only valid positional argument will be `data`, and passing other arguments without an explicit keyword will result in an error or misinterpretation.\n",
      "  FutureWarning\n"
     ]
    },
    {
     "data": {
      "image/png": "[encoded data removed]",
      "text/plain": [
       "<Figure size 432x288 with 1 Axes>"
      ]
     },
     "metadata": {
      "needs_background": "light"
     },
     "output_type": "display_data"
    }
   ],
   "source": [
    "age_groups = [0,59,100]\n",
    "group_names = [0,1]\n",
    "df = plot_count('Age Above 60?','Age',age_groups,group_names)"
   ]
  },
  {
   "cell_type": "code",
   "execution_count": 15,
   "metadata": {},
   "outputs": [
    {
     "data": {
      "text/html": [
       "<div>\n",
       "<style scoped>\n",
       "    .dataframe tbody tr th:only-of-type {\n",
       "        vertical-align: middle;\n",
       "    }\n",
       "\n",
       "    .dataframe tbody tr th {\n",
       "        vertical-align: top;\n",
       "    }\n",
       "\n",
       "    .dataframe thead tr th {\n",
       "        text-align: left;\n",
       "    }\n",
       "\n",
       "    .dataframe thead tr:last-of-type th {\n",
       "        text-align: right;\n",
       "    }\n",
       "</style>\n",
       "<table border=\"1\" class=\"dataframe\">\n",
       "  <thead>\n",
       "    <tr>\n",
       "      <th></th>\n",
       "      <th colspan=\"2\" halign=\"left\">size</th>\n",
       "    </tr>\n",
       "    <tr>\n",
       "      <th>Outcome</th>\n",
       "      <th>0.0</th>\n",
       "      <th>1.0</th>\n",
       "    </tr>\n",
       "    <tr>\n",
       "      <th>Age Above 60?</th>\n",
       "      <th></th>\n",
       "      <th></th>\n",
       "    </tr>\n",
       "  </thead>\n",
       "  <tbody>\n",
       "    <tr>\n",
       "      <th>0</th>\n",
       "      <td>122</td>\n",
       "      <td>8</td>\n",
       "    </tr>\n",
       "    <tr>\n",
       "      <th>1</th>\n",
       "      <td>29</td>\n",
       "      <td>16</td>\n",
       "    </tr>\n",
       "  </tbody>\n",
       "</table>\n",
       "</div>"
      ],
      "text/plain": [
       "              size    \n",
       "Outcome        0.0 1.0\n",
       "Age Above 60?         \n",
       "0              122   8\n",
       "1               29  16"
      ]
     },
     "execution_count": 15,
     "metadata": {},
     "output_type": "execute_result"
    }
   ],
   "source": [
    "age = df[['Age Above 60?','Outcome']]\n",
    "c_age = contingency(age,'Age Above 60?')\n",
    "c_age"
   ]
  },
  {
   "cell_type": "markdown",
   "metadata": {},
   "source": [
    "##### Chi-Squared Test on Age Groups"
   ]
  },
  {
   "cell_type": "code",
   "execution_count": 16,
   "metadata": {},
   "outputs": [
    {
     "data": {
      "text/plain": [
       "(24.4202939567178, 7.744853566276959e-07)"
      ]
     },
     "execution_count": 16,
     "metadata": {},
     "output_type": "execute_result"
    }
   ],
   "source": [
    "chi2, p, dof, ex = scipy.stats.chi2_contingency(np.array(c_age), correction=False)\n",
    "chi2, p"
   ]
  },
  {
   "cell_type": "markdown",
   "metadata": {},
   "source": [
    "p value <<< 0.5 thus there is a strong correlation between the outcome of the patient and if he/she is above 60 or not. "
   ]
  },
  {
   "cell_type": "markdown",
   "metadata": {},
   "source": [
    "#### Gender"
   ]
  },
  {
   "cell_type": "code",
   "execution_count": 17,
   "metadata": {},
   "outputs": [
    {
     "name": "stderr",
     "output_type": "stream",
     "text": [
      "/home/shikha/snap/jupyter/common/lib/python3.7/site-packages/seaborn/_decorators.py:43: FutureWarning: Pass the following variable as a keyword arg: x. From version 0.12, the only valid positional argument will be `data`, and passing other arguments without an explicit keyword will result in an error or misinterpretation.\n",
      "  FutureWarning\n"
     ]
    },
    {
     "data": {
      "text/plain": [
       "<AxesSubplot:xlabel='Gender', ylabel='count'>"
      ]
     },
     "execution_count": 17,
     "metadata": {},
     "output_type": "execute_result"
    },
    {
     "data": {
      "image/png": "[encoded data removed]",
      "text/plain": [
       "<Figure size 432x288 with 1 Axes>"
      ]
     },
     "metadata": {
      "needs_background": "light"
     },
     "output_type": "display_data"
    }
   ],
   "source": [
    "sns.countplot(df['Gender'])"
   ]
  },
  {
   "cell_type": "code",
   "execution_count": 18,
   "metadata": {},
   "outputs": [
    {
     "data": {
      "text/html": [
       "<div>\n",
       "<style scoped>\n",
       "    .dataframe tbody tr th:only-of-type {\n",
       "        vertical-align: middle;\n",
       "    }\n",
       "\n",
       "    .dataframe tbody tr th {\n",
       "        vertical-align: top;\n",
       "    }\n",
       "\n",
       "    .dataframe thead tr th {\n",
       "        text-align: left;\n",
       "    }\n",
       "\n",
       "    .dataframe thead tr:last-of-type th {\n",
       "        text-align: right;\n",
       "    }\n",
       "</style>\n",
       "<table border=\"1\" class=\"dataframe\">\n",
       "  <thead>\n",
       "    <tr>\n",
       "      <th></th>\n",
       "      <th colspan=\"2\" halign=\"left\">size</th>\n",
       "    </tr>\n",
       "    <tr>\n",
       "      <th>Outcome</th>\n",
       "      <th>0.0</th>\n",
       "      <th>1.0</th>\n",
       "    </tr>\n",
       "    <tr>\n",
       "      <th>Gender</th>\n",
       "      <th></th>\n",
       "      <th></th>\n",
       "    </tr>\n",
       "  </thead>\n",
       "  <tbody>\n",
       "    <tr>\n",
       "      <th>0</th>\n",
       "      <td>62</td>\n",
       "      <td>6</td>\n",
       "    </tr>\n",
       "    <tr>\n",
       "      <th>1</th>\n",
       "      <td>89</td>\n",
       "      <td>18</td>\n",
       "    </tr>\n",
       "  </tbody>\n",
       "</table>\n",
       "</div>"
      ],
      "text/plain": [
       "        size    \n",
       "Outcome  0.0 1.0\n",
       "Gender          \n",
       "0         62   6\n",
       "1         89  18"
      ]
     },
     "execution_count": 18,
     "metadata": {},
     "output_type": "execute_result"
    }
   ],
   "source": [
    "df_gender = df[['Gender','Outcome']]\n",
    "c_gender = contingency(df_gender,'Gender')\n",
    "c_gender"
   ]
  },
  {
   "cell_type": "markdown",
   "metadata": {},
   "source": [
    "##### Fisher's exact test for gender dependency on the outcome"
   ]
  },
  {
   "cell_type": "code",
   "execution_count": 19,
   "metadata": {},
   "outputs": [
    {
     "data": {
      "text/plain": [
       "0.17696470292467287"
      ]
     },
     "execution_count": 19,
     "metadata": {},
     "output_type": "execute_result"
    }
   ],
   "source": [
    "oddsratio, pvalue = scipy.stats.fisher_exact(np.array(c_gender))\n",
    "pvalue"
   ]
  },
  {
   "cell_type": "markdown",
   "metadata": {},
   "source": [
    "Since the p-value < 5%, we can conclude that there is some dependency of gender on the final outcome."
   ]
  },
  {
   "cell_type": "markdown",
   "metadata": {},
   "source": [
    "#### Outcome probability based on age group + gender"
   ]
  },
  {
   "cell_type": "code",
   "execution_count": 20,
   "metadata": {},
   "outputs": [
    {
     "data": {
      "text/html": [
       "<div>\n",
       "<style scoped>\n",
       "    .dataframe tbody tr th:only-of-type {\n",
       "        vertical-align: middle;\n",
       "    }\n",
       "\n",
       "    .dataframe tbody tr th {\n",
       "        vertical-align: top;\n",
       "    }\n",
       "\n",
       "    .dataframe thead tr th {\n",
       "        text-align: left;\n",
       "    }\n",
       "\n",
       "    .dataframe thead tr:last-of-type th {\n",
       "        text-align: right;\n",
       "    }\n",
       "</style>\n",
       "<table border=\"1\" class=\"dataframe\">\n",
       "  <thead>\n",
       "    <tr>\n",
       "      <th></th>\n",
       "      <th colspan=\"2\" halign=\"left\">size</th>\n",
       "    </tr>\n",
       "    <tr>\n",
       "      <th>Age Above 60?</th>\n",
       "      <th>0</th>\n",
       "      <th>1</th>\n",
       "    </tr>\n",
       "    <tr>\n",
       "      <th>Gender</th>\n",
       "      <th></th>\n",
       "      <th></th>\n",
       "    </tr>\n",
       "  </thead>\n",
       "  <tbody>\n",
       "    <tr>\n",
       "      <th>0</th>\n",
       "      <td>1</td>\n",
       "      <td>5</td>\n",
       "    </tr>\n",
       "    <tr>\n",
       "      <th>1</th>\n",
       "      <td>7</td>\n",
       "      <td>11</td>\n",
       "    </tr>\n",
       "  </tbody>\n",
       "</table>\n",
       "</div>"
      ],
      "text/plain": [
       "              size    \n",
       "Age Above 60?    0   1\n",
       "Gender                \n",
       "0                1   5\n",
       "1                7  11"
      ]
     },
     "execution_count": 20,
     "metadata": {},
     "output_type": "execute_result"
    }
   ],
   "source": [
    "age_gender = df[['Age Above 60?','Gender','Outcome']]\n",
    "basics = age_gender.query(\"Outcome == 1\").groupby(['Age Above 60?','Gender'],as_index=False).size()\n",
    "basics_pivot = basics.pivot(index='Gender',columns='Age Above 60?')\n",
    "basics_pivot"
   ]
  },
  {
   "cell_type": "code",
   "execution_count": 21,
   "metadata": {},
   "outputs": [
    {
     "data": {
      "image/png": "[encoded data removed]",
      "text/plain": [
       "<Figure size 432x288 with 2 Axes>"
      ]
     },
     "metadata": {
      "needs_background": "light"
     },
     "output_type": "display_data"
    }
   ],
   "source": [
    "%matplotlib inline\n",
    "plt.figure\n",
    "fig, ax = plt.subplots()\n",
    "im = ax.pcolor(basics_pivot, cmap='Reds')\n",
    "\n",
    "#label names\n",
    "row_labels = ['Below 60','Above 60']\n",
    "col_labels = ['Female','Male']\n",
    "\n",
    "#move ticks and labels to the center\n",
    "ax.set_xticks(np.arange(basics_pivot.shape[1]) + 0.5, minor=False)\n",
    "ax.set_yticks(np.arange(basics_pivot.shape[0]) + 0.5, minor=False)\n",
    "\n",
    "#insert labels\n",
    "ax.set_xticklabels(row_labels, minor=False)\n",
    "ax.set_yticklabels(col_labels, minor=False)\n",
    "\n",
    "#rotate label if too long\n",
    "plt.xticks(rotation=90)\n",
    "\n",
    "fig.colorbar(im)\n",
    "\n",
    "plt.savefig('agegender.png')\n",
    "plt.show()"
   ]
  },
  {
   "cell_type": "markdown",
   "metadata": {},
   "source": [
    "From the analysis above, we can see clearly that covid-affected males above the age of 60 are at the highest risk of mortality from the disease."
   ]
  },
  {
   "cell_type": "markdown",
   "metadata": {},
   "source": [
    "#### BMI"
   ]
  },
  {
   "cell_type": "code",
   "execution_count": 22,
   "metadata": {},
   "outputs": [
    {
     "data": {
      "text/plain": [
       "<AxesSubplot:xlabel='Outcome', ylabel='BMI'>"
      ]
     },
     "execution_count": 22,
     "metadata": {},
     "output_type": "execute_result"
    },
    {
     "data": {
      "image/png": "[encoded data removed]",
      "text/plain": [
       "<Figure size 432x288 with 1 Axes>"
      ]
     },
     "metadata": {
      "needs_background": "light"
     },
     "output_type": "display_data"
    }
   ],
   "source": [
    "sns.boxplot(x=\"Outcome\", y=\"BMI\", data=df)"
   ]
  },
  {
   "cell_type": "markdown",
   "metadata": {},
   "source": [
    "It doesn't look like we can get much information with BMI data for the patient, since it is quite evenly distributed. Thus, we will not use this as one of our features."
   ]
  },
  {
   "cell_type": "code",
   "execution_count": 23,
   "metadata": {},
   "outputs": [
    {
     "data": {
      "text/plain": [
       "PointbiserialrResult(correlation=-0.07374797856613517, pvalue=0.3320843629129756)"
      ]
     },
     "execution_count": 23,
     "metadata": {},
     "output_type": "execute_result"
    }
   ],
   "source": [
    "scipy.stats.pointbiserialr(df['Outcome'],df['BMI'])"
   ]
  },
  {
   "cell_type": "markdown",
   "metadata": {},
   "source": [
    "#### Temperature"
   ]
  },
  {
   "cell_type": "code",
   "execution_count": 24,
   "metadata": {},
   "outputs": [
    {
     "data": {
      "text/plain": [
       "<AxesSubplot:xlabel='Outcome', ylabel='Temp'>"
      ]
     },
     "execution_count": 24,
     "metadata": {},
     "output_type": "execute_result"
    },
    {
     "data": {
      "image/png": "[encoded data removed]",
      "text/plain": [
       "<Figure size 432x288 with 1 Axes>"
      ]
     },
     "metadata": {
      "needs_background": "light"
     },
     "output_type": "display_data"
    }
   ],
   "source": [
    "sns.boxplot(x=\"Outcome\", y=\"Temp\", data=df)"
   ]
  },
  {
   "cell_type": "code",
   "execution_count": 25,
   "metadata": {},
   "outputs": [
    {
     "data": {
      "text/plain": [
       "PointbiserialrResult(correlation=0.10060722042618699, pvalue=0.18525930288487297)"
      ]
     },
     "execution_count": 25,
     "metadata": {},
     "output_type": "execute_result"
    }
   ],
   "source": [
    "scipy.stats.pointbiserialr(df['Outcome'],df['Temp'])"
   ]
  },
  {
   "cell_type": "code",
   "execution_count": 26,
   "metadata": {},
   "outputs": [
    {
     "name": "stderr",
     "output_type": "stream",
     "text": [
      "/home/shikha/snap/jupyter/common/lib/python3.7/site-packages/seaborn/_decorators.py:43: FutureWarning: Pass the following variable as a keyword arg: x. From version 0.12, the only valid positional argument will be `data`, and passing other arguments without an explicit keyword will result in an error or misinterpretation.\n",
      "  FutureWarning\n",
      "/home/shikha/snap/jupyter/common/lib/python3.7/site-packages/pandas/io/formats/format.py:1405: FutureWarning: Index.ravel returning ndarray is deprecated; in a future version this will return a view on self.\n",
      "  for val, m in zip(values.ravel(), mask.ravel())\n"
     ]
    },
    {
     "data": {
      "text/html": [
       "<div>\n",
       "<style scoped>\n",
       "    .dataframe tbody tr th:only-of-type {\n",
       "        vertical-align: middle;\n",
       "    }\n",
       "\n",
       "    .dataframe tbody tr th {\n",
       "        vertical-align: top;\n",
       "    }\n",
       "\n",
       "    .dataframe thead tr th {\n",
       "        text-align: left;\n",
       "    }\n",
       "\n",
       "    .dataframe thead tr:last-of-type th {\n",
       "        text-align: right;\n",
       "    }\n",
       "</style>\n",
       "<table border=\"1\" class=\"dataframe\">\n",
       "  <thead>\n",
       "    <tr>\n",
       "      <th></th>\n",
       "      <th colspan=\"2\" halign=\"left\">size</th>\n",
       "    </tr>\n",
       "    <tr>\n",
       "      <th>Outcome</th>\n",
       "      <th>0.0</th>\n",
       "      <th>1.0</th>\n",
       "    </tr>\n",
       "    <tr>\n",
       "      <th>Temp Groups</th>\n",
       "      <th></th>\n",
       "      <th></th>\n",
       "    </tr>\n",
       "  </thead>\n",
       "  <tbody>\n",
       "    <tr>\n",
       "      <th>0.2</th>\n",
       "      <td>27</td>\n",
       "      <td>1</td>\n",
       "    </tr>\n",
       "    <tr>\n",
       "      <th>0.4</th>\n",
       "      <td>55</td>\n",
       "      <td>7</td>\n",
       "    </tr>\n",
       "    <tr>\n",
       "      <th>0.6</th>\n",
       "      <td>43</td>\n",
       "      <td>13</td>\n",
       "    </tr>\n",
       "    <tr>\n",
       "      <th>0.8</th>\n",
       "      <td>19</td>\n",
       "      <td>3</td>\n",
       "    </tr>\n",
       "    <tr>\n",
       "      <th>1.0</th>\n",
       "      <td>7</td>\n",
       "      <td>0</td>\n",
       "    </tr>\n",
       "  </tbody>\n",
       "</table>\n",
       "</div>"
      ],
      "text/plain": [
       "            size    \n",
       "Outcome      0.0 1.0\n",
       "Temp Groups         \n",
       "0.2           27   1\n",
       "0.4           55   7\n",
       "0.6           43  13\n",
       "0.8           19   3\n",
       "1.0            7   0"
      ]
     },
     "execution_count": 26,
     "metadata": {},
     "output_type": "execute_result"
    },
    {
     "data": {
      "image/png": "[encoded data removed]",
      "text/plain": [
       "<Figure size 432x288 with 1 Axes>"
      ]
     },
     "metadata": {
      "needs_background": "light"
     },
     "output_type": "display_data"
    }
   ],
   "source": [
    "df['Temp']=df['Temp'].round(1)\n",
    "\n",
    "temp_groups = np.linspace(df['Temp'].min(),df['Temp'].max(),6)\n",
    "group_names = [0.2,0.4,0.6,0.8,1]\n",
    "plot_count('Temp Groups','Temp',temp_groups,group_names)\n",
    "\n",
    "df_temp = df[['Temp Groups','Outcome']]\n",
    "c_temp = contingency(df_temp,'Temp Groups')\n",
    "c_temp"
   ]
  },
  {
   "cell_type": "markdown",
   "metadata": {},
   "source": [
    "#### Contact to NCOVID Patient"
   ]
  },
  {
   "cell_type": "code",
   "execution_count": 27,
   "metadata": {},
   "outputs": [
    {
     "name": "stderr",
     "output_type": "stream",
     "text": [
      "/home/shikha/snap/jupyter/common/lib/python3.7/site-packages/seaborn/_decorators.py:43: FutureWarning: Pass the following variable as a keyword arg: x. From version 0.12, the only valid positional argument will be `data`, and passing other arguments without an explicit keyword will result in an error or misinterpretation.\n",
      "  FutureWarning\n"
     ]
    },
    {
     "data": {
      "text/plain": [
       "<AxesSubplot:xlabel='Contact to NCOVID Patient', ylabel='count'>"
      ]
     },
     "execution_count": 27,
     "metadata": {},
     "output_type": "execute_result"
    },
    {
     "data": {
      "image/png": "[encoded data removed]",
      "text/plain": [
       "<Figure size 432x288 with 1 Axes>"
      ]
     },
     "metadata": {
      "needs_background": "light"
     },
     "output_type": "display_data"
    }
   ],
   "source": [
    "sns.countplot(df[\"Contact to NCOVID Patient\"])"
   ]
  },
  {
   "cell_type": "code",
   "execution_count": 28,
   "metadata": {},
   "outputs": [
    {
     "data": {
      "text/html": [
       "<div>\n",
       "<style scoped>\n",
       "    .dataframe tbody tr th:only-of-type {\n",
       "        vertical-align: middle;\n",
       "    }\n",
       "\n",
       "    .dataframe tbody tr th {\n",
       "        vertical-align: top;\n",
       "    }\n",
       "\n",
       "    .dataframe thead tr th {\n",
       "        text-align: left;\n",
       "    }\n",
       "\n",
       "    .dataframe thead tr:last-of-type th {\n",
       "        text-align: right;\n",
       "    }\n",
       "</style>\n",
       "<table border=\"1\" class=\"dataframe\">\n",
       "  <thead>\n",
       "    <tr>\n",
       "      <th></th>\n",
       "      <th colspan=\"2\" halign=\"left\">size</th>\n",
       "    </tr>\n",
       "    <tr>\n",
       "      <th>Outcome</th>\n",
       "      <th>0.0</th>\n",
       "      <th>1.0</th>\n",
       "    </tr>\n",
       "    <tr>\n",
       "      <th>Contact to NCOVID Patient</th>\n",
       "      <th></th>\n",
       "      <th></th>\n",
       "    </tr>\n",
       "  </thead>\n",
       "  <tbody>\n",
       "    <tr>\n",
       "      <th>0</th>\n",
       "      <td>101</td>\n",
       "      <td>16</td>\n",
       "    </tr>\n",
       "    <tr>\n",
       "      <th>1</th>\n",
       "      <td>50</td>\n",
       "      <td>8</td>\n",
       "    </tr>\n",
       "  </tbody>\n",
       "</table>\n",
       "</div>"
      ],
      "text/plain": [
       "                          size    \n",
       "Outcome                    0.0 1.0\n",
       "Contact to NCOVID Patient         \n",
       "0                          101  16\n",
       "1                           50   8"
      ]
     },
     "execution_count": 28,
     "metadata": {},
     "output_type": "execute_result"
    }
   ],
   "source": [
    "df_contact = df[['Contact to NCOVID Patient','Outcome']]\n",
    "c_contact = contingency(df_contact,'Contact to NCOVID Patient')\n",
    "c_contact"
   ]
  },
  {
   "cell_type": "code",
   "execution_count": 29,
   "metadata": {},
   "outputs": [
    {
     "data": {
      "text/plain": [
       "(0.0004554240681210219, 0.9829739036401135)"
      ]
     },
     "execution_count": 29,
     "metadata": {},
     "output_type": "execute_result"
    }
   ],
   "source": [
    "chi2, p, dof, ex = scipy.stats.chi2_contingency(np.array(c_contact), correction=False)\n",
    "chi2, p"
   ]
  },
  {
   "cell_type": "markdown",
   "metadata": {},
   "source": [
    "The p-value in the chi2 test is > 0.5 and so, this is mostly an independent feature from outcome. We will not use this."
   ]
  },
  {
   "cell_type": "markdown",
   "metadata": {},
   "source": [
    "#### Travel History"
   ]
  },
  {
   "cell_type": "code",
   "execution_count": 30,
   "metadata": {},
   "outputs": [
    {
     "name": "stderr",
     "output_type": "stream",
     "text": [
      "/home/shikha/snap/jupyter/common/lib/python3.7/site-packages/seaborn/_decorators.py:43: FutureWarning: Pass the following variable as a keyword arg: x. From version 0.12, the only valid positional argument will be `data`, and passing other arguments without an explicit keyword will result in an error or misinterpretation.\n",
      "  FutureWarning\n"
     ]
    },
    {
     "data": {
      "text/plain": [
       "<AxesSubplot:xlabel='Travel History', ylabel='count'>"
      ]
     },
     "execution_count": 30,
     "metadata": {},
     "output_type": "execute_result"
    },
    {
     "data": {
      "image/png": "[encoded data removed]",
      "text/plain": [
       "<Figure size 432x288 with 1 Axes>"
      ]
     },
     "metadata": {
      "needs_background": "light"
     },
     "output_type": "display_data"
    }
   ],
   "source": [
    "sns.countplot(df[\"Travel History\"])"
   ]
  },
  {
   "cell_type": "code",
   "execution_count": 31,
   "metadata": {},
   "outputs": [
    {
     "data": {
      "text/html": [
       "<div>\n",
       "<style scoped>\n",
       "    .dataframe tbody tr th:only-of-type {\n",
       "        vertical-align: middle;\n",
       "    }\n",
       "\n",
       "    .dataframe tbody tr th {\n",
       "        vertical-align: top;\n",
       "    }\n",
       "\n",
       "    .dataframe thead tr th {\n",
       "        text-align: left;\n",
       "    }\n",
       "\n",
       "    .dataframe thead tr:last-of-type th {\n",
       "        text-align: right;\n",
       "    }\n",
       "</style>\n",
       "<table border=\"1\" class=\"dataframe\">\n",
       "  <thead>\n",
       "    <tr>\n",
       "      <th></th>\n",
       "      <th colspan=\"2\" halign=\"left\">size</th>\n",
       "    </tr>\n",
       "    <tr>\n",
       "      <th>Outcome</th>\n",
       "      <th>0.0</th>\n",
       "      <th>1.0</th>\n",
       "    </tr>\n",
       "    <tr>\n",
       "      <th>Travel History</th>\n",
       "      <th></th>\n",
       "      <th></th>\n",
       "    </tr>\n",
       "  </thead>\n",
       "  <tbody>\n",
       "    <tr>\n",
       "      <th>0</th>\n",
       "      <td>150</td>\n",
       "      <td>23</td>\n",
       "    </tr>\n",
       "    <tr>\n",
       "      <th>1</th>\n",
       "      <td>1</td>\n",
       "      <td>1</td>\n",
       "    </tr>\n",
       "  </tbody>\n",
       "</table>\n",
       "</div>"
      ],
      "text/plain": [
       "               size    \n",
       "Outcome         0.0 1.0\n",
       "Travel History         \n",
       "0               150  23\n",
       "1                 1   1"
      ]
     },
     "execution_count": 31,
     "metadata": {},
     "output_type": "execute_result"
    }
   ],
   "source": [
    "df_travel = df[['Travel History','Outcome']]\n",
    "c_travel = contingency(df_travel,'Travel History')\n",
    "c_travel"
   ]
  },
  {
   "cell_type": "code",
   "execution_count": 32,
   "metadata": {},
   "outputs": [
    {
     "data": {
      "text/plain": [
       "0.2561576354680348"
      ]
     },
     "execution_count": 32,
     "metadata": {},
     "output_type": "execute_result"
    }
   ],
   "source": [
    "oddsratio, pvalue = scipy.stats.fisher_exact(np.array(c_travel))\n",
    "pvalue"
   ]
  },
  {
   "cell_type": "markdown",
   "metadata": {},
   "source": [
    "The p-value in the Fisher exact test is > 0.5 and so, this is mostly an independent feature from outcome. We will not use this."
   ]
  },
  {
   "cell_type": "markdown",
   "metadata": {},
   "source": [
    "#### SPO2"
   ]
  },
  {
   "cell_type": "code",
   "execution_count": 33,
   "metadata": {},
   "outputs": [
    {
     "data": {
      "text/plain": [
       "<AxesSubplot:xlabel='Outcome', ylabel='SPO2'>"
      ]
     },
     "execution_count": 33,
     "metadata": {},
     "output_type": "execute_result"
    },
    {
     "data": {
      "image/png": "[encoded data removed]",
      "text/plain": [
       "<Figure size 432x288 with 1 Axes>"
      ]
     },
     "metadata": {
      "needs_background": "light"
     },
     "output_type": "display_data"
    }
   ],
   "source": [
    "sns.boxplot(x=\"Outcome\", y=\"SPO2\", data=df)"
   ]
  },
  {
   "cell_type": "markdown",
   "metadata": {},
   "source": [
    "It doesn't look like we can get much information with SPO2 data for the patient, since it is quite evenly distributed. Thus, we will not use this as one of our features."
   ]
  },
  {
   "cell_type": "code",
   "execution_count": 34,
   "metadata": {},
   "outputs": [
    {
     "data": {
      "text/plain": [
       "PointbiserialrResult(correlation=0.02193402082005994, pvalue=0.7732586527514697)"
      ]
     },
     "execution_count": 34,
     "metadata": {},
     "output_type": "execute_result"
    }
   ],
   "source": [
    "scipy.stats.pointbiserialr(df['Outcome'],df['SPO2'])"
   ]
  },
  {
   "cell_type": "markdown",
   "metadata": {},
   "source": [
    "#### Respiratory Rate\n",
    "(description)"
   ]
  },
  {
   "cell_type": "code",
   "execution_count": 35,
   "metadata": {},
   "outputs": [
    {
     "data": {
      "text/plain": [
       "<AxesSubplot:xlabel='Outcome', ylabel='Respiratory rate(breaths per minute)'>"
      ]
     },
     "execution_count": 35,
     "metadata": {},
     "output_type": "execute_result"
    },
    {
     "data": {
      "image/png": "[encoded data removed]",
      "text/plain": [
       "<Figure size 432x288 with 1 Axes>"
      ]
     },
     "metadata": {
      "needs_background": "light"
     },
     "output_type": "display_data"
    }
   ],
   "source": [
    "sns.boxplot(x=\"Outcome\", y=\"Respiratory rate(breaths per minute)\", data=df)"
   ]
  },
  {
   "cell_type": "code",
   "execution_count": 36,
   "metadata": {},
   "outputs": [
    {
     "data": {
      "text/plain": [
       "PointbiserialrResult(correlation=0.5869220116653181, pvalue=1.3929567217170963e-17)"
      ]
     },
     "execution_count": 36,
     "metadata": {},
     "output_type": "execute_result"
    }
   ],
   "source": [
    "scipy.stats.pointbiserialr(df['Outcome'],df['Respiratory rate(breaths per minute)'])"
   ]
  },
  {
   "cell_type": "markdown",
   "metadata": {},
   "source": [
    "This seems like a good indicator for our the outcome. Let us consider it."
   ]
  },
  {
   "cell_type": "markdown",
   "metadata": {},
   "source": [
    "#### Random Blood Sugar\n",
    "(description)"
   ]
  },
  {
   "cell_type": "code",
   "execution_count": 37,
   "metadata": {},
   "outputs": [
    {
     "data": {
      "text/plain": [
       "<AxesSubplot:xlabel='Outcome', ylabel='RANDOM BLOOD SUGAR'>"
      ]
     },
     "execution_count": 37,
     "metadata": {},
     "output_type": "execute_result"
    },
    {
     "data": {
      "image/png": "[encoded data removed]",
      "text/plain": [
       "<Figure size 432x288 with 1 Axes>"
      ]
     },
     "metadata": {
      "needs_background": "light"
     },
     "output_type": "display_data"
    }
   ],
   "source": [
    "sns.boxplot(x=\"Outcome\", y=\"RANDOM BLOOD SUGAR\", data=df)"
   ]
  },
  {
   "cell_type": "code",
   "execution_count": 38,
   "metadata": {},
   "outputs": [
    {
     "data": {
      "text/plain": [
       "PointbiserialrResult(correlation=0.03365631099507599, pvalue=0.6583692841505597)"
      ]
     },
     "execution_count": 38,
     "metadata": {},
     "output_type": "execute_result"
    }
   ],
   "source": [
    "scipy.stats.pointbiserialr(df['Outcome'],df['RANDOM BLOOD SUGAR'])"
   ]
  },
  {
   "cell_type": "markdown",
   "metadata": {},
   "source": [
    "It doesn't look like we can get much information with blood sugar data for the patient, since it is quite evenly distributed. Thus, we will not use this as one of our features."
   ]
  },
  {
   "cell_type": "markdown",
   "metadata": {},
   "source": [
    "### Symptoms\n",
    "\n",
    "With relation to symptoms, there are a few questions we can answer with the data we have.\n",
    "1. How are these symptoms related to each other? And to the initial factors?\n",
    "2. How will the symptoms affect the vital signs of the patient?\n",
    "3. Which symptom is the strongest indicator of severity of the disease?\n",
    "4. Which medications are most effective to treat these symptoms?\n",
    "5. Do asymptomatic patients have a better response?\n",
    "\n",
    "We have three major symptoms in the data - fever, cough and breathlessness. Let us examine them."
   ]
  },
  {
   "cell_type": "code",
   "execution_count": 39,
   "metadata": {},
   "outputs": [],
   "source": [
    "symptoms = df[['Fever','Breathlessness','Cough','Outcome']]"
   ]
  },
  {
   "cell_type": "code",
   "execution_count": 40,
   "metadata": {},
   "outputs": [
    {
     "name": "stderr",
     "output_type": "stream",
     "text": [
      "/home/shikha/snap/jupyter/common/lib/python3.7/site-packages/seaborn/_decorators.py:43: FutureWarning: Pass the following variable as a keyword arg: x. From version 0.12, the only valid positional argument will be `data`, and passing other arguments without an explicit keyword will result in an error or misinterpretation.\n",
      "  FutureWarning\n"
     ]
    },
    {
     "data": {
      "text/plain": [
       "<AxesSubplot:xlabel='Symptoms Present?', ylabel='count'>"
      ]
     },
     "execution_count": 40,
     "metadata": {},
     "output_type": "execute_result"
    },
    {
     "data": {
      "image/png": "[encoded data removed]",
      "text/plain": [
       "<Figure size 432x288 with 1 Axes>"
      ]
     },
     "metadata": {
      "needs_background": "light"
     },
     "output_type": "display_data"
    }
   ],
   "source": [
    "sns.countplot(df['Symptoms Present?'])"
   ]
  },
  {
   "cell_type": "code",
   "execution_count": 41,
   "metadata": {},
   "outputs": [
    {
     "data": {
      "text/html": [
       "<div>\n",
       "<style scoped>\n",
       "    .dataframe tbody tr th:only-of-type {\n",
       "        vertical-align: middle;\n",
       "    }\n",
       "\n",
       "    .dataframe tbody tr th {\n",
       "        vertical-align: top;\n",
       "    }\n",
       "\n",
       "    .dataframe thead tr th {\n",
       "        text-align: left;\n",
       "    }\n",
       "\n",
       "    .dataframe thead tr:last-of-type th {\n",
       "        text-align: right;\n",
       "    }\n",
       "</style>\n",
       "<table border=\"1\" class=\"dataframe\">\n",
       "  <thead>\n",
       "    <tr>\n",
       "      <th></th>\n",
       "      <th colspan=\"2\" halign=\"left\">size</th>\n",
       "    </tr>\n",
       "    <tr>\n",
       "      <th>Outcome</th>\n",
       "      <th>0.0</th>\n",
       "      <th>1.0</th>\n",
       "    </tr>\n",
       "    <tr>\n",
       "      <th>Symptoms Present?</th>\n",
       "      <th></th>\n",
       "      <th></th>\n",
       "    </tr>\n",
       "  </thead>\n",
       "  <tbody>\n",
       "    <tr>\n",
       "      <th>0</th>\n",
       "      <td>31.0</td>\n",
       "      <td>NaN</td>\n",
       "    </tr>\n",
       "    <tr>\n",
       "      <th>1</th>\n",
       "      <td>120.0</td>\n",
       "      <td>24.0</td>\n",
       "    </tr>\n",
       "  </tbody>\n",
       "</table>\n",
       "</div>"
      ],
      "text/plain": [
       "                    size      \n",
       "Outcome              0.0   1.0\n",
       "Symptoms Present?             \n",
       "0                   31.0   NaN\n",
       "1                  120.0  24.0"
      ]
     },
     "execution_count": 41,
     "metadata": {},
     "output_type": "execute_result"
    }
   ],
   "source": [
    "df_symptoms = df[['Symptoms Present?','Outcome']]\n",
    "c_symptoms = contingency(df_symptoms,'Symptoms Present?')\n",
    "c_symptoms"
   ]
  },
  {
   "cell_type": "markdown",
   "metadata": {},
   "source": [
    "From this, we can see that asymptomatic patients do not die. This can be a strong indicator in our model."
   ]
  },
  {
   "cell_type": "markdown",
   "metadata": {},
   "source": [
    "#### Fever\n",
    "(description)"
   ]
  },
  {
   "cell_type": "code",
   "execution_count": 42,
   "metadata": {},
   "outputs": [
    {
     "name": "stderr",
     "output_type": "stream",
     "text": [
      "/home/shikha/snap/jupyter/common/lib/python3.7/site-packages/seaborn/_decorators.py:43: FutureWarning: Pass the following variable as a keyword arg: x. From version 0.12, the only valid positional argument will be `data`, and passing other arguments without an explicit keyword will result in an error or misinterpretation.\n",
      "  FutureWarning\n"
     ]
    },
    {
     "data": {
      "text/plain": [
       "<AxesSubplot:xlabel='Fever', ylabel='count'>"
      ]
     },
     "execution_count": 42,
     "metadata": {},
     "output_type": "execute_result"
    },
    {
     "data": {
      "image/png": "[encoded data removed]",
      "text/plain": [
       "<Figure size 432x288 with 1 Axes>"
      ]
     },
     "metadata": {
      "needs_background": "light"
     },
     "output_type": "display_data"
    }
   ],
   "source": [
    "sns.countplot(df['Fever'])"
   ]
  },
  {
   "cell_type": "code",
   "execution_count": 43,
   "metadata": {},
   "outputs": [
    {
     "data": {
      "text/html": [
       "<div>\n",
       "<style scoped>\n",
       "    .dataframe tbody tr th:only-of-type {\n",
       "        vertical-align: middle;\n",
       "    }\n",
       "\n",
       "    .dataframe tbody tr th {\n",
       "        vertical-align: top;\n",
       "    }\n",
       "\n",
       "    .dataframe thead tr th {\n",
       "        text-align: left;\n",
       "    }\n",
       "\n",
       "    .dataframe thead tr:last-of-type th {\n",
       "        text-align: right;\n",
       "    }\n",
       "</style>\n",
       "<table border=\"1\" class=\"dataframe\">\n",
       "  <thead>\n",
       "    <tr>\n",
       "      <th></th>\n",
       "      <th colspan=\"2\" halign=\"left\">size</th>\n",
       "    </tr>\n",
       "    <tr>\n",
       "      <th>Outcome</th>\n",
       "      <th>0.0</th>\n",
       "      <th>1.0</th>\n",
       "    </tr>\n",
       "    <tr>\n",
       "      <th>Fever</th>\n",
       "      <th></th>\n",
       "      <th></th>\n",
       "    </tr>\n",
       "  </thead>\n",
       "  <tbody>\n",
       "    <tr>\n",
       "      <th>0</th>\n",
       "      <td>78</td>\n",
       "      <td>12</td>\n",
       "    </tr>\n",
       "    <tr>\n",
       "      <th>1</th>\n",
       "      <td>73</td>\n",
       "      <td>12</td>\n",
       "    </tr>\n",
       "  </tbody>\n",
       "</table>\n",
       "</div>"
      ],
      "text/plain": [
       "        size    \n",
       "Outcome  0.0 1.0\n",
       "Fever           \n",
       "0         78  12\n",
       "1         73  12"
      ]
     },
     "execution_count": 43,
     "metadata": {},
     "output_type": "execute_result"
    }
   ],
   "source": [
    "df_fever = df[['Fever','Outcome']]\n",
    "c_fever = contingency(df_fever,'Fever')\n",
    "c_fever"
   ]
  },
  {
   "cell_type": "markdown",
   "metadata": {},
   "source": [
    "##### Chi-sqaured test for fever dependency on the outcome"
   ]
  },
  {
   "cell_type": "code",
   "execution_count": 44,
   "metadata": {},
   "outputs": [
    {
     "data": {
      "text/plain": [
       "(0.004773685596387175, 0.9449164975708932)"
      ]
     },
     "execution_count": 44,
     "metadata": {},
     "output_type": "execute_result"
    }
   ],
   "source": [
    "chi2, p, dof, ex = scipy.stats.chi2_contingency(np.array(c_fever))\n",
    "chi2, p"
   ]
  },
  {
   "cell_type": "markdown",
   "metadata": {},
   "source": [
    "Since the p-value > 5%, we can conclude that there is no dependency of only fever on the final outcome."
   ]
  },
  {
   "cell_type": "markdown",
   "metadata": {},
   "source": [
    "#### Cough\n",
    "(description)"
   ]
  },
  {
   "cell_type": "code",
   "execution_count": 45,
   "metadata": {},
   "outputs": [
    {
     "name": "stderr",
     "output_type": "stream",
     "text": [
      "/home/shikha/snap/jupyter/common/lib/python3.7/site-packages/seaborn/_decorators.py:43: FutureWarning: Pass the following variable as a keyword arg: x. From version 0.12, the only valid positional argument will be `data`, and passing other arguments without an explicit keyword will result in an error or misinterpretation.\n",
      "  FutureWarning\n"
     ]
    },
    {
     "data": {
      "text/plain": [
       "<AxesSubplot:xlabel='Cough', ylabel='count'>"
      ]
     },
     "execution_count": 45,
     "metadata": {},
     "output_type": "execute_result"
    },
    {
     "data": {
      "image/png": "[encoded data removed]",
      "text/plain": [
       "<Figure size 432x288 with 1 Axes>"
      ]
     },
     "metadata": {
      "needs_background": "light"
     },
     "output_type": "display_data"
    }
   ],
   "source": [
    "sns.countplot(df['Cough'])"
   ]
  },
  {
   "cell_type": "code",
   "execution_count": 46,
   "metadata": {},
   "outputs": [
    {
     "data": {
      "text/html": [
       "<div>\n",
       "<style scoped>\n",
       "    .dataframe tbody tr th:only-of-type {\n",
       "        vertical-align: middle;\n",
       "    }\n",
       "\n",
       "    .dataframe tbody tr th {\n",
       "        vertical-align: top;\n",
       "    }\n",
       "\n",
       "    .dataframe thead tr th {\n",
       "        text-align: left;\n",
       "    }\n",
       "\n",
       "    .dataframe thead tr:last-of-type th {\n",
       "        text-align: right;\n",
       "    }\n",
       "</style>\n",
       "<table border=\"1\" class=\"dataframe\">\n",
       "  <thead>\n",
       "    <tr>\n",
       "      <th></th>\n",
       "      <th colspan=\"2\" halign=\"left\">size</th>\n",
       "    </tr>\n",
       "    <tr>\n",
       "      <th>Outcome</th>\n",
       "      <th>0.0</th>\n",
       "      <th>1.0</th>\n",
       "    </tr>\n",
       "    <tr>\n",
       "      <th>Cough</th>\n",
       "      <th></th>\n",
       "      <th></th>\n",
       "    </tr>\n",
       "  </thead>\n",
       "  <tbody>\n",
       "    <tr>\n",
       "      <th>0</th>\n",
       "      <td>95</td>\n",
       "      <td>6</td>\n",
       "    </tr>\n",
       "    <tr>\n",
       "      <th>1</th>\n",
       "      <td>56</td>\n",
       "      <td>18</td>\n",
       "    </tr>\n",
       "  </tbody>\n",
       "</table>\n",
       "</div>"
      ],
      "text/plain": [
       "        size    \n",
       "Outcome  0.0 1.0\n",
       "Cough           \n",
       "0         95   6\n",
       "1         56  18"
      ]
     },
     "execution_count": 46,
     "metadata": {},
     "output_type": "execute_result"
    }
   ],
   "source": [
    "df_cough = df[['Cough','Outcome']]\n",
    "c_cough = contingency(df_cough,'Cough')\n",
    "c_cough"
   ]
  },
  {
   "cell_type": "markdown",
   "metadata": {},
   "source": [
    "##### Chi-squared exact test for cough dependency on the outcome"
   ]
  },
  {
   "cell_type": "code",
   "execution_count": 47,
   "metadata": {},
   "outputs": [
    {
     "data": {
      "text/plain": [
       "(10.693413168225273, 0.0010751765614080667)"
      ]
     },
     "execution_count": 47,
     "metadata": {},
     "output_type": "execute_result"
    }
   ],
   "source": [
    "chi2, p, dof, ex = scipy.stats.chi2_contingency(np.array(c_cough))\n",
    "chi2, p"
   ]
  },
  {
   "cell_type": "markdown",
   "metadata": {},
   "source": [
    "Since the p-value << 5%, we can conclude that there is a strong dependency of cough on the final outcome."
   ]
  },
  {
   "cell_type": "markdown",
   "metadata": {},
   "source": [
    "#### Breathlessness\n",
    "(description)"
   ]
  },
  {
   "cell_type": "code",
   "execution_count": 48,
   "metadata": {},
   "outputs": [
    {
     "name": "stderr",
     "output_type": "stream",
     "text": [
      "/home/shikha/snap/jupyter/common/lib/python3.7/site-packages/seaborn/_decorators.py:43: FutureWarning: Pass the following variable as a keyword arg: x. From version 0.12, the only valid positional argument will be `data`, and passing other arguments without an explicit keyword will result in an error or misinterpretation.\n",
      "  FutureWarning\n"
     ]
    },
    {
     "data": {
      "text/plain": [
       "<AxesSubplot:xlabel='Breathlessness', ylabel='count'>"
      ]
     },
     "execution_count": 48,
     "metadata": {},
     "output_type": "execute_result"
    },
    {
     "data": {
      "image/png": "[encoded data removed]",
      "text/plain": [
       "<Figure size 432x288 with 1 Axes>"
      ]
     },
     "metadata": {
      "needs_background": "light"
     },
     "output_type": "display_data"
    }
   ],
   "source": [
    "sns.countplot(df['Breathlessness'])"
   ]
  },
  {
   "cell_type": "code",
   "execution_count": 49,
   "metadata": {},
   "outputs": [
    {
     "data": {
      "text/html": [
       "<div>\n",
       "<style scoped>\n",
       "    .dataframe tbody tr th:only-of-type {\n",
       "        vertical-align: middle;\n",
       "    }\n",
       "\n",
       "    .dataframe tbody tr th {\n",
       "        vertical-align: top;\n",
       "    }\n",
       "\n",
       "    .dataframe thead tr th {\n",
       "        text-align: left;\n",
       "    }\n",
       "\n",
       "    .dataframe thead tr:last-of-type th {\n",
       "        text-align: right;\n",
       "    }\n",
       "</style>\n",
       "<table border=\"1\" class=\"dataframe\">\n",
       "  <thead>\n",
       "    <tr>\n",
       "      <th></th>\n",
       "      <th colspan=\"2\" halign=\"left\">size</th>\n",
       "    </tr>\n",
       "    <tr>\n",
       "      <th>Outcome</th>\n",
       "      <th>0.0</th>\n",
       "      <th>1.0</th>\n",
       "    </tr>\n",
       "    <tr>\n",
       "      <th>Breathlessness</th>\n",
       "      <th></th>\n",
       "      <th></th>\n",
       "    </tr>\n",
       "  </thead>\n",
       "  <tbody>\n",
       "    <tr>\n",
       "      <th>0</th>\n",
       "      <td>107</td>\n",
       "      <td>2</td>\n",
       "    </tr>\n",
       "    <tr>\n",
       "      <th>1</th>\n",
       "      <td>44</td>\n",
       "      <td>22</td>\n",
       "    </tr>\n",
       "  </tbody>\n",
       "</table>\n",
       "</div>"
      ],
      "text/plain": [
       "               size    \n",
       "Outcome         0.0 1.0\n",
       "Breathlessness         \n",
       "0               107   2\n",
       "1                44  22"
      ]
     },
     "execution_count": 49,
     "metadata": {},
     "output_type": "execute_result"
    }
   ],
   "source": [
    "df_Breathlessness = df[['Breathlessness','Outcome']]\n",
    "c_breath = contingency(df_Breathlessness,'Breathlessness')\n",
    "c_breath"
   ]
  },
  {
   "cell_type": "markdown",
   "metadata": {},
   "source": [
    "##### Fisher's exact test for breathlessness dependency on the outcome"
   ]
  },
  {
   "cell_type": "code",
   "execution_count": 50,
   "metadata": {},
   "outputs": [
    {
     "data": {
      "text/plain": [
       "5.288446720827448e-09"
      ]
     },
     "execution_count": 50,
     "metadata": {},
     "output_type": "execute_result"
    }
   ],
   "source": [
    "oddsratio, pvalue = scipy.stats.fisher_exact(np.array(c_breath))\n",
    "pvalue"
   ]
  },
  {
   "cell_type": "markdown",
   "metadata": {},
   "source": [
    "Since the p-value <<< 5%, we can conclude that breathlessness is the strongest indicator of the final outcome."
   ]
  },
  {
   "cell_type": "code",
   "execution_count": 51,
   "metadata": {},
   "outputs": [
    {
     "data": {
      "text/html": [
       "<div>\n",
       "<style scoped>\n",
       "    .dataframe tbody tr th:only-of-type {\n",
       "        vertical-align: middle;\n",
       "    }\n",
       "\n",
       "    .dataframe tbody tr th {\n",
       "        vertical-align: top;\n",
       "    }\n",
       "\n",
       "    .dataframe thead th {\n",
       "        text-align: right;\n",
       "    }\n",
       "</style>\n",
       "<table border=\"1\" class=\"dataframe\">\n",
       "  <thead>\n",
       "    <tr style=\"text-align: right;\">\n",
       "      <th></th>\n",
       "      <th>Fever</th>\n",
       "      <th>Cough</th>\n",
       "      <th>Breathlessness</th>\n",
       "      <th>Outcome</th>\n",
       "    </tr>\n",
       "  </thead>\n",
       "  <tbody>\n",
       "    <tr>\n",
       "      <th>0</th>\n",
       "      <td>0</td>\n",
       "      <td>0</td>\n",
       "      <td>0</td>\n",
       "      <td>0.00</td>\n",
       "    </tr>\n",
       "    <tr>\n",
       "      <th>1</th>\n",
       "      <td>0</td>\n",
       "      <td>0</td>\n",
       "      <td>1</td>\n",
       "      <td>0.23</td>\n",
       "    </tr>\n",
       "    <tr>\n",
       "      <th>2</th>\n",
       "      <td>0</td>\n",
       "      <td>1</td>\n",
       "      <td>0</td>\n",
       "      <td>0.00</td>\n",
       "    </tr>\n",
       "    <tr>\n",
       "      <th>3</th>\n",
       "      <td>0</td>\n",
       "      <td>1</td>\n",
       "      <td>1</td>\n",
       "      <td>0.32</td>\n",
       "    </tr>\n",
       "    <tr>\n",
       "      <th>4</th>\n",
       "      <td>1</td>\n",
       "      <td>0</td>\n",
       "      <td>0</td>\n",
       "      <td>0.00</td>\n",
       "    </tr>\n",
       "    <tr>\n",
       "      <th>5</th>\n",
       "      <td>1</td>\n",
       "      <td>0</td>\n",
       "      <td>1</td>\n",
       "      <td>0.30</td>\n",
       "    </tr>\n",
       "    <tr>\n",
       "      <th>6</th>\n",
       "      <td>1</td>\n",
       "      <td>1</td>\n",
       "      <td>0</td>\n",
       "      <td>0.09</td>\n",
       "    </tr>\n",
       "    <tr>\n",
       "      <th>7</th>\n",
       "      <td>1</td>\n",
       "      <td>1</td>\n",
       "      <td>1</td>\n",
       "      <td>0.47</td>\n",
       "    </tr>\n",
       "  </tbody>\n",
       "</table>\n",
       "</div>"
      ],
      "text/plain": [
       "   Fever  Cough  Breathlessness  Outcome\n",
       "0      0      0               0     0.00\n",
       "1      0      0               1     0.23\n",
       "2      0      1               0     0.00\n",
       "3      0      1               1     0.32\n",
       "4      1      0               0     0.00\n",
       "5      1      0               1     0.30\n",
       "6      1      1               0     0.09\n",
       "7      1      1               1     0.47"
      ]
     },
     "execution_count": 51,
     "metadata": {},
     "output_type": "execute_result"
    }
   ],
   "source": [
    "grouped_symptoms = symptoms.groupby(['Fever','Cough','Breathlessness'],as_index=False).mean().round(2)\n",
    "grouped_symptoms"
   ]
  },
  {
   "cell_type": "code",
   "execution_count": 52,
   "metadata": {},
   "outputs": [
    {
     "data": {
      "text/html": [
       "<div>\n",
       "<style scoped>\n",
       "    .dataframe tbody tr th:only-of-type {\n",
       "        vertical-align: middle;\n",
       "    }\n",
       "\n",
       "    .dataframe tbody tr th {\n",
       "        vertical-align: top;\n",
       "    }\n",
       "\n",
       "    .dataframe thead th {\n",
       "        text-align: right;\n",
       "    }\n",
       "</style>\n",
       "<table border=\"1\" class=\"dataframe\">\n",
       "  <thead>\n",
       "    <tr style=\"text-align: right;\">\n",
       "      <th></th>\n",
       "      <th>Fever</th>\n",
       "      <th>Cough</th>\n",
       "      <th>Breathlessness</th>\n",
       "      <th>size</th>\n",
       "    </tr>\n",
       "  </thead>\n",
       "  <tbody>\n",
       "    <tr>\n",
       "      <th>0</th>\n",
       "      <td>0</td>\n",
       "      <td>0</td>\n",
       "      <td>0</td>\n",
       "      <td>41</td>\n",
       "    </tr>\n",
       "    <tr>\n",
       "      <th>1</th>\n",
       "      <td>0</td>\n",
       "      <td>0</td>\n",
       "      <td>1</td>\n",
       "      <td>13</td>\n",
       "    </tr>\n",
       "    <tr>\n",
       "      <th>2</th>\n",
       "      <td>0</td>\n",
       "      <td>1</td>\n",
       "      <td>0</td>\n",
       "      <td>8</td>\n",
       "    </tr>\n",
       "    <tr>\n",
       "      <th>3</th>\n",
       "      <td>0</td>\n",
       "      <td>1</td>\n",
       "      <td>1</td>\n",
       "      <td>28</td>\n",
       "    </tr>\n",
       "    <tr>\n",
       "      <th>4</th>\n",
       "      <td>1</td>\n",
       "      <td>0</td>\n",
       "      <td>0</td>\n",
       "      <td>37</td>\n",
       "    </tr>\n",
       "    <tr>\n",
       "      <th>5</th>\n",
       "      <td>1</td>\n",
       "      <td>0</td>\n",
       "      <td>1</td>\n",
       "      <td>10</td>\n",
       "    </tr>\n",
       "    <tr>\n",
       "      <th>6</th>\n",
       "      <td>1</td>\n",
       "      <td>1</td>\n",
       "      <td>0</td>\n",
       "      <td>23</td>\n",
       "    </tr>\n",
       "    <tr>\n",
       "      <th>7</th>\n",
       "      <td>1</td>\n",
       "      <td>1</td>\n",
       "      <td>1</td>\n",
       "      <td>15</td>\n",
       "    </tr>\n",
       "  </tbody>\n",
       "</table>\n",
       "</div>"
      ],
      "text/plain": [
       "   Fever  Cough  Breathlessness  size\n",
       "0      0      0               0    41\n",
       "1      0      0               1    13\n",
       "2      0      1               0     8\n",
       "3      0      1               1    28\n",
       "4      1      0               0    37\n",
       "5      1      0               1    10\n",
       "6      1      1               0    23\n",
       "7      1      1               1    15"
      ]
     },
     "execution_count": 52,
     "metadata": {},
     "output_type": "execute_result"
    }
   ],
   "source": [
    "grouped_symptoms = symptoms.groupby(['Fever','Cough','Breathlessness'],as_index=False).size()\n",
    "grouped_symptoms"
   ]
  },
  {
   "cell_type": "markdown",
   "metadata": {},
   "source": [
    "### Comorbidities\n",
    "\n",
    "With relation to comorbidities, there are a few questions we will answer this very imprtant question.\n",
    "1. Which comorbidity is the most dangerous?\n",
    "\n",
    "We have three major comorbidities in the dataset - diabetes, hypertension and heart conditions. Let us examine them."
   ]
  },
  {
   "cell_type": "code",
   "execution_count": 53,
   "metadata": {},
   "outputs": [],
   "source": [
    "comorbidities = df[['Diabetes', 'Hypertension','Heart Condition','Outcome']]"
   ]
  },
  {
   "cell_type": "code",
   "execution_count": 54,
   "metadata": {},
   "outputs": [
    {
     "name": "stderr",
     "output_type": "stream",
     "text": [
      "/home/shikha/snap/jupyter/common/lib/python3.7/site-packages/seaborn/_decorators.py:43: FutureWarning: Pass the following variable as a keyword arg: x. From version 0.12, the only valid positional argument will be `data`, and passing other arguments without an explicit keyword will result in an error or misinterpretation.\n",
      "  FutureWarning\n"
     ]
    },
    {
     "data": {
      "text/plain": [
       "<AxesSubplot:xlabel='Co-morbidity?', ylabel='count'>"
      ]
     },
     "execution_count": 54,
     "metadata": {},
     "output_type": "execute_result"
    },
    {
     "data": {
      "image/png": "[encoded data removed]",
      "text/plain": [
       "<Figure size 432x288 with 1 Axes>"
      ]
     },
     "metadata": {
      "needs_background": "light"
     },
     "output_type": "display_data"
    }
   ],
   "source": [
    "sns.countplot(df['Co-morbidity?'])"
   ]
  },
  {
   "cell_type": "code",
   "execution_count": 55,
   "metadata": {},
   "outputs": [
    {
     "data": {
      "text/html": [
       "<div>\n",
       "<style scoped>\n",
       "    .dataframe tbody tr th:only-of-type {\n",
       "        vertical-align: middle;\n",
       "    }\n",
       "\n",
       "    .dataframe tbody tr th {\n",
       "        vertical-align: top;\n",
       "    }\n",
       "\n",
       "    .dataframe thead tr th {\n",
       "        text-align: left;\n",
       "    }\n",
       "\n",
       "    .dataframe thead tr:last-of-type th {\n",
       "        text-align: right;\n",
       "    }\n",
       "</style>\n",
       "<table border=\"1\" class=\"dataframe\">\n",
       "  <thead>\n",
       "    <tr>\n",
       "      <th></th>\n",
       "      <th colspan=\"2\" halign=\"left\">size</th>\n",
       "    </tr>\n",
       "    <tr>\n",
       "      <th>Outcome</th>\n",
       "      <th>0.0</th>\n",
       "      <th>1.0</th>\n",
       "    </tr>\n",
       "    <tr>\n",
       "      <th>Co-morbidity?</th>\n",
       "      <th></th>\n",
       "      <th></th>\n",
       "    </tr>\n",
       "  </thead>\n",
       "  <tbody>\n",
       "    <tr>\n",
       "      <th>0</th>\n",
       "      <td>85</td>\n",
       "      <td>6</td>\n",
       "    </tr>\n",
       "    <tr>\n",
       "      <th>1</th>\n",
       "      <td>66</td>\n",
       "      <td>18</td>\n",
       "    </tr>\n",
       "  </tbody>\n",
       "</table>\n",
       "</div>"
      ],
      "text/plain": [
       "              size    \n",
       "Outcome        0.0 1.0\n",
       "Co-morbidity?         \n",
       "0               85   6\n",
       "1               66  18"
      ]
     },
     "execution_count": 55,
     "metadata": {},
     "output_type": "execute_result"
    }
   ],
   "source": [
    "df_com = df[['Co-morbidity?','Outcome']]\n",
    "c_com = contingency(df_com,'Co-morbidity?')\n",
    "c_com"
   ]
  },
  {
   "cell_type": "code",
   "execution_count": 56,
   "metadata": {},
   "outputs": [
    {
     "data": {
      "text/plain": [
       "(6.9184315213392225, 0.008531177088585248)"
      ]
     },
     "execution_count": 56,
     "metadata": {},
     "output_type": "execute_result"
    }
   ],
   "source": [
    "chi2, p, dof, ex = scipy.stats.chi2_contingency(np.array(c_com))\n",
    "chi2, p"
   ]
  },
  {
   "cell_type": "markdown",
   "metadata": {},
   "source": [
    "From this, we can see that patients without comorbidities are less likely to have a fatal outcome. This can be an indicator in our model."
   ]
  },
  {
   "cell_type": "markdown",
   "metadata": {},
   "source": [
    "#### Diabetes\n",
    "(description)"
   ]
  },
  {
   "cell_type": "code",
   "execution_count": 57,
   "metadata": {},
   "outputs": [
    {
     "name": "stderr",
     "output_type": "stream",
     "text": [
      "/home/shikha/snap/jupyter/common/lib/python3.7/site-packages/seaborn/_decorators.py:43: FutureWarning: Pass the following variable as a keyword arg: x. From version 0.12, the only valid positional argument will be `data`, and passing other arguments without an explicit keyword will result in an error or misinterpretation.\n",
      "  FutureWarning\n"
     ]
    },
    {
     "data": {
      "text/plain": [
       "<AxesSubplot:xlabel='Diabetes', ylabel='count'>"
      ]
     },
     "execution_count": 57,
     "metadata": {},
     "output_type": "execute_result"
    },
    {
     "data": {
      "image/png": "[encoded data removed]",
      "text/plain": [
       "<Figure size 432x288 with 1 Axes>"
      ]
     },
     "metadata": {
      "needs_background": "light"
     },
     "output_type": "display_data"
    }
   ],
   "source": [
    "sns.countplot(df['Diabetes'])"
   ]
  },
  {
   "cell_type": "code",
   "execution_count": 58,
   "metadata": {},
   "outputs": [
    {
     "data": {
      "text/html": [
       "<div>\n",
       "<style scoped>\n",
       "    .dataframe tbody tr th:only-of-type {\n",
       "        vertical-align: middle;\n",
       "    }\n",
       "\n",
       "    .dataframe tbody tr th {\n",
       "        vertical-align: top;\n",
       "    }\n",
       "\n",
       "    .dataframe thead tr th {\n",
       "        text-align: left;\n",
       "    }\n",
       "\n",
       "    .dataframe thead tr:last-of-type th {\n",
       "        text-align: right;\n",
       "    }\n",
       "</style>\n",
       "<table border=\"1\" class=\"dataframe\">\n",
       "  <thead>\n",
       "    <tr>\n",
       "      <th></th>\n",
       "      <th colspan=\"2\" halign=\"left\">size</th>\n",
       "    </tr>\n",
       "    <tr>\n",
       "      <th>Outcome</th>\n",
       "      <th>0.0</th>\n",
       "      <th>1.0</th>\n",
       "    </tr>\n",
       "    <tr>\n",
       "      <th>Diabetes</th>\n",
       "      <th></th>\n",
       "      <th></th>\n",
       "    </tr>\n",
       "  </thead>\n",
       "  <tbody>\n",
       "    <tr>\n",
       "      <th>0</th>\n",
       "      <td>106</td>\n",
       "      <td>13</td>\n",
       "    </tr>\n",
       "    <tr>\n",
       "      <th>1</th>\n",
       "      <td>45</td>\n",
       "      <td>11</td>\n",
       "    </tr>\n",
       "  </tbody>\n",
       "</table>\n",
       "</div>"
      ],
      "text/plain": [
       "         size    \n",
       "Outcome   0.0 1.0\n",
       "Diabetes         \n",
       "0         106  13\n",
       "1          45  11"
      ]
     },
     "execution_count": 58,
     "metadata": {},
     "output_type": "execute_result"
    }
   ],
   "source": [
    "df_Diabetes = df[['Diabetes','Outcome']]\n",
    "c_diabetes = contingency(df_Diabetes,'Diabetes')\n",
    "c_diabetes"
   ]
  },
  {
   "cell_type": "markdown",
   "metadata": {},
   "source": [
    "##### Chi-sqaured test for diabetes dependency on the outcome"
   ]
  },
  {
   "cell_type": "code",
   "execution_count": 59,
   "metadata": {},
   "outputs": [
    {
     "data": {
      "text/plain": [
       "(1.7647743596610828, 0.18403011762049343)"
      ]
     },
     "execution_count": 59,
     "metadata": {},
     "output_type": "execute_result"
    }
   ],
   "source": [
    "chi2, p, dof, ex = scipy.stats.chi2_contingency(np.array(c_diabetes))\n",
    "chi2, p"
   ]
  },
  {
   "cell_type": "markdown",
   "metadata": {},
   "source": [
    "Since the p-value < 5%, we can conclude that there is a dependency of diabetes on the final outcome."
   ]
  },
  {
   "cell_type": "markdown",
   "metadata": {},
   "source": [
    "#### Hypertension\n",
    "(description)"
   ]
  },
  {
   "cell_type": "code",
   "execution_count": 60,
   "metadata": {},
   "outputs": [
    {
     "name": "stderr",
     "output_type": "stream",
     "text": [
      "/home/shikha/snap/jupyter/common/lib/python3.7/site-packages/seaborn/_decorators.py:43: FutureWarning: Pass the following variable as a keyword arg: x. From version 0.12, the only valid positional argument will be `data`, and passing other arguments without an explicit keyword will result in an error or misinterpretation.\n",
      "  FutureWarning\n"
     ]
    },
    {
     "data": {
      "text/plain": [
       "<AxesSubplot:xlabel='Hypertension', ylabel='count'>"
      ]
     },
     "execution_count": 60,
     "metadata": {},
     "output_type": "execute_result"
    },
    {
     "data": {
      "image/png": "[encoded data removed]",
      "text/plain": [
       "<Figure size 432x288 with 1 Axes>"
      ]
     },
     "metadata": {
      "needs_background": "light"
     },
     "output_type": "display_data"
    }
   ],
   "source": [
    "sns.countplot(df['Hypertension'])"
   ]
  },
  {
   "cell_type": "code",
   "execution_count": 61,
   "metadata": {},
   "outputs": [
    {
     "data": {
      "text/html": [
       "<div>\n",
       "<style scoped>\n",
       "    .dataframe tbody tr th:only-of-type {\n",
       "        vertical-align: middle;\n",
       "    }\n",
       "\n",
       "    .dataframe tbody tr th {\n",
       "        vertical-align: top;\n",
       "    }\n",
       "\n",
       "    .dataframe thead tr th {\n",
       "        text-align: left;\n",
       "    }\n",
       "\n",
       "    .dataframe thead tr:last-of-type th {\n",
       "        text-align: right;\n",
       "    }\n",
       "</style>\n",
       "<table border=\"1\" class=\"dataframe\">\n",
       "  <thead>\n",
       "    <tr>\n",
       "      <th></th>\n",
       "      <th colspan=\"2\" halign=\"left\">size</th>\n",
       "    </tr>\n",
       "    <tr>\n",
       "      <th>Outcome</th>\n",
       "      <th>0.0</th>\n",
       "      <th>1.0</th>\n",
       "    </tr>\n",
       "    <tr>\n",
       "      <th>Hypertension</th>\n",
       "      <th></th>\n",
       "      <th></th>\n",
       "    </tr>\n",
       "  </thead>\n",
       "  <tbody>\n",
       "    <tr>\n",
       "      <th>0</th>\n",
       "      <td>106</td>\n",
       "      <td>11</td>\n",
       "    </tr>\n",
       "    <tr>\n",
       "      <th>1</th>\n",
       "      <td>45</td>\n",
       "      <td>13</td>\n",
       "    </tr>\n",
       "  </tbody>\n",
       "</table>\n",
       "</div>"
      ],
      "text/plain": [
       "             size    \n",
       "Outcome       0.0 1.0\n",
       "Hypertension         \n",
       "0             106  11\n",
       "1              45  13"
      ]
     },
     "execution_count": 61,
     "metadata": {},
     "output_type": "execute_result"
    }
   ],
   "source": [
    "df_hp = df[['Hypertension','Outcome']]\n",
    "c_hp = contingency(df_hp,'Hypertension')\n",
    "c_hp"
   ]
  },
  {
   "cell_type": "markdown",
   "metadata": {},
   "source": [
    "##### Chi-squared exact test for hypertension dependency on the outcome"
   ]
  },
  {
   "cell_type": "code",
   "execution_count": 62,
   "metadata": {},
   "outputs": [
    {
     "data": {
      "text/plain": [
       "(4.503149572568246, 0.033832483634858655)"
      ]
     },
     "execution_count": 62,
     "metadata": {},
     "output_type": "execute_result"
    }
   ],
   "source": [
    "chi2, p, dof, ex = scipy.stats.chi2_contingency(np.array(c_hp))\n",
    "chi2, p"
   ]
  },
  {
   "cell_type": "markdown",
   "metadata": {},
   "source": [
    "Since the p-value < 5%, we can conclude that there is a dependency of Hypertension on the final outcome."
   ]
  },
  {
   "cell_type": "markdown",
   "metadata": {},
   "source": [
    "#### Heart Conditions\n",
    "(description)"
   ]
  },
  {
   "cell_type": "code",
   "execution_count": 63,
   "metadata": {},
   "outputs": [
    {
     "name": "stderr",
     "output_type": "stream",
     "text": [
      "/home/shikha/snap/jupyter/common/lib/python3.7/site-packages/seaborn/_decorators.py:43: FutureWarning: Pass the following variable as a keyword arg: x. From version 0.12, the only valid positional argument will be `data`, and passing other arguments without an explicit keyword will result in an error or misinterpretation.\n",
      "  FutureWarning\n"
     ]
    },
    {
     "data": {
      "text/plain": [
       "<AxesSubplot:xlabel='Heart Condition', ylabel='count'>"
      ]
     },
     "execution_count": 63,
     "metadata": {},
     "output_type": "execute_result"
    },
    {
     "data": {
      "image/png": "[encoded data removed]",
      "text/plain": [
       "<Figure size 432x288 with 1 Axes>"
      ]
     },
     "metadata": {
      "needs_background": "light"
     },
     "output_type": "display_data"
    }
   ],
   "source": [
    "sns.countplot(df['Heart Condition'])"
   ]
  },
  {
   "cell_type": "code",
   "execution_count": 64,
   "metadata": {},
   "outputs": [
    {
     "data": {
      "text/html": [
       "<div>\n",
       "<style scoped>\n",
       "    .dataframe tbody tr th:only-of-type {\n",
       "        vertical-align: middle;\n",
       "    }\n",
       "\n",
       "    .dataframe tbody tr th {\n",
       "        vertical-align: top;\n",
       "    }\n",
       "\n",
       "    .dataframe thead tr th {\n",
       "        text-align: left;\n",
       "    }\n",
       "\n",
       "    .dataframe thead tr:last-of-type th {\n",
       "        text-align: right;\n",
       "    }\n",
       "</style>\n",
       "<table border=\"1\" class=\"dataframe\">\n",
       "  <thead>\n",
       "    <tr>\n",
       "      <th></th>\n",
       "      <th colspan=\"2\" halign=\"left\">size</th>\n",
       "    </tr>\n",
       "    <tr>\n",
       "      <th>Outcome</th>\n",
       "      <th>0.0</th>\n",
       "      <th>1.0</th>\n",
       "    </tr>\n",
       "    <tr>\n",
       "      <th>Heart Condition</th>\n",
       "      <th></th>\n",
       "      <th></th>\n",
       "    </tr>\n",
       "  </thead>\n",
       "  <tbody>\n",
       "    <tr>\n",
       "      <th>0</th>\n",
       "      <td>135</td>\n",
       "      <td>19</td>\n",
       "    </tr>\n",
       "    <tr>\n",
       "      <th>1</th>\n",
       "      <td>16</td>\n",
       "      <td>5</td>\n",
       "    </tr>\n",
       "  </tbody>\n",
       "</table>\n",
       "</div>"
      ],
      "text/plain": [
       "                size    \n",
       "Outcome          0.0 1.0\n",
       "Heart Condition         \n",
       "0                135  19\n",
       "1                 16   5"
      ]
     },
     "execution_count": 64,
     "metadata": {},
     "output_type": "execute_result"
    }
   ],
   "source": [
    "df_heart = df[['Heart Condition','Outcome']]\n",
    "c_heart = contingency(df_heart,'Heart Condition')\n",
    "c_heart"
   ]
  },
  {
   "cell_type": "code",
   "execution_count": 65,
   "metadata": {},
   "outputs": [
    {
     "data": {
      "text/plain": [
       "(1.2000959512341969, 0.2733025015770215)"
      ]
     },
     "execution_count": 65,
     "metadata": {},
     "output_type": "execute_result"
    }
   ],
   "source": [
    "chi2, p, dof, ex = scipy.stats.chi2_contingency(np.array(c_heart))\n",
    "chi2, p"
   ]
  },
  {
   "cell_type": "code",
   "execution_count": 66,
   "metadata": {},
   "outputs": [
    {
     "data": {
      "text/html": [
       "<div>\n",
       "<style scoped>\n",
       "    .dataframe tbody tr th:only-of-type {\n",
       "        vertical-align: middle;\n",
       "    }\n",
       "\n",
       "    .dataframe tbody tr th {\n",
       "        vertical-align: top;\n",
       "    }\n",
       "\n",
       "    .dataframe thead th {\n",
       "        text-align: right;\n",
       "    }\n",
       "</style>\n",
       "<table border=\"1\" class=\"dataframe\">\n",
       "  <thead>\n",
       "    <tr style=\"text-align: right;\">\n",
       "      <th></th>\n",
       "      <th>Diabetes</th>\n",
       "      <th>Hypertension</th>\n",
       "      <th>Heart Condition</th>\n",
       "      <th>Outcome</th>\n",
       "    </tr>\n",
       "  </thead>\n",
       "  <tbody>\n",
       "    <tr>\n",
       "      <th>0</th>\n",
       "      <td>0</td>\n",
       "      <td>0</td>\n",
       "      <td>0</td>\n",
       "      <td>0.08</td>\n",
       "    </tr>\n",
       "    <tr>\n",
       "      <th>1</th>\n",
       "      <td>0</td>\n",
       "      <td>0</td>\n",
       "      <td>1</td>\n",
       "      <td>0.00</td>\n",
       "    </tr>\n",
       "    <tr>\n",
       "      <th>2</th>\n",
       "      <td>0</td>\n",
       "      <td>1</td>\n",
       "      <td>0</td>\n",
       "      <td>0.28</td>\n",
       "    </tr>\n",
       "    <tr>\n",
       "      <th>3</th>\n",
       "      <td>0</td>\n",
       "      <td>1</td>\n",
       "      <td>1</td>\n",
       "      <td>0.17</td>\n",
       "    </tr>\n",
       "    <tr>\n",
       "      <th>4</th>\n",
       "      <td>1</td>\n",
       "      <td>0</td>\n",
       "      <td>0</td>\n",
       "      <td>0.16</td>\n",
       "    </tr>\n",
       "    <tr>\n",
       "      <th>5</th>\n",
       "      <td>1</td>\n",
       "      <td>0</td>\n",
       "      <td>1</td>\n",
       "      <td>0.33</td>\n",
       "    </tr>\n",
       "    <tr>\n",
       "      <th>6</th>\n",
       "      <td>1</td>\n",
       "      <td>1</td>\n",
       "      <td>0</td>\n",
       "      <td>0.17</td>\n",
       "    </tr>\n",
       "    <tr>\n",
       "      <th>7</th>\n",
       "      <td>1</td>\n",
       "      <td>1</td>\n",
       "      <td>1</td>\n",
       "      <td>0.30</td>\n",
       "    </tr>\n",
       "  </tbody>\n",
       "</table>\n",
       "</div>"
      ],
      "text/plain": [
       "   Diabetes  Hypertension  Heart Condition  Outcome\n",
       "0         0             0                0     0.08\n",
       "1         0             0                1     0.00\n",
       "2         0             1                0     0.28\n",
       "3         0             1                1     0.17\n",
       "4         1             0                0     0.16\n",
       "5         1             0                1     0.33\n",
       "6         1             1                0     0.17\n",
       "7         1             1                1     0.30"
      ]
     },
     "execution_count": 66,
     "metadata": {},
     "output_type": "execute_result"
    }
   ],
   "source": [
    "grouped_com = comorbidities.groupby(['Diabetes','Hypertension','Heart Condition'],as_index=False).mean().round(2)\n",
    "grouped_com"
   ]
  },
  {
   "cell_type": "code",
   "execution_count": 67,
   "metadata": {},
   "outputs": [
    {
     "data": {
      "text/html": [
       "<div>\n",
       "<style scoped>\n",
       "    .dataframe tbody tr th:only-of-type {\n",
       "        vertical-align: middle;\n",
       "    }\n",
       "\n",
       "    .dataframe tbody tr th {\n",
       "        vertical-align: top;\n",
       "    }\n",
       "\n",
       "    .dataframe thead th {\n",
       "        text-align: right;\n",
       "    }\n",
       "</style>\n",
       "<table border=\"1\" class=\"dataframe\">\n",
       "  <thead>\n",
       "    <tr style=\"text-align: right;\">\n",
       "      <th></th>\n",
       "      <th>Diabetes</th>\n",
       "      <th>Hypertension</th>\n",
       "      <th>Heart Condition</th>\n",
       "      <th>size</th>\n",
       "    </tr>\n",
       "  </thead>\n",
       "  <tbody>\n",
       "    <tr>\n",
       "      <th>0</th>\n",
       "      <td>0</td>\n",
       "      <td>0</td>\n",
       "      <td>0</td>\n",
       "      <td>93</td>\n",
       "    </tr>\n",
       "    <tr>\n",
       "      <th>1</th>\n",
       "      <td>0</td>\n",
       "      <td>0</td>\n",
       "      <td>1</td>\n",
       "      <td>2</td>\n",
       "    </tr>\n",
       "    <tr>\n",
       "      <th>2</th>\n",
       "      <td>0</td>\n",
       "      <td>1</td>\n",
       "      <td>0</td>\n",
       "      <td>18</td>\n",
       "    </tr>\n",
       "    <tr>\n",
       "      <th>3</th>\n",
       "      <td>0</td>\n",
       "      <td>1</td>\n",
       "      <td>1</td>\n",
       "      <td>6</td>\n",
       "    </tr>\n",
       "    <tr>\n",
       "      <th>4</th>\n",
       "      <td>1</td>\n",
       "      <td>0</td>\n",
       "      <td>0</td>\n",
       "      <td>19</td>\n",
       "    </tr>\n",
       "    <tr>\n",
       "      <th>5</th>\n",
       "      <td>1</td>\n",
       "      <td>0</td>\n",
       "      <td>1</td>\n",
       "      <td>3</td>\n",
       "    </tr>\n",
       "    <tr>\n",
       "      <th>6</th>\n",
       "      <td>1</td>\n",
       "      <td>1</td>\n",
       "      <td>0</td>\n",
       "      <td>24</td>\n",
       "    </tr>\n",
       "    <tr>\n",
       "      <th>7</th>\n",
       "      <td>1</td>\n",
       "      <td>1</td>\n",
       "      <td>1</td>\n",
       "      <td>10</td>\n",
       "    </tr>\n",
       "  </tbody>\n",
       "</table>\n",
       "</div>"
      ],
      "text/plain": [
       "   Diabetes  Hypertension  Heart Condition  size\n",
       "0         0             0                0    93\n",
       "1         0             0                1     2\n",
       "2         0             1                0    18\n",
       "3         0             1                1     6\n",
       "4         1             0                0    19\n",
       "5         1             0                1     3\n",
       "6         1             1                0    24\n",
       "7         1             1                1    10"
      ]
     },
     "execution_count": 67,
     "metadata": {},
     "output_type": "execute_result"
    }
   ],
   "source": [
    "grouped_com = comorbidities.groupby(['Diabetes','Hypertension','Heart Condition'],as_index=False).size()\n",
    "grouped_com"
   ]
  },
  {
   "cell_type": "markdown",
   "metadata": {},
   "source": [
    "## Blood \n",
    "(description)"
   ]
  },
  {
   "cell_type": "code",
   "execution_count": 68,
   "metadata": {},
   "outputs": [],
   "source": [
    "blood = df[['HEMOGLOBIN','TLC COUNT','PLATELET COUNT','RANDOM BLOOD SUGAR','UREA','CREATININE','SODIUM','POTASSIUM','CHLORIDE','TOTAL BILIRUBIN','DIRECT BILIRUBIN','SGOT','SGPT','TOTAL PROTEINS','ALBUMIN','ALKALINE PHOSPHATASE','C-REACTIVE PROTEINS','Outcome']]"
   ]
  },
  {
   "cell_type": "code",
   "execution_count": 69,
   "metadata": {},
   "outputs": [
    {
     "data": {
      "text/html": [
       "<div>\n",
       "<style scoped>\n",
       "    .dataframe tbody tr th:only-of-type {\n",
       "        vertical-align: middle;\n",
       "    }\n",
       "\n",
       "    .dataframe tbody tr th {\n",
       "        vertical-align: top;\n",
       "    }\n",
       "\n",
       "    .dataframe thead th {\n",
       "        text-align: right;\n",
       "    }\n",
       "</style>\n",
       "<table border=\"1\" class=\"dataframe\">\n",
       "  <thead>\n",
       "    <tr style=\"text-align: right;\">\n",
       "      <th></th>\n",
       "      <th>HEMOGLOBIN</th>\n",
       "      <th>TLC COUNT</th>\n",
       "      <th>PLATELET COUNT</th>\n",
       "      <th>RANDOM BLOOD SUGAR</th>\n",
       "      <th>UREA</th>\n",
       "      <th>CREATININE</th>\n",
       "      <th>SODIUM</th>\n",
       "      <th>POTASSIUM</th>\n",
       "      <th>CHLORIDE</th>\n",
       "      <th>TOTAL BILIRUBIN</th>\n",
       "      <th>DIRECT BILIRUBIN</th>\n",
       "      <th>SGOT</th>\n",
       "      <th>SGPT</th>\n",
       "      <th>TOTAL PROTEINS</th>\n",
       "      <th>ALBUMIN</th>\n",
       "      <th>ALKALINE PHOSPHATASE</th>\n",
       "      <th>C-REACTIVE PROTEINS</th>\n",
       "      <th>Outcome</th>\n",
       "    </tr>\n",
       "  </thead>\n",
       "  <tbody>\n",
       "    <tr>\n",
       "      <th>0</th>\n",
       "      <td>15.9</td>\n",
       "      <td>6200.0</td>\n",
       "      <td>127000.0</td>\n",
       "      <td>121.0</td>\n",
       "      <td>47.5</td>\n",
       "      <td>1.3</td>\n",
       "      <td>143.0</td>\n",
       "      <td>4.8</td>\n",
       "      <td>108.0</td>\n",
       "      <td>0.5</td>\n",
       "      <td>0.2</td>\n",
       "      <td>81.3</td>\n",
       "      <td>70.0</td>\n",
       "      <td>5.9</td>\n",
       "      <td>3.8</td>\n",
       "      <td>44.1</td>\n",
       "      <td>58.10</td>\n",
       "      <td>0.0</td>\n",
       "    </tr>\n",
       "    <tr>\n",
       "      <th>1</th>\n",
       "      <td>13.4</td>\n",
       "      <td>4140.0</td>\n",
       "      <td>188000.0</td>\n",
       "      <td>96.0</td>\n",
       "      <td>21.8</td>\n",
       "      <td>1.0</td>\n",
       "      <td>148.0</td>\n",
       "      <td>4.1</td>\n",
       "      <td>108.0</td>\n",
       "      <td>0.3</td>\n",
       "      <td>0.1</td>\n",
       "      <td>22.2</td>\n",
       "      <td>14.8</td>\n",
       "      <td>6.6</td>\n",
       "      <td>3.9</td>\n",
       "      <td>58.5</td>\n",
       "      <td>3.66</td>\n",
       "      <td>0.0</td>\n",
       "    </tr>\n",
       "    <tr>\n",
       "      <th>2</th>\n",
       "      <td>15.9</td>\n",
       "      <td>4680.0</td>\n",
       "      <td>231000.0</td>\n",
       "      <td>102.0</td>\n",
       "      <td>18.3</td>\n",
       "      <td>5800.0</td>\n",
       "      <td>159.0</td>\n",
       "      <td>18.1</td>\n",
       "      <td>1.1</td>\n",
       "      <td>0.8</td>\n",
       "      <td>0.3</td>\n",
       "      <td>19.3</td>\n",
       "      <td>12.8</td>\n",
       "      <td>7.0</td>\n",
       "      <td>4.2</td>\n",
       "      <td>86.0</td>\n",
       "      <td>10.17</td>\n",
       "      <td>0.0</td>\n",
       "    </tr>\n",
       "    <tr>\n",
       "      <th>3</th>\n",
       "      <td>13.2</td>\n",
       "      <td>5200.0</td>\n",
       "      <td>234000.0</td>\n",
       "      <td>119.0</td>\n",
       "      <td>36.6</td>\n",
       "      <td>0.9</td>\n",
       "      <td>140.0</td>\n",
       "      <td>4.2</td>\n",
       "      <td>104.0</td>\n",
       "      <td>2.4</td>\n",
       "      <td>1.2</td>\n",
       "      <td>59.0</td>\n",
       "      <td>47.9</td>\n",
       "      <td>6.3</td>\n",
       "      <td>3.7</td>\n",
       "      <td>120.0</td>\n",
       "      <td>168.90</td>\n",
       "      <td>1.0</td>\n",
       "    </tr>\n",
       "    <tr>\n",
       "      <th>4</th>\n",
       "      <td>13.7</td>\n",
       "      <td>9500.0</td>\n",
       "      <td>321000.0</td>\n",
       "      <td>92.0</td>\n",
       "      <td>22.0</td>\n",
       "      <td>0.9</td>\n",
       "      <td>124.0</td>\n",
       "      <td>3.8</td>\n",
       "      <td>92.0</td>\n",
       "      <td>4.2</td>\n",
       "      <td>2.1</td>\n",
       "      <td>44.6</td>\n",
       "      <td>55.5</td>\n",
       "      <td>5.9</td>\n",
       "      <td>3.1</td>\n",
       "      <td>177.0</td>\n",
       "      <td>164.00</td>\n",
       "      <td>0.0</td>\n",
       "    </tr>\n",
       "    <tr>\n",
       "      <th>...</th>\n",
       "      <td>...</td>\n",
       "      <td>...</td>\n",
       "      <td>...</td>\n",
       "      <td>...</td>\n",
       "      <td>...</td>\n",
       "      <td>...</td>\n",
       "      <td>...</td>\n",
       "      <td>...</td>\n",
       "      <td>...</td>\n",
       "      <td>...</td>\n",
       "      <td>...</td>\n",
       "      <td>...</td>\n",
       "      <td>...</td>\n",
       "      <td>...</td>\n",
       "      <td>...</td>\n",
       "      <td>...</td>\n",
       "      <td>...</td>\n",
       "      <td>...</td>\n",
       "    </tr>\n",
       "    <tr>\n",
       "      <th>185</th>\n",
       "      <td>18.2</td>\n",
       "      <td>6700.0</td>\n",
       "      <td>101000.0</td>\n",
       "      <td>200.0</td>\n",
       "      <td>54.1</td>\n",
       "      <td>0.9</td>\n",
       "      <td>136.0</td>\n",
       "      <td>2.9</td>\n",
       "      <td>97.0</td>\n",
       "      <td>1.4</td>\n",
       "      <td>0.5</td>\n",
       "      <td>43.8</td>\n",
       "      <td>38.8</td>\n",
       "      <td>6.2</td>\n",
       "      <td>3.7</td>\n",
       "      <td>73.3</td>\n",
       "      <td>127.60</td>\n",
       "      <td>1.0</td>\n",
       "    </tr>\n",
       "    <tr>\n",
       "      <th>186</th>\n",
       "      <td>13.9</td>\n",
       "      <td>6800.0</td>\n",
       "      <td>156000.0</td>\n",
       "      <td>151.0</td>\n",
       "      <td>59.6</td>\n",
       "      <td>1.9</td>\n",
       "      <td>141.0</td>\n",
       "      <td>4.2</td>\n",
       "      <td>106.0</td>\n",
       "      <td>0.5</td>\n",
       "      <td>0.2</td>\n",
       "      <td>80.6</td>\n",
       "      <td>42.6</td>\n",
       "      <td>6.6</td>\n",
       "      <td>3.8</td>\n",
       "      <td>57.4</td>\n",
       "      <td>138.15</td>\n",
       "      <td>1.0</td>\n",
       "    </tr>\n",
       "    <tr>\n",
       "      <th>187</th>\n",
       "      <td>14.9</td>\n",
       "      <td>8900.0</td>\n",
       "      <td>1820000.0</td>\n",
       "      <td>189.0</td>\n",
       "      <td>25.2</td>\n",
       "      <td>1.1</td>\n",
       "      <td>137.0</td>\n",
       "      <td>4.2</td>\n",
       "      <td>106.0</td>\n",
       "      <td>1.8</td>\n",
       "      <td>0.6</td>\n",
       "      <td>77.0</td>\n",
       "      <td>27.9</td>\n",
       "      <td>5.9</td>\n",
       "      <td>3.3</td>\n",
       "      <td>60.1</td>\n",
       "      <td>143.00</td>\n",
       "      <td>1.0</td>\n",
       "    </tr>\n",
       "    <tr>\n",
       "      <th>188</th>\n",
       "      <td>11.2</td>\n",
       "      <td>12000.0</td>\n",
       "      <td>124000.0</td>\n",
       "      <td>210.0</td>\n",
       "      <td>43.2</td>\n",
       "      <td>1.3</td>\n",
       "      <td>132.0</td>\n",
       "      <td>3.8</td>\n",
       "      <td>110.0</td>\n",
       "      <td>1.2</td>\n",
       "      <td>0.6</td>\n",
       "      <td>56.2</td>\n",
       "      <td>43.2</td>\n",
       "      <td>5.6</td>\n",
       "      <td>3.4</td>\n",
       "      <td>216.0</td>\n",
       "      <td>124.00</td>\n",
       "      <td>1.0</td>\n",
       "    </tr>\n",
       "    <tr>\n",
       "      <th>189</th>\n",
       "      <td>15.3</td>\n",
       "      <td>5500.0</td>\n",
       "      <td>191000.0</td>\n",
       "      <td>149.0</td>\n",
       "      <td>54.6</td>\n",
       "      <td>1.5</td>\n",
       "      <td>127.0</td>\n",
       "      <td>6.7</td>\n",
       "      <td>93.0</td>\n",
       "      <td>0.6</td>\n",
       "      <td>0.3</td>\n",
       "      <td>474.2</td>\n",
       "      <td>157.9</td>\n",
       "      <td>6.6</td>\n",
       "      <td>3.3</td>\n",
       "      <td>320.9</td>\n",
       "      <td>163.15</td>\n",
       "      <td>1.0</td>\n",
       "    </tr>\n",
       "  </tbody>\n",
       "</table>\n",
       "<p>175 rows × 18 columns</p>\n",
       "</div>"
      ],
      "text/plain": [
       "     HEMOGLOBIN  TLC COUNT  PLATELET COUNT  RANDOM BLOOD SUGAR  UREA  \\\n",
       "0          15.9     6200.0        127000.0               121.0  47.5   \n",
       "1          13.4     4140.0        188000.0                96.0  21.8   \n",
       "2          15.9     4680.0        231000.0               102.0  18.3   \n",
       "3          13.2     5200.0        234000.0               119.0  36.6   \n",
       "4          13.7     9500.0        321000.0                92.0  22.0   \n",
       "..          ...        ...             ...                 ...   ...   \n",
       "185        18.2     6700.0        101000.0               200.0  54.1   \n",
       "186        13.9     6800.0        156000.0               151.0  59.6   \n",
       "187        14.9     8900.0       1820000.0               189.0  25.2   \n",
       "188        11.2    12000.0        124000.0               210.0  43.2   \n",
       "189        15.3     5500.0        191000.0               149.0  54.6   \n",
       "\n",
       "     CREATININE  SODIUM  POTASSIUM  CHLORIDE  TOTAL BILIRUBIN  \\\n",
       "0           1.3   143.0        4.8     108.0              0.5   \n",
       "1           1.0   148.0        4.1     108.0              0.3   \n",
       "2        5800.0   159.0       18.1       1.1              0.8   \n",
       "3           0.9   140.0        4.2     104.0              2.4   \n",
       "4           0.9   124.0        3.8      92.0              4.2   \n",
       "..          ...     ...        ...       ...              ...   \n",
       "185         0.9   136.0        2.9      97.0              1.4   \n",
       "186         1.9   141.0        4.2     106.0              0.5   \n",
       "187         1.1   137.0        4.2     106.0              1.8   \n",
       "188         1.3   132.0        3.8     110.0              1.2   \n",
       "189         1.5   127.0        6.7      93.0              0.6   \n",
       "\n",
       "     DIRECT BILIRUBIN   SGOT   SGPT  TOTAL PROTEINS  ALBUMIN  \\\n",
       "0                 0.2   81.3   70.0             5.9      3.8   \n",
       "1                 0.1   22.2   14.8             6.6      3.9   \n",
       "2                 0.3   19.3   12.8             7.0      4.2   \n",
       "3                 1.2   59.0   47.9             6.3      3.7   \n",
       "4                 2.1   44.6   55.5             5.9      3.1   \n",
       "..                ...    ...    ...             ...      ...   \n",
       "185               0.5   43.8   38.8             6.2      3.7   \n",
       "186               0.2   80.6   42.6             6.6      3.8   \n",
       "187               0.6   77.0   27.9             5.9      3.3   \n",
       "188               0.6   56.2   43.2             5.6      3.4   \n",
       "189               0.3  474.2  157.9             6.6      3.3   \n",
       "\n",
       "     ALKALINE PHOSPHATASE  C-REACTIVE PROTEINS  Outcome  \n",
       "0                    44.1                58.10      0.0  \n",
       "1                    58.5                 3.66      0.0  \n",
       "2                    86.0                10.17      0.0  \n",
       "3                   120.0               168.90      1.0  \n",
       "4                   177.0               164.00      0.0  \n",
       "..                    ...                  ...      ...  \n",
       "185                  73.3               127.60      1.0  \n",
       "186                  57.4               138.15      1.0  \n",
       "187                  60.1               143.00      1.0  \n",
       "188                 216.0               124.00      1.0  \n",
       "189                 320.9               163.15      1.0  \n",
       "\n",
       "[175 rows x 18 columns]"
      ]
     },
     "execution_count": 69,
     "metadata": {},
     "output_type": "execute_result"
    }
   ],
   "source": [
    "blood"
   ]
  },
  {
   "cell_type": "markdown",
   "metadata": {},
   "source": [
    "### Dealing with Missing values\n",
    "\n",
    "The columns IL-6, D-DIMER, SERUM FERTININ, PRO CALCITONIN, ERYTHROCYTE SEDIMENTATION RATE, LACTATE DEHYDROGENASE4 Have too mnay null values for us to make any useful assumptions from them. Thus we will drop these columns.\n",
    "\n",
    "All other columns have approximately 10 null values from the same patients, so we shall drop those rows."
   ]
  },
  {
   "cell_type": "code",
   "execution_count": 70,
   "metadata": {},
   "outputs": [],
   "source": [
    "#dropping columns\n",
    "#dropping NA values\n",
    "df.dropna(subset=['HEMOGLOBIN','TLC COUNT','PLATELET COUNT','RANDOM BLOOD SUGAR','UREA','CREATININE','SODIUM','POTASSIUM','CHLORIDE','TOTAL BILIRUBIN','DIRECT BILIRUBIN','SGOT','SGPT','TOTAL PROTEINS','ALBUMIN','ALKALINE PHOSPHATASE','C-REACTIVE PROTEINS'],axis=0,inplace=True)"
   ]
  },
  {
   "cell_type": "code",
   "execution_count": 71,
   "metadata": {},
   "outputs": [
    {
     "name": "stdout",
     "output_type": "stream",
     "text": [
      "HEMOGLOBIN\n",
      "False    175\n",
      "Name: HEMOGLOBIN, dtype: int64\n",
      "\n",
      "TLC COUNT\n",
      "False    175\n",
      "Name: TLC COUNT, dtype: int64\n",
      "\n",
      "PLATELET COUNT\n",
      "False    175\n",
      "Name: PLATELET COUNT, dtype: int64\n",
      "\n",
      "RANDOM BLOOD SUGAR\n",
      "False    175\n",
      "Name: RANDOM BLOOD SUGAR, dtype: int64\n",
      "\n",
      "UREA\n",
      "False    175\n",
      "Name: UREA, dtype: int64\n",
      "\n",
      "CREATININE\n",
      "False    175\n",
      "Name: CREATININE, dtype: int64\n",
      "\n",
      "SODIUM\n",
      "False    175\n",
      "Name: SODIUM, dtype: int64\n",
      "\n",
      "POTASSIUM\n",
      "False    175\n",
      "Name: POTASSIUM, dtype: int64\n",
      "\n",
      "CHLORIDE\n",
      "False    175\n",
      "Name: CHLORIDE, dtype: int64\n",
      "\n",
      "TOTAL BILIRUBIN\n",
      "False    175\n",
      "Name: TOTAL BILIRUBIN, dtype: int64\n",
      "\n",
      "DIRECT BILIRUBIN\n",
      "False    175\n",
      "Name: DIRECT BILIRUBIN, dtype: int64\n",
      "\n",
      "SGOT\n",
      "False    175\n",
      "Name: SGOT, dtype: int64\n",
      "\n",
      "SGPT\n",
      "False    175\n",
      "Name: SGPT, dtype: int64\n",
      "\n",
      "TOTAL PROTEINS\n",
      "False    175\n",
      "Name: TOTAL PROTEINS, dtype: int64\n",
      "\n",
      "ALBUMIN\n",
      "False    175\n",
      "Name: ALBUMIN, dtype: int64\n",
      "\n",
      "ALKALINE PHOSPHATASE\n",
      "False    175\n",
      "Name: ALKALINE PHOSPHATASE, dtype: int64\n",
      "\n",
      "C-REACTIVE PROTEINS\n",
      "False    175\n",
      "Name: C-REACTIVE PROTEINS, dtype: int64\n",
      "\n"
     ]
    }
   ],
   "source": [
    "blood = df[['HEMOGLOBIN','TLC COUNT','PLATELET COUNT','RANDOM BLOOD SUGAR','UREA','CREATININE','SODIUM','POTASSIUM','CHLORIDE','TOTAL BILIRUBIN','DIRECT BILIRUBIN','SGOT','SGPT','TOTAL PROTEINS','ALBUMIN','ALKALINE PHOSPHATASE','C-REACTIVE PROTEINS']]\n",
    "missing_data = blood.isnull()\n",
    "for column in missing_data.columns.values.tolist():\n",
    "    print(column)\n",
    "    print (missing_data[column].value_counts())\n",
    "    print(\"\")"
   ]
  },
  {
   "cell_type": "markdown",
   "metadata": {},
   "source": [
    "Now there are no missing values in our data.\n",
    "We have 178 patients data, and now we can analyse how their blood factors are affecting the ventilatory support."
   ]
  },
  {
   "cell_type": "markdown",
   "metadata": {},
   "source": [
    "### Normalizing Data"
   ]
  },
  {
   "cell_type": "code",
   "execution_count": null,
   "metadata": {},
   "outputs": [],
   "source": []
  },
  {
   "cell_type": "markdown",
   "metadata": {},
   "source": [
    "### Understanding the Features"
   ]
  },
  {
   "cell_type": "code",
   "execution_count": 72,
   "metadata": {},
   "outputs": [
    {
     "data": {
      "text/plain": [
       "<Figure size 7200x7200 with 0 Axes>"
      ]
     },
     "execution_count": 72,
     "metadata": {},
     "output_type": "execute_result"
    },
    {
     "data": {
      "image/png": "[encoded data removed]",
      "text/plain": [
       "<Figure size 432x288 with 2 Axes>"
      ]
     },
     "metadata": {
      "needs_background": "light"
     },
     "output_type": "display_data"
    },
    {
     "data": {
      "text/plain": [
       "<Figure size 7200x7200 with 0 Axes>"
      ]
     },
     "metadata": {},
     "output_type": "display_data"
    }
   ],
   "source": [
    "blood = df[['HEMOGLOBIN','TLC COUNT','PLATELET COUNT','RANDOM BLOOD SUGAR','UREA','CREATININE','SODIUM','POTASSIUM','CHLORIDE','TOTAL BILIRUBIN','DIRECT BILIRUBIN','SGOT','SGPT','TOTAL PROTEINS','ALBUMIN','ALKALINE PHOSPHATASE','C-REACTIVE PROTEINS','Outcome']] \n",
    "sns.heatmap(blood.corr())\n",
    "plt.figure(figsize = (100,100))"
   ]
  },
  {
   "cell_type": "code",
   "execution_count": 73,
   "metadata": {
    "scrolled": true
   },
   "outputs": [
    {
     "data": {
      "text/plain": [
       "<AxesSubplot:xlabel='Outcome', ylabel='C-REACTIVE PROTEINS'>"
      ]
     },
     "execution_count": 73,
     "metadata": {},
     "output_type": "execute_result"
    },
    {
     "data": {
      "image/png": "[encoded data removed]",
      "text/plain": [
       "<Figure size 432x288 with 1 Axes>"
      ]
     },
     "metadata": {
      "needs_background": "light"
     },
     "output_type": "display_data"
    }
   ],
   "source": [
    "sns.boxplot(x=\"Outcome\", y=\"C-REACTIVE PROTEINS\", data=blood)"
   ]
  },
  {
   "cell_type": "code",
   "execution_count": 74,
   "metadata": {},
   "outputs": [
    {
     "data": {
      "text/plain": [
       "<AxesSubplot:xlabel='Outcome', ylabel='SODIUM'>"
      ]
     },
     "execution_count": 74,
     "metadata": {},
     "output_type": "execute_result"
    },
    {
     "data": {
      "image/png": "[encoded data removed]",
      "text/plain": [
       "<Figure size 432x288 with 1 Axes>"
      ]
     },
     "metadata": {
      "needs_background": "light"
     },
     "output_type": "display_data"
    }
   ],
   "source": [
    "sns.boxplot(x=\"Outcome\", y=\"SODIUM\", data=blood)"
   ]
  },
  {
   "cell_type": "code",
   "execution_count": 75,
   "metadata": {
    "scrolled": true
   },
   "outputs": [
    {
     "data": {
      "text/plain": [
       "<AxesSubplot:xlabel='Outcome', ylabel='SGOT'>"
      ]
     },
     "execution_count": 75,
     "metadata": {},
     "output_type": "execute_result"
    },
    {
     "data": {
      "image/png": "[encoded data removed]",
      "text/plain": [
       "<Figure size 432x288 with 1 Axes>"
      ]
     },
     "metadata": {
      "needs_background": "light"
     },
     "output_type": "display_data"
    }
   ],
   "source": [
    "sns.boxplot(x=\"Outcome\", y=\"SGOT\", data=blood)"
   ]
  },
  {
   "cell_type": "code",
   "execution_count": 76,
   "metadata": {},
   "outputs": [
    {
     "data": {
      "text/plain": [
       "<AxesSubplot:xlabel='Outcome', ylabel='UREA'>"
      ]
     },
     "execution_count": 76,
     "metadata": {},
     "output_type": "execute_result"
    },
    {
     "data": {
      "image/png": "[encoded data removed]",
      "text/plain": [
       "<Figure size 432x288 with 1 Axes>"
      ]
     },
     "metadata": {
      "needs_background": "light"
     },
     "output_type": "display_data"
    }
   ],
   "source": [
    "sns.boxplot(x=\"Outcome\", y=\"UREA\", data=blood)"
   ]
  },
  {
   "cell_type": "code",
   "execution_count": 77,
   "metadata": {
    "scrolled": true
   },
   "outputs": [
    {
     "data": {
      "text/plain": [
       "<AxesSubplot:xlabel='Outcome', ylabel='TLC COUNT'>"
      ]
     },
     "execution_count": 77,
     "metadata": {},
     "output_type": "execute_result"
    },
    {
     "data": {
      "image/png": "[encoded data removed]",
      "text/plain": [
       "<Figure size 432x288 with 1 Axes>"
      ]
     },
     "metadata": {
      "needs_background": "light"
     },
     "output_type": "display_data"
    }
   ],
   "source": [
    "sns.boxplot(x=\"Outcome\", y=\"TLC COUNT\", data=blood)"
   ]
  },
  {
   "cell_type": "code",
   "execution_count": 78,
   "metadata": {
    "scrolled": true
   },
   "outputs": [
    {
     "data": {
      "text/plain": [
       "<AxesSubplot:xlabel='Outcome', ylabel='ALKALINE PHOSPHATASE'>"
      ]
     },
     "execution_count": 78,
     "metadata": {},
     "output_type": "execute_result"
    },
    {
     "data": {
      "image/png": "[encoded data removed]",
      "text/plain": [
       "<Figure size 432x288 with 1 Axes>"
      ]
     },
     "metadata": {
      "needs_background": "light"
     },
     "output_type": "display_data"
    }
   ],
   "source": [
    "sns.boxplot(x=\"Outcome\", y=\"ALKALINE PHOSPHATASE\", data=blood)"
   ]
  },
  {
   "cell_type": "code",
   "execution_count": 79,
   "metadata": {},
   "outputs": [
    {
     "data": {
      "text/plain": [
       "<AxesSubplot:xlabel='Outcome', ylabel='POTASSIUM'>"
      ]
     },
     "execution_count": 79,
     "metadata": {},
     "output_type": "execute_result"
    },
    {
     "data": {
      "image/png": "[encoded data removed]",
      "text/plain": [
       "<Figure size 432x288 with 1 Axes>"
      ]
     },
     "metadata": {
      "needs_background": "light"
     },
     "output_type": "display_data"
    }
   ],
   "source": [
    "sns.boxplot(x=\"Outcome\", y=\"POTASSIUM\", data=blood)"
   ]
  },
  {
   "cell_type": "code",
   "execution_count": 80,
   "metadata": {},
   "outputs": [
    {
     "data": {
      "text/plain": [
       "<AxesSubplot:xlabel='Outcome', ylabel='PLATELET COUNT'>"
      ]
     },
     "execution_count": 80,
     "metadata": {},
     "output_type": "execute_result"
    },
    {
     "data": {
      "image/png": "[encoded data removed]",
      "text/plain": [
       "<Figure size 432x288 with 1 Axes>"
      ]
     },
     "metadata": {
      "needs_background": "light"
     },
     "output_type": "display_data"
    }
   ],
   "source": [
    "sns.boxplot(x=\"Outcome\", y=\"PLATELET COUNT\", data=blood)"
   ]
  },
  {
   "cell_type": "markdown",
   "metadata": {},
   "source": [
    "From the analysis above, we see that the factors 'C-REACTIVE PROTEINS','UREA','SODIUM','TOTAL PROTEINS' and 'SGOT' may have some predictive value for the outcome of the disease."
   ]
  },
  {
   "cell_type": "code",
   "execution_count": 81,
   "metadata": {},
   "outputs": [
    {
     "data": {
      "text/html": [
       "<div>\n",
       "<style scoped>\n",
       "    .dataframe tbody tr th:only-of-type {\n",
       "        vertical-align: middle;\n",
       "    }\n",
       "\n",
       "    .dataframe tbody tr th {\n",
       "        vertical-align: top;\n",
       "    }\n",
       "\n",
       "    .dataframe thead tr th {\n",
       "        text-align: left;\n",
       "    }\n",
       "\n",
       "    .dataframe thead tr:last-of-type th {\n",
       "        text-align: right;\n",
       "    }\n",
       "</style>\n",
       "<table border=\"1\" class=\"dataframe\">\n",
       "  <thead>\n",
       "    <tr>\n",
       "      <th></th>\n",
       "      <th colspan=\"2\" halign=\"left\">TLC COUNT</th>\n",
       "    </tr>\n",
       "    <tr>\n",
       "      <th>Outcome</th>\n",
       "      <th>0.0</th>\n",
       "      <th>1.0</th>\n",
       "    </tr>\n",
       "    <tr>\n",
       "      <th>Gender</th>\n",
       "      <th></th>\n",
       "      <th></th>\n",
       "    </tr>\n",
       "  </thead>\n",
       "  <tbody>\n",
       "    <tr>\n",
       "      <th>0</th>\n",
       "      <td>7665.806452</td>\n",
       "      <td>16150.000000</td>\n",
       "    </tr>\n",
       "    <tr>\n",
       "      <th>1</th>\n",
       "      <td>7966.966292</td>\n",
       "      <td>10466.666667</td>\n",
       "    </tr>\n",
       "  </tbody>\n",
       "</table>\n",
       "</div>"
      ],
      "text/plain": [
       "           TLC COUNT              \n",
       "Outcome          0.0           1.0\n",
       "Gender                            \n",
       "0        7665.806452  16150.000000\n",
       "1        7966.966292  10466.666667"
      ]
     },
     "execution_count": 81,
     "metadata": {},
     "output_type": "execute_result"
    }
   ],
   "source": [
    "measure = df[[\"Gender\", \"Outcome\",\"TLC COUNT\"]]\n",
    "grouped = measure.groupby(['Gender','Outcome'],as_index=False).mean()\n",
    "grouped_pivot = grouped.pivot(index='Gender',columns='Outcome')\n",
    "grouped_pivot"
   ]
  },
  {
   "cell_type": "code",
   "execution_count": 82,
   "metadata": {},
   "outputs": [
    {
     "data": {
      "text/plain": [
       "<Figure size 7200x7200 with 0 Axes>"
      ]
     },
     "execution_count": 82,
     "metadata": {},
     "output_type": "execute_result"
    },
    {
     "data": {
      "image/png": "[encoded data removed]",
      "text/plain": [
       "<Figure size 432x288 with 2 Axes>"
      ]
     },
     "metadata": {
      "needs_background": "light"
     },
     "output_type": "display_data"
    },
    {
     "data": {
      "text/plain": [
       "<Figure size 7200x7200 with 0 Axes>"
      ]
     },
     "metadata": {},
     "output_type": "display_data"
    }
   ],
   "source": [
    "measure = df.query(\"Outcome==1\")[[\"Gender\",\"TLC COUNT\",\"HEMOGLOBIN\",\"UREA\",\"C-REACTIVE PROTEINS\"]]\n",
    "sns.heatmap(measure.corr(),annot=True)\n",
    "plt.figure(figsize = (100,100))"
   ]
  },
  {
   "cell_type": "code",
   "execution_count": 83,
   "metadata": {},
   "outputs": [
    {
     "data": {
      "text/plain": [
       "(542.031008085931, 6.8169876343997e-120)"
      ]
     },
     "execution_count": 83,
     "metadata": {},
     "output_type": "execute_result"
    }
   ],
   "source": [
    "chi2, p, dof, ex = scipy.stats.chi2_contingency(np.array(grouped_pivot))\n",
    "chi2, p"
   ]
  },
  {
   "cell_type": "code",
   "execution_count": 84,
   "metadata": {},
   "outputs": [
    {
     "data": {
      "text/plain": [
       "<Figure size 432x288 with 0 Axes>"
      ]
     },
     "execution_count": 84,
     "metadata": {},
     "output_type": "execute_result"
    },
    {
     "data": {
      "image/png": "[encoded data removed]",
      "text/plain": [
       "<Figure size 432x288 with 2 Axes>"
      ]
     },
     "metadata": {
      "needs_background": "light"
     },
     "output_type": "display_data"
    },
    {
     "data": {
      "text/plain": [
       "<Figure size 432x288 with 0 Axes>"
      ]
     },
     "metadata": {},
     "output_type": "display_data"
    }
   ],
   "source": [
    "columns = ['HEMOGLOBIN','TLC COUNT','PLATELET COUNT','RANDOM BLOOD SUGAR','UREA','CREATININE','SODIUM','POTASSIUM','CHLORIDE','TOTAL BILIRUBIN','DIRECT BILIRUBIN','SGOT','SGPT','TOTAL PROTEINS','ALBUMIN','ALKALINE PHOSPHATASE','C-REACTIVE PROTEINS']\n",
    "blood = df[['HEMOGLOBIN','TLC COUNT','PLATELET COUNT','RANDOM BLOOD SUGAR','UREA','CREATININE','SODIUM','POTASSIUM','CHLORIDE','TOTAL BILIRUBIN','DIRECT BILIRUBIN','SGOT','SGPT','TOTAL PROTEINS','ALBUMIN','ALKALINE PHOSPHATASE','C-REACTIVE PROTEINS']] \n",
    "pearsonoutcome = []\n",
    "outcome = np.array(df['Outcome'])\n",
    "for i in blood.columns:\n",
    "    pearsonoutcome.append(scipy.stats.pearsonr(np.array(df[i]), outcome)[0]) \n",
    "sns.heatmap(pd.DataFrame(pearsonoutcome,columns),annot=True)\n",
    "plt.figure()"
   ]
  },
  {
   "cell_type": "markdown",
   "metadata": {},
   "source": [
    "## Tests\n",
    "\n",
    "1. qSOFA score\n",
    "2. CORADS Score on HRCT"
   ]
  },
  {
   "cell_type": "code",
   "execution_count": 85,
   "metadata": {},
   "outputs": [
    {
     "data": {
      "text/html": [
       "<div>\n",
       "<style scoped>\n",
       "    .dataframe tbody tr th:only-of-type {\n",
       "        vertical-align: middle;\n",
       "    }\n",
       "\n",
       "    .dataframe tbody tr th {\n",
       "        vertical-align: top;\n",
       "    }\n",
       "\n",
       "    .dataframe thead tr th {\n",
       "        text-align: left;\n",
       "    }\n",
       "\n",
       "    .dataframe thead tr:last-of-type th {\n",
       "        text-align: right;\n",
       "    }\n",
       "</style>\n",
       "<table border=\"1\" class=\"dataframe\">\n",
       "  <thead>\n",
       "    <tr>\n",
       "      <th></th>\n",
       "      <th colspan=\"2\" halign=\"left\">size</th>\n",
       "    </tr>\n",
       "    <tr>\n",
       "      <th>Outcome</th>\n",
       "      <th>0.0</th>\n",
       "      <th>1.0</th>\n",
       "    </tr>\n",
       "    <tr>\n",
       "      <th>qSOFA SCORE</th>\n",
       "      <th></th>\n",
       "      <th></th>\n",
       "    </tr>\n",
       "  </thead>\n",
       "  <tbody>\n",
       "    <tr>\n",
       "      <th>0.0</th>\n",
       "      <td>108</td>\n",
       "      <td>3</td>\n",
       "    </tr>\n",
       "    <tr>\n",
       "      <th>1.0</th>\n",
       "      <td>42</td>\n",
       "      <td>20</td>\n",
       "    </tr>\n",
       "    <tr>\n",
       "      <th>2.0</th>\n",
       "      <td>1</td>\n",
       "      <td>1</td>\n",
       "    </tr>\n",
       "  </tbody>\n",
       "</table>\n",
       "</div>"
      ],
      "text/plain": [
       "            size    \n",
       "Outcome      0.0 1.0\n",
       "qSOFA SCORE         \n",
       "0.0          108   3\n",
       "1.0           42  20\n",
       "2.0            1   1"
      ]
     },
     "execution_count": 85,
     "metadata": {},
     "output_type": "execute_result"
    }
   ],
   "source": [
    "df_qSOFA = df[['qSOFA SCORE','Outcome']]\n",
    "c_qSOFA = contingency(df_qSOFA,'qSOFA SCORE')\n",
    "c_qSOFA"
   ]
  },
  {
   "cell_type": "markdown",
   "metadata": {},
   "source": [
    "One factor could be if the CORADS Score on HRCT is above 6. "
   ]
  },
  {
   "cell_type": "code",
   "execution_count": null,
   "metadata": {},
   "outputs": [],
   "source": []
  },
  {
   "cell_type": "code",
   "execution_count": 86,
   "metadata": {},
   "outputs": [
    {
     "data": {
      "text/plain": [
       "PointbiserialrResult(correlation=0.472893752287284, pvalue=3.893275765373262e-11)"
      ]
     },
     "execution_count": 86,
     "metadata": {},
     "output_type": "execute_result"
    }
   ],
   "source": [
    "scipy.stats.pointbiserialr(df['Outcome'],df['C-REACTIVE PROTEINS'])"
   ]
  },
  {
   "cell_type": "code",
   "execution_count": 87,
   "metadata": {},
   "outputs": [
    {
     "data": {
      "text/plain": [
       "PointbiserialrResult(correlation=0.3117064304171466, pvalue=2.6805506711561495e-05)"
      ]
     },
     "execution_count": 87,
     "metadata": {},
     "output_type": "execute_result"
    }
   ],
   "source": [
    "scipy.stats.pointbiserialr(df['Outcome'],df['UREA'])"
   ]
  },
  {
   "cell_type": "code",
   "execution_count": 88,
   "metadata": {},
   "outputs": [
    {
     "data": {
      "text/plain": [
       "PointbiserialrResult(correlation=0.30439476232310986, pvalue=4.212188070385344e-05)"
      ]
     },
     "execution_count": 88,
     "metadata": {},
     "output_type": "execute_result"
    }
   ],
   "source": [
    "scipy.stats.pointbiserialr(df['Outcome'],df['TLC COUNT'])"
   ]
  },
  {
   "cell_type": "code",
   "execution_count": 89,
   "metadata": {},
   "outputs": [
    {
     "data": {
      "text/plain": [
       "PointbiserialrResult(correlation=-0.1783901613784831, pvalue=0.018179304860517262)"
      ]
     },
     "execution_count": 89,
     "metadata": {},
     "output_type": "execute_result"
    }
   ],
   "source": [
    "scipy.stats.pointbiserialr(df['Outcome'],df['SODIUM'])"
   ]
  },
  {
   "cell_type": "code",
   "execution_count": 90,
   "metadata": {},
   "outputs": [
    {
     "data": {
      "text/plain": [
       "PointbiserialrResult(correlation=0.11864957119709095, pvalue=0.1178487429919925)"
      ]
     },
     "execution_count": 90,
     "metadata": {},
     "output_type": "execute_result"
    }
   ],
   "source": [
    "scipy.stats.pointbiserialr(df['Outcome'],df['POTASSIUM'])"
   ]
  },
  {
   "cell_type": "code",
   "execution_count": 91,
   "metadata": {},
   "outputs": [
    {
     "data": {
      "text/plain": [
       "PointbiserialrResult(correlation=0.0309687054569618, pvalue=0.6841261333271086)"
      ]
     },
     "execution_count": 91,
     "metadata": {},
     "output_type": "execute_result"
    }
   ],
   "source": [
    "scipy.stats.pointbiserialr(df['Outcome'],df['HEMOGLOBIN'])"
   ]
  },
  {
   "cell_type": "code",
   "execution_count": 92,
   "metadata": {},
   "outputs": [
    {
     "data": {
      "text/plain": [
       "PointbiserialrResult(correlation=0.14671314875795136, pvalue=0.05269396000439196)"
      ]
     },
     "execution_count": 92,
     "metadata": {},
     "output_type": "execute_result"
    }
   ],
   "source": [
    "scipy.stats.pointbiserialr(df['Outcome'],df['PLATELET COUNT'])"
   ]
  },
  {
   "cell_type": "code",
   "execution_count": 93,
   "metadata": {},
   "outputs": [
    {
     "data": {
      "text/plain": [
       "PointbiserialrResult(correlation=-0.02948197680523263, pvalue=0.6985347753381967)"
      ]
     },
     "execution_count": 93,
     "metadata": {},
     "output_type": "execute_result"
    }
   ],
   "source": [
    "scipy.stats.pointbiserialr(df['Outcome'],df['CREATININE'])"
   ]
  },
  {
   "cell_type": "code",
   "execution_count": 94,
   "metadata": {},
   "outputs": [
    {
     "data": {
      "text/plain": [
       "PointbiserialrResult(correlation=0.09356839495311253, pvalue=0.21808849835810593)"
      ]
     },
     "execution_count": 94,
     "metadata": {},
     "output_type": "execute_result"
    }
   ],
   "source": [
    "scipy.stats.pointbiserialr(df['Outcome'],df['TOTAL BILIRUBIN'])"
   ]
  },
  {
   "cell_type": "code",
   "execution_count": 95,
   "metadata": {},
   "outputs": [
    {
     "data": {
      "text/plain": [
       "PointbiserialrResult(correlation=-0.060385458404237355, pvalue=0.4272975772317907)"
      ]
     },
     "execution_count": 95,
     "metadata": {},
     "output_type": "execute_result"
    }
   ],
   "source": [
    "scipy.stats.pointbiserialr(df['Outcome'],df['CHLORIDE'])"
   ]
  },
  {
   "cell_type": "code",
   "execution_count": 96,
   "metadata": {},
   "outputs": [
    {
     "data": {
      "text/plain": [
       "PointbiserialrResult(correlation=-0.022651382956557976, pvalue=0.7660539751609032)"
      ]
     },
     "execution_count": 96,
     "metadata": {},
     "output_type": "execute_result"
    }
   ],
   "source": [
    "scipy.stats.pointbiserialr(df['Outcome'],df['ALBUMIN'])"
   ]
  },
  {
   "cell_type": "code",
   "execution_count": 97,
   "metadata": {},
   "outputs": [
    {
     "data": {
      "text/plain": [
       "PointbiserialrResult(correlation=0.28232528988800476, pvalue=0.00015349414730621736)"
      ]
     },
     "execution_count": 97,
     "metadata": {},
     "output_type": "execute_result"
    }
   ],
   "source": [
    "scipy.stats.pointbiserialr(df['Outcome'],df['SGOT'])"
   ]
  },
  {
   "cell_type": "code",
   "execution_count": 98,
   "metadata": {},
   "outputs": [
    {
     "data": {
      "text/plain": [
       "PointbiserialrResult(correlation=0.10043734065309715, pvalue=0.18600636738358176)"
      ]
     },
     "execution_count": 98,
     "metadata": {},
     "output_type": "execute_result"
    }
   ],
   "source": [
    "scipy.stats.pointbiserialr(df['Outcome'],df['SGPT'])"
   ]
  },
  {
   "cell_type": "code",
   "execution_count": 99,
   "metadata": {},
   "outputs": [
    {
     "data": {
      "text/plain": [
       "PointbiserialrResult(correlation=0.18785683904932488, pvalue=0.012792008482385313)"
      ]
     },
     "execution_count": 99,
     "metadata": {},
     "output_type": "execute_result"
    }
   ],
   "source": [
    "scipy.stats.pointbiserialr(df['Outcome'],df['ALKALINE PHOSPHATASE'])"
   ]
  },
  {
   "cell_type": "code",
   "execution_count": 100,
   "metadata": {},
   "outputs": [
    {
     "data": {
      "text/html": [
       "<div>\n",
       "<style scoped>\n",
       "    .dataframe tbody tr th:only-of-type {\n",
       "        vertical-align: middle;\n",
       "    }\n",
       "\n",
       "    .dataframe tbody tr th {\n",
       "        vertical-align: top;\n",
       "    }\n",
       "\n",
       "    .dataframe thead th {\n",
       "        text-align: right;\n",
       "    }\n",
       "</style>\n",
       "<table border=\"1\" class=\"dataframe\">\n",
       "  <thead>\n",
       "    <tr style=\"text-align: right;\">\n",
       "      <th></th>\n",
       "      <th>Age</th>\n",
       "      <th>BMI</th>\n",
       "      <th>Temp</th>\n",
       "      <th>SPO2</th>\n",
       "      <th>Respiratory rate(breaths per minute)</th>\n",
       "      <th>RANDOM BLOOD SUGAR</th>\n",
       "    </tr>\n",
       "  </thead>\n",
       "  <tbody>\n",
       "    <tr>\n",
       "      <th>0</th>\n",
       "      <td>0.551724</td>\n",
       "      <td>0.436782</td>\n",
       "      <td>0.174603</td>\n",
       "      <td>0.833333</td>\n",
       "      <td>0.3</td>\n",
       "      <td>0.131285</td>\n",
       "    </tr>\n",
       "    <tr>\n",
       "      <th>1</th>\n",
       "      <td>0.241379</td>\n",
       "      <td>0.804598</td>\n",
       "      <td>0.476190</td>\n",
       "      <td>0.666667</td>\n",
       "      <td>0.1</td>\n",
       "      <td>0.061453</td>\n",
       "    </tr>\n",
       "    <tr>\n",
       "      <th>2</th>\n",
       "      <td>0.264368</td>\n",
       "      <td>0.402299</td>\n",
       "      <td>0.428571</td>\n",
       "      <td>0.666667</td>\n",
       "      <td>0.1</td>\n",
       "      <td>0.078212</td>\n",
       "    </tr>\n",
       "    <tr>\n",
       "      <th>3</th>\n",
       "      <td>0.781609</td>\n",
       "      <td>0.321839</td>\n",
       "      <td>0.365079</td>\n",
       "      <td>0.666667</td>\n",
       "      <td>0.6</td>\n",
       "      <td>0.125698</td>\n",
       "    </tr>\n",
       "    <tr>\n",
       "      <th>4</th>\n",
       "      <td>0.505747</td>\n",
       "      <td>1.000000</td>\n",
       "      <td>0.841270</td>\n",
       "      <td>0.666667</td>\n",
       "      <td>0.3</td>\n",
       "      <td>0.050279</td>\n",
       "    </tr>\n",
       "    <tr>\n",
       "      <th>...</th>\n",
       "      <td>...</td>\n",
       "      <td>...</td>\n",
       "      <td>...</td>\n",
       "      <td>...</td>\n",
       "      <td>...</td>\n",
       "      <td>...</td>\n",
       "    </tr>\n",
       "    <tr>\n",
       "      <th>185</th>\n",
       "      <td>0.551724</td>\n",
       "      <td>0.977011</td>\n",
       "      <td>0.507937</td>\n",
       "      <td>0.333333</td>\n",
       "      <td>0.7</td>\n",
       "      <td>0.351955</td>\n",
       "    </tr>\n",
       "    <tr>\n",
       "      <th>186</th>\n",
       "      <td>0.321839</td>\n",
       "      <td>0.839080</td>\n",
       "      <td>0.571429</td>\n",
       "      <td>0.666667</td>\n",
       "      <td>0.7</td>\n",
       "      <td>0.215084</td>\n",
       "    </tr>\n",
       "    <tr>\n",
       "      <th>187</th>\n",
       "      <td>0.747126</td>\n",
       "      <td>0.310345</td>\n",
       "      <td>0.412698</td>\n",
       "      <td>0.833333</td>\n",
       "      <td>0.3</td>\n",
       "      <td>0.321229</td>\n",
       "    </tr>\n",
       "    <tr>\n",
       "      <th>188</th>\n",
       "      <td>0.689655</td>\n",
       "      <td>0.425287</td>\n",
       "      <td>0.507937</td>\n",
       "      <td>0.500000</td>\n",
       "      <td>0.9</td>\n",
       "      <td>0.379888</td>\n",
       "    </tr>\n",
       "    <tr>\n",
       "      <th>189</th>\n",
       "      <td>0.804598</td>\n",
       "      <td>0.862069</td>\n",
       "      <td>0.523810</td>\n",
       "      <td>0.166667</td>\n",
       "      <td>0.7</td>\n",
       "      <td>0.209497</td>\n",
       "    </tr>\n",
       "  </tbody>\n",
       "</table>\n",
       "<p>175 rows × 6 columns</p>\n",
       "</div>"
      ],
      "text/plain": [
       "          Age       BMI      Temp      SPO2  \\\n",
       "0    0.551724  0.436782  0.174603  0.833333   \n",
       "1    0.241379  0.804598  0.476190  0.666667   \n",
       "2    0.264368  0.402299  0.428571  0.666667   \n",
       "3    0.781609  0.321839  0.365079  0.666667   \n",
       "4    0.505747  1.000000  0.841270  0.666667   \n",
       "..        ...       ...       ...       ...   \n",
       "185  0.551724  0.977011  0.507937  0.333333   \n",
       "186  0.321839  0.839080  0.571429  0.666667   \n",
       "187  0.747126  0.310345  0.412698  0.833333   \n",
       "188  0.689655  0.425287  0.507937  0.500000   \n",
       "189  0.804598  0.862069  0.523810  0.166667   \n",
       "\n",
       "     Respiratory rate(breaths per minute)  RANDOM BLOOD SUGAR  \n",
       "0                                     0.3            0.131285  \n",
       "1                                     0.1            0.061453  \n",
       "2                                     0.1            0.078212  \n",
       "3                                     0.6            0.125698  \n",
       "4                                     0.3            0.050279  \n",
       "..                                    ...                 ...  \n",
       "185                                   0.7            0.351955  \n",
       "186                                   0.7            0.215084  \n",
       "187                                   0.3            0.321229  \n",
       "188                                   0.9            0.379888  \n",
       "189                                   0.7            0.209497  \n",
       "\n",
       "[175 rows x 6 columns]"
      ]
     },
     "execution_count": 100,
     "metadata": {},
     "output_type": "execute_result"
    }
   ],
   "source": [
    "from sklearn.preprocessing import MinMaxScaler\n",
    "scaler = MinMaxScaler()\n",
    "df[['Age','BMI','Temp','SPO2','Respiratory rate(breaths per minute)','RANDOM BLOOD SUGAR']] = scaler.fit_transform(df[['Age','BMI','Temp','SPO2','Respiratory rate(breaths per minute)','RANDOM BLOOD SUGAR']])\n",
    "df[['Age','BMI','Temp','SPO2','Respiratory rate(breaths per minute)','RANDOM BLOOD SUGAR']]"
   ]
  },
  {
   "cell_type": "code",
   "execution_count": 101,
   "metadata": {},
   "outputs": [],
   "source": [
    "blood = df[['HEMOGLOBIN','TLC COUNT','PLATELET COUNT','RANDOM BLOOD SUGAR','UREA','CREATININE','SODIUM','POTASSIUM','CHLORIDE','TOTAL BILIRUBIN','DIRECT BILIRUBIN','SGOT','SGPT','TOTAL PROTEINS','ALBUMIN','ALKALINE PHOSPHATASE','C-REACTIVE PROTEINS']]\n",
    "\n",
    "df[['HEMOGLOBIN','TLC COUNT','PLATELET COUNT','RANDOM BLOOD SUGAR','UREA','CREATININE','SODIUM','POTASSIUM','CHLORIDE','TOTAL BILIRUBIN','DIRECT BILIRUBIN','SGOT','SGPT','TOTAL PROTEINS','ALBUMIN','ALKALINE PHOSPHATASE','C-REACTIVE PROTEINS']].astype('float')\n",
    "# scaler = MinMaxScaler()\n",
    "df[['HEMOGLOBIN','TLC COUNT','PLATELET COUNT','RANDOM BLOOD SUGAR','UREA','CREATININE','SODIUM','POTASSIUM','CHLORIDE','TOTAL BILIRUBIN','DIRECT BILIRUBIN','SGOT','SGPT','TOTAL PROTEINS','ALBUMIN','ALKALINE PHOSPHATASE','C-REACTIVE PROTEINS']] = scaler.fit_transform(blood)"
   ]
  },
  {
   "cell_type": "code",
   "execution_count": 102,
   "metadata": {},
   "outputs": [],
   "source": [
    "df.to_csv('clean_df.csv')"
   ]
  },
  {
   "cell_type": "code",
   "execution_count": 103,
   "metadata": {},
   "outputs": [
    {
     "data": {
      "text/plain": [
       "<AxesSubplot:ylabel='Patient ID'>"
      ]
     },
     "execution_count": 103,
     "metadata": {},
     "output_type": "execute_result"
    },
    {
     "data": {
      "image/png": "[encoded data removed]",
      "text/plain": [
       "<Figure size 432x288 with 2 Axes>"
      ]
     },
     "metadata": {
      "needs_background": "light"
     },
     "output_type": "display_data"
    }
   ],
   "source": [
    "data = np.array(df[['Age','BMI','SPO2','Temp',]])\n",
    "data\n",
    "sns.heatmap(pd.DataFrame(data,df['Patient ID']))"
   ]
  },
  {
   "cell_type": "code",
   "execution_count": 104,
   "metadata": {},
   "outputs": [
    {
     "data": {
      "text/plain": [
       "<AxesSubplot:ylabel='Patient ID'>"
      ]
     },
     "execution_count": 104,
     "metadata": {},
     "output_type": "execute_result"
    },
    {
     "data": {
      "image/png": "[encoded data removed]",
      "text/plain": [
       "<Figure size 432x288 with 2 Axes>"
      ]
     },
     "metadata": {
      "needs_background": "light"
     },
     "output_type": "display_data"
    }
   ],
   "source": [
    "data = np.array(df[['HEMOGLOBIN','TLC COUNT','PLATELET COUNT','RANDOM BLOOD SUGAR','UREA','CREATININE','SODIUM','POTASSIUM','CHLORIDE','TOTAL BILIRUBIN','DIRECT BILIRUBIN','SGOT','SGPT','TOTAL PROTEINS','ALBUMIN','ALKALINE PHOSPHATASE','C-REACTIVE PROTEINS']])\n",
    "data\n",
    "sns.heatmap(pd.DataFrame(data,df['Patient ID']))"
   ]
  },
  {
   "cell_type": "code",
   "execution_count": 105,
   "metadata": {},
   "outputs": [
    {
     "data": {
      "text/plain": [
       "[Text(0.5, 0, 'Breathlessness'),\n",
       " Text(1.5, 0, 'Cough'),\n",
       " Text(2.5, 0, 'Fever'),\n",
       " Text(3.5, 0, 'Diabetes'),\n",
       " Text(4.5, 0, 'Hypertension'),\n",
       " Text(5.5, 0, 'Heart Condition')]"
      ]
     },
     "execution_count": 105,
     "metadata": {},
     "output_type": "execute_result"
    },
    {
     "data": {
      "image/png": "[encoded data removed]",
      "text/plain": [
       "<Figure size 360x720 with 1 Axes>"
      ]
     },
     "metadata": {
      "needs_background": "light"
     },
     "output_type": "display_data"
    }
   ],
   "source": [
    "import matplotlib.pyplot as plt\n",
    "\n",
    "fig, ax = plt.subplots(figsize=(5,10)) \n",
    "data = np.array(df[['Breathlessness','Cough','Fever','Diabetes','Hypertension','Heart Condition']])\n",
    "sns.heatmap(pd.DataFrame(data,df['Patient ID']),cmap='PuRd',ax=ax,cbar=False)\n",
    "ax.set_xticklabels(['Breathlessness','Cough','Fever','Diabetes','Hypertension','Heart Condition'],rotation='vertical')"
   ]
  },
  {
   "cell_type": "code",
   "execution_count": 106,
   "metadata": {},
   "outputs": [
    {
     "data": {
      "text/plain": [
       "[Text(0, 0, 'Age'),\n",
       " Text(1, 0, 'Gender'),\n",
       " Text(2, 0, 'BMI'),\n",
       " Text(3, 0, 'Symptoms Present?'),\n",
       " Text(4, 0, 'Fever'),\n",
       " Text(5, 0, 'Cough'),\n",
       " Text(6, 0, 'Breathlessness'),\n",
       " Text(7, 0, 'Temp'),\n",
       " Text(8, 0, 'SPO2'),\n",
       " Text(9, 0, 'Contact to NCOVID Patient'),\n",
       " Text(10, 0, 'Co-morbidity?'),\n",
       " Text(11, 0, 'Diabetes'),\n",
       " Text(12, 0, 'Hypertension'),\n",
       " Text(13, 0, 'Heart Condition'),\n",
       " Text(14, 0, 'Respiratory rate(breaths per minute)'),\n",
       " Text(15, 0, 'HEMOGLOBIN'),\n",
       " Text(16, 0, 'TLC COUNT'),\n",
       " Text(17, 0, 'PLATELET COUNT'),\n",
       " Text(18, 0, 'RANDOM BLOOD SUGAR'),\n",
       " Text(19, 0, 'UREA'),\n",
       " Text(20, 0, 'CREATININE'),\n",
       " Text(21, 0, 'SODIUM'),\n",
       " Text(22, 0, 'POTASSIUM'),\n",
       " Text(23, 0, 'CHLORIDE'),\n",
       " Text(24, 0, 'TOTAL BILIRUBIN'),\n",
       " Text(25, 0, 'DIRECT BILIRUBIN'),\n",
       " Text(26, 0, 'SGOT'),\n",
       " Text(27, 0, 'SGPT'),\n",
       " Text(28, 0, 'TOTAL PROTEINS'),\n",
       " Text(29, 0, 'ALBUMIN'),\n",
       " Text(30, 0, 'ALKALINE PHOSPHATASE'),\n",
       " Text(31, 0, 'C-REACTIVE PROTEINS'),\n",
       " Text(32, 0, 'Outcome')]"
      ]
     },
     "execution_count": 106,
     "metadata": {},
     "output_type": "execute_result"
    },
    {
     "data": {
      "image/png": "[encoded data removed]",
      "text/plain": [
       "<Figure size 720x720 with 1 Axes>"
      ]
     },
     "metadata": {
      "needs_background": "light"
     },
     "output_type": "display_data"
    }
   ],
   "source": [
    "import matplotlib.pyplot as plt\n",
    "df1 = df.drop(['Patient ID','Outcome','Age Above 60?','Temp Groups','Travel History','qSOFA SCORE'],axis=1)\n",
    "df1.insert(32,\"Outcome\",np.array(df['Outcome']))\n",
    "cols = df1.columns\n",
    "fig, ax = plt.subplots(figsize=(10,10)) \n",
    "data = np.array(df1)\n",
    "data\n",
    "sns.heatmap(pd.DataFrame(data,df['Patient ID']).head(50),ax=ax,cmap='Reds',vmax=1,cbar=False)\n",
    "ax.set_xticks(np.arange(33))\n",
    "\n",
    "ax.set_xticklabels(cols,rotation='vertical')"
   ]
  },
  {
   "cell_type": "code",
   "execution_count": 107,
   "metadata": {},
   "outputs": [
    {
     "data": {
      "text/plain": [
       "Index(['Patient ID', 'Age', 'Gender', 'BMI', 'Symptoms Present?', 'Fever',\n",
       "       'Cough', 'Breathlessness', 'Travel History', 'Temp', 'SPO2',\n",
       "       'Contact to NCOVID Patient', 'Co-morbidity?', 'Diabetes',\n",
       "       'Hypertension', 'Heart Condition',\n",
       "       'Respiratory rate(breaths per minute)', 'Outcome', 'qSOFA SCORE',\n",
       "       'HEMOGLOBIN', 'TLC COUNT', 'PLATELET COUNT', 'RANDOM BLOOD SUGAR',\n",
       "       'UREA', 'CREATININE', 'SODIUM', 'POTASSIUM', 'CHLORIDE',\n",
       "       'TOTAL BILIRUBIN', 'DIRECT BILIRUBIN', 'SGOT', 'SGPT', 'TOTAL PROTEINS',\n",
       "       'ALBUMIN', 'ALKALINE PHOSPHATASE', 'C-REACTIVE PROTEINS',\n",
       "       'Age Above 60?', 'Temp Groups'],\n",
       "      dtype='object')"
      ]
     },
     "execution_count": 107,
     "metadata": {},
     "output_type": "execute_result"
    }
   ],
   "source": [
    "df.columns"
   ]
  },
  {
   "cell_type": "code",
   "execution_count": 146,
   "metadata": {},
   "outputs": [
    {
     "name": "stderr",
     "output_type": "stream",
     "text": [
      "/snap/jupyter/6/lib/python3.7/site-packages/ipykernel_launcher.py:59: UserWarning: FixedFormatter should only be used together with FixedLocator\n"
     ]
    },
    {
     "data": {
      "image/png": "[encoded data removed]",
      "text/plain": [
       "<Figure size 1080x2160 with 1 Axes>"
      ]
     },
     "metadata": {
      "needs_background": "light"
     },
     "output_type": "display_data"
    }
   ],
   "source": [
    "import numpy as np\n",
    "import pandas as pd\n",
    "import matplotlib.pyplot as plt\n",
    "import matplotlib.colors as mcolors\n",
    "from matplotlib.gridspec import GridSpec\n",
    "\n",
    "def get_hsvcmap(i, N, rot=0.):\n",
    "    nsc = 24\n",
    "    chsv = mcolors.rgb_to_hsv(plt.cm.hsv(((np.arange(N)/N)+rot) % 1.)[i,:3])\n",
    "    rhsv = mcolors.rgb_to_hsv(plt.cm.Reds(np.linspace(.1,1,nsc))[:,:3])\n",
    "    arhsv = np.tile(chsv,nsc).reshape(nsc,3)\n",
    "    arhsv[:,1:] = rhsv[:,1:]\n",
    "    rgb = mcolors.hsv_to_rgb(arhsv)\n",
    "    return mcolors.LinearSegmentedColormap.from_list(\"\",rgb)\n",
    "\n",
    "\n",
    "def columnwise_heatmap(array, ax=None, **kw):\n",
    "    ax = ax or plt.gca()\n",
    "    premask = np.tile(np.arange(array.shape[1]), array.shape[0]).reshape(array.shape)\n",
    "    images = []\n",
    "    temp = 0\n",
    "    for i in range(array.shape[1]):\n",
    "        if i == 3: #demographics over\n",
    "            temp += 4\n",
    "        if i == 6: #vitals over\n",
    "            temp += 4\n",
    "        if i == 10: #symptoms over\n",
    "            temp += 4\n",
    "        if i == 14: #co morbiditiy over\n",
    "            temp += 4\n",
    "        if i == array.shape[1]-1:\n",
    "            temp += 8\n",
    "        col = np.ma.array(array, mask = premask != i)\n",
    "        im = ax.imshow(col, cmap=get_hsvcmap(temp, array.shape[1], rot=0.5), **kw)\n",
    "        images.append(im)\n",
    "    return images\n",
    "\n",
    "\n",
    "### Plot data\n",
    "\n",
    "df1 = df[['Age', 'Gender', 'BMI', 'Temp', 'SPO2', 'Respiratory rate(breaths per minute)','Symptoms Present?', 'Fever',\n",
    "       'Cough', 'Breathlessness','Co-morbidity?', 'Diabetes',\n",
    "       'Hypertension', 'Heart Condition', 'HEMOGLOBIN', 'TLC COUNT', 'PLATELET COUNT', 'RANDOM BLOOD SUGAR',\n",
    "       'UREA', 'CREATININE', 'SODIUM', 'POTASSIUM', 'CHLORIDE',\n",
    "       'TOTAL BILIRUBIN', 'DIRECT BILIRUBIN', 'SGOT', 'SGPT', 'TOTAL PROTEINS',\n",
    "       'ALBUMIN', 'ALKALINE PHOSPHATASE', 'C-REACTIVE PROTEINS','Outcome']].sample(frac=1)\n",
    "\n",
    "cols = df1.columns\n",
    "fig, ax = plt.subplots(figsize=(15,30)) \n",
    "\n",
    "# sns.heatmap(pd.DataFrame(data,df['Patient ID']).head(50),ax=ax,cmap='Reds',vmax=1,cbar=False)\n",
    "\n",
    "\n",
    "\n",
    "\n",
    "# fig, ax = plt.subplots(figsize=(10,10))\n",
    "\n",
    "ims = columnwise_heatmap(df1.values, ax=ax, aspect=\"auto\")\n",
    "ax.set_xticklabels(cols,rotation='vertical')\n",
    "ax.set(xticks=np.arange(len(cols)), yticks=np.arange(len(df1)),\n",
    "       xticklabels=cols, yticklabels=df['Patient ID'])\n",
    "ax.tick_params(bottom=False, top=False, \n",
    "               labelbottom=True, labeltop=False, left=False)\n",
    "# ax.set_xticks(np.arange(33))"
   ]
  },
  {
   "cell_type": "code",
   "execution_count": null,
   "metadata": {},
   "outputs": [],
   "source": []
  }
 ],
 "metadata": {
  "kernelspec": {
   "display_name": "Python 3",
   "language": "python",
   "name": "python3"
  },
  "language_info": {
   "codemirror_mode": {
    "name": "ipython",
    "version": 3
   },
   "file_extension": ".py",
   "mimetype": "text/x-python",
   "name": "python",
   "nbconvert_exporter": "python",
   "pygments_lexer": "ipython3",
   "version": "3.7.3"
  }
 },
 "nbformat": 4,
 "nbformat_minor": 2
}
