{
  "nbformat": 4,
  "nbformat_minor": 0,
  "metadata": {
    "colab": {
      "name": "Random Forest",
      "provenance": []
    },
    "kernelspec": {
      "name": "python3",
      "display_name": "Python 3"
    },
    "language_info": {
      "name": "python"
    }
  },
  "cells": [
    {
      "cell_type": "code",
      "metadata": {
        "id": "NH_ELRou1d23"
      },
      "source": [
        "import pandas as pd\n",
        "import numpy as np\n",
        "\n",
        "import matplotlib.pyplot as plt\n",
        "import seaborn as sns\n",
        "\n",
        "from sklearn.ensemble import RandomForestClassifier\n",
        "from sklearn.model_selection import train_test_split\n",
        "from sklearn import metrics\n",
        "import sklearn.metrics"
      ],
      "execution_count": 72,
      "outputs": []
    },
    {
      "cell_type": "code",
      "metadata": {
        "id": "_cOao5sK1jig",
        "colab": {
          "base_uri": "https://localhost:8080/",
          "height": 442
        },
        "outputId": "d0f2dcf9-5be0-49c7-e674-ec748ba5128c"
      },
      "source": [
        "data = pd.read_csv('/content/drive/MyDrive/College/PS - 1/Notebooks/clean_df.csv')\n",
        "data.head()"
      ],
      "execution_count": 73,
      "outputs": [
        {
          "output_type": "execute_result",
          "data": {
            "text/html": [
              "<div>\n",
              "<style scoped>\n",
              "    .dataframe tbody tr th:only-of-type {\n",
              "        vertical-align: middle;\n",
              "    }\n",
              "\n",
              "    .dataframe tbody tr th {\n",
              "        vertical-align: top;\n",
              "    }\n",
              "\n",
              "    .dataframe thead th {\n",
              "        text-align: right;\n",
              "    }\n",
              "</style>\n",
              "<table border=\"1\" class=\"dataframe\">\n",
              "  <thead>\n",
              "    <tr style=\"text-align: right;\">\n",
              "      <th></th>\n",
              "      <th>Unnamed: 0</th>\n",
              "      <th>Sample No.</th>\n",
              "      <th>Patient ID</th>\n",
              "      <th>Study ID</th>\n",
              "      <th>Age</th>\n",
              "      <th>Gender</th>\n",
              "      <th>BMI</th>\n",
              "      <th>Symptoms Presented</th>\n",
              "      <th>Symptoms Present?</th>\n",
              "      <th>Fever</th>\n",
              "      <th>Cough</th>\n",
              "      <th>Breathlessness</th>\n",
              "      <th>Travel History</th>\n",
              "      <th>Temp</th>\n",
              "      <th>SPO2</th>\n",
              "      <th>METHYLPREDNISOLONE</th>\n",
              "      <th>Low molecular weight heparin</th>\n",
              "      <th>Hydroxychloroquine</th>\n",
              "      <th>FABIFLU</th>\n",
              "      <th>REMDESIVIR</th>\n",
              "      <th>IVERMECTIN</th>\n",
              "      <th>ANTIBIOTICS</th>\n",
              "      <th>VITAMINs and zinc</th>\n",
              "      <th>Medicine Administered</th>\n",
              "      <th>Contact to NCOVID Patient</th>\n",
              "      <th>Co-morbid Condition</th>\n",
              "      <th>Co-morbidity?</th>\n",
              "      <th>Diabetes</th>\n",
              "      <th>Hypertension</th>\n",
              "      <th>Heart Condition</th>\n",
              "      <th>Hospital stay in days</th>\n",
              "      <th>Respiratory Support</th>\n",
              "      <th>Respiratory rate(breaths per minute)</th>\n",
              "      <th>Outcome</th>\n",
              "      <th>O2 supplementation required</th>\n",
              "      <th>Ventilatory support required</th>\n",
              "      <th>qSOFA SCORE</th>\n",
              "      <th>RESPIRATORY FINDINGS</th>\n",
              "      <th>HEMOGLOBIN</th>\n",
              "      <th>TLC COUNT</th>\n",
              "      <th>PLATELET COUNT</th>\n",
              "      <th>RANDOM BLOOD SUGAR</th>\n",
              "      <th>UREA</th>\n",
              "      <th>CREATININE</th>\n",
              "      <th>SODIUM</th>\n",
              "      <th>POTASSIUM</th>\n",
              "      <th>CHLORIDE</th>\n",
              "      <th>TOTAL BILIRUBIN</th>\n",
              "      <th>DIRECT BILIRUBIN</th>\n",
              "      <th>SGOT</th>\n",
              "      <th>SGPT</th>\n",
              "      <th>TOTAL PROTEINS</th>\n",
              "      <th>ALBUMIN</th>\n",
              "      <th>ALKALINE PHOSPHATASE</th>\n",
              "      <th>C-REACTIVE PROTEINS</th>\n",
              "      <th>ECG</th>\n",
              "      <th>CXR</th>\n",
              "      <th>CORADS SCORE ON HRCT</th>\n",
              "      <th>PATIENT CATEGORY</th>\n",
              "      <th>PLASMA THERAPY</th>\n",
              "      <th>Age Above 60?</th>\n",
              "      <th>Temp Groups</th>\n",
              "      <th>CORADS 6</th>\n",
              "    </tr>\n",
              "  </thead>\n",
              "  <tbody>\n",
              "    <tr>\n",
              "      <th>0</th>\n",
              "      <td>0</td>\n",
              "      <td>1013</td>\n",
              "      <td>IGIB1040201013</td>\n",
              "      <td>IGIB1040201013-1</td>\n",
              "      <td>0.551724</td>\n",
              "      <td>1</td>\n",
              "      <td>0.436782</td>\n",
              "      <td>fever, cough,breathlessness</td>\n",
              "      <td>1</td>\n",
              "      <td>1</td>\n",
              "      <td>1</td>\n",
              "      <td>1</td>\n",
              "      <td>0</td>\n",
              "      <td>0.2</td>\n",
              "      <td>0.833333</td>\n",
              "      <td>1</td>\n",
              "      <td>1</td>\n",
              "      <td>1</td>\n",
              "      <td>1</td>\n",
              "      <td>1</td>\n",
              "      <td>1</td>\n",
              "      <td>1</td>\n",
              "      <td>1</td>\n",
              "      <td>METHYLPREDNISOLONE, Low molecular weight hepar...</td>\n",
              "      <td>1</td>\n",
              "      <td>no</td>\n",
              "      <td>0</td>\n",
              "      <td>0</td>\n",
              "      <td>0</td>\n",
              "      <td>0</td>\n",
              "      <td>18.0</td>\n",
              "      <td>1</td>\n",
              "      <td>0.3</td>\n",
              "      <td>0</td>\n",
              "      <td>1</td>\n",
              "      <td>0</td>\n",
              "      <td>0</td>\n",
              "      <td>Basal crepitations</td>\n",
              "      <td>0.854839</td>\n",
              "      <td>0.162996</td>\n",
              "      <td>0.030910</td>\n",
              "      <td>0.131285</td>\n",
              "      <td>0.209231</td>\n",
              "      <td>0.000172</td>\n",
              "      <td>0.542857</td>\n",
              "      <td>0.018793</td>\n",
              "      <td>0.862793</td>\n",
              "      <td>0.051282</td>\n",
              "      <td>0.047619</td>\n",
              "      <td>0.171097</td>\n",
              "      <td>0.355532</td>\n",
              "      <td>0.255556</td>\n",
              "      <td>0.300</td>\n",
              "      <td>0.127089</td>\n",
              "      <td>0.152271</td>\n",
              "      <td>sinus rhythm</td>\n",
              "      <td>normal</td>\n",
              "      <td>4.0</td>\n",
              "      <td>5a</td>\n",
              "      <td>No</td>\n",
              "      <td>0</td>\n",
              "      <td>0.2</td>\n",
              "      <td>0.0</td>\n",
              "    </tr>\n",
              "    <tr>\n",
              "      <th>1</th>\n",
              "      <td>1</td>\n",
              "      <td>1014</td>\n",
              "      <td>IGIB1040201014</td>\n",
              "      <td>IGIB1040201014-1</td>\n",
              "      <td>0.241379</td>\n",
              "      <td>0</td>\n",
              "      <td>0.804598</td>\n",
              "      <td>asymptomatic</td>\n",
              "      <td>0</td>\n",
              "      <td>0</td>\n",
              "      <td>0</td>\n",
              "      <td>0</td>\n",
              "      <td>0</td>\n",
              "      <td>0.5</td>\n",
              "      <td>0.666667</td>\n",
              "      <td>1</td>\n",
              "      <td>1</td>\n",
              "      <td>1</td>\n",
              "      <td>1</td>\n",
              "      <td>0</td>\n",
              "      <td>1</td>\n",
              "      <td>1</td>\n",
              "      <td>1</td>\n",
              "      <td>METHYLPREDNISOLONE, Low molecular weight hepar...</td>\n",
              "      <td>1</td>\n",
              "      <td>no</td>\n",
              "      <td>0</td>\n",
              "      <td>0</td>\n",
              "      <td>0</td>\n",
              "      <td>0</td>\n",
              "      <td>NaN</td>\n",
              "      <td>0</td>\n",
              "      <td>0.1</td>\n",
              "      <td>0</td>\n",
              "      <td>0</td>\n",
              "      <td>0</td>\n",
              "      <td>0</td>\n",
              "      <td>Basal crepitations</td>\n",
              "      <td>0.720430</td>\n",
              "      <td>0.072247</td>\n",
              "      <td>0.065827</td>\n",
              "      <td>0.061453</td>\n",
              "      <td>0.051077</td>\n",
              "      <td>0.000121</td>\n",
              "      <td>0.685714</td>\n",
              "      <td>0.011869</td>\n",
              "      <td>0.862793</td>\n",
              "      <td>0.000000</td>\n",
              "      <td>0.000000</td>\n",
              "      <td>0.046414</td>\n",
              "      <td>0.059076</td>\n",
              "      <td>0.333333</td>\n",
              "      <td>0.325</td>\n",
              "      <td>0.172501</td>\n",
              "      <td>0.009346</td>\n",
              "      <td>sinus rhythm</td>\n",
              "      <td>normal</td>\n",
              "      <td>0.0</td>\n",
              "      <td>5b</td>\n",
              "      <td>No</td>\n",
              "      <td>0</td>\n",
              "      <td>0.6</td>\n",
              "      <td>0.0</td>\n",
              "    </tr>\n",
              "    <tr>\n",
              "      <th>2</th>\n",
              "      <td>2</td>\n",
              "      <td>1015</td>\n",
              "      <td>IGIB1040201015</td>\n",
              "      <td>IGIB1040201015-1</td>\n",
              "      <td>0.264368</td>\n",
              "      <td>1</td>\n",
              "      <td>0.402299</td>\n",
              "      <td>asymptomatic</td>\n",
              "      <td>0</td>\n",
              "      <td>0</td>\n",
              "      <td>0</td>\n",
              "      <td>0</td>\n",
              "      <td>0</td>\n",
              "      <td>0.4</td>\n",
              "      <td>0.666667</td>\n",
              "      <td>1</td>\n",
              "      <td>1</td>\n",
              "      <td>1</td>\n",
              "      <td>1</td>\n",
              "      <td>0</td>\n",
              "      <td>1</td>\n",
              "      <td>1</td>\n",
              "      <td>1</td>\n",
              "      <td>METHYLPREDNISOLONE, Low molecular weight hepar...</td>\n",
              "      <td>1</td>\n",
              "      <td>no</td>\n",
              "      <td>0</td>\n",
              "      <td>0</td>\n",
              "      <td>0</td>\n",
              "      <td>0</td>\n",
              "      <td>11.0</td>\n",
              "      <td>0</td>\n",
              "      <td>0.1</td>\n",
              "      <td>0</td>\n",
              "      <td>0</td>\n",
              "      <td>0</td>\n",
              "      <td>0</td>\n",
              "      <td>Basal crepitations</td>\n",
              "      <td>0.854839</td>\n",
              "      <td>0.096035</td>\n",
              "      <td>0.090441</td>\n",
              "      <td>0.078212</td>\n",
              "      <td>0.029538</td>\n",
              "      <td>1.000000</td>\n",
              "      <td>1.000000</td>\n",
              "      <td>0.150346</td>\n",
              "      <td>0.000000</td>\n",
              "      <td>0.128205</td>\n",
              "      <td>0.095238</td>\n",
              "      <td>0.040295</td>\n",
              "      <td>0.048335</td>\n",
              "      <td>0.377778</td>\n",
              "      <td>0.400</td>\n",
              "      <td>0.259224</td>\n",
              "      <td>0.026437</td>\n",
              "      <td>sinus rhythm</td>\n",
              "      <td>normal</td>\n",
              "      <td>0.0</td>\n",
              "      <td>5b</td>\n",
              "      <td>No</td>\n",
              "      <td>0</td>\n",
              "      <td>0.4</td>\n",
              "      <td>0.0</td>\n",
              "    </tr>\n",
              "    <tr>\n",
              "      <th>3</th>\n",
              "      <td>3</td>\n",
              "      <td>1016</td>\n",
              "      <td>IGIB1040201016</td>\n",
              "      <td>IGIB1040201016-1</td>\n",
              "      <td>0.781609</td>\n",
              "      <td>1</td>\n",
              "      <td>0.321839</td>\n",
              "      <td>fever, cough,breathlessness</td>\n",
              "      <td>1</td>\n",
              "      <td>1</td>\n",
              "      <td>1</td>\n",
              "      <td>1</td>\n",
              "      <td>0</td>\n",
              "      <td>0.4</td>\n",
              "      <td>0.666667</td>\n",
              "      <td>1</td>\n",
              "      <td>1</td>\n",
              "      <td>1</td>\n",
              "      <td>1</td>\n",
              "      <td>1</td>\n",
              "      <td>1</td>\n",
              "      <td>1</td>\n",
              "      <td>1</td>\n",
              "      <td>METHYLPREDNISOLONE, Low molecular weight hepar...</td>\n",
              "      <td>1</td>\n",
              "      <td>no</td>\n",
              "      <td>0</td>\n",
              "      <td>0</td>\n",
              "      <td>0</td>\n",
              "      <td>0</td>\n",
              "      <td>14.0</td>\n",
              "      <td>1</td>\n",
              "      <td>0.6</td>\n",
              "      <td>1</td>\n",
              "      <td>1</td>\n",
              "      <td>1</td>\n",
              "      <td>1</td>\n",
              "      <td>Basal crepitations</td>\n",
              "      <td>0.709677</td>\n",
              "      <td>0.118943</td>\n",
              "      <td>0.092158</td>\n",
              "      <td>0.125698</td>\n",
              "      <td>0.142154</td>\n",
              "      <td>0.000103</td>\n",
              "      <td>0.457143</td>\n",
              "      <td>0.012859</td>\n",
              "      <td>0.830508</td>\n",
              "      <td>0.538462</td>\n",
              "      <td>0.523810</td>\n",
              "      <td>0.124051</td>\n",
              "      <td>0.236842</td>\n",
              "      <td>0.300000</td>\n",
              "      <td>0.275</td>\n",
              "      <td>0.366446</td>\n",
              "      <td>0.443161</td>\n",
              "      <td>sinus rhythm</td>\n",
              "      <td>normal</td>\n",
              "      <td>5.0</td>\n",
              "      <td>4</td>\n",
              "      <td>No</td>\n",
              "      <td>1</td>\n",
              "      <td>0.4</td>\n",
              "      <td>0.0</td>\n",
              "    </tr>\n",
              "    <tr>\n",
              "      <th>4</th>\n",
              "      <td>4</td>\n",
              "      <td>1060</td>\n",
              "      <td>IGIB1040201060</td>\n",
              "      <td>IGIB1040201060-1</td>\n",
              "      <td>0.505747</td>\n",
              "      <td>1</td>\n",
              "      <td>1.000000</td>\n",
              "      <td>fever,cough</td>\n",
              "      <td>1</td>\n",
              "      <td>1</td>\n",
              "      <td>1</td>\n",
              "      <td>0</td>\n",
              "      <td>0</td>\n",
              "      <td>0.8</td>\n",
              "      <td>0.666667</td>\n",
              "      <td>1</td>\n",
              "      <td>1</td>\n",
              "      <td>1</td>\n",
              "      <td>1</td>\n",
              "      <td>1</td>\n",
              "      <td>1</td>\n",
              "      <td>1</td>\n",
              "      <td>1</td>\n",
              "      <td>METHYLPREDNISOLONE, Low molecular weight hepar...</td>\n",
              "      <td>1</td>\n",
              "      <td>Psychiatric disorder</td>\n",
              "      <td>1</td>\n",
              "      <td>0</td>\n",
              "      <td>0</td>\n",
              "      <td>0</td>\n",
              "      <td>1.0</td>\n",
              "      <td>0</td>\n",
              "      <td>0.3</td>\n",
              "      <td>0</td>\n",
              "      <td>0</td>\n",
              "      <td>0</td>\n",
              "      <td>0</td>\n",
              "      <td>no any</td>\n",
              "      <td>0.736559</td>\n",
              "      <td>0.308370</td>\n",
              "      <td>0.141958</td>\n",
              "      <td>0.050279</td>\n",
              "      <td>0.052308</td>\n",
              "      <td>0.000103</td>\n",
              "      <td>0.000000</td>\n",
              "      <td>0.008902</td>\n",
              "      <td>0.733656</td>\n",
              "      <td>1.000000</td>\n",
              "      <td>0.952381</td>\n",
              "      <td>0.093671</td>\n",
              "      <td>0.277658</td>\n",
              "      <td>0.255556</td>\n",
              "      <td>0.125</td>\n",
              "      <td>0.546200</td>\n",
              "      <td>0.430297</td>\n",
              "      <td>sinus rhythm</td>\n",
              "      <td>normal</td>\n",
              "      <td>5.0</td>\n",
              "      <td>4</td>\n",
              "      <td>No</td>\n",
              "      <td>0</td>\n",
              "      <td>0.8</td>\n",
              "      <td>0.0</td>\n",
              "    </tr>\n",
              "  </tbody>\n",
              "</table>\n",
              "</div>"
            ],
            "text/plain": [
              "   Unnamed: 0  Sample No.      Patient ID  ... Age Above 60?  Temp Groups  CORADS 6\n",
              "0           0        1013  IGIB1040201013  ...             0          0.2       0.0\n",
              "1           1        1014  IGIB1040201014  ...             0          0.6       0.0\n",
              "2           2        1015  IGIB1040201015  ...             0          0.4       0.0\n",
              "3           3        1016  IGIB1040201016  ...             1          0.4       0.0\n",
              "4           4        1060  IGIB1040201060  ...             0          0.8       0.0\n",
              "\n",
              "[5 rows x 63 columns]"
            ]
          },
          "metadata": {
            "tags": []
          },
          "execution_count": 73
        }
      ]
    },
    {
      "cell_type": "code",
      "metadata": {
        "id": "ijFogCLT2-Qx"
      },
      "source": [
        "data.drop(columns=['Unnamed: 0'], inplace = True)"
      ],
      "execution_count": 74,
      "outputs": []
    },
    {
      "cell_type": "markdown",
      "metadata": {
        "id": "ZPXP5yKR0V1A"
      },
      "source": [
        "## Model"
      ]
    },
    {
      "cell_type": "code",
      "metadata": {
        "id": "y5cneeF05yfw"
      },
      "source": [
        "model = RandomForestClassifier(n_estimators=10)"
      ],
      "execution_count": 75,
      "outputs": []
    },
    {
      "cell_type": "code",
      "metadata": {
        "id": "6NsETcDK0GfG"
      },
      "source": [
        "def model_perf(x,y,model):\n",
        "    cm = metrics.confusion_matrix(y, model.predict(x))\n",
        "    plt.figure\n",
        "    sns.heatmap(cm, annot=True, fmt=\".3f\", linewidths=.5, square = True, cmap = 'Blues_r');\n",
        "    plt.ylabel('Actual label');\n",
        "    plt.xlabel('Predicted label');\n",
        "    plt.savefig('covidseverity.png')\n",
        "    accuracy = model.score(x,y)\n",
        "    precision,recall,f1,support = sklearn.metrics.precision_recall_fscore_support(y, model.predict(x),average='binary')\n",
        "    print(\"Accuracy Score = \",accuracy)\n",
        "    print(\"Precision Score = \",precision)    \n",
        "    print(\"Recall Score = \",recall)    \n",
        "    print(\"F1 Score = \",f1)"
      ],
      "execution_count": 76,
      "outputs": []
    },
    {
      "cell_type": "markdown",
      "metadata": {
        "id": "e9DcC1Xv1hgJ"
      },
      "source": [
        "## Initial factors"
      ]
    },
    {
      "cell_type": "code",
      "metadata": {
        "id": "8PS65uHd0GcO"
      },
      "source": [
        "X = data[['Age Above 60?','Gender','Temp Groups','Respiratory rate(breaths per minute)']]\n",
        "Y = data['Outcome']\n",
        "\n",
        "Xtrain, Xtest, ytrain, ytest = train_test_split(X, Y, test_size=0.25, random_state=0)\n",
        "\n",
        "model.fit(Xtrain, ytrain);"
      ],
      "execution_count": 77,
      "outputs": []
    },
    {
      "cell_type": "code",
      "metadata": {
        "colab": {
          "base_uri": "https://localhost:8080/",
          "height": 350
        },
        "id": "YaffuT4l1dd7",
        "outputId": "8ab06913-3712-41ce-b059-9d1da3228fe0"
      },
      "source": [
        "model_perf(x_train, y_train, model)"
      ],
      "execution_count": 78,
      "outputs": [
        {
          "output_type": "stream",
          "text": [
            "Accuracy Score =  0.9694656488549618\n",
            "Precision Score =  0.8636363636363636\n",
            "Recall Score =  0.95\n",
            "F1 Score =  0.9047619047619048\n"
          ],
          "name": "stdout"
        },
        {
          "output_type": "display_data",
          "data": {
            "image/png": "[encoded data removed]",
            "text/plain": [
              "<Figure size 432x288 with 2 Axes>"
            ]
          },
          "metadata": {
            "tags": [],
            "needs_background": "light"
          }
        }
      ]
    },
    {
      "cell_type": "code",
      "metadata": {
        "colab": {
          "base_uri": "https://localhost:8080/",
          "height": 350
        },
        "id": "AZu3H0731dbD",
        "outputId": "17f7060a-b26a-4aa7-f802-8960502ea376"
      },
      "source": [
        "model_perf(Xtest, ytest, model)"
      ],
      "execution_count": 79,
      "outputs": [
        {
          "output_type": "stream",
          "text": [
            "Accuracy Score =  0.9090909090909091\n",
            "Precision Score =  0.5\n",
            "Recall Score =  0.5\n",
            "F1 Score =  0.5\n"
          ],
          "name": "stdout"
        },
        {
          "output_type": "display_data",
          "data": {
            "image/png": "[encoded data removed]",
            "text/plain": [
              "<Figure size 432x288 with 2 Axes>"
            ]
          },
          "metadata": {
            "tags": [],
            "needs_background": "light"
          }
        }
      ]
    },
    {
      "cell_type": "markdown",
      "metadata": {
        "id": "kU1OqFyf5QDC"
      },
      "source": [
        "## Initial Factors + Symptoms and Comorbidities\n"
      ]
    },
    {
      "cell_type": "code",
      "metadata": {
        "id": "FAcsj5Mj5Pb0"
      },
      "source": [
        "X = data[['Age Above 60?','Gender','Temp Groups','Respiratory rate(breaths per minute)','Symptoms Present?','Co-morbidity?','Cough','Breathlessness','Hypertension']]\n",
        "Y = data['Outcome']\n",
        "\n",
        "Xtrain, Xtest, ytrain, ytest = train_test_split(X, Y, test_size=0.25, random_state=0)\n",
        "\n",
        "model.fit(Xtrain, ytrain);"
      ],
      "execution_count": 80,
      "outputs": []
    },
    {
      "cell_type": "code",
      "metadata": {
        "colab": {
          "base_uri": "https://localhost:8080/",
          "height": 350
        },
        "id": "UdrwlJZI5PY_",
        "outputId": "4d1f1268-dabc-4c80-886d-9ba9ee7f4f6d"
      },
      "source": [
        "model_perf(Xtrain, ytrain, model)"
      ],
      "execution_count": 81,
      "outputs": [
        {
          "output_type": "stream",
          "text": [
            "Accuracy Score =  0.9770992366412213\n",
            "Precision Score =  0.9473684210526315\n",
            "Recall Score =  0.9\n",
            "F1 Score =  0.9230769230769231\n"
          ],
          "name": "stdout"
        },
        {
          "output_type": "display_data",
          "data": {
            "image/png": "[encoded data removed]",
            "text/plain": [
              "<Figure size 432x288 with 2 Axes>"
            ]
          },
          "metadata": {
            "tags": [],
            "needs_background": "light"
          }
        }
      ]
    },
    {
      "cell_type": "code",
      "metadata": {
        "colab": {
          "base_uri": "https://localhost:8080/",
          "height": 350
        },
        "id": "v_lxdAt35ibG",
        "outputId": "c8946add-4bf1-4714-9b75-08f609470bdd"
      },
      "source": [
        "model_perf(Xtest, ytest, model)"
      ],
      "execution_count": 82,
      "outputs": [
        {
          "output_type": "stream",
          "text": [
            "Accuracy Score =  0.8863636363636364\n",
            "Precision Score =  0.4\n",
            "Recall Score =  0.5\n",
            "F1 Score =  0.4444444444444445\n"
          ],
          "name": "stdout"
        },
        {
          "output_type": "display_data",
          "data": {
            "image/png": "[encoded data removed]",
            "text/plain": [
              "<Figure size 432x288 with 2 Axes>"
            ]
          },
          "metadata": {
            "tags": [],
            "needs_background": "light"
          }
        }
      ]
    },
    {
      "cell_type": "markdown",
      "metadata": {
        "id": "PWCsVaIi42Zu"
      },
      "source": [
        "## Initial Factors + Symptoms and Comorbidities + Blood"
      ]
    },
    {
      "cell_type": "code",
      "metadata": {
        "id": "1AJ6Jmtz1dZB"
      },
      "source": [
        "X = data[['Age Above 60?','Gender','Temp Groups','Respiratory rate(breaths per minute)','Symptoms Present?','Co-morbidity?','Cough','Breathlessness','Hypertension','C-REACTIVE PROTEINS','UREA']]\n",
        "Y = data['Outcome']\n",
        "\n",
        "Xtrain, Xtest, ytrain, ytest = train_test_split(X, Y, test_size=0.25, random_state=0)\n",
        "\n",
        "model.fit(Xtrain, ytrain);"
      ],
      "execution_count": 83,
      "outputs": []
    },
    {
      "cell_type": "code",
      "metadata": {
        "colab": {
          "base_uri": "https://localhost:8080/",
          "height": 350
        },
        "id": "q0L4AW2M1dW0",
        "outputId": "51e0bc4e-5c64-42c1-eafd-529bc991b1c7"
      },
      "source": [
        "model_perf(Xtrain, ytrain, model)"
      ],
      "execution_count": 84,
      "outputs": [
        {
          "output_type": "stream",
          "text": [
            "Accuracy Score =  0.9847328244274809\n",
            "Precision Score =  1.0\n",
            "Recall Score =  0.9\n",
            "F1 Score =  0.9473684210526316\n"
          ],
          "name": "stdout"
        },
        {
          "output_type": "display_data",
          "data": {
            "image/png": "[encoded data removed]",
            "text/plain": [
              "<Figure size 432x288 with 2 Axes>"
            ]
          },
          "metadata": {
            "tags": [],
            "needs_background": "light"
          }
        }
      ]
    },
    {
      "cell_type": "code",
      "metadata": {
        "colab": {
          "base_uri": "https://localhost:8080/",
          "height": 354
        },
        "id": "kmYntnGB45zZ",
        "outputId": "a28d1c74-26a8-456d-d25f-f71fc3c0facc"
      },
      "source": [
        "model_perf(Xtest, ytest, model)"
      ],
      "execution_count": 85,
      "outputs": [
        {
          "output_type": "stream",
          "text": [
            "Accuracy Score =  0.9545454545454546\n",
            "Precision Score =  1.0\n",
            "Recall Score =  0.5\n",
            "F1 Score =  0.6666666666666666\n"
          ],
          "name": "stdout"
        },
        {
          "output_type": "display_data",
          "data": {
            "image/png": "[encoded data removed]",
            "text/plain": [
              "<Figure size 432x288 with 2 Axes>"
            ]
          },
          "metadata": {
            "tags": [],
            "needs_background": "light"
          }
        }
      ]
    },
    {
      "cell_type": "markdown",
      "metadata": {
        "id": "xhtGNoXM0-Ul"
      },
      "source": [
        "## Future goals - \n",
        "\n",
        "\n",
        "1.   Compare accuracies of diff models using boxplots\n",
        "2.   Make a class for different models\n",
        "\n"
      ]
    }
  ]
}