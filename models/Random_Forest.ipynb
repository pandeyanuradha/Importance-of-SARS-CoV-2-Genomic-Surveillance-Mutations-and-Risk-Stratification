{
 "cells": [
  {
   "cell_type": "code",
   "execution_count": 15,
   "metadata": {
    "id": "NH_ELRou1d23"
   },
   "outputs": [],
   "source": [
    "import pandas as pd\n",
    "import numpy as np\n",
    "\n",
    "import matplotlib.pyplot as plt\n",
    "import seaborn as sns\n",
    "from sklearn.model_selection import GridSearchCV\n",
    "\n",
    "from sklearn.ensemble import RandomForestClassifier\n",
    "from sklearn.model_selection import train_test_split\n",
    "from sklearn import metrics\n",
    "import sklearn.metrics"
   ]
  },
  {
   "cell_type": "code",
   "execution_count": 16,
   "metadata": {
    "colab": {
     "base_uri": "https://localhost:8080/",
     "height": 442
    },
    "id": "_cOao5sK1jig",
    "outputId": "62a5190c-f510-4374-c24b-84c52dc0d41c"
   },
   "outputs": [
    {
     "data": {
      "text/html": [
       "<div>\n",
       "<style scoped>\n",
       "    .dataframe tbody tr th:only-of-type {\n",
       "        vertical-align: middle;\n",
       "    }\n",
       "\n",
       "    .dataframe tbody tr th {\n",
       "        vertical-align: top;\n",
       "    }\n",
       "\n",
       "    .dataframe thead th {\n",
       "        text-align: right;\n",
       "    }\n",
       "</style>\n",
       "<table border=\"1\" class=\"dataframe\">\n",
       "  <thead>\n",
       "    <tr style=\"text-align: right;\">\n",
       "      <th></th>\n",
       "      <th>Unnamed: 0</th>\n",
       "      <th>Sample No.</th>\n",
       "      <th>Patient ID</th>\n",
       "      <th>Study ID</th>\n",
       "      <th>Age</th>\n",
       "      <th>Gender</th>\n",
       "      <th>BMI</th>\n",
       "      <th>Symptoms Presented</th>\n",
       "      <th>Symptoms Present?</th>\n",
       "      <th>Fever</th>\n",
       "      <th>...</th>\n",
       "      <th>ALBUMIN</th>\n",
       "      <th>ALKALINE PHOSPHATASE</th>\n",
       "      <th>C-REACTIVE PROTEINS</th>\n",
       "      <th>ECG</th>\n",
       "      <th>CXR</th>\n",
       "      <th>CORADS SCORE ON HRCT</th>\n",
       "      <th>PATIENT CATEGORY</th>\n",
       "      <th>PLASMA THERAPY</th>\n",
       "      <th>Age Above 60?</th>\n",
       "      <th>Temp Groups</th>\n",
       "    </tr>\n",
       "  </thead>\n",
       "  <tbody>\n",
       "    <tr>\n",
       "      <th>0</th>\n",
       "      <td>0</td>\n",
       "      <td>1013</td>\n",
       "      <td>IGIB1040201013</td>\n",
       "      <td>IGIB1040201013-1</td>\n",
       "      <td>0.551724</td>\n",
       "      <td>1</td>\n",
       "      <td>0.436782</td>\n",
       "      <td>fever, cough,breathlessness</td>\n",
       "      <td>1</td>\n",
       "      <td>1</td>\n",
       "      <td>...</td>\n",
       "      <td>0.300</td>\n",
       "      <td>0.127089</td>\n",
       "      <td>0.152271</td>\n",
       "      <td>sinus rhythm</td>\n",
       "      <td>normal</td>\n",
       "      <td>4</td>\n",
       "      <td>5a</td>\n",
       "      <td>No</td>\n",
       "      <td>0</td>\n",
       "      <td>0.2</td>\n",
       "    </tr>\n",
       "    <tr>\n",
       "      <th>1</th>\n",
       "      <td>1</td>\n",
       "      <td>1014</td>\n",
       "      <td>IGIB1040201014</td>\n",
       "      <td>IGIB1040201014-1</td>\n",
       "      <td>0.241379</td>\n",
       "      <td>0</td>\n",
       "      <td>0.804598</td>\n",
       "      <td>asymptomatic</td>\n",
       "      <td>0</td>\n",
       "      <td>0</td>\n",
       "      <td>...</td>\n",
       "      <td>0.325</td>\n",
       "      <td>0.172501</td>\n",
       "      <td>0.009346</td>\n",
       "      <td>sinus rhythm</td>\n",
       "      <td>normal</td>\n",
       "      <td>0</td>\n",
       "      <td>5b</td>\n",
       "      <td>No</td>\n",
       "      <td>0</td>\n",
       "      <td>0.6</td>\n",
       "    </tr>\n",
       "    <tr>\n",
       "      <th>2</th>\n",
       "      <td>2</td>\n",
       "      <td>1015</td>\n",
       "      <td>IGIB1040201015</td>\n",
       "      <td>IGIB1040201015-1</td>\n",
       "      <td>0.264368</td>\n",
       "      <td>1</td>\n",
       "      <td>0.402299</td>\n",
       "      <td>asymptomatic</td>\n",
       "      <td>0</td>\n",
       "      <td>0</td>\n",
       "      <td>...</td>\n",
       "      <td>0.400</td>\n",
       "      <td>0.259224</td>\n",
       "      <td>0.026437</td>\n",
       "      <td>sinus rhythm</td>\n",
       "      <td>normal</td>\n",
       "      <td>0</td>\n",
       "      <td>5b</td>\n",
       "      <td>No</td>\n",
       "      <td>0</td>\n",
       "      <td>0.6</td>\n",
       "    </tr>\n",
       "    <tr>\n",
       "      <th>3</th>\n",
       "      <td>3</td>\n",
       "      <td>1016</td>\n",
       "      <td>IGIB1040201016</td>\n",
       "      <td>IGIB1040201016-1</td>\n",
       "      <td>0.781609</td>\n",
       "      <td>1</td>\n",
       "      <td>0.321839</td>\n",
       "      <td>fever, cough,breathlessness</td>\n",
       "      <td>1</td>\n",
       "      <td>1</td>\n",
       "      <td>...</td>\n",
       "      <td>0.275</td>\n",
       "      <td>0.366446</td>\n",
       "      <td>0.443161</td>\n",
       "      <td>sinus rhythm</td>\n",
       "      <td>normal</td>\n",
       "      <td>5</td>\n",
       "      <td>4</td>\n",
       "      <td>No</td>\n",
       "      <td>1</td>\n",
       "      <td>0.4</td>\n",
       "    </tr>\n",
       "    <tr>\n",
       "      <th>4</th>\n",
       "      <td>4</td>\n",
       "      <td>1060</td>\n",
       "      <td>IGIB1040201060</td>\n",
       "      <td>IGIB1040201060-1</td>\n",
       "      <td>0.505747</td>\n",
       "      <td>1</td>\n",
       "      <td>1.000000</td>\n",
       "      <td>fever,cough</td>\n",
       "      <td>1</td>\n",
       "      <td>1</td>\n",
       "      <td>...</td>\n",
       "      <td>0.125</td>\n",
       "      <td>0.546200</td>\n",
       "      <td>0.430297</td>\n",
       "      <td>sinus rhythm</td>\n",
       "      <td>normal</td>\n",
       "      <td>5</td>\n",
       "      <td>4</td>\n",
       "      <td>No</td>\n",
       "      <td>0</td>\n",
       "      <td>1.0</td>\n",
       "    </tr>\n",
       "  </tbody>\n",
       "</table>\n",
       "<p>5 rows × 62 columns</p>\n",
       "</div>"
      ],
      "text/plain": [
       "   Unnamed: 0  Sample No.      Patient ID          Study ID       Age  Gender  \\\n",
       "0           0        1013  IGIB1040201013  IGIB1040201013-1  0.551724       1   \n",
       "1           1        1014  IGIB1040201014  IGIB1040201014-1  0.241379       0   \n",
       "2           2        1015  IGIB1040201015  IGIB1040201015-1  0.264368       1   \n",
       "3           3        1016  IGIB1040201016  IGIB1040201016-1  0.781609       1   \n",
       "4           4        1060  IGIB1040201060  IGIB1040201060-1  0.505747       1   \n",
       "\n",
       "        BMI           Symptoms Presented  Symptoms Present?  Fever  ...  \\\n",
       "0  0.436782  fever, cough,breathlessness                  1      1  ...   \n",
       "1  0.804598                 asymptomatic                  0      0  ...   \n",
       "2  0.402299                 asymptomatic                  0      0  ...   \n",
       "3  0.321839  fever, cough,breathlessness                  1      1  ...   \n",
       "4  1.000000                  fever,cough                  1      1  ...   \n",
       "\n",
       "   ALBUMIN  ALKALINE PHOSPHATASE  C-REACTIVE PROTEINS           ECG     CXR  \\\n",
       "0    0.300              0.127089             0.152271  sinus rhythm  normal   \n",
       "1    0.325              0.172501             0.009346  sinus rhythm  normal   \n",
       "2    0.400              0.259224             0.026437  sinus rhythm  normal   \n",
       "3    0.275              0.366446             0.443161  sinus rhythm  normal   \n",
       "4    0.125              0.546200             0.430297  sinus rhythm  normal   \n",
       "\n",
       "   CORADS SCORE ON HRCT  PATIENT CATEGORY  PLASMA THERAPY  Age Above 60?  \\\n",
       "0                     4                5a              No              0   \n",
       "1                     0                5b              No              0   \n",
       "2                     0                5b              No              0   \n",
       "3                     5                 4              No              1   \n",
       "4                     5                 4              No              0   \n",
       "\n",
       "   Temp Groups  \n",
       "0          0.2  \n",
       "1          0.6  \n",
       "2          0.6  \n",
       "3          0.4  \n",
       "4          1.0  \n",
       "\n",
       "[5 rows x 62 columns]"
      ]
     },
     "execution_count": 16,
     "metadata": {},
     "output_type": "execute_result"
    }
   ],
   "source": [
    "data = pd.read_csv('../notebooks/clean_df.csv')\n",
    "data.head()"
   ]
  },
  {
   "cell_type": "code",
   "execution_count": 17,
   "metadata": {
    "id": "ijFogCLT2-Qx"
   },
   "outputs": [],
   "source": [
    "data.drop(columns=['Unnamed: 0'], inplace = True)"
   ]
  },
  {
   "cell_type": "markdown",
   "metadata": {
    "id": "ZPXP5yKR0V1A"
   },
   "source": [
    "## Model"
   ]
  },
  {
   "cell_type": "code",
   "execution_count": 18,
   "metadata": {
    "id": "y5cneeF05yfw"
   },
   "outputs": [],
   "source": [
    "model = RandomForestClassifier(n_estimators=10)"
   ]
  },
  {
   "cell_type": "code",
   "execution_count": 19,
   "metadata": {
    "id": "6NsETcDK0GfG"
   },
   "outputs": [],
   "source": [
    "def model_perf(x,y,model):\n",
    "    cm = metrics.confusion_matrix(y, model.predict(x))\n",
    "    plt.figure\n",
    "    sns.heatmap(cm, annot=True, fmt=\".3f\", linewidths=.5, square = True, cmap = 'Blues_r');\n",
    "    plt.ylabel('Actual label');\n",
    "    plt.xlabel('Predicted label');\n",
    "    plt.savefig('covidseverity.png')\n",
    "    accuracy = model.score(x,y)\n",
    "    precision,recall,f1,support = sklearn.metrics.precision_recall_fscore_support(y, model.predict(x),average='binary')\n",
    "    print(\"Accuracy Score = \",accuracy)\n",
    "    print(\"Precision Score = \",precision)    \n",
    "    print(\"Recall Score = \",recall)    \n",
    "    print(\"F1 Score = \",f1)"
   ]
  },
  {
   "cell_type": "code",
   "execution_count": 20,
   "metadata": {
    "id": "CXrs1qPcz3d9"
   },
   "outputs": [],
   "source": [
    "def algorithm_pipeline(X_train_data, X_test_data, y_train_data, y_test_data, \n",
    "                       model, param_grid, cv=10, scoring_fit='neg_mean_squared_error',\n",
    "                       do_probabilities = False):\n",
    "    gs = GridSearchCV(\n",
    "        estimator=model,\n",
    "        param_grid=param_grid, \n",
    "        cv=cv, \n",
    "        n_jobs=-1, \n",
    "        scoring=scoring_fit,\n",
    "        verbose=2\n",
    "    )\n",
    "    fitted_model = gs.fit(X_train_data, y_train_data)\n",
    "    \n",
    "    if do_probabilities:\n",
    "      pred = fitted_model.predict_proba(X_test_data)\n",
    "    else:\n",
    "      pred = fitted_model.predict(X_test_data)\n",
    "    \n",
    "    return fitted_model, pred"
   ]
  },
  {
   "cell_type": "code",
   "execution_count": 21,
   "metadata": {
    "id": "HVHZJpkG5xM1"
   },
   "outputs": [],
   "source": [
    "def visualize(x,y, model):\n",
    "    \n",
    "        cm = metrics.confusion_matrix(y, model.predict(x))\n",
    "        plt.figure\n",
    "        sns.heatmap(cm, annot=True, fmt=\".3f\", linewidths=.5, square = True, cmap = 'Blues_r');\n",
    "        plt.ylabel('Actual label');\n",
    "        plt.xlabel('Predicted label');\n",
    "        plt.savefig('covidseverity.png')\n",
    "        \n",
    "        \n",
    "def ttmodel(X, Y, lm, n):\n",
    "    \n",
    "        train_accuracy = [0]*n\n",
    "        train_precision = [0]*n\n",
    "        train_recall = [0]*n\n",
    "        train_f1 = [0]*n\n",
    "\n",
    "        test_accuracy = [0]*n\n",
    "        test_precision = [0]*n\n",
    "        test_recall = [0]*n\n",
    "        test_f1 = [0]*n\n",
    "        \n",
    "        for i in range(n):\n",
    "            x_train, x_test, y_train, y_test = train_test_split(X, Y, test_size = 0.25)\n",
    "\n",
    "            lm.fit(x_train,y_train)\n",
    "\n",
    "            train_accuracy[i] = lm.score(x_train,y_train)\n",
    "            train_precision[i], train_recall[i], train_f1[i], s = sklearn.metrics.precision_recall_fscore_support(y_train, lm.predict(x_train), average='weighted')\n",
    "\n",
    "            test_accuracy[i] = lm.score(x_test,y_test)\n",
    "            test_precision[i], test_recall[i], test_f1[i], s = sklearn.metrics.precision_recall_fscore_support(y_test, lm.predict(x_test), average='weighted')\n",
    "\n",
    "        print(\"Average training statistics over\",n,\"runs of the RF model - \")\n",
    "        print(\"Accuracy Score = \", sum(train_accuracy)/n)\n",
    "        print(\"Precision Score = \", sum(train_precision)/n)    \n",
    "        print(\"Recall Score = \", sum(train_recall)/n)   \n",
    "        print(\"F1 Score = \", sum(train_f1)/n) \n",
    "\n",
    "        print()\n",
    "        \n",
    "        print(\"Average testing statistics over\",n,\"runs of the RF model - \")\n",
    "        print(\"Accuracy Score = \", sum(test_accuracy)/n)\n",
    "        print(\"Precision Score = \", sum(test_precision)/n)    \n",
    "        print(\"Recall Score = \", sum(test_recall)/n)   \n",
    "        print(\"F1 Score = \", sum(test_f1)/n) \n",
    "        \n",
    "        visualize(x_test, y_test, lm)\n",
    "        \n",
    "        \n",
    "def cvmodel(X, Y, lm, cv):\n",
    "    \n",
    "        from sklearn.model_selection import cross_validate\n",
    "        scoring = ['f1','roc_auc']\n",
    "        scores = cross_validate(lm, X, Y, cv=cv, scoring = scoring, return_train_score=True)\n",
    "        \n",
    "        for k,v in scores.items():\n",
    "            ans = [min(v),sum(v)/len(v),max(v)]\n",
    "            print(k,\"=\",ans)\n",
    "            print()"
   ]
  },
  {
   "cell_type": "markdown",
   "metadata": {
    "id": "PWCsVaIi42Zu"
   },
   "source": [
    "## Initial Factors + Symptoms and Comorbidities + Blood"
   ]
  },
  {
   "cell_type": "code",
   "execution_count": 26,
   "metadata": {
    "id": "1AJ6Jmtz1dZB"
   },
   "outputs": [],
   "source": [
    "X = data[['Age','Age Above 60?','Respiratory rate(breaths per minute)','Symptoms Present?','Co-morbidity?','Cough','Breathlessness','Hypertension','C-REACTIVE PROTEINS','UREA','SGOT','TLC COUNT']]\n",
    "Y = data['Outcome']\n",
    "\n",
    "trainset =  pd.read_csv('../notebooks/train.csv')\n",
    "testset =  pd.read_csv('../notebooks/test.csv')\n",
    "\n",
    "Xtrain = trainset[['Age','Age Above 60?','Respiratory rate(breaths per minute)','Symptoms Present?','Co-morbidity?','Cough','Breathlessness','Hypertension','C-REACTIVE PROTEINS','UREA','SGOT','TLC COUNT']]\n",
    "ytrain = trainset['Outcome']\n",
    "\n",
    "Xtest = testset[['Age','Age Above 60?','Respiratory rate(breaths per minute)','Symptoms Present?','Co-morbidity?','Cough','Breathlessness','Hypertension','C-REACTIVE PROTEINS','UREA','SGOT','TLC COUNT']]\n",
    "ytest = testset['Outcome']"
   ]
  },
  {
   "cell_type": "code",
   "execution_count": 27,
   "metadata": {
    "colab": {
     "base_uri": "https://localhost:8080/"
    },
    "id": "D0lwXhoMDHVM",
    "outputId": "d049adb0-6de2-4670-a656-c4bcf24cf6ac"
   },
   "outputs": [
    {
     "name": "stdout",
     "output_type": "stream",
     "text": [
      "Fitting 5 folds for each of 27 candidates, totalling 135 fits\n",
      "[CV] END ..max_depth=15, max_leaf_nodes=50, n_estimators=400; total time=   0.4s\n",
      "[CV] END ..max_depth=15, max_leaf_nodes=50, n_estimators=400; total time=   0.4s\n",
      "[CV] END ..max_depth=15, max_leaf_nodes=50, n_estimators=400; total time=   0.4s\n",
      "[CV] END ..max_depth=15, max_leaf_nodes=50, n_estimators=400; total time=   0.4s\n",
      "[CV] END ..max_depth=15, max_leaf_nodes=50, n_estimators=400; total time=   0.5s\n",
      "[CV] END ..max_depth=15, max_leaf_nodes=50, n_estimators=700; total time=   0.8s\n",
      "[CV] END ..max_depth=15, max_leaf_nodes=50, n_estimators=700; total time=   0.7s\n",
      "[CV] END ..max_depth=15, max_leaf_nodes=50, n_estimators=700; total time=   0.8s\n",
      "[CV] END ..max_depth=15, max_leaf_nodes=50, n_estimators=700; total time=   0.8s\n",
      "[CV] END ..max_depth=15, max_leaf_nodes=50, n_estimators=700; total time=   0.8s\n",
      "[CV] END .max_depth=15, max_leaf_nodes=50, n_estimators=1000; total time=   1.0s\n",
      "[CV] END .max_depth=15, max_leaf_nodes=50, n_estimators=1000; total time=   1.1s\n",
      "[CV] END .max_depth=15, max_leaf_nodes=50, n_estimators=1000; total time=   1.1s\n",
      "[CV] END .max_depth=15, max_leaf_nodes=50, n_estimators=1000; total time=   1.2s\n",
      "[CV] END .max_depth=15, max_leaf_nodes=50, n_estimators=1000; total time=   1.1s\n",
      "[CV] END .max_depth=15, max_leaf_nodes=100, n_estimators=400; total time=   0.4s\n",
      "[CV] END .max_depth=15, max_leaf_nodes=100, n_estimators=400; total time=   0.4s\n",
      "[CV] END .max_depth=15, max_leaf_nodes=100, n_estimators=400; total time=   0.4s\n",
      "[CV] END .max_depth=15, max_leaf_nodes=100, n_estimators=400; total time=   0.4s\n",
      "[CV] END .max_depth=15, max_leaf_nodes=100, n_estimators=400; total time=   0.5s\n",
      "[CV] END .max_depth=15, max_leaf_nodes=100, n_estimators=700; total time=   0.7s\n",
      "[CV] END .max_depth=15, max_leaf_nodes=100, n_estimators=700; total time=   0.8s\n",
      "[CV] END .max_depth=15, max_leaf_nodes=100, n_estimators=700; total time=   0.7s\n",
      "[CV] END .max_depth=15, max_leaf_nodes=100, n_estimators=700; total time=   0.8s\n",
      "[CV] END .max_depth=15, max_leaf_nodes=100, n_estimators=700; total time=   0.8s\n",
      "[CV] END max_depth=15, max_leaf_nodes=100, n_estimators=1000; total time=   1.0s\n",
      "[CV] END max_depth=15, max_leaf_nodes=100, n_estimators=1000; total time=   1.1s\n",
      "[CV] END max_depth=15, max_leaf_nodes=100, n_estimators=1000; total time=   1.1s\n",
      "[CV] END max_depth=15, max_leaf_nodes=100, n_estimators=1000; total time=   1.2s\n",
      "[CV] END max_depth=15, max_leaf_nodes=100, n_estimators=1000; total time=   1.1s\n",
      "[CV] END .max_depth=15, max_leaf_nodes=200, n_estimators=400; total time=   0.5s\n",
      "[CV] END .max_depth=15, max_leaf_nodes=200, n_estimators=400; total time=   0.5s\n",
      "[CV] END .max_depth=15, max_leaf_nodes=200, n_estimators=400; total time=   0.5s\n",
      "[CV] END .max_depth=15, max_leaf_nodes=200, n_estimators=400; total time=   0.4s\n",
      "[CV] END .max_depth=15, max_leaf_nodes=200, n_estimators=400; total time=   0.4s\n",
      "[CV] END .max_depth=15, max_leaf_nodes=200, n_estimators=700; total time=   0.7s\n",
      "[CV] END .max_depth=15, max_leaf_nodes=200, n_estimators=700; total time=   0.8s\n",
      "[CV] END .max_depth=15, max_leaf_nodes=200, n_estimators=700; total time=   0.8s\n",
      "[CV] END .max_depth=15, max_leaf_nodes=200, n_estimators=700; total time=   0.8s\n",
      "[CV] END .max_depth=15, max_leaf_nodes=200, n_estimators=700; total time=   0.7s\n",
      "[CV] END max_depth=15, max_leaf_nodes=200, n_estimators=1000; total time=   1.1s\n",
      "[CV] END max_depth=15, max_leaf_nodes=200, n_estimators=1000; total time=   1.1s\n",
      "[CV] END max_depth=15, max_leaf_nodes=200, n_estimators=1000; total time=   1.1s\n",
      "[CV] END max_depth=15, max_leaf_nodes=200, n_estimators=1000; total time=   1.2s\n",
      "[CV] END max_depth=15, max_leaf_nodes=200, n_estimators=1000; total time=   1.2s\n",
      "[CV] END ..max_depth=20, max_leaf_nodes=50, n_estimators=400; total time=   0.5s\n",
      "[CV] END ..max_depth=20, max_leaf_nodes=50, n_estimators=400; total time=   0.5s\n",
      "[CV] END ..max_depth=20, max_leaf_nodes=50, n_estimators=400; total time=   0.5s\n",
      "[CV] END ..max_depth=20, max_leaf_nodes=50, n_estimators=400; total time=   0.5s\n",
      "[CV] END ..max_depth=20, max_leaf_nodes=50, n_estimators=400; total time=   0.5s\n",
      "[CV] END ..max_depth=20, max_leaf_nodes=50, n_estimators=700; total time=   0.8s\n",
      "[CV] END ..max_depth=20, max_leaf_nodes=50, n_estimators=700; total time=   0.9s\n",
      "[CV] END ..max_depth=20, max_leaf_nodes=50, n_estimators=700; total time=   0.9s\n",
      "[CV] END ..max_depth=20, max_leaf_nodes=50, n_estimators=700; total time=   0.9s\n",
      "[CV] END ..max_depth=20, max_leaf_nodes=50, n_estimators=700; total time=   1.0s\n",
      "[CV] END .max_depth=20, max_leaf_nodes=50, n_estimators=1000; total time=   1.7s\n",
      "[CV] END .max_depth=20, max_leaf_nodes=50, n_estimators=1000; total time=   1.2s\n",
      "[CV] END .max_depth=20, max_leaf_nodes=50, n_estimators=1000; total time=   1.2s\n",
      "[CV] END .max_depth=20, max_leaf_nodes=50, n_estimators=1000; total time=   1.3s\n",
      "[CV] END .max_depth=20, max_leaf_nodes=50, n_estimators=1000; total time=   1.5s\n",
      "[CV] END .max_depth=20, max_leaf_nodes=100, n_estimators=400; total time=   0.5s\n",
      "[CV] END .max_depth=20, max_leaf_nodes=100, n_estimators=400; total time=   0.6s\n",
      "[CV] END .max_depth=20, max_leaf_nodes=100, n_estimators=400; total time=   0.6s\n",
      "[CV] END .max_depth=20, max_leaf_nodes=100, n_estimators=400; total time=   0.6s\n",
      "[CV] END .max_depth=20, max_leaf_nodes=100, n_estimators=400; total time=   0.7s\n",
      "[CV] END .max_depth=20, max_leaf_nodes=100, n_estimators=700; total time=   1.1s\n",
      "[CV] END .max_depth=20, max_leaf_nodes=100, n_estimators=700; total time=   0.9s\n",
      "[CV] END .max_depth=20, max_leaf_nodes=100, n_estimators=700; total time=   1.0s\n",
      "[CV] END .max_depth=20, max_leaf_nodes=100, n_estimators=700; total time=   1.0s\n",
      "[CV] END .max_depth=20, max_leaf_nodes=100, n_estimators=700; total time=   1.0s\n",
      "[CV] END max_depth=20, max_leaf_nodes=100, n_estimators=1000; total time=   1.1s\n",
      "[CV] END max_depth=20, max_leaf_nodes=100, n_estimators=1000; total time=   1.1s\n",
      "[CV] END max_depth=20, max_leaf_nodes=100, n_estimators=1000; total time=   1.1s\n",
      "[CV] END max_depth=20, max_leaf_nodes=100, n_estimators=1000; total time=   1.1s\n",
      "[CV] END max_depth=20, max_leaf_nodes=100, n_estimators=1000; total time=   1.1s\n",
      "[CV] END .max_depth=20, max_leaf_nodes=200, n_estimators=400; total time=   0.5s\n",
      "[CV] END .max_depth=20, max_leaf_nodes=200, n_estimators=400; total time=   0.4s\n",
      "[CV] END .max_depth=20, max_leaf_nodes=200, n_estimators=400; total time=   0.4s\n",
      "[CV] END .max_depth=20, max_leaf_nodes=200, n_estimators=400; total time=   0.4s\n",
      "[CV] END .max_depth=20, max_leaf_nodes=200, n_estimators=400; total time=   0.4s\n",
      "[CV] END .max_depth=20, max_leaf_nodes=200, n_estimators=700; total time=   0.8s\n",
      "[CV] END .max_depth=20, max_leaf_nodes=200, n_estimators=700; total time=   0.8s\n",
      "[CV] END .max_depth=20, max_leaf_nodes=200, n_estimators=700; total time=   0.9s\n",
      "[CV] END .max_depth=20, max_leaf_nodes=200, n_estimators=700; total time=   0.9s\n",
      "[CV] END .max_depth=20, max_leaf_nodes=200, n_estimators=700; total time=   0.8s\n",
      "[CV] END max_depth=20, max_leaf_nodes=200, n_estimators=1000; total time=   1.4s\n",
      "[CV] END max_depth=20, max_leaf_nodes=200, n_estimators=1000; total time=   1.2s\n",
      "[CV] END max_depth=20, max_leaf_nodes=200, n_estimators=1000; total time=   1.3s\n",
      "[CV] END max_depth=20, max_leaf_nodes=200, n_estimators=1000; total time=   1.6s\n",
      "[CV] END max_depth=20, max_leaf_nodes=200, n_estimators=1000; total time=   1.3s\n",
      "[CV] END ..max_depth=25, max_leaf_nodes=50, n_estimators=400; total time=   0.5s\n",
      "[CV] END ..max_depth=25, max_leaf_nodes=50, n_estimators=400; total time=   0.5s\n",
      "[CV] END ..max_depth=25, max_leaf_nodes=50, n_estimators=400; total time=   0.5s\n",
      "[CV] END ..max_depth=25, max_leaf_nodes=50, n_estimators=400; total time=   0.5s\n",
      "[CV] END ..max_depth=25, max_leaf_nodes=50, n_estimators=400; total time=   0.5s\n",
      "[CV] END ..max_depth=25, max_leaf_nodes=50, n_estimators=700; total time=   0.8s\n",
      "[CV] END ..max_depth=25, max_leaf_nodes=50, n_estimators=700; total time=   0.8s\n",
      "[CV] END ..max_depth=25, max_leaf_nodes=50, n_estimators=700; total time=   0.8s\n",
      "[CV] END ..max_depth=25, max_leaf_nodes=50, n_estimators=700; total time=   0.8s\n",
      "[CV] END ..max_depth=25, max_leaf_nodes=50, n_estimators=700; total time=   0.8s\n",
      "[CV] END .max_depth=25, max_leaf_nodes=50, n_estimators=1000; total time=   1.2s\n"
     ]
    },
    {
     "name": "stdout",
     "output_type": "stream",
     "text": [
      "[CV] END .max_depth=25, max_leaf_nodes=50, n_estimators=1000; total time=   1.1s\n",
      "[CV] END .max_depth=25, max_leaf_nodes=50, n_estimators=1000; total time=   1.1s\n",
      "[CV] END .max_depth=25, max_leaf_nodes=50, n_estimators=1000; total time=   1.2s\n",
      "[CV] END .max_depth=25, max_leaf_nodes=50, n_estimators=1000; total time=   1.1s\n",
      "[CV] END .max_depth=25, max_leaf_nodes=100, n_estimators=400; total time=   0.5s\n",
      "[CV] END .max_depth=25, max_leaf_nodes=100, n_estimators=400; total time=   0.4s\n",
      "[CV] END .max_depth=25, max_leaf_nodes=100, n_estimators=400; total time=   0.4s\n",
      "[CV] END .max_depth=25, max_leaf_nodes=100, n_estimators=400; total time=   0.4s\n",
      "[CV] END .max_depth=25, max_leaf_nodes=100, n_estimators=400; total time=   0.4s\n",
      "[CV] END .max_depth=25, max_leaf_nodes=100, n_estimators=700; total time=   0.8s\n",
      "[CV] END .max_depth=25, max_leaf_nodes=100, n_estimators=700; total time=   0.8s\n",
      "[CV] END .max_depth=25, max_leaf_nodes=100, n_estimators=700; total time=   0.8s\n",
      "[CV] END .max_depth=25, max_leaf_nodes=100, n_estimators=700; total time=   0.8s\n",
      "[CV] END .max_depth=25, max_leaf_nodes=100, n_estimators=700; total time=   0.8s\n",
      "[CV] END max_depth=25, max_leaf_nodes=100, n_estimators=1000; total time=   1.2s\n",
      "[CV] END max_depth=25, max_leaf_nodes=100, n_estimators=1000; total time=   1.1s\n",
      "[CV] END max_depth=25, max_leaf_nodes=100, n_estimators=1000; total time=   1.1s\n",
      "[CV] END max_depth=25, max_leaf_nodes=100, n_estimators=1000; total time=   1.1s\n",
      "[CV] END max_depth=25, max_leaf_nodes=100, n_estimators=1000; total time=   1.2s\n",
      "[CV] END .max_depth=25, max_leaf_nodes=200, n_estimators=400; total time=   0.4s\n",
      "[CV] END .max_depth=25, max_leaf_nodes=200, n_estimators=400; total time=   0.4s\n",
      "[CV] END .max_depth=25, max_leaf_nodes=200, n_estimators=400; total time=   0.4s\n",
      "[CV] END .max_depth=25, max_leaf_nodes=200, n_estimators=400; total time=   0.4s\n",
      "[CV] END .max_depth=25, max_leaf_nodes=200, n_estimators=400; total time=   0.4s\n",
      "[CV] END .max_depth=25, max_leaf_nodes=200, n_estimators=700; total time=   0.8s\n",
      "[CV] END .max_depth=25, max_leaf_nodes=200, n_estimators=700; total time=   0.8s\n",
      "[CV] END .max_depth=25, max_leaf_nodes=200, n_estimators=700; total time=   0.9s\n",
      "[CV] END .max_depth=25, max_leaf_nodes=200, n_estimators=700; total time=   0.8s\n",
      "[CV] END .max_depth=25, max_leaf_nodes=200, n_estimators=700; total time=   0.8s\n",
      "[CV] END max_depth=25, max_leaf_nodes=200, n_estimators=1000; total time=   1.1s\n",
      "[CV] END max_depth=25, max_leaf_nodes=200, n_estimators=1000; total time=   1.2s\n",
      "[CV] END max_depth=25, max_leaf_nodes=200, n_estimators=1000; total time=   1.1s\n",
      "[CV] END max_depth=25, max_leaf_nodes=200, n_estimators=1000; total time=   1.1s\n",
      "[CV] END max_depth=25, max_leaf_nodes=200, n_estimators=1000; total time=   1.1s\n",
      "0.7733333333333332\n",
      "{'max_depth': 15, 'max_leaf_nodes': 100, 'n_estimators': 400}\n"
     ]
    }
   ],
   "source": [
    "model = RandomForestClassifier()\n",
    "\n",
    "param_grid = {\n",
    "    'n_estimators': [400, 700, 1000],\n",
    "    'max_depth': [15,20,25],\n",
    "    'max_leaf_nodes': [50, 100, 200]\n",
    "}\n",
    "\n",
    "model, pred = algorithm_pipeline(Xtrain, Xtest, ytrain, ytest, model, \n",
    "                                 param_grid, cv=5, scoring_fit='f1')\n",
    "\n",
    "print(model.best_score_)\n",
    "print(model.best_params_)"
   ]
  },
  {
   "cell_type": "code",
   "execution_count": 24,
   "metadata": {
    "colab": {
     "base_uri": "https://localhost:8080/",
     "height": 473
    },
    "id": "3IxdLLg3DKIe",
    "outputId": "6ccb5f87-1558-4449-d179-20121a15b73e"
   },
   "outputs": [
    {
     "name": "stderr",
     "output_type": "stream",
     "text": [
      "/home/shikha/snap/jupyter/common/lib/python3.7/site-packages/sklearn/metrics/_classification.py:1248: UndefinedMetricWarning: Precision and F-score are ill-defined and being set to 0.0 in labels with no predicted samples. Use `zero_division` parameter to control this behavior.\n",
      "  _warn_prf(average, modifier, msg_start, len(result))\n"
     ]
    },
    {
     "name": "stdout",
     "output_type": "stream",
     "text": [
      "Average training statistics over 100 runs of the RF model - \n",
      "Accuracy Score =  1.0\n",
      "Precision Score =  1.0\n",
      "Recall Score =  1.0\n",
      "F1 Score =  1.0\n",
      "\n",
      "Average testing statistics over 100 runs of the RF model - \n",
      "Accuracy Score =  0.9454545454545458\n",
      "Precision Score =  0.9465959994617026\n",
      "Recall Score =  0.9454545454545458\n",
      "F1 Score =  0.9410407166771452\n"
     ]
    },
    {
     "data": {
      "image/png": "[encoded data removed]",
      "text/plain": [
       "<Figure size 432x288 with 2 Axes>"
      ]
     },
     "metadata": {
      "needs_background": "light"
     },
     "output_type": "display_data"
    }
   ],
   "source": [
    "model = RandomForestClassifier(max_depth = 15, max_leaf_nodes = 100, n_estimators = 400)\n",
    "ttmodel(X, Y, model, 100)"
   ]
  },
  {
   "cell_type": "code",
   "execution_count": 25,
   "metadata": {
    "colab": {
     "base_uri": "https://localhost:8080/"
    },
    "id": "cyaZA0SWDtoA",
    "outputId": "babf27fe-563c-42d8-a2c2-c0c8b259f1e1"
   },
   "outputs": [
    {
     "name": "stdout",
     "output_type": "stream",
     "text": [
      "fit_time = [0.38240742683410645, 0.3919187954493931, 0.4052693843841553]\n",
      "\n",
      "score_time = [0.06463789939880371, 0.06588830266680036, 0.06800222396850586]\n",
      "\n",
      "test_f1 = [0.5714285714285715, 0.7714285714285714, 1.0]\n",
      "\n",
      "train_f1 = [1.0, 1.0, 1.0]\n",
      "\n",
      "test_roc_auc = [0.8181818181818181, 0.9581787260358688, 1.0]\n",
      "\n",
      "train_roc_auc = [0.9999999999999999, 1.0, 1.0]\n",
      "\n"
     ]
    }
   ],
   "source": [
    "cvmodel(X,Y,model,7)"
   ]
  },
  {
   "cell_type": "code",
   "execution_count": null,
   "metadata": {},
   "outputs": [],
   "source": []
  }
 ],
 "metadata": {
  "colab": {
   "name": "Random Forest",
   "provenance": []
  },
  "kernelspec": {
   "display_name": "Python 3",
   "language": "python",
   "name": "python3"
  },
  "language_info": {
   "codemirror_mode": {
    "name": "ipython",
    "version": 3
   },
   "file_extension": ".py",
   "mimetype": "text/x-python",
   "name": "python",
   "nbconvert_exporter": "python",
   "pygments_lexer": "ipython3",
   "version": "3.7.3"
  }
 },
 "nbformat": 4,
 "nbformat_minor": 1
}
