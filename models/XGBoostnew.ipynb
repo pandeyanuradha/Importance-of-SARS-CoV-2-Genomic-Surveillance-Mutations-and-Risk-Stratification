{
<<<<<<< HEAD
  "nbformat": 4,
  "nbformat_minor": 0,
  "metadata": {
    "colab": {
      "name": "XGBoost new",
      "provenance": [],
      "collapsed_sections": []
    },
    "kernelspec": {
      "name": "python3",
      "display_name": "Python 3"
=======
 "cells": [
  {
   "cell_type": "code",
   "execution_count": 5,
   "metadata": {
    "id": "NH_ELRou1d23"
   },
   "outputs": [
    {
     "name": "stdout",
     "output_type": "stream",
     "text": [
      "Collecting xgboost\n",
      "\u001b[?25l  Downloading https://files.pythonhosted.org/packages/bb/35/169eec194bf1f9ef52ed670f5032ef2abaf6ed285cfadcb4b6026b800fc9/xgboost-1.4.2-py3-none-manylinux2010_x86_64.whl (166.7MB)\n",
      "\u001b[K     |████████████████████████████████| 166.7MB 10.9MB/s eta 0:00:01     |█████████████████████▉          | 113.6MB 17.6MB/s eta 0:00:04\n",
      "\u001b[?25hRequirement already satisfied: numpy in /home/shikha/snap/jupyter/common/lib/python3.7/site-packages (from xgboost) (1.20.1)\n",
      "Requirement already satisfied: scipy in /home/shikha/snap/jupyter/common/lib/python3.7/site-packages (from xgboost) (1.6.3)\n",
      "Installing collected packages: xgboost\n",
      "Successfully installed xgboost-1.4.2\n"
     ]
>>>>>>> 9660aa48c7fbbe2449a0ee763ca943f2f14c7caf
    },
    {
     "name": "stderr",
     "output_type": "stream",
     "text": [
      "/home/shikha/snap/jupyter/common/lib/python3.7/site-packages/joblib/_multiprocessing_helpers.py:45: UserWarning: [Errno 13] Permission denied.  joblib will operate in serial mode\n",
      "  warnings.warn('%s.  joblib will operate in serial mode' % (e,))\n"
     ]
    }
   ],
   "source": [
    "import pandas as pd\n",
    "import numpy as np\n",
    "\n",
    "import matplotlib.pyplot as plt\n",
    "import seaborn as sns\n",
    "\n",
    "import sys \n",
    "!{sys.executable} -m pip install xgboost\n",
    "from xgboost import XGBClassifier\n",
    "from sklearn.model_selection import train_test_split\n",
    "from sklearn import metrics\n",
    "import sklearn.metrics"
   ]
  },
<<<<<<< HEAD
  "cells": [
    {
      "cell_type": "code",
      "metadata": {
        "colab": {
          "base_uri": "https://localhost:8080/"
        },
        "id": "R2D8P-t_GY9K",
        "outputId": "480468d9-7cc8-4191-bf68-51463df6f7bc"
      },
      "source": [
        "from google.colab import drive\n",
        "drive.mount('/content/drive')"
      ],
      "execution_count": 1,
      "outputs": [
        {
          "output_type": "stream",
          "text": [
            "Drive already mounted at /content/drive; to attempt to forcibly remount, call drive.mount(\"/content/drive\", force_remount=True).\n"
          ],
          "name": "stdout"
        }
      ]
    },
    {
      "cell_type": "code",
      "metadata": {
        "id": "NH_ELRou1d23"
      },
      "source": [
        "import pandas as pd\n",
        "import numpy as np\n",
        "\n",
        "import matplotlib.pyplot as plt\n",
        "import seaborn as sns\n",
        "from sklearn.model_selection import GridSearchCV\n",
        "\n",
        "from xgboost import XGBClassifier\n",
        "from sklearn.model_selection import train_test_split\n",
        "from sklearn import metrics\n",
        "import sklearn.metrics"
      ],
      "execution_count": 2,
      "outputs": []
    },
    {
      "cell_type": "code",
      "metadata": {
        "id": "_cOao5sK1jig",
        "colab": {
          "base_uri": "https://localhost:8080/",
          "height": 442
        },
        "outputId": "805e9201-af75-4479-e253-e1b4f307e745"
      },
      "source": [
        "data = pd.read_csv('/content/drive/MyDrive/College/PS - 1/Notebooks/clean_df.csv')\n",
        "data.head()"
      ],
      "execution_count": 3,
      "outputs": [
        {
          "output_type": "execute_result",
          "data": {
            "text/html": [
              "<div>\n",
              "<style scoped>\n",
              "    .dataframe tbody tr th:only-of-type {\n",
              "        vertical-align: middle;\n",
              "    }\n",
              "\n",
              "    .dataframe tbody tr th {\n",
              "        vertical-align: top;\n",
              "    }\n",
              "\n",
              "    .dataframe thead th {\n",
              "        text-align: right;\n",
              "    }\n",
              "</style>\n",
              "<table border=\"1\" class=\"dataframe\">\n",
              "  <thead>\n",
              "    <tr style=\"text-align: right;\">\n",
              "      <th></th>\n",
              "      <th>Unnamed: 0</th>\n",
              "      <th>Sample No.</th>\n",
              "      <th>Patient ID</th>\n",
              "      <th>Study ID</th>\n",
              "      <th>Age</th>\n",
              "      <th>Gender</th>\n",
              "      <th>BMI</th>\n",
              "      <th>Symptoms Presented</th>\n",
              "      <th>Symptoms Present?</th>\n",
              "      <th>Fever</th>\n",
              "      <th>Cough</th>\n",
              "      <th>Breathlessness</th>\n",
              "      <th>Travel History</th>\n",
              "      <th>Temp</th>\n",
              "      <th>SPO2</th>\n",
              "      <th>METHYLPREDNISOLONE</th>\n",
              "      <th>Low molecular weight heparin</th>\n",
              "      <th>Hydroxychloroquine</th>\n",
              "      <th>FABIFLU</th>\n",
              "      <th>REMDESIVIR</th>\n",
              "      <th>IVERMECTIN</th>\n",
              "      <th>ANTIBIOTICS</th>\n",
              "      <th>VITAMINs and zinc</th>\n",
              "      <th>Medicine Administered</th>\n",
              "      <th>Contact to NCOVID Patient</th>\n",
              "      <th>Co-morbid Condition</th>\n",
              "      <th>Co-morbidity?</th>\n",
              "      <th>Diabetes</th>\n",
              "      <th>Hypertension</th>\n",
              "      <th>Heart Condition</th>\n",
              "      <th>Hospital stay in days</th>\n",
              "      <th>Respiratory Support</th>\n",
              "      <th>Respiratory rate(breaths per minute)</th>\n",
              "      <th>Outcome</th>\n",
              "      <th>O2 supplementation required</th>\n",
              "      <th>Ventilatory support required</th>\n",
              "      <th>qSOFA SCORE</th>\n",
              "      <th>RESPIRATORY FINDINGS</th>\n",
              "      <th>HEMOGLOBIN</th>\n",
              "      <th>TLC COUNT</th>\n",
              "      <th>PLATELET COUNT</th>\n",
              "      <th>RANDOM BLOOD SUGAR</th>\n",
              "      <th>UREA</th>\n",
              "      <th>CREATININE</th>\n",
              "      <th>SODIUM</th>\n",
              "      <th>POTASSIUM</th>\n",
              "      <th>CHLORIDE</th>\n",
              "      <th>TOTAL BILIRUBIN</th>\n",
              "      <th>DIRECT BILIRUBIN</th>\n",
              "      <th>SGOT</th>\n",
              "      <th>SGPT</th>\n",
              "      <th>TOTAL PROTEINS</th>\n",
              "      <th>ALBUMIN</th>\n",
              "      <th>ALKALINE PHOSPHATASE</th>\n",
              "      <th>C-REACTIVE PROTEINS</th>\n",
              "      <th>ECG</th>\n",
              "      <th>CXR</th>\n",
              "      <th>CORADS SCORE ON HRCT</th>\n",
              "      <th>PATIENT CATEGORY</th>\n",
              "      <th>PLASMA THERAPY</th>\n",
              "      <th>Age Above 60?</th>\n",
              "      <th>Temp Groups</th>\n",
              "      <th>CORADS 6</th>\n",
              "    </tr>\n",
              "  </thead>\n",
              "  <tbody>\n",
              "    <tr>\n",
              "      <th>0</th>\n",
              "      <td>0</td>\n",
              "      <td>1013</td>\n",
              "      <td>IGIB1040201013</td>\n",
              "      <td>IGIB1040201013-1</td>\n",
              "      <td>0.551724</td>\n",
              "      <td>1</td>\n",
              "      <td>0.436782</td>\n",
              "      <td>fever, cough,breathlessness</td>\n",
              "      <td>1</td>\n",
              "      <td>1</td>\n",
              "      <td>1</td>\n",
              "      <td>1</td>\n",
              "      <td>0</td>\n",
              "      <td>0.2</td>\n",
              "      <td>0.833333</td>\n",
              "      <td>1</td>\n",
              "      <td>1</td>\n",
              "      <td>1</td>\n",
              "      <td>1</td>\n",
              "      <td>1</td>\n",
              "      <td>1</td>\n",
              "      <td>1</td>\n",
              "      <td>1</td>\n",
              "      <td>METHYLPREDNISOLONE, Low molecular weight hepar...</td>\n",
              "      <td>1</td>\n",
              "      <td>no</td>\n",
              "      <td>0</td>\n",
              "      <td>0</td>\n",
              "      <td>0</td>\n",
              "      <td>0</td>\n",
              "      <td>18.0</td>\n",
              "      <td>1</td>\n",
              "      <td>0.3</td>\n",
              "      <td>0</td>\n",
              "      <td>1</td>\n",
              "      <td>0</td>\n",
              "      <td>0</td>\n",
              "      <td>Basal crepitations</td>\n",
              "      <td>0.854839</td>\n",
              "      <td>0.162996</td>\n",
              "      <td>0.030910</td>\n",
              "      <td>0.131285</td>\n",
              "      <td>0.209231</td>\n",
              "      <td>0.000172</td>\n",
              "      <td>0.542857</td>\n",
              "      <td>0.018793</td>\n",
              "      <td>0.862793</td>\n",
              "      <td>0.051282</td>\n",
              "      <td>0.047619</td>\n",
              "      <td>0.171097</td>\n",
              "      <td>0.355532</td>\n",
              "      <td>0.255556</td>\n",
              "      <td>0.300</td>\n",
              "      <td>0.127089</td>\n",
              "      <td>0.152271</td>\n",
              "      <td>sinus rhythm</td>\n",
              "      <td>normal</td>\n",
              "      <td>4.0</td>\n",
              "      <td>5a</td>\n",
              "      <td>No</td>\n",
              "      <td>0</td>\n",
              "      <td>0.2</td>\n",
              "      <td>0.0</td>\n",
              "    </tr>\n",
              "    <tr>\n",
              "      <th>1</th>\n",
              "      <td>1</td>\n",
              "      <td>1014</td>\n",
              "      <td>IGIB1040201014</td>\n",
              "      <td>IGIB1040201014-1</td>\n",
              "      <td>0.241379</td>\n",
              "      <td>0</td>\n",
              "      <td>0.804598</td>\n",
              "      <td>asymptomatic</td>\n",
              "      <td>0</td>\n",
              "      <td>0</td>\n",
              "      <td>0</td>\n",
              "      <td>0</td>\n",
              "      <td>0</td>\n",
              "      <td>0.5</td>\n",
              "      <td>0.666667</td>\n",
              "      <td>1</td>\n",
              "      <td>1</td>\n",
              "      <td>1</td>\n",
              "      <td>1</td>\n",
              "      <td>0</td>\n",
              "      <td>1</td>\n",
              "      <td>1</td>\n",
              "      <td>1</td>\n",
              "      <td>METHYLPREDNISOLONE, Low molecular weight hepar...</td>\n",
              "      <td>1</td>\n",
              "      <td>no</td>\n",
              "      <td>0</td>\n",
              "      <td>0</td>\n",
              "      <td>0</td>\n",
              "      <td>0</td>\n",
              "      <td>NaN</td>\n",
              "      <td>0</td>\n",
              "      <td>0.1</td>\n",
              "      <td>0</td>\n",
              "      <td>0</td>\n",
              "      <td>0</td>\n",
              "      <td>0</td>\n",
              "      <td>Basal crepitations</td>\n",
              "      <td>0.720430</td>\n",
              "      <td>0.072247</td>\n",
              "      <td>0.065827</td>\n",
              "      <td>0.061453</td>\n",
              "      <td>0.051077</td>\n",
              "      <td>0.000121</td>\n",
              "      <td>0.685714</td>\n",
              "      <td>0.011869</td>\n",
              "      <td>0.862793</td>\n",
              "      <td>0.000000</td>\n",
              "      <td>0.000000</td>\n",
              "      <td>0.046414</td>\n",
              "      <td>0.059076</td>\n",
              "      <td>0.333333</td>\n",
              "      <td>0.325</td>\n",
              "      <td>0.172501</td>\n",
              "      <td>0.009346</td>\n",
              "      <td>sinus rhythm</td>\n",
              "      <td>normal</td>\n",
              "      <td>0.0</td>\n",
              "      <td>5b</td>\n",
              "      <td>No</td>\n",
              "      <td>0</td>\n",
              "      <td>0.6</td>\n",
              "      <td>0.0</td>\n",
              "    </tr>\n",
              "    <tr>\n",
              "      <th>2</th>\n",
              "      <td>2</td>\n",
              "      <td>1015</td>\n",
              "      <td>IGIB1040201015</td>\n",
              "      <td>IGIB1040201015-1</td>\n",
              "      <td>0.264368</td>\n",
              "      <td>1</td>\n",
              "      <td>0.402299</td>\n",
              "      <td>asymptomatic</td>\n",
              "      <td>0</td>\n",
              "      <td>0</td>\n",
              "      <td>0</td>\n",
              "      <td>0</td>\n",
              "      <td>0</td>\n",
              "      <td>0.4</td>\n",
              "      <td>0.666667</td>\n",
              "      <td>1</td>\n",
              "      <td>1</td>\n",
              "      <td>1</td>\n",
              "      <td>1</td>\n",
              "      <td>0</td>\n",
              "      <td>1</td>\n",
              "      <td>1</td>\n",
              "      <td>1</td>\n",
              "      <td>METHYLPREDNISOLONE, Low molecular weight hepar...</td>\n",
              "      <td>1</td>\n",
              "      <td>no</td>\n",
              "      <td>0</td>\n",
              "      <td>0</td>\n",
              "      <td>0</td>\n",
              "      <td>0</td>\n",
              "      <td>11.0</td>\n",
              "      <td>0</td>\n",
              "      <td>0.1</td>\n",
              "      <td>0</td>\n",
              "      <td>0</td>\n",
              "      <td>0</td>\n",
              "      <td>0</td>\n",
              "      <td>Basal crepitations</td>\n",
              "      <td>0.854839</td>\n",
              "      <td>0.096035</td>\n",
              "      <td>0.090441</td>\n",
              "      <td>0.078212</td>\n",
              "      <td>0.029538</td>\n",
              "      <td>1.000000</td>\n",
              "      <td>1.000000</td>\n",
              "      <td>0.150346</td>\n",
              "      <td>0.000000</td>\n",
              "      <td>0.128205</td>\n",
              "      <td>0.095238</td>\n",
              "      <td>0.040295</td>\n",
              "      <td>0.048335</td>\n",
              "      <td>0.377778</td>\n",
              "      <td>0.400</td>\n",
              "      <td>0.259224</td>\n",
              "      <td>0.026437</td>\n",
              "      <td>sinus rhythm</td>\n",
              "      <td>normal</td>\n",
              "      <td>0.0</td>\n",
              "      <td>5b</td>\n",
              "      <td>No</td>\n",
              "      <td>0</td>\n",
              "      <td>0.4</td>\n",
              "      <td>0.0</td>\n",
              "    </tr>\n",
              "    <tr>\n",
              "      <th>3</th>\n",
              "      <td>3</td>\n",
              "      <td>1016</td>\n",
              "      <td>IGIB1040201016</td>\n",
              "      <td>IGIB1040201016-1</td>\n",
              "      <td>0.781609</td>\n",
              "      <td>1</td>\n",
              "      <td>0.321839</td>\n",
              "      <td>fever, cough,breathlessness</td>\n",
              "      <td>1</td>\n",
              "      <td>1</td>\n",
              "      <td>1</td>\n",
              "      <td>1</td>\n",
              "      <td>0</td>\n",
              "      <td>0.4</td>\n",
              "      <td>0.666667</td>\n",
              "      <td>1</td>\n",
              "      <td>1</td>\n",
              "      <td>1</td>\n",
              "      <td>1</td>\n",
              "      <td>1</td>\n",
              "      <td>1</td>\n",
              "      <td>1</td>\n",
              "      <td>1</td>\n",
              "      <td>METHYLPREDNISOLONE, Low molecular weight hepar...</td>\n",
              "      <td>1</td>\n",
              "      <td>no</td>\n",
              "      <td>0</td>\n",
              "      <td>0</td>\n",
              "      <td>0</td>\n",
              "      <td>0</td>\n",
              "      <td>14.0</td>\n",
              "      <td>1</td>\n",
              "      <td>0.6</td>\n",
              "      <td>1</td>\n",
              "      <td>1</td>\n",
              "      <td>1</td>\n",
              "      <td>1</td>\n",
              "      <td>Basal crepitations</td>\n",
              "      <td>0.709677</td>\n",
              "      <td>0.118943</td>\n",
              "      <td>0.092158</td>\n",
              "      <td>0.125698</td>\n",
              "      <td>0.142154</td>\n",
              "      <td>0.000103</td>\n",
              "      <td>0.457143</td>\n",
              "      <td>0.012859</td>\n",
              "      <td>0.830508</td>\n",
              "      <td>0.538462</td>\n",
              "      <td>0.523810</td>\n",
              "      <td>0.124051</td>\n",
              "      <td>0.236842</td>\n",
              "      <td>0.300000</td>\n",
              "      <td>0.275</td>\n",
              "      <td>0.366446</td>\n",
              "      <td>0.443161</td>\n",
              "      <td>sinus rhythm</td>\n",
              "      <td>normal</td>\n",
              "      <td>5.0</td>\n",
              "      <td>4</td>\n",
              "      <td>No</td>\n",
              "      <td>1</td>\n",
              "      <td>0.4</td>\n",
              "      <td>0.0</td>\n",
              "    </tr>\n",
              "    <tr>\n",
              "      <th>4</th>\n",
              "      <td>4</td>\n",
              "      <td>1060</td>\n",
              "      <td>IGIB1040201060</td>\n",
              "      <td>IGIB1040201060-1</td>\n",
              "      <td>0.505747</td>\n",
              "      <td>1</td>\n",
              "      <td>1.000000</td>\n",
              "      <td>fever,cough</td>\n",
              "      <td>1</td>\n",
              "      <td>1</td>\n",
              "      <td>1</td>\n",
              "      <td>0</td>\n",
              "      <td>0</td>\n",
              "      <td>0.8</td>\n",
              "      <td>0.666667</td>\n",
              "      <td>1</td>\n",
              "      <td>1</td>\n",
              "      <td>1</td>\n",
              "      <td>1</td>\n",
              "      <td>1</td>\n",
              "      <td>1</td>\n",
              "      <td>1</td>\n",
              "      <td>1</td>\n",
              "      <td>METHYLPREDNISOLONE, Low molecular weight hepar...</td>\n",
              "      <td>1</td>\n",
              "      <td>Psychiatric disorder</td>\n",
              "      <td>1</td>\n",
              "      <td>0</td>\n",
              "      <td>0</td>\n",
              "      <td>0</td>\n",
              "      <td>1.0</td>\n",
              "      <td>0</td>\n",
              "      <td>0.3</td>\n",
              "      <td>0</td>\n",
              "      <td>0</td>\n",
              "      <td>0</td>\n",
              "      <td>0</td>\n",
              "      <td>no any</td>\n",
              "      <td>0.736559</td>\n",
              "      <td>0.308370</td>\n",
              "      <td>0.141958</td>\n",
              "      <td>0.050279</td>\n",
              "      <td>0.052308</td>\n",
              "      <td>0.000103</td>\n",
              "      <td>0.000000</td>\n",
              "      <td>0.008902</td>\n",
              "      <td>0.733656</td>\n",
              "      <td>1.000000</td>\n",
              "      <td>0.952381</td>\n",
              "      <td>0.093671</td>\n",
              "      <td>0.277658</td>\n",
              "      <td>0.255556</td>\n",
              "      <td>0.125</td>\n",
              "      <td>0.546200</td>\n",
              "      <td>0.430297</td>\n",
              "      <td>sinus rhythm</td>\n",
              "      <td>normal</td>\n",
              "      <td>5.0</td>\n",
              "      <td>4</td>\n",
              "      <td>No</td>\n",
              "      <td>0</td>\n",
              "      <td>0.8</td>\n",
              "      <td>0.0</td>\n",
              "    </tr>\n",
              "  </tbody>\n",
              "</table>\n",
              "</div>"
            ],
            "text/plain": [
              "   Unnamed: 0  Sample No.      Patient ID  ... Age Above 60?  Temp Groups  CORADS 6\n",
              "0           0        1013  IGIB1040201013  ...             0          0.2       0.0\n",
              "1           1        1014  IGIB1040201014  ...             0          0.6       0.0\n",
              "2           2        1015  IGIB1040201015  ...             0          0.4       0.0\n",
              "3           3        1016  IGIB1040201016  ...             1          0.4       0.0\n",
              "4           4        1060  IGIB1040201060  ...             0          0.8       0.0\n",
              "\n",
              "[5 rows x 63 columns]"
            ]
          },
          "metadata": {
            "tags": []
          },
          "execution_count": 3
        }
=======
  {
   "cell_type": "code",
   "execution_count": 8,
   "metadata": {
    "colab": {
     "base_uri": "https://localhost:8080/",
     "height": 442
    },
    "id": "_cOao5sK1jig",
    "outputId": "e635faad-a190-4ebb-cb19-31afb55178bf"
   },
   "outputs": [
    {
     "data": {
      "text/html": [
       "<div>\n",
       "<style scoped>\n",
       "    .dataframe tbody tr th:only-of-type {\n",
       "        vertical-align: middle;\n",
       "    }\n",
       "\n",
       "    .dataframe tbody tr th {\n",
       "        vertical-align: top;\n",
       "    }\n",
       "\n",
       "    .dataframe thead th {\n",
       "        text-align: right;\n",
       "    }\n",
       "</style>\n",
       "<table border=\"1\" class=\"dataframe\">\n",
       "  <thead>\n",
       "    <tr style=\"text-align: right;\">\n",
       "      <th></th>\n",
       "      <th>Unnamed: 0</th>\n",
       "      <th>Sample No.</th>\n",
       "      <th>Patient ID</th>\n",
       "      <th>Study ID</th>\n",
       "      <th>Age</th>\n",
       "      <th>Gender</th>\n",
       "      <th>BMI</th>\n",
       "      <th>Symptoms Presented</th>\n",
       "      <th>Symptoms Present?</th>\n",
       "      <th>Fever</th>\n",
       "      <th>...</th>\n",
       "      <th>ALKALINE PHOSPHATASE</th>\n",
       "      <th>C-REACTIVE PROTEINS</th>\n",
       "      <th>ECG</th>\n",
       "      <th>CXR</th>\n",
       "      <th>CORADS SCORE ON HRCT</th>\n",
       "      <th>PATIENT CATEGORY</th>\n",
       "      <th>PLASMA THERAPY</th>\n",
       "      <th>Age Above 60?</th>\n",
       "      <th>Temp Groups</th>\n",
       "      <th>CORADS 6</th>\n",
       "    </tr>\n",
       "  </thead>\n",
       "  <tbody>\n",
       "    <tr>\n",
       "      <th>0</th>\n",
       "      <td>0</td>\n",
       "      <td>1013</td>\n",
       "      <td>IGIB1040201013</td>\n",
       "      <td>IGIB1040201013-1</td>\n",
       "      <td>0.551724</td>\n",
       "      <td>1</td>\n",
       "      <td>0.436782</td>\n",
       "      <td>fever, cough,breathlessness</td>\n",
       "      <td>1</td>\n",
       "      <td>1</td>\n",
       "      <td>...</td>\n",
       "      <td>0.127089</td>\n",
       "      <td>0.152271</td>\n",
       "      <td>sinus rhythm</td>\n",
       "      <td>normal</td>\n",
       "      <td>4.0</td>\n",
       "      <td>5a</td>\n",
       "      <td>No</td>\n",
       "      <td>0</td>\n",
       "      <td>0.2</td>\n",
       "      <td>0.0</td>\n",
       "    </tr>\n",
       "    <tr>\n",
       "      <th>1</th>\n",
       "      <td>1</td>\n",
       "      <td>1014</td>\n",
       "      <td>IGIB1040201014</td>\n",
       "      <td>IGIB1040201014-1</td>\n",
       "      <td>0.241379</td>\n",
       "      <td>0</td>\n",
       "      <td>0.804598</td>\n",
       "      <td>asymptomatic</td>\n",
       "      <td>0</td>\n",
       "      <td>0</td>\n",
       "      <td>...</td>\n",
       "      <td>0.172501</td>\n",
       "      <td>0.009346</td>\n",
       "      <td>sinus rhythm</td>\n",
       "      <td>normal</td>\n",
       "      <td>0.0</td>\n",
       "      <td>5b</td>\n",
       "      <td>No</td>\n",
       "      <td>0</td>\n",
       "      <td>0.6</td>\n",
       "      <td>0.0</td>\n",
       "    </tr>\n",
       "    <tr>\n",
       "      <th>2</th>\n",
       "      <td>2</td>\n",
       "      <td>1015</td>\n",
       "      <td>IGIB1040201015</td>\n",
       "      <td>IGIB1040201015-1</td>\n",
       "      <td>0.264368</td>\n",
       "      <td>1</td>\n",
       "      <td>0.402299</td>\n",
       "      <td>asymptomatic</td>\n",
       "      <td>0</td>\n",
       "      <td>0</td>\n",
       "      <td>...</td>\n",
       "      <td>0.259224</td>\n",
       "      <td>0.026437</td>\n",
       "      <td>sinus rhythm</td>\n",
       "      <td>normal</td>\n",
       "      <td>0.0</td>\n",
       "      <td>5b</td>\n",
       "      <td>No</td>\n",
       "      <td>0</td>\n",
       "      <td>0.4</td>\n",
       "      <td>0.0</td>\n",
       "    </tr>\n",
       "    <tr>\n",
       "      <th>3</th>\n",
       "      <td>3</td>\n",
       "      <td>1016</td>\n",
       "      <td>IGIB1040201016</td>\n",
       "      <td>IGIB1040201016-1</td>\n",
       "      <td>0.781609</td>\n",
       "      <td>1</td>\n",
       "      <td>0.321839</td>\n",
       "      <td>fever, cough,breathlessness</td>\n",
       "      <td>1</td>\n",
       "      <td>1</td>\n",
       "      <td>...</td>\n",
       "      <td>0.366446</td>\n",
       "      <td>0.443161</td>\n",
       "      <td>sinus rhythm</td>\n",
       "      <td>normal</td>\n",
       "      <td>5.0</td>\n",
       "      <td>4</td>\n",
       "      <td>No</td>\n",
       "      <td>1</td>\n",
       "      <td>0.4</td>\n",
       "      <td>0.0</td>\n",
       "    </tr>\n",
       "    <tr>\n",
       "      <th>4</th>\n",
       "      <td>4</td>\n",
       "      <td>1060</td>\n",
       "      <td>IGIB1040201060</td>\n",
       "      <td>IGIB1040201060-1</td>\n",
       "      <td>0.505747</td>\n",
       "      <td>1</td>\n",
       "      <td>1.000000</td>\n",
       "      <td>fever,cough</td>\n",
       "      <td>1</td>\n",
       "      <td>1</td>\n",
       "      <td>...</td>\n",
       "      <td>0.546200</td>\n",
       "      <td>0.430297</td>\n",
       "      <td>sinus rhythm</td>\n",
       "      <td>normal</td>\n",
       "      <td>5.0</td>\n",
       "      <td>4</td>\n",
       "      <td>No</td>\n",
       "      <td>0</td>\n",
       "      <td>0.8</td>\n",
       "      <td>0.0</td>\n",
       "    </tr>\n",
       "  </tbody>\n",
       "</table>\n",
       "<p>5 rows × 63 columns</p>\n",
       "</div>"
      ],
      "text/plain": [
       "   Unnamed: 0  Sample No.      Patient ID          Study ID       Age  Gender  \\\n",
       "0           0        1013  IGIB1040201013  IGIB1040201013-1  0.551724       1   \n",
       "1           1        1014  IGIB1040201014  IGIB1040201014-1  0.241379       0   \n",
       "2           2        1015  IGIB1040201015  IGIB1040201015-1  0.264368       1   \n",
       "3           3        1016  IGIB1040201016  IGIB1040201016-1  0.781609       1   \n",
       "4           4        1060  IGIB1040201060  IGIB1040201060-1  0.505747       1   \n",
       "\n",
       "        BMI           Symptoms Presented  Symptoms Present?  Fever  ...  \\\n",
       "0  0.436782  fever, cough,breathlessness                  1      1  ...   \n",
       "1  0.804598                 asymptomatic                  0      0  ...   \n",
       "2  0.402299                 asymptomatic                  0      0  ...   \n",
       "3  0.321839  fever, cough,breathlessness                  1      1  ...   \n",
       "4  1.000000                  fever,cough                  1      1  ...   \n",
       "\n",
       "   ALKALINE PHOSPHATASE  C-REACTIVE PROTEINS           ECG     CXR  \\\n",
       "0              0.127089             0.152271  sinus rhythm  normal   \n",
       "1              0.172501             0.009346  sinus rhythm  normal   \n",
       "2              0.259224             0.026437  sinus rhythm  normal   \n",
       "3              0.366446             0.443161  sinus rhythm  normal   \n",
       "4              0.546200             0.430297  sinus rhythm  normal   \n",
       "\n",
       "   CORADS SCORE ON HRCT  PATIENT CATEGORY  PLASMA THERAPY  Age Above 60?  \\\n",
       "0                   4.0                5a              No              0   \n",
       "1                   0.0                5b              No              0   \n",
       "2                   0.0                5b              No              0   \n",
       "3                   5.0                 4              No              1   \n",
       "4                   5.0                 4              No              0   \n",
       "\n",
       "   Temp Groups  CORADS 6  \n",
       "0          0.2       0.0  \n",
       "1          0.6       0.0  \n",
       "2          0.4       0.0  \n",
       "3          0.4       0.0  \n",
       "4          0.8       0.0  \n",
       "\n",
       "[5 rows x 63 columns]"
>>>>>>> 9660aa48c7fbbe2449a0ee763ca943f2f14c7caf
      ]
     },
     "execution_count": 8,
     "metadata": {},
     "output_type": "execute_result"
    }
   ],
   "source": [
    "data = pd.read_csv('../notebooks/clean_df.csv')\n",
    "data.head()"
   ]
  },
  {
   "cell_type": "code",
   "execution_count": 9,
   "metadata": {
    "id": "ijFogCLT2-Qx"
   },
   "outputs": [],
   "source": [
    "data.drop(columns=['Unnamed: 0'], inplace = True)"
   ]
  },
  {
   "cell_type": "code",
   "execution_count": 10,
   "metadata": {},
   "outputs": [],
   "source": [
    "def visualize(x,y, model):\n",
    "    \n",
    "        cm = metrics.confusion_matrix(y, model.predict(x))\n",
    "        plt.figure\n",
    "        sns.heatmap(cm, annot=True, fmt=\".3f\", linewidths=.5, square = True, cmap = 'Blues_r');\n",
    "        plt.ylabel('Actual label');\n",
    "        plt.xlabel('Predicted label');\n",
    "        plt.savefig('covidseverity.png')\n",
    "        \n",
    "        \n",
    "def ttmodel(X, Y, lm, n):\n",
    "    \n",
    "        train_accuracy = [0]*n\n",
    "        train_precision = [0]*n\n",
    "        train_recall = [0]*n\n",
    "        train_f1 = [0]*n\n",
    "\n",
    "        test_accuracy = [0]*n\n",
    "        test_precision = [0]*n\n",
    "        test_recall = [0]*n\n",
    "        test_f1 = [0]*n\n",
    "        \n",
    "        for i in range(n):\n",
    "            x_train, x_test, y_train, y_test = train_test_split(X, Y, test_size = 0.25)\n",
    "\n",
    "            lm.fit(x_train,y_train)\n",
    "\n",
    "            train_accuracy[i] = lm.score(x_train,y_train)\n",
    "            train_precision[i], train_recall[i], train_f1[i], s = sklearn.metrics.precision_recall_fscore_support(y_train, lm.predict(x_train), average='binary')\n",
    "\n",
    "            test_accuracy[i] = lm.score(x_test,y_test)\n",
    "            test_precision[i], test_recall[i], test_f1[i], s = sklearn.metrics.precision_recall_fscore_support(y_test, lm.predict(x_test), average='binary')\n",
    "\n",
    "        print(\"Average training statistics over\",n,\"runs of the XGBoost model - \")\n",
    "        print(\"Accuracy Score = \", sum(train_accuracy)/n)\n",
    "        print(\"Precision Score = \", sum(train_precision)/n)    \n",
    "        print(\"Recall Score = \", sum(train_recall)/n)   \n",
    "        print(\"F1 Score = \", sum(train_f1)/n) \n",
    "\n",
    "        print()\n",
    "        \n",
    "        print(\"Average testing statistics over\",n,\"runs of the XGBoost model - \")\n",
    "        print(\"Accuracy Score = \", sum(test_accuracy)/n)\n",
    "        print(\"Precision Score = \", sum(test_precision)/n)    \n",
    "        print(\"Recall Score = \", sum(test_recall)/n)   \n",
    "        print(\"F1 Score = \", sum(test_f1)/n) \n",
    "        \n",
    "        visualize(x_test, y_test, lm)\n",
    "        \n",
    "        \n",
    "def cvmodel(X, Y, lm, cv):\n",
    "    \n",
    "        from sklearn.model_selection import cross_validate\n",
    "        scoring = ['f1','roc_auc']\n",
    "        scores = cross_validate(lm, X, Y, cv=cv, scoring = scoring, return_train_score=True)\n",
    "        \n",
    "        for k,v in scores.items():\n",
    "            ans = [min(v),sum(v)/len(v),max(v)]\n",
    "            print(k,\"=\",ans)\n",
    "            print()\n"
   ]
  },
  {
   "cell_type": "markdown",
   "metadata": {
    "id": "ZPXP5yKR0V1A"
   },
   "source": [
    "## Model"
   ]
  },
  {
   "cell_type": "markdown",
   "metadata": {
    "id": "V5_-5EI2fwpC"
   },
   "source": [
    "#### Paramter finetuning :  https://www.analyticsvidhya.com/blog/2016/03/complete-guide-parameter-tuning-xgboost-with-codes-python/\n",
    "\n"
   ]
  },
  {
   "cell_type": "code",
   "execution_count": 11,
   "metadata": {
    "id": "y5cneeF05yfw"
   },
   "outputs": [],
   "source": [
    "model = XGBClassifier(max_depth = 5, min_child_weight = 1, gamma = 0, scale_pos_weight = 1)"
   ]
  },
  {
   "cell_type": "code",
   "execution_count": 12,
   "metadata": {
    "id": "6NsETcDK0GfG"
   },
   "outputs": [],
   "source": [
    "def model_perf(x,y,model):\n",
    "    cm = metrics.confusion_matrix(y, model.predict(x))\n",
    "    plt.figure\n",
    "    sns.heatmap(cm, annot=True, fmt=\".3f\", linewidths=.5, square = True, cmap = 'Blues_r');\n",
    "    plt.ylabel('Actual label');\n",
    "    plt.xlabel('Predicted label');\n",
    "    plt.savefig('covidseverity.png')\n",
    "    accuracy = model.score(x,y)\n",
    "    precision,recall,f1,support = sklearn.metrics.precision_recall_fscore_support(y, model.predict(x),average='binary')\n",
    "    print(\"Accuracy Score = \",accuracy)\n",
    "    print(\"Precision Score = \",precision)    \n",
    "    print(\"Recall Score = \",recall)    \n",
    "    print(\"F1 Score = \",f1)"
   ]
  },
  {
   "cell_type": "markdown",
   "metadata": {
    "id": "e9DcC1Xv1hgJ"
   },
   "source": [
    "## Initial factors"
   ]
  },
  {
   "cell_type": "code",
   "execution_count": 13,
   "metadata": {
    "id": "8PS65uHd0GcO"
   },
   "outputs": [
    {
     "name": "stderr",
     "output_type": "stream",
     "text": [
      "/home/shikha/snap/jupyter/common/lib/python3.7/site-packages/xgboost/sklearn.py:1146: UserWarning: The use of label encoder in XGBClassifier is deprecated and will be removed in a future release. To remove this warning, do the following: 1) Pass option use_label_encoder=False when constructing XGBClassifier object; and 2) Encode your labels (y) as integers starting with 0, i.e. 0, 1, 2, ..., [num_class - 1].\n",
      "  warnings.warn(label_encoder_deprecation_msg, UserWarning)\n"
     ]
    },
    {
<<<<<<< HEAD
      "cell_type": "code",
      "metadata": {
        "id": "ijFogCLT2-Qx"
      },
      "source": [
        "data.drop(columns=['Unnamed: 0'], inplace = True)"
      ],
      "execution_count": 4,
      "outputs": []
=======
     "name": "stdout",
     "output_type": "stream",
     "text": [
      "[10:58:36] WARNING: ../src/learner.cc:1095: Starting in XGBoost 1.3.0, the default evaluation metric used with the objective 'binary:logistic' was changed from 'error' to 'logloss'. Explicitly set eval_metric if you'd like to restore the old behavior.\n"
     ]
    }
   ],
   "source": [
    "X = data[['Age Above 60?','Gender','Temp Groups','Respiratory rate(breaths per minute)']]\n",
    "Y = data['Outcome']\n",
    "\n",
    "Xtrain, Xtest, ytrain, ytest = train_test_split(X, Y, test_size=0.25, random_state=0)\n",
    "\n",
    "model.fit(Xtrain, ytrain);"
   ]
  },
  {
   "cell_type": "code",
   "execution_count": 14,
   "metadata": {
    "colab": {
     "base_uri": "https://localhost:8080/",
     "height": 350
>>>>>>> 9660aa48c7fbbe2449a0ee763ca943f2f14c7caf
    },
    "id": "YaffuT4l1dd7",
    "outputId": "5b34e8a7-aa83-4ecf-80ae-8fd3b7f23bd8"
   },
   "outputs": [
    {
     "name": "stdout",
     "output_type": "stream",
     "text": [
      "Accuracy Score =  0.9770992366412213\n",
      "Precision Score =  0.9047619047619048\n",
      "Recall Score =  0.95\n",
      "F1 Score =  0.9268292682926829\n"
     ]
    },
    {
<<<<<<< HEAD
      "cell_type": "code",
      "metadata": {
        "id": "6NsETcDK0GfG"
      },
      "source": [
        "def model_perf(x,y,model):\n",
        "    cm = metrics.confusion_matrix(y, model.predict(x))\n",
        "    plt.figure\n",
        "    sns.heatmap(cm, annot=True, fmt=\".3f\", linewidths=.5, square = True, cmap = 'Blues_r');\n",
        "    plt.ylabel('Actual label');\n",
        "    plt.xlabel('Predicted label');\n",
        "    plt.savefig('covidseverity.png')\n",
        "    accuracy = model.score(x,y)\n",
        "    precision,recall,f1,support = sklearn.metrics.precision_recall_fscore_support(y, model.predict(x),average='binary')\n",
        "    print(\"Accuracy Score = \",accuracy)\n",
        "    print(\"Precision Score = \",precision)    \n",
        "    print(\"Recall Score = \",recall)    \n",
        "    print(\"F1 Score = \",f1)"
      ],
      "execution_count": 5,
      "outputs": []
    },
    {
      "cell_type": "code",
      "metadata": {
        "id": "CXrs1qPcz3d9"
      },
      "source": [
        "def algorithm_pipeline(X_train_data, X_test_data, y_train_data, y_test_data, \n",
        "                       model, param_grid, cv=10, scoring_fit='neg_mean_squared_error',\n",
        "                       do_probabilities = False):\n",
        "    gs = GridSearchCV(\n",
        "        estimator=model,\n",
        "        param_grid=param_grid, \n",
        "        cv=cv, \n",
        "        n_jobs=-1, \n",
        "        scoring=scoring_fit,\n",
        "        verbose=2\n",
        "    )\n",
        "    fitted_model = gs.fit(X_train_data, y_train_data)\n",
        "    \n",
        "    if do_probabilities:\n",
        "      pred = fitted_model.predict_proba(X_test_data)\n",
        "    else:\n",
        "      pred = fitted_model.predict(X_test_data)\n",
        "    \n",
        "    return fitted_model, pred"
      ],
      "execution_count": 6,
      "outputs": []
    },
    {
      "cell_type": "code",
      "metadata": {
        "id": "HVHZJpkG5xM1"
      },
      "source": [
        "def visualize(x,y, model):\n",
        "    \n",
        "        cm = metrics.confusion_matrix(y, model.predict(x))\n",
        "        plt.figure\n",
        "        sns.heatmap(cm, annot=True, fmt=\".3f\", linewidths=.5, square = True, cmap = 'Blues_r');\n",
        "        plt.ylabel('Actual label');\n",
        "        plt.xlabel('Predicted label');\n",
        "        plt.savefig('covidseverity.png')\n",
        "        \n",
        "        \n",
        "def ttmodel(X, Y, lm, n):\n",
        "    \n",
        "        train_accuracy = [0]*n\n",
        "        train_precision = [0]*n\n",
        "        train_recall = [0]*n\n",
        "        train_f1 = [0]*n\n",
        "\n",
        "        test_accuracy = [0]*n\n",
        "        test_precision = [0]*n\n",
        "        test_recall = [0]*n\n",
        "        test_f1 = [0]*n\n",
        "        \n",
        "        for i in range(n):\n",
        "            x_train, x_test, y_train, y_test = train_test_split(X, Y, test_size = 0.25)\n",
        "\n",
        "            lm.fit(x_train,y_train)\n",
        "\n",
        "            train_accuracy[i] = lm.score(x_train,y_train)\n",
        "            train_precision[i], train_recall[i], train_f1[i], s = sklearn.metrics.precision_recall_fscore_support(y_train, lm.predict(x_train), average='weighted')\n",
        "\n",
        "            test_accuracy[i] = lm.score(x_test,y_test)\n",
        "            test_precision[i], test_recall[i], test_f1[i], s = sklearn.metrics.precision_recall_fscore_support(y_test, lm.predict(x_test), average='weighted')\n",
        "\n",
        "        print(\"Average training statistics over\",n,\"runs of the XGB model - \")\n",
        "        print(\"Accuracy Score = \", sum(train_accuracy)/n)\n",
        "        print(\"Precision Score = \", sum(train_precision)/n)    \n",
        "        print(\"Recall Score = \", sum(train_recall)/n)   \n",
        "        print(\"F1 Score = \", sum(train_f1)/n) \n",
        "\n",
        "        print()\n",
        "        \n",
        "        print(\"Average testing statistics over\",n,\"runs of the XGB model - \")\n",
        "        print(\"Accuracy Score = \", sum(test_accuracy)/n)\n",
        "        print(\"Precision Score = \", sum(test_precision)/n)    \n",
        "        print(\"Recall Score = \", sum(test_recall)/n)   \n",
        "        print(\"F1 Score = \", sum(test_f1)/n) \n",
        "        \n",
        "        visualize(x_test, y_test, lm)\n",
        "        \n",
        "        \n",
        "def cvmodel(X, Y, lm, cv):\n",
        "    \n",
        "        from sklearn.model_selection import cross_validate\n",
        "        scoring = ['f1','roc_auc']\n",
        "        scores = cross_validate(lm, X, Y, cv=cv, scoring = scoring, return_train_score=True)\n",
        "        \n",
        "        for k,v in scores.items():\n",
        "            ans = [min(v),sum(v)/len(v),max(v)]\n",
        "            print(k,\"=\",ans)\n",
        "            print()"
      ],
      "execution_count": 7,
      "outputs": []
    },
    {
      "cell_type": "markdown",
      "metadata": {
        "id": "PWCsVaIi42Zu"
      },
      "source": [
        "## Initial Factors + Symptoms and Comorbidities + Blood"
=======
     "data": {
      "image/png": "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\n",
      "text/plain": [
       "<Figure size 432x288 with 2 Axes>"
      ]
     },
     "metadata": {
      "needs_background": "light"
     },
     "output_type": "display_data"
    }
   ],
   "source": [
    "model_perf(Xtrain, ytrain, model)"
   ]
  },
  {
   "cell_type": "code",
   "execution_count": 15,
   "metadata": {
    "colab": {
     "base_uri": "https://localhost:8080/",
     "height": 350
    },
    "id": "AZu3H0731dbD",
    "outputId": "5614c0cc-276f-457d-84cf-60a51650399e"
   },
   "outputs": [
    {
     "name": "stdout",
     "output_type": "stream",
     "text": [
      "Accuracy Score =  0.8636363636363636\n",
      "Precision Score =  0.3333333333333333\n",
      "Recall Score =  0.5\n",
      "F1 Score =  0.4\n"
     ]
    },
    {
     "data": {
      "image/png": "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\n",
      "text/plain": [
       "<Figure size 432x288 with 2 Axes>"
      ]
     },
     "metadata": {
      "needs_background": "light"
     },
     "output_type": "display_data"
    }
   ],
   "source": [
    "model_perf(Xtest, ytest, model)"
   ]
  },
  {
   "cell_type": "markdown",
   "metadata": {
    "id": "kU1OqFyf5QDC"
   },
   "source": [
    "## Initial Factors + Symptoms and Comorbidities\n"
   ]
  },
  {
   "cell_type": "code",
   "execution_count": 16,
   "metadata": {
    "id": "FAcsj5Mj5Pb0"
   },
   "outputs": [
    {
     "name": "stdout",
     "output_type": "stream",
     "text": [
      "[10:58:39] WARNING: ../src/learner.cc:1095: Starting in XGBoost 1.3.0, the default evaluation metric used with the objective 'binary:logistic' was changed from 'error' to 'logloss'. Explicitly set eval_metric if you'd like to restore the old behavior.\n"
     ]
    },
    {
     "name": "stderr",
     "output_type": "stream",
     "text": [
      "/home/shikha/snap/jupyter/common/lib/python3.7/site-packages/xgboost/sklearn.py:1146: UserWarning: The use of label encoder in XGBClassifier is deprecated and will be removed in a future release. To remove this warning, do the following: 1) Pass option use_label_encoder=False when constructing XGBClassifier object; and 2) Encode your labels (y) as integers starting with 0, i.e. 0, 1, 2, ..., [num_class - 1].\n",
      "  warnings.warn(label_encoder_deprecation_msg, UserWarning)\n"
     ]
    }
   ],
   "source": [
    "X = data[['Age Above 60?','Gender','Temp Groups','Respiratory rate(breaths per minute)','Symptoms Present?','Co-morbidity?','Cough','Breathlessness','Hypertension']]\n",
    "Y = data['Outcome']\n",
    "\n",
    "Xtrain, Xtest, ytrain, ytest = train_test_split(X, Y, test_size=0.25, random_state=0)\n",
    "\n",
    "model.fit(Xtrain, ytrain);"
   ]
  },
  {
   "cell_type": "code",
   "execution_count": 17,
   "metadata": {
    "colab": {
     "base_uri": "https://localhost:8080/",
     "height": 350
    },
    "id": "UdrwlJZI5PY_",
    "outputId": "0c6cf3cf-9bd8-456a-fe3b-8d0626deb522"
   },
   "outputs": [
    {
     "name": "stdout",
     "output_type": "stream",
     "text": [
      "Accuracy Score =  0.9847328244274809\n",
      "Precision Score =  0.95\n",
      "Recall Score =  0.95\n",
      "F1 Score =  0.9500000000000001\n"
     ]
    },
    {
     "data": {
      "image/png": "iVBORw0KGgoAAAANSUhEUgAAATwAAAEGCAYAAAD45CnNAAAAOXRFWHRTb2Z0d2FyZQBNYXRwbG90bGliIHZlcnNpb24zLjMuNCwgaHR0cHM6Ly9tYXRwbG90bGliLm9yZy8QVMy6AAAACXBIWXMAAAsTAAALEwEAmpwYAAAb+ElEQVR4nO3deXwV5d338c+PTaIkBATCfkNxAUQroogiiiuiKOqtVsWlbtE+YKu1xe15RKovl6q1Lr1RhFpuF+peEC3KjRtoERGtrD7ixp6oJAQEZcnv/uNMICxJJpNzknMy33df88qZ68yZuU4w317XXDPXmLsjIhIHDeq6AiIitUWBJyKxocATkdhQ4IlIbCjwRCQ2GtV1BSqh4WOR1LOafPjHLeH/Tps2qtmxkiGdA48ft9R1DSSspsF/SVm9R9RtRSS0jR8/UtdVqHVpHXgikt4y7TJeBZ6IRFa9GxfqvEerwBOR6DKsgafAE5Ho1KUVkdjwarXx1KUVkUymFp6IxEWG5Z0CT0SiK82wk3gKPBGJLMPyTvfSikh8qIUnIpFlWgtPgScikVXvspS6p8ATkchKMyvvFHgiUgMKPBGJi0zr0mqUVkQicw+/VMXM/mpmhWY2v1xZSzObZmafBz9bBOVmZg+Z2RIz+9TMDglTXwWeiETm1VhC+Btw8k5lNwLT3X1fYHqwDjAY2DdY8oExYQ6gwBOR6JKYeO7+LrBmp+KhwITg9QTgjHLl/+0Js4BcM2tX1TEUeCISWal76MXM8s1sTrklP8Qh8tx9VfB6NZAXvO4ALCu33fKgrFIatBCRyKozZOHuY4GxkY/l7mZWo1EStfBEJLJkDlpUoKCsqxr8LAzKVwCdym3XMSirlAJPRGogycMWu5oMXBK8vgSYVK784mC0th+wtlzXt0Lq0opIZMm8l9bMJgIDgVZmthwYBdwNPGdmlwPfAOcGm78GnAIsATYAl4Y5hgJPRCJL5q1l7n5+BW8dv5ttHRhe3WMo8EQksky700KBJyLRZVbeKfBEJLoMyzsFnohEpwlARSQ2dA5PRGJDLTwRiQ0FnojEhrq0IhIfmZV3CjwRiS7D8k6BJyLR6RyeiMSGZ1jiKfBEJLLMijsFnojUQIY18BR4IhKdLksRkfjIrLxT4IlIdMmcALQ2KPBEJDJ1aUUkPjIr7xR4IhJdhuWdAk9EotNlKSISGzqHJyKxoRaeiMSGAk9EYiPTurQN6roCmeDW/3sTAwccwVlDh2wre+P1f3Lm6adycK/uLJg/b4ftxz/+GENOPpHTTx3EezNn7Hafy5cvY9h55zDk5BP5/fXXsnnTJgA2bdrE76+/liEnn8iw885hxYrl1dqvVO7RUcP4ZvpdzHn+5gq3uX/k2cyfNIrZz97Ewd07bisfdtrhzJt0K/Mm3cqw0w7fVt67Ryc+fO5m5k8axf0jz05p/dOOV2NJAwq8EIaecRZjHhu3Q9k+++zHAw8+TJ9DD9uh/IslS5j62qu8NPlV/uuxcdx5x2i2bt26yz4f/NN9XHjxL5kydRo5OTm8/NILALz84vPk5OQwZeo0Lrz4l/z5T/dVa79SuSdfmcXQ4X+p8P1BR/WkW+fW9Bo6mhF3TOShm88DoEXOntySP5ijL7qPARfeyy35g8nNzgLgoZt/wfDbn6HX0NF069yak/r3rJXvkg4yLO9SF3hm1t3MbjCzh4LlBjPrkarjpVKfQw8jp3nzHcp+1q0bXbr+bJdt335rOiefcipNmjShY8dOdOr0H8yf9+kO27g7sz+YxYknDQLg9KFn8ub06QC89eabnD70TABOPGkQs2f9C3cPtV+p2ntzv2DN2g0Vvj/kmIN4ZspsAGbP+5rm2Vm0bZXDiUf2YPqsxRSVbKB43Uamz1rMSf170rZVDtl7NWX2vK8BeGbKbE4beFBtfJW04B5+SQcpCTwzuwH4O2DA7GAxYKKZ3ZiKY6aLgoIC8tq23bae1zaPwoKCHbYpLi4iOzuHRo0Sp1Dz8tpSWJjYprCwgLZt2wHQqFEjmmVnU1xcFGq/UnPt2+SyfHXRtvUVBcW0b5NL+9a5LC8oV15YTPvWubRvk8uKwuJdto8Ldw+9pINUDVpcDhzg7pvLF5rZn4AFwN27+5CZ5QP5AI899hgXX5afouqJSDKkR4yFl6rAKwXaA9/sVN4ueG+33H0sMLZs9cctqalcKuXl5VGwevW29YLVBbTJy9thm9zcFqxbV8KWLVto1KgRBQWradMmsU2bNnmsXr2KvLZt2bJlC+vXrSM3t0Wo/UrNrSwspmPbFtvWO+TlsrKwmJXfFjOgz77by9vkMuOjz1lZWEyHci26su3jojRNWm5hpeoc3rXAdDP7p5mNDZapwHTgNyk6Zlo45tjjmPraq2zatInly5exdOnX9Dpwx3M6ZsZhfQ9n2huvAzB50ssce9xxAAw89jgmT3oZgGlvvE7fw/thZqH2KzX36jvzuGBIXwD6HtiFkvUbWf1dCdPeX8QJR3QnNzuL3OwsTjiiO9PeX8Tq70pY98OP9D2wCwAXDOnLlHfic2412YMWZnadmS0ws/lmNtHMmppZVzP7wMyWmNmzZtYkan0tVX1rM2sA9AU6BEUrgA/dPezQYtq08G743W+Z8+FsiouLaLn33vxq+DU0b57L3XfeTtGaNWTn5LD//j149PHxADz+2Bj+8fKLNGzYkJE33sxRA44BYPjVVzLqD3fQpk0ey5ctY+TvrqNk7Vq69+jBnffcR5MmTfjpp5+45cbfs3jRInKaN+eP9z1Ax06dKt1vOmga9BWyeo+o24pUYcJdv2RAn31plduMwjUl3P7oazRu1BCAcS/MBOCBG8/lpCN7sOHHzVx121PMXbgUgIuH9mPkZYmBpnvGv86Tk2cBcEjPzowdfSFZezTmjfcWct09z9fBN6u+jR8/Aolz65HN+P9FoQNkwH4tKj2WmXUAZgI93X2jmT0HvAacArzk7n83s0eBf7v7mCj1TVngJUHaBJ5ULVMCT7ZLRuC9/dma0AEycP+WYQJvFvBzoAT4B/Aw8DTQ1t23mNkRwG3uPihKfXUdnohE5tX4n5nlm9mccssOo5LuvgK4D1gKrALWAh8Bxe5e1vxZzvZeY7Xp1jIRiaw6HcSdBiV3YWYtgKFAV6AYeB44uUYV3IkCT0QiS/K9tCcAX7n7twBm9hLQH8g1s0ZBK68jifGASNSlFZHISj38EsJSoJ+Z7WlmBhwPLATeAspuUr4EmBS1vgo8EYmsOufwqtyX+wfAC8BcYB6JfBoL3AD81syWAHsD46PWV11aEYmstMLbCKJx91HAqJ2KvyRxiVuNKfBEJLLSDLu5TIEnIpGl72W8u6fAE5HIMm3GYwWeiESmFp6IxIbO4YlIbIS8vi5tKPBEJLI0nnxktxR4IhJZki/DSzkFnohEphaeiMRGZsWdAk9EamCrWngiEhfq0opIbGRY3inwRCS6DMs7BZ6IRJdpz6VV4IlIZJkVd5UEnpmtY/v3KXu8mgev3d1zUlw3EUlz9WaU1t2za7MiIpJ5Mizvwj3TwsyOMrNLg9etzKxraqslIpmg1D30kg6qPIdnZqOAQ4H9gSeAJsBTJB6fJiIxliY5FlqYQYszgd4kniSEu680M3V3RSRtWm5hhQm8Te7uZuYAZrZXiuskIhlia4ZNlxLmHN5zZvYYiad/Xwn8D/B4aqslIpmgFA+9pIMqW3jufp+ZnQiUAPsBt7r7tJTXTETSXob1aENfeDwPyCJxHd681FVHRDJJpk3xXmWX1syuAGYDZwFnA7PM7LJUV0xE0l+9uywF+D3Q292/BzCzvYH3gb+msmIikv7SJMdCCxN43wPryq2vC8pEJOa2ZliftrJ7aX8bvFwCfGBmk0icwxsKfFoLdRORNJdheVdpC6/s4uIvgqXMpNRVR0QySb0JPHcfXZsVEZHM42lyfV1YYe6lbQ2MBA4AmpaVu/txKayXiGSAZLfwzCwXGAf0InEK7TLgM+BZoAvwNXCuuxdF2X+YOy2eBhYDXYHRwQE/jHIwEalf3MMvIT0ITHX37sDPgUXAjcB0d98XmB6sRxIm8PZ29/HAZnd/x90vA9S6ExG2lHropSpm1hw4GhgP4O6b3L2YxEDphGCzCcAZUesbJvA2Bz9XmdmpZtYbaBn1gCJSf1SnhWdm+WY2p9ySv9PuugLfAk+Y2cdmNi6YrCTP3VcF26wG8qLWN8x1eHcEyXs98DCQA1wX9YAiUn9U5w4Kdx8LjK1kk0bAIcA17v6BmT3ITt3X8jM3RRFm8oApwcu1wLFRDyQi9U+S77RYDix39w+C9RdIBF6BmbVz91Vm1g4ojHqAyi48fphKHkrk7r+OelARqR+SOR2eu682s2Vmtr+7fwYcDywMlkuAu4Ofka8FrqyFNyfqTkUkHlJwa9k1wNNm1gT4EriUxFjDc2Z2OfANcG7UnVd24fGEit4TEYHkX4fn7p+QeIbOzo5Pxv71IG4RicwzbLoUBZ6IRFZv7qVNB03TunayOxs/fqSuqyC1qN4EnkZpRaQq9alLW+ejtFm9R9R1FSSkspZdiwufruOaSFhFTw2r8T621pfA0yitiFQlw/Iu9PRQNwA90fRQIlJOujycJ6yw00MtQtNDichOUjA9VEppeigRiczdQy/pIMyFHztMDwWsRNNDiQjp03ILS9NDiUhk9WaUtoymhxKRiqRLVzWsMKO0T7CbC5CDc3kiEmP15k6LcqaUe90UOJPEeTwRibl618Jz9xfLr5vZRGBmymokIhkjw/Iu0uQB+wJtkl0REck8KZgANKXCnMNbx47n8FaTuPNCRGKuPnZps2ujIiKSeTIr7kLcaWFm08OUiUj8lLqHXtJBZfPhNQX2BFqZWQvAgrdygA61UDcRSXNpkmOhVdalvQq4FmgPfMT2wCsBNK2tiNSfc3ju/iDwoJld4+4P12KdRCRDZNoobZjZUkrNLLdsxcxamNn/SV2VRCRT1Mfpoa509+KyFXcvAq5MWY1EJGPUx+mhGpqZeVBjM2sINElttUQkE2RYjzZU4E0FnjWzx4L1q4IyEYk5z7Ar8cIE3g1APvCrYH0a8HjKaiQiGSNNeqqhhbnTohR4NFgwswEkJgIdntqqiUi6y7RR2lCTB5hZb+B84FzgK+ClVFZKRDJDugxGhFXZnRb7kQi584HvgGcBc3fNeiwiQP3q0i4GZgBD3H0JgJnpWRYisk263CMbVmXX4Z0FrALeMrPHzex4tt9eJiKSkguPzayhmX1sZlOC9a5m9oGZLTGzZ80s8mVxFQaeu//D3c8DugNvkbivto2ZjTGzk6IeUETqj9JSD71Uw2+AReXW7wEecPd9gCLg8qj1rfJOC3f/wd2fcffTgI7Ax2gCUBEh+XdamFlH4FRgXLBuwHHAC8EmE4AzotY3zK1l27h7kbuPdffjox5QROqP6nRpzSzfzOaUW/J3s8s/AyOB0mB9b6DY3bcE68upwfR0UZ5pISICVO+yFHcfC4yt6H0zGwIUuvtHZjawxpXbDQWeiESW5Ovw+gOnm9kpJB4JmwM8COSaWaOgldcRWBH1ANXq0oqIlJfMUVp3v8ndO7p7F+A84E13H0Zi0PTsYLNLgElR66vAE5HIUjRKu7MbgN+a2RIS5/TGR92RurQiElmqbi1z97eBt4PXXwJ9k7FfBZ6IRJZhN1oo8EQkunozeYCISFUyLO8UeCISXQ0HI2qdAk9EIlOXVkRiI8PyToEnItGphScisZFheafAE5Ho1MITkdjQKK2IxIZaeCISGxmWdwo8EYlOXdoYeXTUMAYf3Ytv16zj0HPu3O029488m0H9D2DDj5vIH/UknyxeDsCw0w7nxisGAXD3uNd5+pUPAOjdoxNjR19E1h6Nef29BVz/xxd2u18J7+Er+zHo4A58V/IjR970KgC9Oudy/6V9ada0MUu/XU/+mPdYt3HLLp89/qB23HXRoTRsYDz59hL+/MpCADq33ovxw4+iZfYefPLVGq4e8z6bt5bSpFEDxlx9JAd3bcmadT9x2SMzWfbdD7X6fWtTprXwNB9eDTz5yiyGDv9Lhe8POqon3Tq3ptfQ0Yy4YyIP3XweAC1y9uSW/MEcfdF9DLjwXm7JH0xudhYAD938C4bf/gy9ho6mW+fWnNS/Z618l/ps4rtfcva9b+5Q9uAV/Rj97Cf0v+lVpsxZxjWn7vp7bmDGvZccxjl/fIt+I6fwn/26sH/7HABuO683Y6Yups/1k1n7wyYuGtgNgIsGdmPtD5voc/1kxkxdzG3n9U79F6xDyX6IT6op8GrgvblfsGbthgrfH3LMQTwzZTYAs+d9TfPsLNq2yuHEI3swfdZiiko2ULxuI9NnLeak/j1p2yqH7L2aMnve1wA8M2U2pw08qDa+Sr32/meFFK3ftEPZPm2zeX9xIQBvz1/NaYd13uVzfbrtzZcF6/jm2/Vs3lrKS7O+4ZQ+nQA4umcek2YvBWDijC85pU9HAAYf0pGJM74EYNLspRxzQF7Kvlc6qKUJQJNGgZdC7dvksnx10bb1FQXFtG+TS/vWuSwvKFdeWEz71rm0b5PLisLiXbaX5Fu8fO22kBp6eGc6tNxzl23atchixZrt/4e2cs0G2rXIomWzPVi7YTNbgz/ilWs20L5F4vPtW+zJijWJLuzWUqdkw2ZaNtsj1V+nzqTiQdypVOuBZ2aXVvLetse4jR1b4cONRGpsxOOzuPyE/Xjr9pNp1rQxm7eUVv0h2YW6tFUbXdEbwTNvD3X3Q/Pzd/fIysyysrCYjm1bbFvvkJfLysJiVn5bTMe8cuVtcln5bTErC4vpUK5FV7a9JN/nq0r4z3ve5Nj/N5UX//U1XxWu22WbVUUbd2j5tW+5J6uKNrJm/U8037MxDRvYtvKVRYmW4MqiDXRouRcADRsYOXs2Zs36n2rhG9UNBR5gZp9WsMwD6vdJjXJefWceFwxJTMXf98AulKzfyOrvSpj2/iJOOKI7udlZ5GZnccIR3Zn2/iJWf1fCuh9+pO+BXQC4YEhfprzzaR1+g/qrVU6im2kGvxvaiyemf77LNnO//J5ubbPp3HovGjdswFn9/oN/zk2Mss9YWMDQvonzfucP+Nm28qlzV3D+gJ8BMLRvZ95dWFAbX6fueDWWNJCqy1LygEFA0U7lBryfomPWugl3/ZIBffalVW4zlky9ndsffY3GjRoCMO6FmUyduYBBRx3Agsmj2PDjZq667SkAiko2cNfjU5n51EgA7hw7laKSRAvhN3c9x9jRF5K1R2PeeG8hr89cWDdfrh4ZN7w//XvksXezPZj/0Jnc/eKn7NW0EVecsB8AU+Ys4+l3EwMNbXOzeOiKwzn3vrfZWuqMnDCHF0ceR8MGxtPvfMHiFWsBuO3vnzB+RH9uOefnfPr1Gp58+wsAnnxnCY9efSQf3X86Ret/4vJH3qubL11LSksz61SApaKpaWbjgSfcfeZu3nvG3S8IsRvP6j0i6XWT1Nj48SMAtLjw6TquiYRV9NQwSDRCIut8zeTQAbL04dNrdKxkSEkLz90vr+S9MGEnIhkgXc7NhaU7LUQkuszKOwWeiESnFp6IxIYCT0Riw9PklrGwFHgiEplaeCISGwo8EYkNBZ6IxEamBZ6mhxKR6JJ4L62ZdTKzt8xsoZktMLPfBOUtzWyamX0e/GxR1b4qosATkchKS0tDLyFsAa53955AP2C4mfUEbgSmu/u+wPRgPRIFnohElszpodx9lbvPDV6vAxYBHYChwIRgswnAGVHrq8ATkeiq0aUtP8FvsFQ46aWZdQF6Ax8Aee6+KnhrNTWYYk6DFiISWXUGLdx9LFDlVOZm1gx4EbjW3UvMtk+y4u5uZpFHShR4IhJZskdpzawxibB72t1fCooLzKydu68ys3ZAYdT9q0srIpElc9DCEk258cAid/9TubcmA5cEry8BJkWtr1p4IhJdcht4/YGLgHlm9klQdjNwN/CcmV0OfAOcG/UACjwRiSyZXdpghvSKZkU+PhnHUOCJSGSZdqeFAk9EIlPgiUhsKPBEJDY0AaiIxIZaeCISHwo8EYkNDzULStpQ4IlIdGrhiUhsqIUnIrFRurWua1AtCjwRiU4tPBGJDZ3DE5HYUAtPRGJDLTwRiQ0NWohIbKhLKyKxoS6tiMSGWngiEhtq4YlIbKiFJyKxsVWjtCISF2rhiUhs6ByeiMSGWngiEhtq4YlIbKiFJyKxoXtpRSQ21KUVkdhQl1ZEYkMtPBGJjQxr4Zmnb0KnbcVE6hGryYezeo8I/Xe68eNHanSsZEjnwKu3zCzf3cfWdT0kHP171R8N6roCMZVf1xWQatG/Vz2hwBOR2FDgiUhsKPDqhs4HZRb9e9UTGrQQkdhQC09EYkOBJyKxocCrRWZ2spl9ZmZLzOzGuq6PVM7M/mpmhWY2v67rIsmhwKslZtYQ+AswGOgJnG9mPeu2VlKFvwEn13UlJHkUeLWnL7DE3b90903A34GhdVwnqYS7vwusqet6SPIo8GpPB2BZufXlQZmI1BIFnojEhgKv9qwAOpVb7xiUiUgtUeDVng+Bfc2sq5k1Ac4DJtdxnURiRYFXS9x9CzACeB1YBDzn7gvqtlZSGTObCPwL2N/MlpvZ5XVdJ6kZ3VomIrGhFp6IxIYCT0RiQ4EnIrGhwBOR2FDgiUhsKPAymJltNbNPzGy+mT1vZnvWYF9/M7Ozg9fjKpvYwMwGmtmREY7xtZm1Clu+0zbrq3ms28zsd9Wto9RvCrzMttHdD3b3XsAm4Oryb5pZpAetu/sV7r6wkk0GAtUOPJG6psCrP2YA+wStrxlmNhlYaGYNzexeM/vQzD41s6sALOGRYH6+/wHalO3IzN42s0OD1yeb2Vwz+7eZTTezLiSC9bqgdTnAzFqb2YvBMT40s/7BZ/c2szfMbIGZjSPEQ5/N7B9m9lHwmfyd3nsgKJ9uZq2Dsm5mNjX4zAwz656U36bUS5FaAJJegpbcYGBqUHQI0MvdvwpCY627H2ZmewDvmdkbQG9gfxJz8+UBC4G/7rTf1sDjwNHBvlq6+xozexRY7+73Bds9Azzg7jPNrDOJu0l6AKOAme7+BzM7FQhzp8JlwTGygA/N7EV3/x7YC5jj7teZ2a3BvkeQeMDO1e7+uZkdDvwXcFyEX6PEgAIvs2WZ2SfB6xnAeBJdzdnu/lVQfhJwUNn5OaA5sC9wNDDR3bcCK83szd3svx/wbtm+3L2iueFOAHqabWvA5ZhZs+AYZwWffdXMikJ8p1+b2ZnB605BXb8HSoFng/KngJeCYxwJPF/u2HuEOIbElAIvs21094PLFwR/+D+ULwKucffXd9rulCTWowHQz91/3E1dQjOzgSTC8wh332BmbwNNK9jcg+MW7/w7EKmIzuHVf68DvzKzxgBmtp+Z7QW8C/wiOMfXDjh2N5+dBRxtZl2Dz7YMytcB2eW2ewO4pmzFzA4OXr4LXBCUDQZaVFHX5kBREHbdSbQwyzQAylqpF5DoKpcAX5nZOcExzMx+XsUxJMYUePXfOBLn5+YGD6N5jETL/mXg8+C9/yYxK8gO3P1bIJ9E9/HfbO9SvgKcWTZoAfwaODQYFFnI9tHi0SQCcwGJru3SKuo6FWhkZouAu0kEbpkfgL7BdzgO+ENQPgy4PKjfAjRtvlRCs6WISGyohScisaHAE5HYUOCJSGwo8EQkNhR4IhIbCjwRiQ0FnojExv8CvxHnAqa6ac0AAAAASUVORK5CYII=\n",
      "text/plain": [
       "<Figure size 432x288 with 2 Axes>"
>>>>>>> 9660aa48c7fbbe2449a0ee763ca943f2f14c7caf
      ]
     },
     "metadata": {
      "needs_background": "light"
     },
     "output_type": "display_data"
    }
   ],
   "source": [
    "model_perf(Xtrain, ytrain, model)"
   ]
  },
  {
   "cell_type": "code",
   "execution_count": 18,
   "metadata": {
    "colab": {
     "base_uri": "https://localhost:8080/",
     "height": 350
    },
    "id": "v_lxdAt35ibG",
    "outputId": "669a3047-150e-4941-af06-bb307fdde483"
   },
   "outputs": [
    {
<<<<<<< HEAD
      "cell_type": "code",
      "metadata": {
        "id": "1AJ6Jmtz1dZB"
      },
      "source": [
        "X = data[['Age Above 60?','Gender','Temp Groups','Respiratory rate(breaths per minute)','Symptoms Present?','Co-morbidity?','Cough','Breathlessness','Hypertension','C-REACTIVE PROTEINS','UREA']]\n",
        "Y = data['Outcome']\n",
        "\n",
        "Xtrain, Xtest, ytrain, ytest = train_test_split(X, Y, test_size=0.25, random_state=0)"
      ],
      "execution_count": 8,
      "outputs": []
    },
    {
      "cell_type": "code",
      "metadata": {
        "colab": {
          "base_uri": "https://localhost:8080/"
        },
        "id": "D0lwXhoMDHVM",
        "outputId": "9125f367-745a-4208-de6a-cea6c1c801c2"
      },
      "source": [
        "model = XGBClassifier()\n",
        "param_grid = {\n",
        "    'n_estimators': [400, 700, 1000],\n",
        "    'colsample_bytree': [0.7, 0.8],\n",
        "    'max_depth': [15,20,25],\n",
        "    'reg_alpha': [1.1, 1.2, 1.3],\n",
        "    'reg_lambda': [1.1, 1.2, 1.3],\n",
        "    'subsample': [0.7, 0.8, 0.9]\n",
        "}\n",
        "\n",
        "model, pred = algorithm_pipeline(Xtrain, Xtest, ytrain, ytest, model, \n",
        "                                 param_grid, cv=5)\n",
        "\n",
        "# Root Mean Squared Error\n",
        "print(np.sqrt(-model.best_score_))\n",
        "print(model.best_params_)"
      ],
      "execution_count": 9,
      "outputs": [
        {
          "output_type": "stream",
          "text": [
            "Fitting 5 folds for each of 486 candidates, totalling 2430 fits\n"
          ],
          "name": "stdout"
        },
        {
          "output_type": "stream",
          "text": [
            "[Parallel(n_jobs=-1)]: Using backend LokyBackend with 2 concurrent workers.\n",
            "[Parallel(n_jobs=-1)]: Done  80 tasks      | elapsed:    3.9s\n",
            "[Parallel(n_jobs=-1)]: Done 564 tasks      | elapsed:   24.4s\n",
            "[Parallel(n_jobs=-1)]: Done 1376 tasks      | elapsed:  1.0min\n"
          ],
          "name": "stderr"
        },
        {
          "output_type": "stream",
          "text": [
            "0.24691832853933904\n",
            "{'colsample_bytree': 0.7, 'max_depth': 15, 'n_estimators': 400, 'reg_alpha': 1.1, 'reg_lambda': 1.1, 'subsample': 0.7}\n"
          ],
          "name": "stdout"
        },
        {
          "output_type": "stream",
          "text": [
            "[Parallel(n_jobs=-1)]: Done 2430 out of 2430 | elapsed:  1.8min finished\n"
          ],
          "name": "stderr"
        }
=======
     "name": "stdout",
     "output_type": "stream",
     "text": [
      "Accuracy Score =  0.8863636363636364\n",
      "Precision Score =  0.4\n",
      "Recall Score =  0.5\n",
      "F1 Score =  0.4444444444444445\n"
     ]
    },
    {
     "data": {
      "image/png": "iVBORw0KGgoAAAANSUhEUgAAATYAAAEGCAYAAADvxrkEAAAAOXRFWHRTb2Z0d2FyZQBNYXRwbG90bGliIHZlcnNpb24zLjMuNCwgaHR0cHM6Ly9tYXRwbG90bGliLm9yZy8QVMy6AAAACXBIWXMAAAsTAAALEwEAmpwYAAAbdElEQVR4nO3de7xUdb3/8debDQgpsEUBQfFgmRqZQj9FEC+oiVrmpV9manYzt12s9JjhqeNBrM6xE2mm51hbMS0Vxbyh5QXxBhqCF+QilplWXDdy26Cgsvfn/DEL3Cjsmb2YmT2zeD97rAcz37Xmu77jxJvvd12+SxGBmVmWdGjvBpiZFZuDzcwyx8FmZpnjYDOzzHGwmVnmdGzvBrTCp2vNSk9b8+F16wv/e9ql49btqy0qOdhYt769W2CF6pL8P6nr0FHt2xAr2NppP23vJpRMRQebmVW2Sr0M1sFmZqm17QL/so1EHWxmll6FdtgcbGaWnoeiZpY50aY+m4eiZlYN3GMzs6yp0FxzsJlZes0VepDNt1SZWWoRhS/5SOoiabqkFyTNlTQmKb9B0quSZibLoHx1ucdmZpXiLeDIiFgjqRMwVdL9yboLI+L3hVbkYDOz1Io5Eo3c1b5rkredkiXVHjwUNbPUog3/k1Qn6ZkWS91765NUI2km0ABMioink1U/kTRL0hWStsvXLvfYzCy15jb0pyKiHqjPs00TMEhSLXCXpH2BfwMWA52Tz48CLm2tHvfYzCy9aMPSlmojVgKPAsdGxKLIeQv4DTAk3+cdbGaWWluGovlI6pX01JDUFTgaeElS36RMwEnAnHx1eShqZqkV+TK2vsCNkmrIdbomRMR9kh6R1IvcPVkzga/nq8jBZmapFTPXImIWMHgz5Ue2tS4Hm5mlV5k3HjjYzCy9Sr2lysFmZqlVZqw52MxsK1Roh83BZmZbozKTzcFmZqm5x2ZmmdOWW6rKycFmZqm17ZkH5eNgM7P0KjPXHGxmll6F5pqDzczS88kDM8scH2Mzs8xxj83MMsfBZmaZ46GomWVPZeaag83M0qvQXHOwmVl6PsZmZpkTFZpsDjYzS60yY83BZmZboUI7bA42M0uvUi/38AOTzSy9Ij4JXlIXSdMlvSBprqQxSfkekp6W9FdJt0nqnK8uB5uZpdYchS8FeAs4MiL2BwYBx0oaCvwUuCIi9gRWAGflq8jBZmapRRv+l7eunDXJ207JEsCRwO+T8huBk/LV5WAzs/TaMBSVVCfpmRZL3Xurk1QjaSbQAEwCXgFWRsT6ZJP5wK75muWTB2aWWltOHUREPVCfZ5smYJCkWuAuYJ807XKwmVlqpbrcIyJWSnoUGAbUSuqY9Np2Axbk+7yHomaWWjGPsUnqlfTUkNQVOBqYBzwKfDbZ7EvAPfnqco/NzFIrco+tL3CjpBpyna4JEXGfpBeBWyX9GHgeGJevIgebmaVWzGCLiFnA4M2U/w0Y0pa6HGxmllql3nngYGujt956i6988Qzeeftt1jc1cfTIY/jmud/hy2eezptvvAHA8uXL2Pdj+/GLq/73fZ+fePddXPvrawA4+5xvcMJJJwPw4tw5XPzDf+Otdes45LDDGfVvP0QSq1au5PvfO5+FCxbQb9dd+dnPf0H3Hj3K94UzZrvOHXn4mq/TuXMNHWtquOuR2fz4ukmbbNO5Uw3jRp/K4L13ZXnjm3zh32/hH4tWAPC9L47gy58+kKbm4ILLJ/Lw038B4OihezH2/BOo6SBumDiDsb97rMzfrJ1UZq755EFbde7cmeuuv5Hb75rIhDvu5smpU5j1wkxu+N0tTLjzHibceQ/77T+Yoz4x8n2fXbVyJb+65mpuGj+Bm2+9nV9dczWNq1YB8ONLL2H0mB9x7/0P8Y+/v8aTU58A4Prr6hly0DDuvf8hhhw0jHHXtXq23PJ46+31HHtuPQedeSUHnfkLRg7biyEf3X2Tbb58woGsaFzLvqf8jKvGT+Un3zoOgH0G9OaUo/fn46dfzgnnjePKC0+iQwfRoYP4xfdO4sTzr2fwaZdzysj92WdA7/b4emVXxDuqiqpkwSZpH0mjJP0yWUZJ+kip9lcukvjA9tsDsH79etavXw/SxvVr1qxh+vRpHHHUJ9732aeenMrQYcPpUVtL9x49GDpsOE9OncLSpQ288cYa9tt/EJL49Akn8cjkyQA8+uhkTjjpJABOOOkkHn3k4dJ/yYx7Y+3bAHTqWEPHjjXvG04df+hHufmPzwJw56OzGXHAnrnywwZy+6QXePudJv6+aAWvzF/GgQP7c+DA/rwyfxmvLVzOO+ubuH3SCxx/2MDyfql2ElH4Uk4lCTZJo4BbAQHTk0XAeEkXlWKf5dTU1MTnPnMiRxx6MEOHHcx+++2/cd2jkx/moIOGscMOO7zvcw0NS9hll102vu/Tpw8NDUtoWLKEPn1alO+yCw0NSwBYvmwZvXrl/vXfeedeLF+2rFRfa5vRoYOY9tvv8o/7L+aR6S8zY+4/N1nfr1d35i/J9aSbmpppXLOOnXp8gF179WB+w6qN2y1oWEW/Xj3o16sH8xtWblK+a69t43BBRBS8lFOpemxnAQdGxGURcVOyXEbuzMYWb2BtectFfX3lDrlqamqYcOc9PPTI48yZPYuXX/7LxnX3//E+jvvkp0qyX0mb9A4tnebmYOgXr2TPE/6TAwb2Z+AH+7R3k6rWtjYUbQb6baa8b7JusyKiPiIOiIgD6uredxtZxenevTsHDjmIp6ZOAWDFiuXMmT2bQw8fsdnte/fuw+LFize+X7JkCb1796F3nz4sWdKifPFievfO/WXrudNOLF3aAMDSpQ307NmzRN9m27NqzToef/YVRg7de5PyhUsb2a1PrsdVU9OB7jt0YdmqN1mwdBW79X63J7Zr7x4sXLqKhUtXsVvv2k3KFyxdxbagOaLgpZxKFWznAZMl3S+pPlkeACYD3y3RPsti+fLlNDY2ArBu3Tqm/ekpBuzxQQAmPfQghx0+gu22226znz14+CH86ampNK5aReOqVfzpqakcPPwQevXqzfbb78CsF2YSEdw78W6OOPIoAEYccSQT774bgIl3380RRxxV+i+ZYTvXbk+PHboA0GW7jhw15MP8+e8Nm2zzhykvcsYn/x8AnzniYzz+zCtJ+TxOOXp/Oneq4V/67sie/Xdixov/5Jl589mz/078S98d6dSxhlOO3p8/TJlX3i/WTiq1x1aSyz0i4gFJe5Ebem64E38BMCO5ybVqvb60gX//wUU0NzfR3ByMPOZYDh9xBAAP3v9HvnrW2ZtsP3fObG6fcCuXXPoTetTWUvf1b3L6qbm7Q875xrfoUVsLwA8vHp273OOtdQw/5DAOOfQwAL76tTou/NfzuPvO39O3Xz9+9vNflO27ZtEuO3fj2os/R01NBzpI3DF5Fvc/+RIXn300z700nz9MmccN987g+tGnMuf2C1nRuJYzL74FgHmvLuGOybN4fvwFrG9q5ryx99DcnPtre/7Ye7j3yrOo6dCBG++bwbxXl7TvFy2TSp0aXJX6lBkg1q3Pv5FVhi7JP5Fdh45q34ZYwdZO+ynkTuql9tiflxccICP27lm2A8S+QNfMUvOdB2aWOZU64HOwmVlq7rGZWeYU+JCWsnOwmVlq7rGZWeY0b/Fy+/blYDOz1JrdYzOzrPFZUTPLHB9jM7PMcY/NzDLHx9jMLHMq9To2P/PAzFIr5gy6kvpLelTSi5LmSvpuUn6JpAWSZibLJ/PV5R6bmaVW5MvY1gMXRMRzkroBz0ra8AixKyJibKEVOdjMLLViTnsWEYuARcnr1ZLm8e58jm3ioaiZpdaWGXRbPtMkWbY4/7+kAeSeCv90UnSupFmSrpe0Y752OdjMLLWmiIKXls80SZbNPrFJ0g7AHcB5EdEIXAN8CBhErkf383zt8lDUzFIr9gzckjqRC7WbI+LOZB9LWqy/FrgvXz3usZlZasV8YLIkAeOAeRFxeYvyvi02OxmYk68u99jMLLUiX8Y2HDgTmC1pZlL2A+A0SYOS3b0GnJOvIgebmaVWzOeFRsRUNv9wmT+2tS4Hm5mlVqE3Hmw52CSt5t12b0jRSF5HRHQvcdvMrMI1Vehd8FsMtojoVs6GmFn1qdBcK+ysqKRDJH0leb2zpD1K2ywzqwbNEQUv5ZT3GJuk0cABwN7Ab4DOwE3kzmCY2TasUntshZw8OJncrQ3PAUTEwuQGVTPbxpW7J1aoQoLt7YgISQEgafsSt8nMqkRThT6lqpBjbBMk/RqolXQ28DBwbWmbZWbVoJkoeCmnvD22iBgr6WigEdgL+I+ImJTnY2a2DajQkWjBF+jOBrqSu45tdumaY2bVpGqnBpf0NWA68Bngs8A0SV8tdcPMrPJV7eUewIXA4IhYBiBpJ+Ap4PpSNszMKl81D0WXAatbvF+dlJnZNq6pQseird0r+q/Jy78CT0u6h9wxthOBWWVom5lVuArNtVZ7bBsuwn0lWTa4p3TNMbNqUnXBFhFjytkQM6s+UaETFxVyr2gv4PvAR4EuG8oj4sgStsvMqkCl9tgKufPgZuAlYA9gDLmpeWeUsE1mViWK+cyDYirkrOhOETFO0ncj4nHgcUkONjNjfYV22QoJtneSPxdJ+hSwEOhZuiaZWbWo5uvYfiypB3ABcBXQHTi/pK0ys6pQtdMWRcSGh5OuAo4obXPMrJpUaK61eoHuVbTyEJqI+E5JWmRmVaOY07FJ6g/8FuhDLnvqI+JKST2B24AB5E5efi4iVrRWV2s9tmeK0lozy6wi31K1HrggIp5LZul+VtIk4MvA5Ii4TNJFwEXAqNYqau0C3RuL2GAzy6Bi5lpELAIWJa9XS5oH7EruNs4RyWY3Ao+RJ9gKekqVmdnmRETBi6Q6Sc+0WOq2VK+kAeSetfI00CcJPYDF5IaqrfKT4M0stbb02CKiHqjPt52kHYA7gPMiolHSxnUtn7/SmooOti4V3TrbnLXTftreTbAyKvb1uZI6kQu1myPizqR4iaS+EbFIUl+gIV89PitqZqlFEa/3UK5rNg6YFxGXt1g1EfgScFnyZ94Zhir6rGjXwee2dxOsQGufvxrwb1ZNNvxmW6OpuBeyDQfOBGZLmpmU/YBcoE2QdBbwd+Bz+SryWVEzS62YuRYRUwFtYfVRbamr0GmLRgED8bRFZtZCpd5SVei0RfPwtEVm9h6VOm1RIcG2U0SMA96JiMcj4quAe2tm1qbr2MrJ0xaZWWoVOhL1tEVmll6Rz4oWjactMrPUyj3ELFQhZ0V/w2Yu1E2OtZnZNqxCZwYvaCh6X4vXXYCTyR1nM7NtXNX22CLijpbvJY0HppasRWZWNSo011LdBP9hoHexG2Jm1afIE00WTSHH2Faz6TG2xeSZ5M3Mtg3VPBTtVo6GmFn1qcxYK+DOA0mTCykzs21Pc0TBSzm1Nh9bF+ADwM6SduTdu+67k5uH3My2cRU6Em11KHoOcB7QD3iWd4OtEdj6iZzMrOpV3TG2iLgSuFLStyPiqjK2ycyqRKWeFS1kdo9mSbUb3kjaUdI3S9ckM6sW1Txt0dkRsXLDm+QJzGeXrEVmVjWqedqiGkmKpGWSaoDOpW2WmVWDCh2JFhRsDwC3Sfp18v6cpMzMtnFRoVeyFRJso4A64BvJ+0nAtSVrkZlVjQo9KVrQnQfNwK+SBUmHkptw8lulbZqZVbpqPiuKpMGS/lvSa8ClwEslbZWZVYVinjyQdL2kBklzWpRdImmBpJnJ8slC2tXanQd7Aacly+vAbYAiwrPomhlQ9KHoDeQu/v/te8qviIixbamotaHoS8AU4PiI+CuAJD/rwMw2KuY9oBHxhKQBxairtaHoZ4BFwKOSrpV0FFt+SrOZbYPacoGupDpJz7RY6grczbmSZiVD1R0L+cAWgy0i7o6IzwP7AI+Su2+0t6RrJI0ssEFmlmHNzVHwEhH1EXFAi6W+gF1cA3wIGESuo/XzQtqV9+RBRLwREbdExKeB3YDn8USTZkbp7zyIiCUR0ZRcnXEtMKSQzxV0VrTFTlYkqXtUmkaaWbaU+l5RSX1bvD0ZmLOlbVtK88wDMzOguNMWJQ+KGkFuDsj5wGhghKRB5CbrfY3cnU95OdjMLLViBltEnLaZ4nFp6nKwmVlqVXtLlZnZljRX6C1VDjYzS63qpgY3M8unQnPNwWZm6bnHZmaZU6G55mAzs/R88sDMMsdDUTPLnArNNQebmaXnHpuZZU6F5pqDzczSc4/NzDLHZ0XNLHPcYzOzzKnQXHOwmVl6Hopm0G59arnuR1+k907diIDr73iS/xn/2Pu2+/n3P8sxwz/Km+vepm7075j50nwAzvj0QVz0tWMAuOy6B7n53qcBGPyR/tSPOZOu23XiwSfncsF//75s3ynr/JsVV6X22Nr0zAPb1PqmZi66/E4+/v9/wuFfHMs5px7GPh/cZZNtjjlkIB/avRf7njiGc388nl/+4PMA7Nj9A/yw7jgOO3Msh37hZ/yw7jhqu3UF4Jc/OJVv/egW9j1xDB/avRcjhw8s+3fLKv9mxVXqh7mk5WDbCotfb9z4L/maN9/ipVcX069X7SbbHH/4ftxy33QAps9+jR7durLLzt05+uCPMHnaS6xofJOVq9cyedpLjBw+kF127k637bswffZrANxy33Q+PWK/cn6tTPNvVlxtefxeOXkoWiS79+3JoL13Y8ac1zYp79e7lvmLV2x8v2DJSvr1rqVfr1rmL2lR3rCSfr1q6de7lgUNK9+3vRWff7Ot56FoQtJXWlm38UnR9fWFPEu1MmzftTPjx36NC8feweo31rV3c6wA/s2Kw0PRd43Z0oqWT4quq6srZ5tS69ixA+PHns1t9z/DPY+88L71CxtWstsuO258v2ufWhY2rGTh0pXs1qdFee9aFi5dycKGleza4l/7Ddtb8fg3K55tKtgkzdrCMhvoU4p9tpdfjT6DP7+6mF/e9Mhm1//h8dmcfnzu4dVDPjaAxjVrWfx6I5Oemscnhu1Dbbeu1HbryieG7cOkp+ax+PVGVr+xjiEfGwDA6ccP4b7HZ5Xr62wT/JsVUbRhyUPS9ZIaJM1pUdZT0iRJLyd/7thaHRuU6hhbH+AYYMV7ygU8VaJ9lt3Bgz7IGccfxOy/LGDarRcBMPrqifTfpScA1/1+Kg9Mncsxh3yUuRNH8+a6dzjnkpsAWNH4Jv917QNMven7APxn/QOsaHwTgO/+1wTqx3yBrtt14qEnX+TBqS+2w7fLJv9mxdXc3FzM6m4ArgZ+26LsImByRFwm6aLk/ah8FakUXURJ44DfRMTUzay7JSJOL6Ca6Dr43KK3zUpj7fNXA+DfrHokv5m2po7dvz2x4AD5x1Un5N2XpAHAfRGxb/L+z8CIiFgkqS/wWETsna+ekvTYIuKsVtYVEmpmVgXa0jGSVAe0PHheHxH5zhL2iYhFyevFFHgoy5d7mFl6bRjwJSGW+nKHiAhJBe3RwWZmqZXhbOcSSX1bDEUbCvmQ7zwws9TKcLnHROBLyesvAfcU8iH32MwstSjirVKSxgMjgJ0lzQdGA5cBEySdBfwd+FwhdTnYzCy1Yg5FI+K0Law6qq11OdjMLDXPoGtmmeNgM7PMcbCZWfZUZq452MwsvSLfK1o0DjYzS81DUTPLnsrMNQebmaXnHpuZZY6DzcwyxycPzCx7KrPD5mAzs/Q8FDWzzHGwmVnmONjMLHMcbGaWOcWcaLKYHGxmlpp7bGaWPQ42M8uc8AW6ZpY17rGZWea4x2ZmmdPc1N4t2CwHm5mlV+Qem6TXgNVAE7A+Ig5IU4+DzczSK80xtiMi4vWtqcDBZmbpVegxtg7t3QAzq2IRBS+S6iQ902Kp21yNwEOSnt3C+oK4x2Zm6bXh5EFE1AP1eTY7JCIWSOoNTJL0UkQ80dZmucdmZulFc+FLIdVFLEj+bADuAoakaZaDzczSa8NQNB9J20vqtuE1MBKYk6ZZHoqaWXrFPXnQB7hLEuSy6ZaIeCBNRQ42M0uviJd7RMTfgP2LUZeDzczSq9DLPRxsZpZek2+pMrOscY/NzDLH0xaZWea4x2ZmmeMem5lljntsZpY5nmjSzDLHQ1EzyxwPRc0sc9xjM7PMcY+t7dY+f3V7N8HayL/ZNqZCTx4oKrQrmWWS6pLZRK0K+PeqPp5osn2knsvd2oV/ryrjYDOzzHGwmVnmONjah4/XVBf/XlXGJw/MLHPcYzOzzHGwmVnmONjKSNKxkv4s6a+SLmrv9ljrJF0vqUFSqmdbWvtxsJWJpBrgf4DjgIHAaZIGtm+rLI8bgGPbuxHWdg628hkC/DUi/hYRbwO3Aie2c5usFRHxBLC8vdthbedgK59dgX+2eD8/KTOzInOwmVnmONjKZwHQv8X73ZIyMysyB1v5zAA+LGkPSZ2BzwMT27lNZpnkYCuTiFgPnAs8CMwDJkTE3PZtlbVG0njgT8DekuZLOqu922SF8S1VZpY57rGZWeY42MwscxxsZpY5DjYzyxwHm5lljoOtiklqkjRT0hxJt0v6wFbUdYOkzyavr2vtBn1JIyQdnGIfr0naudDy92yzpo37ukTS99raRssGB1t1WxsRgyJiX+Bt4OstV0pK9dzYiPhaRLzYyiYjgDYHm1m5ONiyYwqwZ9KbmiJpIvCipBpJP5M0Q9IsSecAKOfqZH64h4HeGyqS9JikA5LXx0p6TtILkiZLGkAuQM9PeouHSuol6Y5kHzMkDU8+u5OkhyTNlXQdoHxfQtLdkp5NPlP3nnVXJOWTJfVKyj4k6YHkM1Mk7VOU/5pW1Sr6SfBWmKRndhzwQFL0cWDfiHg1CYdVEXGgpO2AJyU9BAwG9iY3N1wf4EXg+vfU2wu4FjgsqatnRCyX9CtgTUSMTba7BbgiIqZK2p3c3RUfAUYDUyPiUkmfAgq5cv+ryT66AjMk3RERy4DtgWci4nxJ/5HUfS65B618PSJelnQQ8L/AkSn+M1qGONiqW1dJM5PXU4Bx5IaI0yPi1aR8JLDfhuNnQA/gw8BhwPiIaAIWSnpkM/UPBZ7YUFdEbGlusk8AA6WNHbLuknZI9vGZ5LN/kLSigO/0HUknJ6/7J21dBjQDtyXlNwF3Jvs4GLi9xb63K2AflnEOtuq2NiIGtSxI/oK/0bII+HZEPPie7T5ZxHZ0AIZGxLrNtKVgkkaQC8lhEfGmpMeALlvYPJL9rnzvfwMzH2PLvgeBb0jqBCBpL0nbA08ApybH4PoCR2zms9OAwyTtkXy2Z1K+GujWYruHgG9veCNpUPLyCeD0pOw4YMc8be0BrEhCbR9yPcYNOgAbep2nkxviNgKvSjol2Yck7Z9nH7YNcLBl33Xkjp89lzyU5Nfkeup3AS8n635LbhaLTUTEUqCO3LDvBd4dCt4LnLzh5AHwHeCA5OTEi7x7dnYMuWCcS25I+o88bX0A6ChpHnAZuWDd4A1gSPIdjgQuTcrPAM5K2jcXT7dueHYPM8sg99jMLHMcbGaWOQ42M8scB5uZZY6Dzcwyx8FmZpnjYDOzzPk/W0K+ZjBjYcQAAAAASUVORK5CYII=\n",
      "text/plain": [
       "<Figure size 432x288 with 2 Axes>"
>>>>>>> 9660aa48c7fbbe2449a0ee763ca943f2f14c7caf
      ]
     },
     "metadata": {
      "needs_background": "light"
     },
     "output_type": "display_data"
    }
   ],
   "source": [
    "model_perf(Xtest, ytest, model)"
   ]
  },
  {
   "cell_type": "markdown",
   "metadata": {
    "id": "PWCsVaIi42Zu"
   },
   "source": [
    "## Initial Factors + Symptoms and Comorbidities + Blood"
   ]
  },
  {
   "cell_type": "code",
   "execution_count": 19,
   "metadata": {
    "id": "1AJ6Jmtz1dZB"
   },
   "outputs": [
    {
     "name": "stderr",
     "output_type": "stream",
     "text": [
      "/home/shikha/snap/jupyter/common/lib/python3.7/site-packages/xgboost/sklearn.py:1146: UserWarning: The use of label encoder in XGBClassifier is deprecated and will be removed in a future release. To remove this warning, do the following: 1) Pass option use_label_encoder=False when constructing XGBClassifier object; and 2) Encode your labels (y) as integers starting with 0, i.e. 0, 1, 2, ..., [num_class - 1].\n",
      "  warnings.warn(label_encoder_deprecation_msg, UserWarning)\n",
      "/home/shikha/snap/jupyter/common/lib/python3.7/site-packages/xgboost/sklearn.py:1146: UserWarning: The use of label encoder in XGBClassifier is deprecated and will be removed in a future release. To remove this warning, do the following: 1) Pass option use_label_encoder=False when constructing XGBClassifier object; and 2) Encode your labels (y) as integers starting with 0, i.e. 0, 1, 2, ..., [num_class - 1].\n",
      "  warnings.warn(label_encoder_deprecation_msg, UserWarning)\n",
      "/home/shikha/snap/jupyter/common/lib/python3.7/site-packages/xgboost/sklearn.py:1146: UserWarning: The use of label encoder in XGBClassifier is deprecated and will be removed in a future release. To remove this warning, do the following: 1) Pass option use_label_encoder=False when constructing XGBClassifier object; and 2) Encode your labels (y) as integers starting with 0, i.e. 0, 1, 2, ..., [num_class - 1].\n",
      "  warnings.warn(label_encoder_deprecation_msg, UserWarning)\n",
      "/home/shikha/snap/jupyter/common/lib/python3.7/site-packages/xgboost/sklearn.py:1146: UserWarning: The use of label encoder in XGBClassifier is deprecated and will be removed in a future release. To remove this warning, do the following: 1) Pass option use_label_encoder=False when constructing XGBClassifier object; and 2) Encode your labels (y) as integers starting with 0, i.e. 0, 1, 2, ..., [num_class - 1].\n",
      "  warnings.warn(label_encoder_deprecation_msg, UserWarning)\n",
      "/home/shikha/snap/jupyter/common/lib/python3.7/site-packages/xgboost/sklearn.py:1146: UserWarning: The use of label encoder in XGBClassifier is deprecated and will be removed in a future release. To remove this warning, do the following: 1) Pass option use_label_encoder=False when constructing XGBClassifier object; and 2) Encode your labels (y) as integers starting with 0, i.e. 0, 1, 2, ..., [num_class - 1].\n",
      "  warnings.warn(label_encoder_deprecation_msg, UserWarning)\n",
      "/home/shikha/snap/jupyter/common/lib/python3.7/site-packages/xgboost/sklearn.py:1146: UserWarning: The use of label encoder in XGBClassifier is deprecated and will be removed in a future release. To remove this warning, do the following: 1) Pass option use_label_encoder=False when constructing XGBClassifier object; and 2) Encode your labels (y) as integers starting with 0, i.e. 0, 1, 2, ..., [num_class - 1].\n",
      "  warnings.warn(label_encoder_deprecation_msg, UserWarning)\n"
     ]
    },
    {
<<<<<<< HEAD
      "cell_type": "code",
      "metadata": {
        "colab": {
          "base_uri": "https://localhost:8080/",
          "height": 473
        },
        "id": "3IxdLLg3DKIe",
        "outputId": "533992bf-4e48-43f4-8731-eb8562de6fde"
      },
      "source": [
        "model = XGBClassifier(reg_alpha = 1.1, reg_lambda = 1.1, colsample_bytree = 0.7, max_depth = 15, n_estimators = 400, subsample = 0.7)\n",
        "ttmodel(X, Y, model, 100)"
      ],
      "execution_count": 10,
      "outputs": [
        {
          "output_type": "stream",
          "text": [
            "Average training statistics over 100 runs of the XGB model - \n",
            "Accuracy Score =  0.979465648854963\n",
            "Precision Score =  0.9793224812873335\n",
            "Recall Score =  0.979465648854963\n",
            "F1 Score =  0.9791205146067881\n",
            "\n",
            "Average testing statistics over 100 runs of the XGB model - \n",
            "Accuracy Score =  0.9375\n",
            "Precision Score =  0.9419620874794623\n",
            "Recall Score =  0.9375\n",
            "F1 Score =  0.9344195140941675\n"
          ],
          "name": "stdout"
        },
        {
          "output_type": "display_data",
          "data": {
            "image/png": "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\n",
            "text/plain": [
              "<Figure size 432x288 with 2 Axes>"
            ]
          },
          "metadata": {
            "tags": [],
            "needs_background": "light"
          }
        }
=======
     "name": "stdout",
     "output_type": "stream",
     "text": [
      "[10:58:42] WARNING: ../src/learner.cc:1095: Starting in XGBoost 1.3.0, the default evaluation metric used with the objective 'binary:logistic' was changed from 'error' to 'logloss'. Explicitly set eval_metric if you'd like to restore the old behavior.\n",
      "[10:58:42] WARNING: ../src/learner.cc:1095: Starting in XGBoost 1.3.0, the default evaluation metric used with the objective 'binary:logistic' was changed from 'error' to 'logloss'. Explicitly set eval_metric if you'd like to restore the old behavior.\n",
      "[10:58:42] WARNING: ../src/learner.cc:1095: Starting in XGBoost 1.3.0, the default evaluation metric used with the objective 'binary:logistic' was changed from 'error' to 'logloss'. Explicitly set eval_metric if you'd like to restore the old behavior.\n",
      "[10:58:42] WARNING: ../src/learner.cc:1095: Starting in XGBoost 1.3.0, the default evaluation metric used with the objective 'binary:logistic' was changed from 'error' to 'logloss'. Explicitly set eval_metric if you'd like to restore the old behavior.\n",
      "[10:58:42] WARNING: ../src/learner.cc:1095: Starting in XGBoost 1.3.0, the default evaluation metric used with the objective 'binary:logistic' was changed from 'error' to 'logloss'. Explicitly set eval_metric if you'd like to restore the old behavior.\n",
      "[10:58:42] WARNING: ../src/learner.cc:1095: Starting in XGBoost 1.3.0, the default evaluation metric used with the objective 'binary:logistic' was changed from 'error' to 'logloss'. Explicitly set eval_metric if you'd like to restore the old behavior.\n",
      "[10:58:42] WARNING: ../src/learner.cc:1095: Starting in XGBoost 1.3.0, the default evaluation metric used with the objective 'binary:logistic' was changed from 'error' to 'logloss'. Explicitly set eval_metric if you'd like to restore the old behavior.\n",
      "[10:58:42] WARNING: ../src/learner.cc:1095: Starting in XGBoost 1.3.0, the default evaluation metric used with the objective 'binary:logistic' was changed from 'error' to 'logloss'. Explicitly set eval_metric if you'd like to restore the old behavior.\n",
      "[10:58:42] WARNING: ../src/learner.cc:1095: Starting in XGBoost 1.3.0, the default evaluation metric used with the objective 'binary:logistic' was changed from 'error' to 'logloss'. Explicitly set eval_metric if you'd like to restore the old behavior.\n",
      "[10:58:42] WARNING: ../src/learner.cc:1095: Starting in XGBoost 1.3.0, the default evaluation metric used with the objective 'binary:logistic' was changed from 'error' to 'logloss'. Explicitly set eval_metric if you'd like to restore the old behavior.\n",
      "[10:58:42] WARNING: ../src/learner.cc:1095: Starting in XGBoost 1.3.0, the default evaluation metric used with the objective 'binary:logistic' was changed from 'error' to 'logloss'. Explicitly set eval_metric if you'd like to restore the old behavior.\n"
     ]
    },
    {
     "name": "stderr",
     "output_type": "stream",
     "text": [
      "/home/shikha/snap/jupyter/common/lib/python3.7/site-packages/xgboost/sklearn.py:1146: UserWarning: The use of label encoder in XGBClassifier is deprecated and will be removed in a future release. To remove this warning, do the following: 1) Pass option use_label_encoder=False when constructing XGBClassifier object; and 2) Encode your labels (y) as integers starting with 0, i.e. 0, 1, 2, ..., [num_class - 1].\n",
      "  warnings.warn(label_encoder_deprecation_msg, UserWarning)\n",
      "/home/shikha/snap/jupyter/common/lib/python3.7/site-packages/xgboost/sklearn.py:1146: UserWarning: The use of label encoder in XGBClassifier is deprecated and will be removed in a future release. To remove this warning, do the following: 1) Pass option use_label_encoder=False when constructing XGBClassifier object; and 2) Encode your labels (y) as integers starting with 0, i.e. 0, 1, 2, ..., [num_class - 1].\n",
      "  warnings.warn(label_encoder_deprecation_msg, UserWarning)\n",
      "/home/shikha/snap/jupyter/common/lib/python3.7/site-packages/xgboost/sklearn.py:1146: UserWarning: The use of label encoder in XGBClassifier is deprecated and will be removed in a future release. To remove this warning, do the following: 1) Pass option use_label_encoder=False when constructing XGBClassifier object; and 2) Encode your labels (y) as integers starting with 0, i.e. 0, 1, 2, ..., [num_class - 1].\n",
      "  warnings.warn(label_encoder_deprecation_msg, UserWarning)\n",
      "/home/shikha/snap/jupyter/common/lib/python3.7/site-packages/xgboost/sklearn.py:1146: UserWarning: The use of label encoder in XGBClassifier is deprecated and will be removed in a future release. To remove this warning, do the following: 1) Pass option use_label_encoder=False when constructing XGBClassifier object; and 2) Encode your labels (y) as integers starting with 0, i.e. 0, 1, 2, ..., [num_class - 1].\n",
      "  warnings.warn(label_encoder_deprecation_msg, UserWarning)\n",
      "/home/shikha/snap/jupyter/common/lib/python3.7/site-packages/xgboost/sklearn.py:1146: UserWarning: The use of label encoder in XGBClassifier is deprecated and will be removed in a future release. To remove this warning, do the following: 1) Pass option use_label_encoder=False when constructing XGBClassifier object; and 2) Encode your labels (y) as integers starting with 0, i.e. 0, 1, 2, ..., [num_class - 1].\n",
      "  warnings.warn(label_encoder_deprecation_msg, UserWarning)\n",
      "/home/shikha/snap/jupyter/common/lib/python3.7/site-packages/xgboost/sklearn.py:1146: UserWarning: The use of label encoder in XGBClassifier is deprecated and will be removed in a future release. To remove this warning, do the following: 1) Pass option use_label_encoder=False when constructing XGBClassifier object; and 2) Encode your labels (y) as integers starting with 0, i.e. 0, 1, 2, ..., [num_class - 1].\n",
      "  warnings.warn(label_encoder_deprecation_msg, UserWarning)\n"
     ]
    },
    {
     "name": "stdout",
     "output_type": "stream",
     "text": [
      "[10:58:42] WARNING: ../src/learner.cc:1095: Starting in XGBoost 1.3.0, the default evaluation metric used with the objective 'binary:logistic' was changed from 'error' to 'logloss'. Explicitly set eval_metric if you'd like to restore the old behavior.\n",
      "[10:58:42] WARNING: ../src/learner.cc:1095: Starting in XGBoost 1.3.0, the default evaluation metric used with the objective 'binary:logistic' was changed from 'error' to 'logloss'. Explicitly set eval_metric if you'd like to restore the old behavior.\n",
      "[10:58:42] WARNING: ../src/learner.cc:1095: Starting in XGBoost 1.3.0, the default evaluation metric used with the objective 'binary:logistic' was changed from 'error' to 'logloss'. Explicitly set eval_metric if you'd like to restore the old behavior.\n",
      "[10:58:42] WARNING: ../src/learner.cc:1095: Starting in XGBoost 1.3.0, the default evaluation metric used with the objective 'binary:logistic' was changed from 'error' to 'logloss'. Explicitly set eval_metric if you'd like to restore the old behavior.\n",
      "[10:58:42] WARNING: ../src/learner.cc:1095: Starting in XGBoost 1.3.0, the default evaluation metric used with the objective 'binary:logistic' was changed from 'error' to 'logloss'. Explicitly set eval_metric if you'd like to restore the old behavior.\n",
      "[10:58:43] WARNING: ../src/learner.cc:1095: Starting in XGBoost 1.3.0, the default evaluation metric used with the objective 'binary:logistic' was changed from 'error' to 'logloss'. Explicitly set eval_metric if you'd like to restore the old behavior.\n"
     ]
    },
    {
     "name": "stderr",
     "output_type": "stream",
     "text": [
      "/home/shikha/snap/jupyter/common/lib/python3.7/site-packages/xgboost/sklearn.py:1146: UserWarning: The use of label encoder in XGBClassifier is deprecated and will be removed in a future release. To remove this warning, do the following: 1) Pass option use_label_encoder=False when constructing XGBClassifier object; and 2) Encode your labels (y) as integers starting with 0, i.e. 0, 1, 2, ..., [num_class - 1].\n",
      "  warnings.warn(label_encoder_deprecation_msg, UserWarning)\n",
      "/home/shikha/snap/jupyter/common/lib/python3.7/site-packages/xgboost/sklearn.py:1146: UserWarning: The use of label encoder in XGBClassifier is deprecated and will be removed in a future release. To remove this warning, do the following: 1) Pass option use_label_encoder=False when constructing XGBClassifier object; and 2) Encode your labels (y) as integers starting with 0, i.e. 0, 1, 2, ..., [num_class - 1].\n",
      "  warnings.warn(label_encoder_deprecation_msg, UserWarning)\n",
      "/home/shikha/snap/jupyter/common/lib/python3.7/site-packages/xgboost/sklearn.py:1146: UserWarning: The use of label encoder in XGBClassifier is deprecated and will be removed in a future release. To remove this warning, do the following: 1) Pass option use_label_encoder=False when constructing XGBClassifier object; and 2) Encode your labels (y) as integers starting with 0, i.e. 0, 1, 2, ..., [num_class - 1].\n",
      "  warnings.warn(label_encoder_deprecation_msg, UserWarning)\n",
      "/home/shikha/snap/jupyter/common/lib/python3.7/site-packages/xgboost/sklearn.py:1146: UserWarning: The use of label encoder in XGBClassifier is deprecated and will be removed in a future release. To remove this warning, do the following: 1) Pass option use_label_encoder=False when constructing XGBClassifier object; and 2) Encode your labels (y) as integers starting with 0, i.e. 0, 1, 2, ..., [num_class - 1].\n",
      "  warnings.warn(label_encoder_deprecation_msg, UserWarning)\n",
      "/home/shikha/snap/jupyter/common/lib/python3.7/site-packages/xgboost/sklearn.py:1146: UserWarning: The use of label encoder in XGBClassifier is deprecated and will be removed in a future release. To remove this warning, do the following: 1) Pass option use_label_encoder=False when constructing XGBClassifier object; and 2) Encode your labels (y) as integers starting with 0, i.e. 0, 1, 2, ..., [num_class - 1].\n",
      "  warnings.warn(label_encoder_deprecation_msg, UserWarning)\n",
      "/home/shikha/snap/jupyter/common/lib/python3.7/site-packages/xgboost/sklearn.py:1146: UserWarning: The use of label encoder in XGBClassifier is deprecated and will be removed in a future release. To remove this warning, do the following: 1) Pass option use_label_encoder=False when constructing XGBClassifier object; and 2) Encode your labels (y) as integers starting with 0, i.e. 0, 1, 2, ..., [num_class - 1].\n",
      "  warnings.warn(label_encoder_deprecation_msg, UserWarning)\n"
     ]
    },
    {
     "name": "stdout",
     "output_type": "stream",
     "text": [
      "[10:58:43] WARNING: ../src/learner.cc:1095: Starting in XGBoost 1.3.0, the default evaluation metric used with the objective 'binary:logistic' was changed from 'error' to 'logloss'. Explicitly set eval_metric if you'd like to restore the old behavior.\n",
      "[10:58:43] WARNING: ../src/learner.cc:1095: Starting in XGBoost 1.3.0, the default evaluation metric used with the objective 'binary:logistic' was changed from 'error' to 'logloss'. Explicitly set eval_metric if you'd like to restore the old behavior.\n",
      "[10:58:43] WARNING: ../src/learner.cc:1095: Starting in XGBoost 1.3.0, the default evaluation metric used with the objective 'binary:logistic' was changed from 'error' to 'logloss'. Explicitly set eval_metric if you'd like to restore the old behavior.\n",
      "[10:58:43] WARNING: ../src/learner.cc:1095: Starting in XGBoost 1.3.0, the default evaluation metric used with the objective 'binary:logistic' was changed from 'error' to 'logloss'. Explicitly set eval_metric if you'd like to restore the old behavior.\n",
      "[10:58:43] WARNING: ../src/learner.cc:1095: Starting in XGBoost 1.3.0, the default evaluation metric used with the objective 'binary:logistic' was changed from 'error' to 'logloss'. Explicitly set eval_metric if you'd like to restore the old behavior.\n"
     ]
    },
    {
     "name": "stderr",
     "output_type": "stream",
     "text": [
      "/home/shikha/snap/jupyter/common/lib/python3.7/site-packages/xgboost/sklearn.py:1146: UserWarning: The use of label encoder in XGBClassifier is deprecated and will be removed in a future release. To remove this warning, do the following: 1) Pass option use_label_encoder=False when constructing XGBClassifier object; and 2) Encode your labels (y) as integers starting with 0, i.e. 0, 1, 2, ..., [num_class - 1].\n",
      "  warnings.warn(label_encoder_deprecation_msg, UserWarning)\n",
      "/home/shikha/snap/jupyter/common/lib/python3.7/site-packages/xgboost/sklearn.py:1146: UserWarning: The use of label encoder in XGBClassifier is deprecated and will be removed in a future release. To remove this warning, do the following: 1) Pass option use_label_encoder=False when constructing XGBClassifier object; and 2) Encode your labels (y) as integers starting with 0, i.e. 0, 1, 2, ..., [num_class - 1].\n",
      "  warnings.warn(label_encoder_deprecation_msg, UserWarning)\n",
      "/home/shikha/snap/jupyter/common/lib/python3.7/site-packages/xgboost/sklearn.py:1146: UserWarning: The use of label encoder in XGBClassifier is deprecated and will be removed in a future release. To remove this warning, do the following: 1) Pass option use_label_encoder=False when constructing XGBClassifier object; and 2) Encode your labels (y) as integers starting with 0, i.e. 0, 1, 2, ..., [num_class - 1].\n",
      "  warnings.warn(label_encoder_deprecation_msg, UserWarning)\n",
      "/home/shikha/snap/jupyter/common/lib/python3.7/site-packages/xgboost/sklearn.py:1146: UserWarning: The use of label encoder in XGBClassifier is deprecated and will be removed in a future release. To remove this warning, do the following: 1) Pass option use_label_encoder=False when constructing XGBClassifier object; and 2) Encode your labels (y) as integers starting with 0, i.e. 0, 1, 2, ..., [num_class - 1].\n",
      "  warnings.warn(label_encoder_deprecation_msg, UserWarning)\n",
      "/home/shikha/snap/jupyter/common/lib/python3.7/site-packages/xgboost/sklearn.py:1146: UserWarning: The use of label encoder in XGBClassifier is deprecated and will be removed in a future release. To remove this warning, do the following: 1) Pass option use_label_encoder=False when constructing XGBClassifier object; and 2) Encode your labels (y) as integers starting with 0, i.e. 0, 1, 2, ..., [num_class - 1].\n",
      "  warnings.warn(label_encoder_deprecation_msg, UserWarning)\n"
     ]
    },
    {
     "name": "stdout",
     "output_type": "stream",
     "text": [
      "[10:58:43] WARNING: ../src/learner.cc:1095: Starting in XGBoost 1.3.0, the default evaluation metric used with the objective 'binary:logistic' was changed from 'error' to 'logloss'. Explicitly set eval_metric if you'd like to restore the old behavior.\n",
      "[10:58:43] WARNING: ../src/learner.cc:1095: Starting in XGBoost 1.3.0, the default evaluation metric used with the objective 'binary:logistic' was changed from 'error' to 'logloss'. Explicitly set eval_metric if you'd like to restore the old behavior.\n",
      "[10:58:43] WARNING: ../src/learner.cc:1095: Starting in XGBoost 1.3.0, the default evaluation metric used with the objective 'binary:logistic' was changed from 'error' to 'logloss'. Explicitly set eval_metric if you'd like to restore the old behavior.\n",
      "[10:58:43] WARNING: ../src/learner.cc:1095: Starting in XGBoost 1.3.0, the default evaluation metric used with the objective 'binary:logistic' was changed from 'error' to 'logloss'. Explicitly set eval_metric if you'd like to restore the old behavior.\n",
      "[10:58:43] WARNING: ../src/learner.cc:1095: Starting in XGBoost 1.3.0, the default evaluation metric used with the objective 'binary:logistic' was changed from 'error' to 'logloss'. Explicitly set eval_metric if you'd like to restore the old behavior.\n",
      "[10:58:43] WARNING: ../src/learner.cc:1095: Starting in XGBoost 1.3.0, the default evaluation metric used with the objective 'binary:logistic' was changed from 'error' to 'logloss'. Explicitly set eval_metric if you'd like to restore the old behavior.\n"
     ]
    },
    {
     "name": "stderr",
     "output_type": "stream",
     "text": [
      "/home/shikha/snap/jupyter/common/lib/python3.7/site-packages/xgboost/sklearn.py:1146: UserWarning: The use of label encoder in XGBClassifier is deprecated and will be removed in a future release. To remove this warning, do the following: 1) Pass option use_label_encoder=False when constructing XGBClassifier object; and 2) Encode your labels (y) as integers starting with 0, i.e. 0, 1, 2, ..., [num_class - 1].\n",
      "  warnings.warn(label_encoder_deprecation_msg, UserWarning)\n",
      "/home/shikha/snap/jupyter/common/lib/python3.7/site-packages/xgboost/sklearn.py:1146: UserWarning: The use of label encoder in XGBClassifier is deprecated and will be removed in a future release. To remove this warning, do the following: 1) Pass option use_label_encoder=False when constructing XGBClassifier object; and 2) Encode your labels (y) as integers starting with 0, i.e. 0, 1, 2, ..., [num_class - 1].\n",
      "  warnings.warn(label_encoder_deprecation_msg, UserWarning)\n",
      "/home/shikha/snap/jupyter/common/lib/python3.7/site-packages/xgboost/sklearn.py:1146: UserWarning: The use of label encoder in XGBClassifier is deprecated and will be removed in a future release. To remove this warning, do the following: 1) Pass option use_label_encoder=False when constructing XGBClassifier object; and 2) Encode your labels (y) as integers starting with 0, i.e. 0, 1, 2, ..., [num_class - 1].\n",
      "  warnings.warn(label_encoder_deprecation_msg, UserWarning)\n",
      "/home/shikha/snap/jupyter/common/lib/python3.7/site-packages/xgboost/sklearn.py:1146: UserWarning: The use of label encoder in XGBClassifier is deprecated and will be removed in a future release. To remove this warning, do the following: 1) Pass option use_label_encoder=False when constructing XGBClassifier object; and 2) Encode your labels (y) as integers starting with 0, i.e. 0, 1, 2, ..., [num_class - 1].\n",
      "  warnings.warn(label_encoder_deprecation_msg, UserWarning)\n",
      "/home/shikha/snap/jupyter/common/lib/python3.7/site-packages/xgboost/sklearn.py:1146: UserWarning: The use of label encoder in XGBClassifier is deprecated and will be removed in a future release. To remove this warning, do the following: 1) Pass option use_label_encoder=False when constructing XGBClassifier object; and 2) Encode your labels (y) as integers starting with 0, i.e. 0, 1, 2, ..., [num_class - 1].\n",
      "  warnings.warn(label_encoder_deprecation_msg, UserWarning)\n",
      "/home/shikha/snap/jupyter/common/lib/python3.7/site-packages/xgboost/sklearn.py:1146: UserWarning: The use of label encoder in XGBClassifier is deprecated and will be removed in a future release. To remove this warning, do the following: 1) Pass option use_label_encoder=False when constructing XGBClassifier object; and 2) Encode your labels (y) as integers starting with 0, i.e. 0, 1, 2, ..., [num_class - 1].\n",
      "  warnings.warn(label_encoder_deprecation_msg, UserWarning)\n"
     ]
    },
    {
     "name": "stdout",
     "output_type": "stream",
     "text": [
      "[10:58:43] WARNING: ../src/learner.cc:1095: Starting in XGBoost 1.3.0, the default evaluation metric used with the objective 'binary:logistic' was changed from 'error' to 'logloss'. Explicitly set eval_metric if you'd like to restore the old behavior.\n",
      "[10:58:43] WARNING: ../src/learner.cc:1095: Starting in XGBoost 1.3.0, the default evaluation metric used with the objective 'binary:logistic' was changed from 'error' to 'logloss'. Explicitly set eval_metric if you'd like to restore the old behavior.\n",
      "[10:58:43] WARNING: ../src/learner.cc:1095: Starting in XGBoost 1.3.0, the default evaluation metric used with the objective 'binary:logistic' was changed from 'error' to 'logloss'. Explicitly set eval_metric if you'd like to restore the old behavior.\n",
      "[10:58:43] WARNING: ../src/learner.cc:1095: Starting in XGBoost 1.3.0, the default evaluation metric used with the objective 'binary:logistic' was changed from 'error' to 'logloss'. Explicitly set eval_metric if you'd like to restore the old behavior.\n",
      "[10:58:43] WARNING: ../src/learner.cc:1095: Starting in XGBoost 1.3.0, the default evaluation metric used with the objective 'binary:logistic' was changed from 'error' to 'logloss'. Explicitly set eval_metric if you'd like to restore the old behavior.\n",
      "[10:58:43] WARNING: ../src/learner.cc:1095: Starting in XGBoost 1.3.0, the default evaluation metric used with the objective 'binary:logistic' was changed from 'error' to 'logloss'. Explicitly set eval_metric if you'd like to restore the old behavior.\n"
     ]
    },
    {
     "name": "stderr",
     "output_type": "stream",
     "text": [
      "/home/shikha/snap/jupyter/common/lib/python3.7/site-packages/xgboost/sklearn.py:1146: UserWarning: The use of label encoder in XGBClassifier is deprecated and will be removed in a future release. To remove this warning, do the following: 1) Pass option use_label_encoder=False when constructing XGBClassifier object; and 2) Encode your labels (y) as integers starting with 0, i.e. 0, 1, 2, ..., [num_class - 1].\n",
      "  warnings.warn(label_encoder_deprecation_msg, UserWarning)\n",
      "/home/shikha/snap/jupyter/common/lib/python3.7/site-packages/xgboost/sklearn.py:1146: UserWarning: The use of label encoder in XGBClassifier is deprecated and will be removed in a future release. To remove this warning, do the following: 1) Pass option use_label_encoder=False when constructing XGBClassifier object; and 2) Encode your labels (y) as integers starting with 0, i.e. 0, 1, 2, ..., [num_class - 1].\n",
      "  warnings.warn(label_encoder_deprecation_msg, UserWarning)\n",
      "/home/shikha/snap/jupyter/common/lib/python3.7/site-packages/xgboost/sklearn.py:1146: UserWarning: The use of label encoder in XGBClassifier is deprecated and will be removed in a future release. To remove this warning, do the following: 1) Pass option use_label_encoder=False when constructing XGBClassifier object; and 2) Encode your labels (y) as integers starting with 0, i.e. 0, 1, 2, ..., [num_class - 1].\n",
      "  warnings.warn(label_encoder_deprecation_msg, UserWarning)\n",
      "/home/shikha/snap/jupyter/common/lib/python3.7/site-packages/xgboost/sklearn.py:1146: UserWarning: The use of label encoder in XGBClassifier is deprecated and will be removed in a future release. To remove this warning, do the following: 1) Pass option use_label_encoder=False when constructing XGBClassifier object; and 2) Encode your labels (y) as integers starting with 0, i.e. 0, 1, 2, ..., [num_class - 1].\n",
      "  warnings.warn(label_encoder_deprecation_msg, UserWarning)\n",
      "/home/shikha/snap/jupyter/common/lib/python3.7/site-packages/xgboost/sklearn.py:1146: UserWarning: The use of label encoder in XGBClassifier is deprecated and will be removed in a future release. To remove this warning, do the following: 1) Pass option use_label_encoder=False when constructing XGBClassifier object; and 2) Encode your labels (y) as integers starting with 0, i.e. 0, 1, 2, ..., [num_class - 1].\n",
      "  warnings.warn(label_encoder_deprecation_msg, UserWarning)\n",
      "/home/shikha/snap/jupyter/common/lib/python3.7/site-packages/xgboost/sklearn.py:1146: UserWarning: The use of label encoder in XGBClassifier is deprecated and will be removed in a future release. To remove this warning, do the following: 1) Pass option use_label_encoder=False when constructing XGBClassifier object; and 2) Encode your labels (y) as integers starting with 0, i.e. 0, 1, 2, ..., [num_class - 1].\n",
      "  warnings.warn(label_encoder_deprecation_msg, UserWarning)\n"
     ]
    },
    {
     "name": "stdout",
     "output_type": "stream",
     "text": [
      "[10:58:43] WARNING: ../src/learner.cc:1095: Starting in XGBoost 1.3.0, the default evaluation metric used with the objective 'binary:logistic' was changed from 'error' to 'logloss'. Explicitly set eval_metric if you'd like to restore the old behavior.\n",
      "[10:58:43] WARNING: ../src/learner.cc:1095: Starting in XGBoost 1.3.0, the default evaluation metric used with the objective 'binary:logistic' was changed from 'error' to 'logloss'. Explicitly set eval_metric if you'd like to restore the old behavior.\n",
      "[10:58:43] WARNING: ../src/learner.cc:1095: Starting in XGBoost 1.3.0, the default evaluation metric used with the objective 'binary:logistic' was changed from 'error' to 'logloss'. Explicitly set eval_metric if you'd like to restore the old behavior.\n",
      "[10:58:44] WARNING: ../src/learner.cc:1095: Starting in XGBoost 1.3.0, the default evaluation metric used with the objective 'binary:logistic' was changed from 'error' to 'logloss'. Explicitly set eval_metric if you'd like to restore the old behavior.\n"
     ]
    },
    {
     "name": "stderr",
     "output_type": "stream",
     "text": [
      "/home/shikha/snap/jupyter/common/lib/python3.7/site-packages/xgboost/sklearn.py:1146: UserWarning: The use of label encoder in XGBClassifier is deprecated and will be removed in a future release. To remove this warning, do the following: 1) Pass option use_label_encoder=False when constructing XGBClassifier object; and 2) Encode your labels (y) as integers starting with 0, i.e. 0, 1, 2, ..., [num_class - 1].\n",
      "  warnings.warn(label_encoder_deprecation_msg, UserWarning)\n",
      "/home/shikha/snap/jupyter/common/lib/python3.7/site-packages/xgboost/sklearn.py:1146: UserWarning: The use of label encoder in XGBClassifier is deprecated and will be removed in a future release. To remove this warning, do the following: 1) Pass option use_label_encoder=False when constructing XGBClassifier object; and 2) Encode your labels (y) as integers starting with 0, i.e. 0, 1, 2, ..., [num_class - 1].\n",
      "  warnings.warn(label_encoder_deprecation_msg, UserWarning)\n",
      "/home/shikha/snap/jupyter/common/lib/python3.7/site-packages/xgboost/sklearn.py:1146: UserWarning: The use of label encoder in XGBClassifier is deprecated and will be removed in a future release. To remove this warning, do the following: 1) Pass option use_label_encoder=False when constructing XGBClassifier object; and 2) Encode your labels (y) as integers starting with 0, i.e. 0, 1, 2, ..., [num_class - 1].\n",
      "  warnings.warn(label_encoder_deprecation_msg, UserWarning)\n",
      "/home/shikha/snap/jupyter/common/lib/python3.7/site-packages/xgboost/sklearn.py:1146: UserWarning: The use of label encoder in XGBClassifier is deprecated and will be removed in a future release. To remove this warning, do the following: 1) Pass option use_label_encoder=False when constructing XGBClassifier object; and 2) Encode your labels (y) as integers starting with 0, i.e. 0, 1, 2, ..., [num_class - 1].\n",
      "  warnings.warn(label_encoder_deprecation_msg, UserWarning)\n"
     ]
    },
    {
     "name": "stdout",
     "output_type": "stream",
     "text": [
      "[10:58:44] WARNING: ../src/learner.cc:1095: Starting in XGBoost 1.3.0, the default evaluation metric used with the objective 'binary:logistic' was changed from 'error' to 'logloss'. Explicitly set eval_metric if you'd like to restore the old behavior.\n",
      "[10:58:44] WARNING: ../src/learner.cc:1095: Starting in XGBoost 1.3.0, the default evaluation metric used with the objective 'binary:logistic' was changed from 'error' to 'logloss'. Explicitly set eval_metric if you'd like to restore the old behavior.\n"
     ]
    },
    {
     "name": "stderr",
     "output_type": "stream",
     "text": [
      "/home/shikha/snap/jupyter/common/lib/python3.7/site-packages/xgboost/sklearn.py:1146: UserWarning: The use of label encoder in XGBClassifier is deprecated and will be removed in a future release. To remove this warning, do the following: 1) Pass option use_label_encoder=False when constructing XGBClassifier object; and 2) Encode your labels (y) as integers starting with 0, i.e. 0, 1, 2, ..., [num_class - 1].\n",
      "  warnings.warn(label_encoder_deprecation_msg, UserWarning)\n",
      "/home/shikha/snap/jupyter/common/lib/python3.7/site-packages/xgboost/sklearn.py:1146: UserWarning: The use of label encoder in XGBClassifier is deprecated and will be removed in a future release. To remove this warning, do the following: 1) Pass option use_label_encoder=False when constructing XGBClassifier object; and 2) Encode your labels (y) as integers starting with 0, i.e. 0, 1, 2, ..., [num_class - 1].\n",
      "  warnings.warn(label_encoder_deprecation_msg, UserWarning)\n",
      "/home/shikha/snap/jupyter/common/lib/python3.7/site-packages/xgboost/sklearn.py:1146: UserWarning: The use of label encoder in XGBClassifier is deprecated and will be removed in a future release. To remove this warning, do the following: 1) Pass option use_label_encoder=False when constructing XGBClassifier object; and 2) Encode your labels (y) as integers starting with 0, i.e. 0, 1, 2, ..., [num_class - 1].\n",
      "  warnings.warn(label_encoder_deprecation_msg, UserWarning)\n"
     ]
    },
    {
     "name": "stdout",
     "output_type": "stream",
     "text": [
      "[10:58:44] WARNING: ../src/learner.cc:1095: Starting in XGBoost 1.3.0, the default evaluation metric used with the objective 'binary:logistic' was changed from 'error' to 'logloss'. Explicitly set eval_metric if you'd like to restore the old behavior.\n",
      "[10:58:44] WARNING: ../src/learner.cc:1095: Starting in XGBoost 1.3.0, the default evaluation metric used with the objective 'binary:logistic' was changed from 'error' to 'logloss'. Explicitly set eval_metric if you'd like to restore the old behavior.\n"
     ]
    },
    {
     "name": "stderr",
     "output_type": "stream",
     "text": [
      "/home/shikha/snap/jupyter/common/lib/python3.7/site-packages/xgboost/sklearn.py:1146: UserWarning: The use of label encoder in XGBClassifier is deprecated and will be removed in a future release. To remove this warning, do the following: 1) Pass option use_label_encoder=False when constructing XGBClassifier object; and 2) Encode your labels (y) as integers starting with 0, i.e. 0, 1, 2, ..., [num_class - 1].\n",
      "  warnings.warn(label_encoder_deprecation_msg, UserWarning)\n",
      "/home/shikha/snap/jupyter/common/lib/python3.7/site-packages/xgboost/sklearn.py:1146: UserWarning: The use of label encoder in XGBClassifier is deprecated and will be removed in a future release. To remove this warning, do the following: 1) Pass option use_label_encoder=False when constructing XGBClassifier object; and 2) Encode your labels (y) as integers starting with 0, i.e. 0, 1, 2, ..., [num_class - 1].\n",
      "  warnings.warn(label_encoder_deprecation_msg, UserWarning)\n",
      "/home/shikha/snap/jupyter/common/lib/python3.7/site-packages/xgboost/sklearn.py:1146: UserWarning: The use of label encoder in XGBClassifier is deprecated and will be removed in a future release. To remove this warning, do the following: 1) Pass option use_label_encoder=False when constructing XGBClassifier object; and 2) Encode your labels (y) as integers starting with 0, i.e. 0, 1, 2, ..., [num_class - 1].\n",
      "  warnings.warn(label_encoder_deprecation_msg, UserWarning)\n",
      "/home/shikha/snap/jupyter/common/lib/python3.7/site-packages/xgboost/sklearn.py:1146: UserWarning: The use of label encoder in XGBClassifier is deprecated and will be removed in a future release. To remove this warning, do the following: 1) Pass option use_label_encoder=False when constructing XGBClassifier object; and 2) Encode your labels (y) as integers starting with 0, i.e. 0, 1, 2, ..., [num_class - 1].\n",
      "  warnings.warn(label_encoder_deprecation_msg, UserWarning)\n",
      "/home/shikha/snap/jupyter/common/lib/python3.7/site-packages/xgboost/sklearn.py:1146: UserWarning: The use of label encoder in XGBClassifier is deprecated and will be removed in a future release. To remove this warning, do the following: 1) Pass option use_label_encoder=False when constructing XGBClassifier object; and 2) Encode your labels (y) as integers starting with 0, i.e. 0, 1, 2, ..., [num_class - 1].\n",
      "  warnings.warn(label_encoder_deprecation_msg, UserWarning)\n",
      "/home/shikha/snap/jupyter/common/lib/python3.7/site-packages/xgboost/sklearn.py:1146: UserWarning: The use of label encoder in XGBClassifier is deprecated and will be removed in a future release. To remove this warning, do the following: 1) Pass option use_label_encoder=False when constructing XGBClassifier object; and 2) Encode your labels (y) as integers starting with 0, i.e. 0, 1, 2, ..., [num_class - 1].\n",
      "  warnings.warn(label_encoder_deprecation_msg, UserWarning)\n"
     ]
    },
    {
     "name": "stdout",
     "output_type": "stream",
     "text": [
      "[10:58:44] WARNING: ../src/learner.cc:1095: Starting in XGBoost 1.3.0, the default evaluation metric used with the objective 'binary:logistic' was changed from 'error' to 'logloss'. Explicitly set eval_metric if you'd like to restore the old behavior.\n",
      "[10:58:44] WARNING: ../src/learner.cc:1095: Starting in XGBoost 1.3.0, the default evaluation metric used with the objective 'binary:logistic' was changed from 'error' to 'logloss'. Explicitly set eval_metric if you'd like to restore the old behavior.\n",
      "[10:58:44] WARNING: ../src/learner.cc:1095: Starting in XGBoost 1.3.0, the default evaluation metric used with the objective 'binary:logistic' was changed from 'error' to 'logloss'. Explicitly set eval_metric if you'd like to restore the old behavior.\n",
      "[10:58:44] WARNING: ../src/learner.cc:1095: Starting in XGBoost 1.3.0, the default evaluation metric used with the objective 'binary:logistic' was changed from 'error' to 'logloss'. Explicitly set eval_metric if you'd like to restore the old behavior.\n",
      "[10:58:44] WARNING: ../src/learner.cc:1095: Starting in XGBoost 1.3.0, the default evaluation metric used with the objective 'binary:logistic' was changed from 'error' to 'logloss'. Explicitly set eval_metric if you'd like to restore the old behavior.\n",
      "[10:58:44] WARNING: ../src/learner.cc:1095: Starting in XGBoost 1.3.0, the default evaluation metric used with the objective 'binary:logistic' was changed from 'error' to 'logloss'. Explicitly set eval_metric if you'd like to restore the old behavior.\n"
     ]
    },
    {
     "name": "stderr",
     "output_type": "stream",
     "text": [
      "/home/shikha/snap/jupyter/common/lib/python3.7/site-packages/xgboost/sklearn.py:1146: UserWarning: The use of label encoder in XGBClassifier is deprecated and will be removed in a future release. To remove this warning, do the following: 1) Pass option use_label_encoder=False when constructing XGBClassifier object; and 2) Encode your labels (y) as integers starting with 0, i.e. 0, 1, 2, ..., [num_class - 1].\n",
      "  warnings.warn(label_encoder_deprecation_msg, UserWarning)\n",
      "/home/shikha/snap/jupyter/common/lib/python3.7/site-packages/xgboost/sklearn.py:1146: UserWarning: The use of label encoder in XGBClassifier is deprecated and will be removed in a future release. To remove this warning, do the following: 1) Pass option use_label_encoder=False when constructing XGBClassifier object; and 2) Encode your labels (y) as integers starting with 0, i.e. 0, 1, 2, ..., [num_class - 1].\n",
      "  warnings.warn(label_encoder_deprecation_msg, UserWarning)\n",
      "/home/shikha/snap/jupyter/common/lib/python3.7/site-packages/xgboost/sklearn.py:1146: UserWarning: The use of label encoder in XGBClassifier is deprecated and will be removed in a future release. To remove this warning, do the following: 1) Pass option use_label_encoder=False when constructing XGBClassifier object; and 2) Encode your labels (y) as integers starting with 0, i.e. 0, 1, 2, ..., [num_class - 1].\n",
      "  warnings.warn(label_encoder_deprecation_msg, UserWarning)\n",
      "/home/shikha/snap/jupyter/common/lib/python3.7/site-packages/xgboost/sklearn.py:1146: UserWarning: The use of label encoder in XGBClassifier is deprecated and will be removed in a future release. To remove this warning, do the following: 1) Pass option use_label_encoder=False when constructing XGBClassifier object; and 2) Encode your labels (y) as integers starting with 0, i.e. 0, 1, 2, ..., [num_class - 1].\n",
      "  warnings.warn(label_encoder_deprecation_msg, UserWarning)\n",
      "/home/shikha/snap/jupyter/common/lib/python3.7/site-packages/xgboost/sklearn.py:1146: UserWarning: The use of label encoder in XGBClassifier is deprecated and will be removed in a future release. To remove this warning, do the following: 1) Pass option use_label_encoder=False when constructing XGBClassifier object; and 2) Encode your labels (y) as integers starting with 0, i.e. 0, 1, 2, ..., [num_class - 1].\n",
      "  warnings.warn(label_encoder_deprecation_msg, UserWarning)\n",
      "/home/shikha/snap/jupyter/common/lib/python3.7/site-packages/xgboost/sklearn.py:1146: UserWarning: The use of label encoder in XGBClassifier is deprecated and will be removed in a future release. To remove this warning, do the following: 1) Pass option use_label_encoder=False when constructing XGBClassifier object; and 2) Encode your labels (y) as integers starting with 0, i.e. 0, 1, 2, ..., [num_class - 1].\n",
      "  warnings.warn(label_encoder_deprecation_msg, UserWarning)\n",
      "/home/shikha/snap/jupyter/common/lib/python3.7/site-packages/xgboost/sklearn.py:1146: UserWarning: The use of label encoder in XGBClassifier is deprecated and will be removed in a future release. To remove this warning, do the following: 1) Pass option use_label_encoder=False when constructing XGBClassifier object; and 2) Encode your labels (y) as integers starting with 0, i.e. 0, 1, 2, ..., [num_class - 1].\n",
      "  warnings.warn(label_encoder_deprecation_msg, UserWarning)\n"
     ]
    },
    {
     "name": "stdout",
     "output_type": "stream",
     "text": [
      "[10:58:44] WARNING: ../src/learner.cc:1095: Starting in XGBoost 1.3.0, the default evaluation metric used with the objective 'binary:logistic' was changed from 'error' to 'logloss'. Explicitly set eval_metric if you'd like to restore the old behavior.\n",
      "[10:58:44] WARNING: ../src/learner.cc:1095: Starting in XGBoost 1.3.0, the default evaluation metric used with the objective 'binary:logistic' was changed from 'error' to 'logloss'. Explicitly set eval_metric if you'd like to restore the old behavior.\n",
      "[10:58:44] WARNING: ../src/learner.cc:1095: Starting in XGBoost 1.3.0, the default evaluation metric used with the objective 'binary:logistic' was changed from 'error' to 'logloss'. Explicitly set eval_metric if you'd like to restore the old behavior.\n",
      "[10:58:45] WARNING: ../src/learner.cc:1095: Starting in XGBoost 1.3.0, the default evaluation metric used with the objective 'binary:logistic' was changed from 'error' to 'logloss'. Explicitly set eval_metric if you'd like to restore the old behavior.\n",
      "[10:58:45] WARNING: ../src/learner.cc:1095: Starting in XGBoost 1.3.0, the default evaluation metric used with the objective 'binary:logistic' was changed from 'error' to 'logloss'. Explicitly set eval_metric if you'd like to restore the old behavior.\n",
      "[10:58:45] WARNING: ../src/learner.cc:1095: Starting in XGBoost 1.3.0, the default evaluation metric used with the objective 'binary:logistic' was changed from 'error' to 'logloss'. Explicitly set eval_metric if you'd like to restore the old behavior.\n"
     ]
    },
    {
     "name": "stderr",
     "output_type": "stream",
     "text": [
      "/home/shikha/snap/jupyter/common/lib/python3.7/site-packages/xgboost/sklearn.py:1146: UserWarning: The use of label encoder in XGBClassifier is deprecated and will be removed in a future release. To remove this warning, do the following: 1) Pass option use_label_encoder=False when constructing XGBClassifier object; and 2) Encode your labels (y) as integers starting with 0, i.e. 0, 1, 2, ..., [num_class - 1].\n",
      "  warnings.warn(label_encoder_deprecation_msg, UserWarning)\n",
      "/home/shikha/snap/jupyter/common/lib/python3.7/site-packages/xgboost/sklearn.py:1146: UserWarning: The use of label encoder in XGBClassifier is deprecated and will be removed in a future release. To remove this warning, do the following: 1) Pass option use_label_encoder=False when constructing XGBClassifier object; and 2) Encode your labels (y) as integers starting with 0, i.e. 0, 1, 2, ..., [num_class - 1].\n",
      "  warnings.warn(label_encoder_deprecation_msg, UserWarning)\n",
      "/home/shikha/snap/jupyter/common/lib/python3.7/site-packages/xgboost/sklearn.py:1146: UserWarning: The use of label encoder in XGBClassifier is deprecated and will be removed in a future release. To remove this warning, do the following: 1) Pass option use_label_encoder=False when constructing XGBClassifier object; and 2) Encode your labels (y) as integers starting with 0, i.e. 0, 1, 2, ..., [num_class - 1].\n",
      "  warnings.warn(label_encoder_deprecation_msg, UserWarning)\n",
      "/home/shikha/snap/jupyter/common/lib/python3.7/site-packages/xgboost/sklearn.py:1146: UserWarning: The use of label encoder in XGBClassifier is deprecated and will be removed in a future release. To remove this warning, do the following: 1) Pass option use_label_encoder=False when constructing XGBClassifier object; and 2) Encode your labels (y) as integers starting with 0, i.e. 0, 1, 2, ..., [num_class - 1].\n",
      "  warnings.warn(label_encoder_deprecation_msg, UserWarning)\n"
     ]
    },
    {
     "name": "stdout",
     "output_type": "stream",
     "text": [
      "[10:58:45] WARNING: ../src/learner.cc:1095: Starting in XGBoost 1.3.0, the default evaluation metric used with the objective 'binary:logistic' was changed from 'error' to 'logloss'. Explicitly set eval_metric if you'd like to restore the old behavior.\n",
      "[10:58:45] WARNING: ../src/learner.cc:1095: Starting in XGBoost 1.3.0, the default evaluation metric used with the objective 'binary:logistic' was changed from 'error' to 'logloss'. Explicitly set eval_metric if you'd like to restore the old behavior.\n",
      "[10:58:45] WARNING: ../src/learner.cc:1095: Starting in XGBoost 1.3.0, the default evaluation metric used with the objective 'binary:logistic' was changed from 'error' to 'logloss'. Explicitly set eval_metric if you'd like to restore the old behavior.\n",
      "[10:58:45] WARNING: ../src/learner.cc:1095: Starting in XGBoost 1.3.0, the default evaluation metric used with the objective 'binary:logistic' was changed from 'error' to 'logloss'. Explicitly set eval_metric if you'd like to restore the old behavior.\n",
      "[10:58:45] WARNING: ../src/learner.cc:1095: Starting in XGBoost 1.3.0, the default evaluation metric used with the objective 'binary:logistic' was changed from 'error' to 'logloss'. Explicitly set eval_metric if you'd like to restore the old behavior.\n"
     ]
    },
    {
     "name": "stderr",
     "output_type": "stream",
     "text": [
      "/home/shikha/snap/jupyter/common/lib/python3.7/site-packages/xgboost/sklearn.py:1146: UserWarning: The use of label encoder in XGBClassifier is deprecated and will be removed in a future release. To remove this warning, do the following: 1) Pass option use_label_encoder=False when constructing XGBClassifier object; and 2) Encode your labels (y) as integers starting with 0, i.e. 0, 1, 2, ..., [num_class - 1].\n",
      "  warnings.warn(label_encoder_deprecation_msg, UserWarning)\n",
      "/home/shikha/snap/jupyter/common/lib/python3.7/site-packages/xgboost/sklearn.py:1146: UserWarning: The use of label encoder in XGBClassifier is deprecated and will be removed in a future release. To remove this warning, do the following: 1) Pass option use_label_encoder=False when constructing XGBClassifier object; and 2) Encode your labels (y) as integers starting with 0, i.e. 0, 1, 2, ..., [num_class - 1].\n",
      "  warnings.warn(label_encoder_deprecation_msg, UserWarning)\n",
      "/home/shikha/snap/jupyter/common/lib/python3.7/site-packages/xgboost/sklearn.py:1146: UserWarning: The use of label encoder in XGBClassifier is deprecated and will be removed in a future release. To remove this warning, do the following: 1) Pass option use_label_encoder=False when constructing XGBClassifier object; and 2) Encode your labels (y) as integers starting with 0, i.e. 0, 1, 2, ..., [num_class - 1].\n",
      "  warnings.warn(label_encoder_deprecation_msg, UserWarning)\n",
      "/home/shikha/snap/jupyter/common/lib/python3.7/site-packages/xgboost/sklearn.py:1146: UserWarning: The use of label encoder in XGBClassifier is deprecated and will be removed in a future release. To remove this warning, do the following: 1) Pass option use_label_encoder=False when constructing XGBClassifier object; and 2) Encode your labels (y) as integers starting with 0, i.e. 0, 1, 2, ..., [num_class - 1].\n",
      "  warnings.warn(label_encoder_deprecation_msg, UserWarning)\n",
      "/home/shikha/snap/jupyter/common/lib/python3.7/site-packages/xgboost/sklearn.py:1146: UserWarning: The use of label encoder in XGBClassifier is deprecated and will be removed in a future release. To remove this warning, do the following: 1) Pass option use_label_encoder=False when constructing XGBClassifier object; and 2) Encode your labels (y) as integers starting with 0, i.e. 0, 1, 2, ..., [num_class - 1].\n",
      "  warnings.warn(label_encoder_deprecation_msg, UserWarning)\n",
      "/home/shikha/snap/jupyter/common/lib/python3.7/site-packages/xgboost/sklearn.py:1146: UserWarning: The use of label encoder in XGBClassifier is deprecated and will be removed in a future release. To remove this warning, do the following: 1) Pass option use_label_encoder=False when constructing XGBClassifier object; and 2) Encode your labels (y) as integers starting with 0, i.e. 0, 1, 2, ..., [num_class - 1].\n",
      "  warnings.warn(label_encoder_deprecation_msg, UserWarning)\n"
     ]
    },
    {
     "name": "stdout",
     "output_type": "stream",
     "text": [
      "[10:58:45] WARNING: ../src/learner.cc:1095: Starting in XGBoost 1.3.0, the default evaluation metric used with the objective 'binary:logistic' was changed from 'error' to 'logloss'. Explicitly set eval_metric if you'd like to restore the old behavior.\n",
      "[10:58:45] WARNING: ../src/learner.cc:1095: Starting in XGBoost 1.3.0, the default evaluation metric used with the objective 'binary:logistic' was changed from 'error' to 'logloss'. Explicitly set eval_metric if you'd like to restore the old behavior.\n",
      "[10:58:45] WARNING: ../src/learner.cc:1095: Starting in XGBoost 1.3.0, the default evaluation metric used with the objective 'binary:logistic' was changed from 'error' to 'logloss'. Explicitly set eval_metric if you'd like to restore the old behavior.\n",
      "[10:58:45] WARNING: ../src/learner.cc:1095: Starting in XGBoost 1.3.0, the default evaluation metric used with the objective 'binary:logistic' was changed from 'error' to 'logloss'. Explicitly set eval_metric if you'd like to restore the old behavior.\n",
      "[10:58:45] WARNING: ../src/learner.cc:1095: Starting in XGBoost 1.3.0, the default evaluation metric used with the objective 'binary:logistic' was changed from 'error' to 'logloss'. Explicitly set eval_metric if you'd like to restore the old behavior.\n",
      "[10:58:45] WARNING: ../src/learner.cc:1095: Starting in XGBoost 1.3.0, the default evaluation metric used with the objective 'binary:logistic' was changed from 'error' to 'logloss'. Explicitly set eval_metric if you'd like to restore the old behavior.\n"
     ]
    },
    {
     "name": "stderr",
     "output_type": "stream",
     "text": [
      "/home/shikha/snap/jupyter/common/lib/python3.7/site-packages/xgboost/sklearn.py:1146: UserWarning: The use of label encoder in XGBClassifier is deprecated and will be removed in a future release. To remove this warning, do the following: 1) Pass option use_label_encoder=False when constructing XGBClassifier object; and 2) Encode your labels (y) as integers starting with 0, i.e. 0, 1, 2, ..., [num_class - 1].\n",
      "  warnings.warn(label_encoder_deprecation_msg, UserWarning)\n",
      "/home/shikha/snap/jupyter/common/lib/python3.7/site-packages/xgboost/sklearn.py:1146: UserWarning: The use of label encoder in XGBClassifier is deprecated and will be removed in a future release. To remove this warning, do the following: 1) Pass option use_label_encoder=False when constructing XGBClassifier object; and 2) Encode your labels (y) as integers starting with 0, i.e. 0, 1, 2, ..., [num_class - 1].\n",
      "  warnings.warn(label_encoder_deprecation_msg, UserWarning)\n",
      "/home/shikha/snap/jupyter/common/lib/python3.7/site-packages/xgboost/sklearn.py:1146: UserWarning: The use of label encoder in XGBClassifier is deprecated and will be removed in a future release. To remove this warning, do the following: 1) Pass option use_label_encoder=False when constructing XGBClassifier object; and 2) Encode your labels (y) as integers starting with 0, i.e. 0, 1, 2, ..., [num_class - 1].\n",
      "  warnings.warn(label_encoder_deprecation_msg, UserWarning)\n",
      "/home/shikha/snap/jupyter/common/lib/python3.7/site-packages/xgboost/sklearn.py:1146: UserWarning: The use of label encoder in XGBClassifier is deprecated and will be removed in a future release. To remove this warning, do the following: 1) Pass option use_label_encoder=False when constructing XGBClassifier object; and 2) Encode your labels (y) as integers starting with 0, i.e. 0, 1, 2, ..., [num_class - 1].\n",
      "  warnings.warn(label_encoder_deprecation_msg, UserWarning)\n",
      "/home/shikha/snap/jupyter/common/lib/python3.7/site-packages/xgboost/sklearn.py:1146: UserWarning: The use of label encoder in XGBClassifier is deprecated and will be removed in a future release. To remove this warning, do the following: 1) Pass option use_label_encoder=False when constructing XGBClassifier object; and 2) Encode your labels (y) as integers starting with 0, i.e. 0, 1, 2, ..., [num_class - 1].\n",
      "  warnings.warn(label_encoder_deprecation_msg, UserWarning)\n",
      "/home/shikha/snap/jupyter/common/lib/python3.7/site-packages/xgboost/sklearn.py:1146: UserWarning: The use of label encoder in XGBClassifier is deprecated and will be removed in a future release. To remove this warning, do the following: 1) Pass option use_label_encoder=False when constructing XGBClassifier object; and 2) Encode your labels (y) as integers starting with 0, i.e. 0, 1, 2, ..., [num_class - 1].\n",
      "  warnings.warn(label_encoder_deprecation_msg, UserWarning)\n"
     ]
    },
    {
     "name": "stdout",
     "output_type": "stream",
     "text": [
      "[10:58:45] WARNING: ../src/learner.cc:1095: Starting in XGBoost 1.3.0, the default evaluation metric used with the objective 'binary:logistic' was changed from 'error' to 'logloss'. Explicitly set eval_metric if you'd like to restore the old behavior.\n",
      "[10:58:45] WARNING: ../src/learner.cc:1095: Starting in XGBoost 1.3.0, the default evaluation metric used with the objective 'binary:logistic' was changed from 'error' to 'logloss'. Explicitly set eval_metric if you'd like to restore the old behavior.\n",
      "[10:58:45] WARNING: ../src/learner.cc:1095: Starting in XGBoost 1.3.0, the default evaluation metric used with the objective 'binary:logistic' was changed from 'error' to 'logloss'. Explicitly set eval_metric if you'd like to restore the old behavior.\n",
      "[10:58:45] WARNING: ../src/learner.cc:1095: Starting in XGBoost 1.3.0, the default evaluation metric used with the objective 'binary:logistic' was changed from 'error' to 'logloss'. Explicitly set eval_metric if you'd like to restore the old behavior.\n",
      "[10:58:45] WARNING: ../src/learner.cc:1095: Starting in XGBoost 1.3.0, the default evaluation metric used with the objective 'binary:logistic' was changed from 'error' to 'logloss'. Explicitly set eval_metric if you'd like to restore the old behavior.\n",
      "[10:58:45] WARNING: ../src/learner.cc:1095: Starting in XGBoost 1.3.0, the default evaluation metric used with the objective 'binary:logistic' was changed from 'error' to 'logloss'. Explicitly set eval_metric if you'd like to restore the old behavior.\n"
     ]
    },
    {
     "name": "stderr",
     "output_type": "stream",
     "text": [
      "/home/shikha/snap/jupyter/common/lib/python3.7/site-packages/xgboost/sklearn.py:1146: UserWarning: The use of label encoder in XGBClassifier is deprecated and will be removed in a future release. To remove this warning, do the following: 1) Pass option use_label_encoder=False when constructing XGBClassifier object; and 2) Encode your labels (y) as integers starting with 0, i.e. 0, 1, 2, ..., [num_class - 1].\n",
      "  warnings.warn(label_encoder_deprecation_msg, UserWarning)\n",
      "/home/shikha/snap/jupyter/common/lib/python3.7/site-packages/xgboost/sklearn.py:1146: UserWarning: The use of label encoder in XGBClassifier is deprecated and will be removed in a future release. To remove this warning, do the following: 1) Pass option use_label_encoder=False when constructing XGBClassifier object; and 2) Encode your labels (y) as integers starting with 0, i.e. 0, 1, 2, ..., [num_class - 1].\n",
      "  warnings.warn(label_encoder_deprecation_msg, UserWarning)\n",
      "/home/shikha/snap/jupyter/common/lib/python3.7/site-packages/xgboost/sklearn.py:1146: UserWarning: The use of label encoder in XGBClassifier is deprecated and will be removed in a future release. To remove this warning, do the following: 1) Pass option use_label_encoder=False when constructing XGBClassifier object; and 2) Encode your labels (y) as integers starting with 0, i.e. 0, 1, 2, ..., [num_class - 1].\n",
      "  warnings.warn(label_encoder_deprecation_msg, UserWarning)\n",
      "/home/shikha/snap/jupyter/common/lib/python3.7/site-packages/xgboost/sklearn.py:1146: UserWarning: The use of label encoder in XGBClassifier is deprecated and will be removed in a future release. To remove this warning, do the following: 1) Pass option use_label_encoder=False when constructing XGBClassifier object; and 2) Encode your labels (y) as integers starting with 0, i.e. 0, 1, 2, ..., [num_class - 1].\n",
      "  warnings.warn(label_encoder_deprecation_msg, UserWarning)\n",
      "/home/shikha/snap/jupyter/common/lib/python3.7/site-packages/xgboost/sklearn.py:1146: UserWarning: The use of label encoder in XGBClassifier is deprecated and will be removed in a future release. To remove this warning, do the following: 1) Pass option use_label_encoder=False when constructing XGBClassifier object; and 2) Encode your labels (y) as integers starting with 0, i.e. 0, 1, 2, ..., [num_class - 1].\n",
      "  warnings.warn(label_encoder_deprecation_msg, UserWarning)\n"
     ]
    },
    {
     "name": "stdout",
     "output_type": "stream",
     "text": [
      "[10:58:45] WARNING: ../src/learner.cc:1095: Starting in XGBoost 1.3.0, the default evaluation metric used with the objective 'binary:logistic' was changed from 'error' to 'logloss'. Explicitly set eval_metric if you'd like to restore the old behavior.\n",
      "[10:58:45] WARNING: ../src/learner.cc:1095: Starting in XGBoost 1.3.0, the default evaluation metric used with the objective 'binary:logistic' was changed from 'error' to 'logloss'. Explicitly set eval_metric if you'd like to restore the old behavior.\n",
      "[10:58:45] WARNING: ../src/learner.cc:1095: Starting in XGBoost 1.3.0, the default evaluation metric used with the objective 'binary:logistic' was changed from 'error' to 'logloss'. Explicitly set eval_metric if you'd like to restore the old behavior.\n",
      "[10:58:45] WARNING: ../src/learner.cc:1095: Starting in XGBoost 1.3.0, the default evaluation metric used with the objective 'binary:logistic' was changed from 'error' to 'logloss'. Explicitly set eval_metric if you'd like to restore the old behavior.\n",
      "[10:58:45] WARNING: ../src/learner.cc:1095: Starting in XGBoost 1.3.0, the default evaluation metric used with the objective 'binary:logistic' was changed from 'error' to 'logloss'. Explicitly set eval_metric if you'd like to restore the old behavior.\n"
     ]
    },
    {
     "name": "stderr",
     "output_type": "stream",
     "text": [
      "/home/shikha/snap/jupyter/common/lib/python3.7/site-packages/xgboost/sklearn.py:1146: UserWarning: The use of label encoder in XGBClassifier is deprecated and will be removed in a future release. To remove this warning, do the following: 1) Pass option use_label_encoder=False when constructing XGBClassifier object; and 2) Encode your labels (y) as integers starting with 0, i.e. 0, 1, 2, ..., [num_class - 1].\n",
      "  warnings.warn(label_encoder_deprecation_msg, UserWarning)\n",
      "/home/shikha/snap/jupyter/common/lib/python3.7/site-packages/xgboost/sklearn.py:1146: UserWarning: The use of label encoder in XGBClassifier is deprecated and will be removed in a future release. To remove this warning, do the following: 1) Pass option use_label_encoder=False when constructing XGBClassifier object; and 2) Encode your labels (y) as integers starting with 0, i.e. 0, 1, 2, ..., [num_class - 1].\n",
      "  warnings.warn(label_encoder_deprecation_msg, UserWarning)\n",
      "/home/shikha/snap/jupyter/common/lib/python3.7/site-packages/xgboost/sklearn.py:1146: UserWarning: The use of label encoder in XGBClassifier is deprecated and will be removed in a future release. To remove this warning, do the following: 1) Pass option use_label_encoder=False when constructing XGBClassifier object; and 2) Encode your labels (y) as integers starting with 0, i.e. 0, 1, 2, ..., [num_class - 1].\n",
      "  warnings.warn(label_encoder_deprecation_msg, UserWarning)\n",
      "/home/shikha/snap/jupyter/common/lib/python3.7/site-packages/xgboost/sklearn.py:1146: UserWarning: The use of label encoder in XGBClassifier is deprecated and will be removed in a future release. To remove this warning, do the following: 1) Pass option use_label_encoder=False when constructing XGBClassifier object; and 2) Encode your labels (y) as integers starting with 0, i.e. 0, 1, 2, ..., [num_class - 1].\n",
      "  warnings.warn(label_encoder_deprecation_msg, UserWarning)\n",
      "/home/shikha/snap/jupyter/common/lib/python3.7/site-packages/xgboost/sklearn.py:1146: UserWarning: The use of label encoder in XGBClassifier is deprecated and will be removed in a future release. To remove this warning, do the following: 1) Pass option use_label_encoder=False when constructing XGBClassifier object; and 2) Encode your labels (y) as integers starting with 0, i.e. 0, 1, 2, ..., [num_class - 1].\n",
      "  warnings.warn(label_encoder_deprecation_msg, UserWarning)\n"
     ]
    },
    {
     "name": "stdout",
     "output_type": "stream",
     "text": [
      "[10:58:45] WARNING: ../src/learner.cc:1095: Starting in XGBoost 1.3.0, the default evaluation metric used with the objective 'binary:logistic' was changed from 'error' to 'logloss'. Explicitly set eval_metric if you'd like to restore the old behavior.\n",
      "[10:58:46] WARNING: ../src/learner.cc:1095: Starting in XGBoost 1.3.0, the default evaluation metric used with the objective 'binary:logistic' was changed from 'error' to 'logloss'. Explicitly set eval_metric if you'd like to restore the old behavior.\n",
      "[10:58:46] WARNING: ../src/learner.cc:1095: Starting in XGBoost 1.3.0, the default evaluation metric used with the objective 'binary:logistic' was changed from 'error' to 'logloss'. Explicitly set eval_metric if you'd like to restore the old behavior.\n",
      "[10:58:46] WARNING: ../src/learner.cc:1095: Starting in XGBoost 1.3.0, the default evaluation metric used with the objective 'binary:logistic' was changed from 'error' to 'logloss'. Explicitly set eval_metric if you'd like to restore the old behavior.\n",
      "[10:58:46] WARNING: ../src/learner.cc:1095: Starting in XGBoost 1.3.0, the default evaluation metric used with the objective 'binary:logistic' was changed from 'error' to 'logloss'. Explicitly set eval_metric if you'd like to restore the old behavior.\n"
     ]
    },
    {
     "name": "stderr",
     "output_type": "stream",
     "text": [
      "/home/shikha/snap/jupyter/common/lib/python3.7/site-packages/xgboost/sklearn.py:1146: UserWarning: The use of label encoder in XGBClassifier is deprecated and will be removed in a future release. To remove this warning, do the following: 1) Pass option use_label_encoder=False when constructing XGBClassifier object; and 2) Encode your labels (y) as integers starting with 0, i.e. 0, 1, 2, ..., [num_class - 1].\n",
      "  warnings.warn(label_encoder_deprecation_msg, UserWarning)\n",
      "/home/shikha/snap/jupyter/common/lib/python3.7/site-packages/xgboost/sklearn.py:1146: UserWarning: The use of label encoder in XGBClassifier is deprecated and will be removed in a future release. To remove this warning, do the following: 1) Pass option use_label_encoder=False when constructing XGBClassifier object; and 2) Encode your labels (y) as integers starting with 0, i.e. 0, 1, 2, ..., [num_class - 1].\n",
      "  warnings.warn(label_encoder_deprecation_msg, UserWarning)\n",
      "/home/shikha/snap/jupyter/common/lib/python3.7/site-packages/xgboost/sklearn.py:1146: UserWarning: The use of label encoder in XGBClassifier is deprecated and will be removed in a future release. To remove this warning, do the following: 1) Pass option use_label_encoder=False when constructing XGBClassifier object; and 2) Encode your labels (y) as integers starting with 0, i.e. 0, 1, 2, ..., [num_class - 1].\n",
      "  warnings.warn(label_encoder_deprecation_msg, UserWarning)\n",
      "/home/shikha/snap/jupyter/common/lib/python3.7/site-packages/xgboost/sklearn.py:1146: UserWarning: The use of label encoder in XGBClassifier is deprecated and will be removed in a future release. To remove this warning, do the following: 1) Pass option use_label_encoder=False when constructing XGBClassifier object; and 2) Encode your labels (y) as integers starting with 0, i.e. 0, 1, 2, ..., [num_class - 1].\n",
      "  warnings.warn(label_encoder_deprecation_msg, UserWarning)\n",
      "/home/shikha/snap/jupyter/common/lib/python3.7/site-packages/xgboost/sklearn.py:1146: UserWarning: The use of label encoder in XGBClassifier is deprecated and will be removed in a future release. To remove this warning, do the following: 1) Pass option use_label_encoder=False when constructing XGBClassifier object; and 2) Encode your labels (y) as integers starting with 0, i.e. 0, 1, 2, ..., [num_class - 1].\n",
      "  warnings.warn(label_encoder_deprecation_msg, UserWarning)\n",
      "/home/shikha/snap/jupyter/common/lib/python3.7/site-packages/xgboost/sklearn.py:1146: UserWarning: The use of label encoder in XGBClassifier is deprecated and will be removed in a future release. To remove this warning, do the following: 1) Pass option use_label_encoder=False when constructing XGBClassifier object; and 2) Encode your labels (y) as integers starting with 0, i.e. 0, 1, 2, ..., [num_class - 1].\n",
      "  warnings.warn(label_encoder_deprecation_msg, UserWarning)\n",
      "/home/shikha/snap/jupyter/common/lib/python3.7/site-packages/xgboost/sklearn.py:1146: UserWarning: The use of label encoder in XGBClassifier is deprecated and will be removed in a future release. To remove this warning, do the following: 1) Pass option use_label_encoder=False when constructing XGBClassifier object; and 2) Encode your labels (y) as integers starting with 0, i.e. 0, 1, 2, ..., [num_class - 1].\n",
      "  warnings.warn(label_encoder_deprecation_msg, UserWarning)\n"
     ]
    },
    {
     "name": "stdout",
     "output_type": "stream",
     "text": [
      "[10:58:46] WARNING: ../src/learner.cc:1095: Starting in XGBoost 1.3.0, the default evaluation metric used with the objective 'binary:logistic' was changed from 'error' to 'logloss'. Explicitly set eval_metric if you'd like to restore the old behavior.\n",
      "[10:58:46] WARNING: ../src/learner.cc:1095: Starting in XGBoost 1.3.0, the default evaluation metric used with the objective 'binary:logistic' was changed from 'error' to 'logloss'. Explicitly set eval_metric if you'd like to restore the old behavior.\n",
      "[10:58:46] WARNING: ../src/learner.cc:1095: Starting in XGBoost 1.3.0, the default evaluation metric used with the objective 'binary:logistic' was changed from 'error' to 'logloss'. Explicitly set eval_metric if you'd like to restore the old behavior.\n",
      "[10:58:46] WARNING: ../src/learner.cc:1095: Starting in XGBoost 1.3.0, the default evaluation metric used with the objective 'binary:logistic' was changed from 'error' to 'logloss'. Explicitly set eval_metric if you'd like to restore the old behavior.\n",
      "[10:58:46] WARNING: ../src/learner.cc:1095: Starting in XGBoost 1.3.0, the default evaluation metric used with the objective 'binary:logistic' was changed from 'error' to 'logloss'. Explicitly set eval_metric if you'd like to restore the old behavior.\n",
      "[10:58:46] WARNING: ../src/learner.cc:1095: Starting in XGBoost 1.3.0, the default evaluation metric used with the objective 'binary:logistic' was changed from 'error' to 'logloss'. Explicitly set eval_metric if you'd like to restore the old behavior.\n",
      "[10:58:46] WARNING: ../src/learner.cc:1095: Starting in XGBoost 1.3.0, the default evaluation metric used with the objective 'binary:logistic' was changed from 'error' to 'logloss'. Explicitly set eval_metric if you'd like to restore the old behavior.\n",
      "[10:58:46] WARNING: ../src/learner.cc:1095: Starting in XGBoost 1.3.0, the default evaluation metric used with the objective 'binary:logistic' was changed from 'error' to 'logloss'. Explicitly set eval_metric if you'd like to restore the old behavior.\n",
      "[10:58:46] WARNING: ../src/learner.cc:1095: Starting in XGBoost 1.3.0, the default evaluation metric used with the objective 'binary:logistic' was changed from 'error' to 'logloss'. Explicitly set eval_metric if you'd like to restore the old behavior.\n",
      "[10:58:46] WARNING: ../src/learner.cc:1095: Starting in XGBoost 1.3.0, the default evaluation metric used with the objective 'binary:logistic' was changed from 'error' to 'logloss'. Explicitly set eval_metric if you'd like to restore the old behavior.\n",
      "[10:58:46] WARNING: ../src/learner.cc:1095: Starting in XGBoost 1.3.0, the default evaluation metric used with the objective 'binary:logistic' was changed from 'error' to 'logloss'. Explicitly set eval_metric if you'd like to restore the old behavior.\n",
      "[10:58:46] WARNING: ../src/learner.cc:1095: Starting in XGBoost 1.3.0, the default evaluation metric used with the objective 'binary:logistic' was changed from 'error' to 'logloss'. Explicitly set eval_metric if you'd like to restore the old behavior.\n"
     ]
    },
    {
     "name": "stderr",
     "output_type": "stream",
     "text": [
      "/home/shikha/snap/jupyter/common/lib/python3.7/site-packages/xgboost/sklearn.py:1146: UserWarning: The use of label encoder in XGBClassifier is deprecated and will be removed in a future release. To remove this warning, do the following: 1) Pass option use_label_encoder=False when constructing XGBClassifier object; and 2) Encode your labels (y) as integers starting with 0, i.e. 0, 1, 2, ..., [num_class - 1].\n",
      "  warnings.warn(label_encoder_deprecation_msg, UserWarning)\n",
      "/home/shikha/snap/jupyter/common/lib/python3.7/site-packages/xgboost/sklearn.py:1146: UserWarning: The use of label encoder in XGBClassifier is deprecated and will be removed in a future release. To remove this warning, do the following: 1) Pass option use_label_encoder=False when constructing XGBClassifier object; and 2) Encode your labels (y) as integers starting with 0, i.e. 0, 1, 2, ..., [num_class - 1].\n",
      "  warnings.warn(label_encoder_deprecation_msg, UserWarning)\n",
      "/home/shikha/snap/jupyter/common/lib/python3.7/site-packages/xgboost/sklearn.py:1146: UserWarning: The use of label encoder in XGBClassifier is deprecated and will be removed in a future release. To remove this warning, do the following: 1) Pass option use_label_encoder=False when constructing XGBClassifier object; and 2) Encode your labels (y) as integers starting with 0, i.e. 0, 1, 2, ..., [num_class - 1].\n",
      "  warnings.warn(label_encoder_deprecation_msg, UserWarning)\n",
      "/home/shikha/snap/jupyter/common/lib/python3.7/site-packages/xgboost/sklearn.py:1146: UserWarning: The use of label encoder in XGBClassifier is deprecated and will be removed in a future release. To remove this warning, do the following: 1) Pass option use_label_encoder=False when constructing XGBClassifier object; and 2) Encode your labels (y) as integers starting with 0, i.e. 0, 1, 2, ..., [num_class - 1].\n",
      "  warnings.warn(label_encoder_deprecation_msg, UserWarning)\n",
      "/home/shikha/snap/jupyter/common/lib/python3.7/site-packages/xgboost/sklearn.py:1146: UserWarning: The use of label encoder in XGBClassifier is deprecated and will be removed in a future release. To remove this warning, do the following: 1) Pass option use_label_encoder=False when constructing XGBClassifier object; and 2) Encode your labels (y) as integers starting with 0, i.e. 0, 1, 2, ..., [num_class - 1].\n",
      "  warnings.warn(label_encoder_deprecation_msg, UserWarning)\n",
      "/home/shikha/snap/jupyter/common/lib/python3.7/site-packages/xgboost/sklearn.py:1146: UserWarning: The use of label encoder in XGBClassifier is deprecated and will be removed in a future release. To remove this warning, do the following: 1) Pass option use_label_encoder=False when constructing XGBClassifier object; and 2) Encode your labels (y) as integers starting with 0, i.e. 0, 1, 2, ..., [num_class - 1].\n",
      "  warnings.warn(label_encoder_deprecation_msg, UserWarning)\n"
     ]
    },
    {
     "name": "stdout",
     "output_type": "stream",
     "text": [
      "[10:58:46] WARNING: ../src/learner.cc:1095: Starting in XGBoost 1.3.0, the default evaluation metric used with the objective 'binary:logistic' was changed from 'error' to 'logloss'. Explicitly set eval_metric if you'd like to restore the old behavior.\n",
      "[10:58:46] WARNING: ../src/learner.cc:1095: Starting in XGBoost 1.3.0, the default evaluation metric used with the objective 'binary:logistic' was changed from 'error' to 'logloss'. Explicitly set eval_metric if you'd like to restore the old behavior.\n",
      "[10:58:46] WARNING: ../src/learner.cc:1095: Starting in XGBoost 1.3.0, the default evaluation metric used with the objective 'binary:logistic' was changed from 'error' to 'logloss'. Explicitly set eval_metric if you'd like to restore the old behavior.\n",
      "[10:58:46] WARNING: ../src/learner.cc:1095: Starting in XGBoost 1.3.0, the default evaluation metric used with the objective 'binary:logistic' was changed from 'error' to 'logloss'. Explicitly set eval_metric if you'd like to restore the old behavior.\n",
      "[10:58:46] WARNING: ../src/learner.cc:1095: Starting in XGBoost 1.3.0, the default evaluation metric used with the objective 'binary:logistic' was changed from 'error' to 'logloss'. Explicitly set eval_metric if you'd like to restore the old behavior.\n",
      "[10:58:46] WARNING: ../src/learner.cc:1095: Starting in XGBoost 1.3.0, the default evaluation metric used with the objective 'binary:logistic' was changed from 'error' to 'logloss'. Explicitly set eval_metric if you'd like to restore the old behavior.\n"
     ]
    },
    {
     "name": "stderr",
     "output_type": "stream",
     "text": [
      "/home/shikha/snap/jupyter/common/lib/python3.7/site-packages/xgboost/sklearn.py:1146: UserWarning: The use of label encoder in XGBClassifier is deprecated and will be removed in a future release. To remove this warning, do the following: 1) Pass option use_label_encoder=False when constructing XGBClassifier object; and 2) Encode your labels (y) as integers starting with 0, i.e. 0, 1, 2, ..., [num_class - 1].\n",
      "  warnings.warn(label_encoder_deprecation_msg, UserWarning)\n",
      "/home/shikha/snap/jupyter/common/lib/python3.7/site-packages/xgboost/sklearn.py:1146: UserWarning: The use of label encoder in XGBClassifier is deprecated and will be removed in a future release. To remove this warning, do the following: 1) Pass option use_label_encoder=False when constructing XGBClassifier object; and 2) Encode your labels (y) as integers starting with 0, i.e. 0, 1, 2, ..., [num_class - 1].\n",
      "  warnings.warn(label_encoder_deprecation_msg, UserWarning)\n",
      "/home/shikha/snap/jupyter/common/lib/python3.7/site-packages/xgboost/sklearn.py:1146: UserWarning: The use of label encoder in XGBClassifier is deprecated and will be removed in a future release. To remove this warning, do the following: 1) Pass option use_label_encoder=False when constructing XGBClassifier object; and 2) Encode your labels (y) as integers starting with 0, i.e. 0, 1, 2, ..., [num_class - 1].\n",
      "  warnings.warn(label_encoder_deprecation_msg, UserWarning)\n",
      "/home/shikha/snap/jupyter/common/lib/python3.7/site-packages/xgboost/sklearn.py:1146: UserWarning: The use of label encoder in XGBClassifier is deprecated and will be removed in a future release. To remove this warning, do the following: 1) Pass option use_label_encoder=False when constructing XGBClassifier object; and 2) Encode your labels (y) as integers starting with 0, i.e. 0, 1, 2, ..., [num_class - 1].\n",
      "  warnings.warn(label_encoder_deprecation_msg, UserWarning)\n",
      "/home/shikha/snap/jupyter/common/lib/python3.7/site-packages/xgboost/sklearn.py:1146: UserWarning: The use of label encoder in XGBClassifier is deprecated and will be removed in a future release. To remove this warning, do the following: 1) Pass option use_label_encoder=False when constructing XGBClassifier object; and 2) Encode your labels (y) as integers starting with 0, i.e. 0, 1, 2, ..., [num_class - 1].\n",
      "  warnings.warn(label_encoder_deprecation_msg, UserWarning)\n",
      "/home/shikha/snap/jupyter/common/lib/python3.7/site-packages/xgboost/sklearn.py:1146: UserWarning: The use of label encoder in XGBClassifier is deprecated and will be removed in a future release. To remove this warning, do the following: 1) Pass option use_label_encoder=False when constructing XGBClassifier object; and 2) Encode your labels (y) as integers starting with 0, i.e. 0, 1, 2, ..., [num_class - 1].\n",
      "  warnings.warn(label_encoder_deprecation_msg, UserWarning)\n"
     ]
    },
    {
     "name": "stdout",
     "output_type": "stream",
     "text": [
      "[10:58:46] WARNING: ../src/learner.cc:1095: Starting in XGBoost 1.3.0, the default evaluation metric used with the objective 'binary:logistic' was changed from 'error' to 'logloss'. Explicitly set eval_metric if you'd like to restore the old behavior.\n",
      "Average training statistics over 100 runs of the XGBoost model - \n",
      "Accuracy Score =  0.9936641221374048\n",
      "Precision Score =  0.9835178343758062\n",
      "Recall Score =  0.9699702559652245\n",
      "F1 Score =  0.9762389318623373\n",
      "\n",
      "Average testing statistics over 100 runs of the XGBoost model - \n",
      "Accuracy Score =  0.932272727272727\n",
      "Precision Score =  0.7984404761904758\n",
      "Recall Score =  0.7057142857142851\n",
      "F1 Score =  0.7222029807138161\n"
     ]
    },
    {
     "data": {
      "image/png": "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\n",
      "text/plain": [
       "<Figure size 432x288 with 2 Axes>"
>>>>>>> 9660aa48c7fbbe2449a0ee763ca943f2f14c7caf
      ]
     },
     "metadata": {
      "needs_background": "light"
     },
     "output_type": "display_data"
    }
   ],
   "source": [
    "X = data[['Age Above 60?','Gender','Temp Groups','Respiratory rate(breaths per minute)','Symptoms Present?','Co-morbidity?','Cough','Breathlessness','Hypertension','C-REACTIVE PROTEINS','UREA']]\n",
    "Y = data['Outcome']\n",
    "\n",
    "ttmodel(X, Y,model, 100)"
   ]
  },
  {
   "cell_type": "code",
   "execution_count": 20,
   "metadata": {
    "colab": {
     "base_uri": "https://localhost:8080/",
     "height": 350
    },
    "id": "q0L4AW2M1dW0",
    "outputId": "adb525bc-3654-4403-d206-65f6eb3972cd"
   },
   "outputs": [
    {
<<<<<<< HEAD
      "cell_type": "code",
      "metadata": {
        "colab": {
          "base_uri": "https://localhost:8080/"
        },
        "id": "cyaZA0SWDtoA",
        "outputId": "ccbad91a-5f72-48e4-c915-ee28846bb758"
      },
      "source": [
        "cvmodel(X,Y,model,7)"
      ],
      "execution_count": 11,
      "outputs": [
        {
          "output_type": "stream",
          "text": [
            "fit_time = [0.038924217224121094, 0.04312004361833845, 0.04720473289489746]\n",
            "\n",
            "score_time = [0.004523277282714844, 0.00513042722429548, 0.006993770599365234]\n",
            "\n",
            "test_f1 = [0.5714285714285715, 0.7714285714285714, 1.0]\n",
            "\n",
            "train_f1 = [0.9, 0.9208791208791209, 0.9500000000000001]\n",
            "\n",
            "test_roc_auc = [0.803030303030303, 0.9486703772418058, 1.0]\n",
            "\n",
            "train_roc_auc = [0.9903846153846155, 0.9931107338582422, 1.0]\n",
            "\n"
          ],
          "name": "stdout"
        }
=======
     "ename": "ValueError",
     "evalue": "Feature shape mismatch, expected: 11, got 131",
     "output_type": "error",
     "traceback": [
      "\u001b[0;31m---------------------------------------------------------------------------\u001b[0m",
      "\u001b[0;31mValueError\u001b[0m                                Traceback (most recent call last)",
      "\u001b[0;32m<ipython-input-20-d86888490a1a>\u001b[0m in \u001b[0;36m<module>\u001b[0;34m\u001b[0m\n\u001b[0;32m----> 1\u001b[0;31m \u001b[0mmodel_perf\u001b[0m\u001b[0;34m(\u001b[0m\u001b[0mXtrain\u001b[0m\u001b[0;34m,\u001b[0m \u001b[0mytrain\u001b[0m\u001b[0;34m,\u001b[0m \u001b[0mmodel\u001b[0m\u001b[0;34m)\u001b[0m\u001b[0;34m\u001b[0m\u001b[0;34m\u001b[0m\u001b[0m\n\u001b[0m",
      "\u001b[0;32m<ipython-input-12-71bb156f25f8>\u001b[0m in \u001b[0;36mmodel_perf\u001b[0;34m(x, y, model)\u001b[0m\n\u001b[1;32m      1\u001b[0m \u001b[0;32mdef\u001b[0m \u001b[0mmodel_perf\u001b[0m\u001b[0;34m(\u001b[0m\u001b[0mx\u001b[0m\u001b[0;34m,\u001b[0m\u001b[0my\u001b[0m\u001b[0;34m,\u001b[0m\u001b[0mmodel\u001b[0m\u001b[0;34m)\u001b[0m\u001b[0;34m:\u001b[0m\u001b[0;34m\u001b[0m\u001b[0;34m\u001b[0m\u001b[0m\n\u001b[0;32m----> 2\u001b[0;31m     \u001b[0mcm\u001b[0m \u001b[0;34m=\u001b[0m \u001b[0mmetrics\u001b[0m\u001b[0;34m.\u001b[0m\u001b[0mconfusion_matrix\u001b[0m\u001b[0;34m(\u001b[0m\u001b[0my\u001b[0m\u001b[0;34m,\u001b[0m \u001b[0mmodel\u001b[0m\u001b[0;34m.\u001b[0m\u001b[0mpredict\u001b[0m\u001b[0;34m(\u001b[0m\u001b[0mx\u001b[0m\u001b[0;34m)\u001b[0m\u001b[0;34m)\u001b[0m\u001b[0;34m\u001b[0m\u001b[0;34m\u001b[0m\u001b[0m\n\u001b[0m\u001b[1;32m      3\u001b[0m     \u001b[0mplt\u001b[0m\u001b[0;34m.\u001b[0m\u001b[0mfigure\u001b[0m\u001b[0;34m\u001b[0m\u001b[0;34m\u001b[0m\u001b[0m\n\u001b[1;32m      4\u001b[0m     \u001b[0msns\u001b[0m\u001b[0;34m.\u001b[0m\u001b[0mheatmap\u001b[0m\u001b[0;34m(\u001b[0m\u001b[0mcm\u001b[0m\u001b[0;34m,\u001b[0m \u001b[0mannot\u001b[0m\u001b[0;34m=\u001b[0m\u001b[0;32mTrue\u001b[0m\u001b[0;34m,\u001b[0m \u001b[0mfmt\u001b[0m\u001b[0;34m=\u001b[0m\u001b[0;34m\".3f\"\u001b[0m\u001b[0;34m,\u001b[0m \u001b[0mlinewidths\u001b[0m\u001b[0;34m=\u001b[0m\u001b[0;36m.5\u001b[0m\u001b[0;34m,\u001b[0m \u001b[0msquare\u001b[0m \u001b[0;34m=\u001b[0m \u001b[0;32mTrue\u001b[0m\u001b[0;34m,\u001b[0m \u001b[0mcmap\u001b[0m \u001b[0;34m=\u001b[0m \u001b[0;34m'Blues_r'\u001b[0m\u001b[0;34m)\u001b[0m\u001b[0;34m;\u001b[0m\u001b[0;34m\u001b[0m\u001b[0;34m\u001b[0m\u001b[0m\n\u001b[1;32m      5\u001b[0m     \u001b[0mplt\u001b[0m\u001b[0;34m.\u001b[0m\u001b[0mylabel\u001b[0m\u001b[0;34m(\u001b[0m\u001b[0;34m'Actual label'\u001b[0m\u001b[0;34m)\u001b[0m\u001b[0;34m;\u001b[0m\u001b[0;34m\u001b[0m\u001b[0;34m\u001b[0m\u001b[0m\n",
      "\u001b[0;32m/home/shikha/snap/jupyter/common/lib/python3.7/site-packages/xgboost/sklearn.py\u001b[0m in \u001b[0;36mpredict\u001b[0;34m(self, X, output_margin, ntree_limit, validate_features, base_margin, iteration_range)\u001b[0m\n\u001b[1;32m   1213\u001b[0m             \u001b[0mvalidate_features\u001b[0m\u001b[0;34m=\u001b[0m\u001b[0mvalidate_features\u001b[0m\u001b[0;34m,\u001b[0m\u001b[0;34m\u001b[0m\u001b[0;34m\u001b[0m\u001b[0m\n\u001b[1;32m   1214\u001b[0m             \u001b[0mbase_margin\u001b[0m\u001b[0;34m=\u001b[0m\u001b[0mbase_margin\u001b[0m\u001b[0;34m,\u001b[0m\u001b[0;34m\u001b[0m\u001b[0;34m\u001b[0m\u001b[0m\n\u001b[0;32m-> 1215\u001b[0;31m             \u001b[0miteration_range\u001b[0m\u001b[0;34m=\u001b[0m\u001b[0miteration_range\u001b[0m\u001b[0;34m,\u001b[0m\u001b[0;34m\u001b[0m\u001b[0;34m\u001b[0m\u001b[0m\n\u001b[0m\u001b[1;32m   1216\u001b[0m         )\n\u001b[1;32m   1217\u001b[0m         \u001b[0;32mif\u001b[0m \u001b[0moutput_margin\u001b[0m\u001b[0;34m:\u001b[0m\u001b[0;34m\u001b[0m\u001b[0;34m\u001b[0m\u001b[0m\n",
      "\u001b[0;32m/home/shikha/snap/jupyter/common/lib/python3.7/site-packages/xgboost/sklearn.py\u001b[0m in \u001b[0;36mpredict\u001b[0;34m(self, X, output_margin, ntree_limit, validate_features, base_margin, iteration_range)\u001b[0m\n\u001b[1;32m    824\u001b[0m                     \u001b[0mmissing\u001b[0m\u001b[0;34m=\u001b[0m\u001b[0mself\u001b[0m\u001b[0;34m.\u001b[0m\u001b[0mmissing\u001b[0m\u001b[0;34m,\u001b[0m\u001b[0;34m\u001b[0m\u001b[0;34m\u001b[0m\u001b[0m\n\u001b[1;32m    825\u001b[0m                     \u001b[0mbase_margin\u001b[0m\u001b[0;34m=\u001b[0m\u001b[0mbase_margin\u001b[0m\u001b[0;34m,\u001b[0m\u001b[0;34m\u001b[0m\u001b[0;34m\u001b[0m\u001b[0m\n\u001b[0;32m--> 826\u001b[0;31m                     \u001b[0mvalidate_features\u001b[0m\u001b[0;34m=\u001b[0m\u001b[0mvalidate_features\u001b[0m\u001b[0;34m,\u001b[0m\u001b[0;34m\u001b[0m\u001b[0;34m\u001b[0m\u001b[0m\n\u001b[0m\u001b[1;32m    827\u001b[0m                 )\n\u001b[1;32m    828\u001b[0m                 \u001b[0;32mif\u001b[0m \u001b[0m_is_cupy_array\u001b[0m\u001b[0;34m(\u001b[0m\u001b[0mpredts\u001b[0m\u001b[0;34m)\u001b[0m\u001b[0;34m:\u001b[0m\u001b[0;34m\u001b[0m\u001b[0;34m\u001b[0m\u001b[0m\n",
      "\u001b[0;32m/home/shikha/snap/jupyter/common/lib/python3.7/site-packages/xgboost/core.py\u001b[0m in \u001b[0;36minplace_predict\u001b[0;34m(self, data, iteration_range, predict_type, missing, validate_features, base_margin, strict_shape)\u001b[0m\n\u001b[1;32m   1840\u001b[0m             \u001b[0;32mif\u001b[0m \u001b[0mlen\u001b[0m\u001b[0;34m(\u001b[0m\u001b[0mdata\u001b[0m\u001b[0;34m.\u001b[0m\u001b[0mshape\u001b[0m\u001b[0;34m)\u001b[0m \u001b[0;34m!=\u001b[0m \u001b[0;36m1\u001b[0m \u001b[0;32mand\u001b[0m \u001b[0mself\u001b[0m\u001b[0;34m.\u001b[0m\u001b[0mnum_features\u001b[0m\u001b[0;34m(\u001b[0m\u001b[0;34m)\u001b[0m \u001b[0;34m!=\u001b[0m \u001b[0mdata\u001b[0m\u001b[0;34m.\u001b[0m\u001b[0mshape\u001b[0m\u001b[0;34m[\u001b[0m\u001b[0;36m1\u001b[0m\u001b[0;34m]\u001b[0m\u001b[0;34m:\u001b[0m\u001b[0;34m\u001b[0m\u001b[0;34m\u001b[0m\u001b[0m\n\u001b[1;32m   1841\u001b[0m                 raise ValueError(\n\u001b[0;32m-> 1842\u001b[0;31m                     \u001b[0;34mf\"Feature shape mismatch, expected: {self.num_features()}, \"\u001b[0m\u001b[0;34m\u001b[0m\u001b[0;34m\u001b[0m\u001b[0m\n\u001b[0m\u001b[1;32m   1843\u001b[0m                     \u001b[0;34mf\"got {data.shape[0]}\"\u001b[0m\u001b[0;34m\u001b[0m\u001b[0;34m\u001b[0m\u001b[0m\n\u001b[1;32m   1844\u001b[0m                 )\n",
      "\u001b[0;31mValueError\u001b[0m: Feature shape mismatch, expected: 11, got 131"
     ]
    }
   ],
   "source": [
    "model_perf(Xtrain, ytrain, model)"
   ]
  },
  {
   "cell_type": "code",
   "execution_count": 35,
   "metadata": {
    "colab": {
     "base_uri": "https://localhost:8080/",
     "height": 350
    },
    "id": "kmYntnGB45zZ",
    "outputId": "5043aa1f-9a12-42fc-9dc9-d04ab9b805cd"
   },
   "outputs": [
    {
     "name": "stdout",
     "output_type": "stream",
     "text": [
      "Accuracy Score =  0.9545454545454546\n",
      "Precision Score =  0.75\n",
      "Recall Score =  0.75\n",
      "F1 Score =  0.75\n"
     ]
    },
    {
     "data": {
      "image/png": "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\n",
      "text/plain": [
       "<Figure size 432x288 with 2 Axes>"
>>>>>>> 9660aa48c7fbbe2449a0ee763ca943f2f14c7caf
      ]
     },
     "metadata": {
      "needs_background": "light",
      "tags": []
     },
     "output_type": "display_data"
    }
   ],
   "source": [
    "model_perf(Xtest, ytest, model)"
   ]
  }
 ],
 "metadata": {
  "colab": {
   "collapsed_sections": [],
   "name": "XGBoost",
   "provenance": []
  },
  "kernelspec": {
   "display_name": "Python 3",
   "language": "python",
   "name": "python3"
  },
  "language_info": {
   "codemirror_mode": {
    "name": "ipython",
    "version": 3
   },
   "file_extension": ".py",
   "mimetype": "text/x-python",
   "name": "python",
   "nbconvert_exporter": "python",
   "pygments_lexer": "ipython3",
   "version": "3.7.3"
  }
 },
 "nbformat": 4,
 "nbformat_minor": 1
}
