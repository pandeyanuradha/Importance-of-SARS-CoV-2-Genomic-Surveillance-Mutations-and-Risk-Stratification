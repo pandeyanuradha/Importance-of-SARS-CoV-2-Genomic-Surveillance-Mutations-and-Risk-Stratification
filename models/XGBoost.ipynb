{
  "nbformat": 4,
  "nbformat_minor": 0,
  "metadata": {
    "colab": {
      "name": "XGBoost",
      "provenance": [],
      "collapsed_sections": []
    },
    "kernelspec": {
      "name": "python3",
      "display_name": "Python 3"
    },
    "language_info": {
      "name": "python"
    }
  },
  "cells": [
    {
      "cell_type": "code",
      "metadata": {
        "id": "NH_ELRou1d23"
      },
      "source": [
        "import pandas as pd\n",
        "import numpy as np\n",
        "\n",
        "import matplotlib.pyplot as plt\n",
        "import seaborn as sns\n",
        "\n",
        "from xgboost import XGBClassifier\n",
        "from sklearn.model_selection import train_test_split\n",
        "from sklearn import metrics\n",
        "import sklearn.metrics"
      ],
      "execution_count": 6,
      "outputs": []
    },
    {
      "cell_type": "code",
      "metadata": {
        "id": "_cOao5sK1jig",
        "colab": {
          "base_uri": "https://localhost:8080/",
          "height": 442
        },
        "outputId": "e635faad-a190-4ebb-cb19-31afb55178bf"
      },
      "source": [
        "data = pd.read_csv('clean_df.csv')\n",
        "data.head()"
      ],
      "execution_count": 9,
      "outputs": [
        {
          "output_type": "execute_result",
          "data": {
            "text/html": [
              "<div>\n",
              "<style scoped>\n",
              "    .dataframe tbody tr th:only-of-type {\n",
              "        vertical-align: middle;\n",
              "    }\n",
              "\n",
              "    .dataframe tbody tr th {\n",
              "        vertical-align: top;\n",
              "    }\n",
              "\n",
              "    .dataframe thead th {\n",
              "        text-align: right;\n",
              "    }\n",
              "</style>\n",
              "<table border=\"1\" class=\"dataframe\">\n",
              "  <thead>\n",
              "    <tr style=\"text-align: right;\">\n",
              "      <th></th>\n",
              "      <th>Unnamed: 0</th>\n",
              "      <th>Sample No.</th>\n",
              "      <th>Patient ID</th>\n",
              "      <th>Study ID</th>\n",
              "      <th>Age</th>\n",
              "      <th>Gender</th>\n",
              "      <th>BMI</th>\n",
              "      <th>Symptoms Presented</th>\n",
              "      <th>Symptoms Present?</th>\n",
              "      <th>Fever</th>\n",
              "      <th>Cough</th>\n",
              "      <th>Breathlessness</th>\n",
              "      <th>Travel History</th>\n",
              "      <th>Temp</th>\n",
              "      <th>SPO2</th>\n",
              "      <th>METHYLPREDNISOLONE</th>\n",
              "      <th>Low molecular weight heparin</th>\n",
              "      <th>Hydroxychloroquine</th>\n",
              "      <th>FABIFLU</th>\n",
              "      <th>REMDESIVIR</th>\n",
              "      <th>IVERMECTIN</th>\n",
              "      <th>ANTIBIOTICS</th>\n",
              "      <th>VITAMINs and zinc</th>\n",
              "      <th>Medicine Administered</th>\n",
              "      <th>Contact to NCOVID Patient</th>\n",
              "      <th>Co-morbid Condition</th>\n",
              "      <th>Co-morbidity?</th>\n",
              "      <th>Diabetes</th>\n",
              "      <th>Hypertension</th>\n",
              "      <th>Heart Condition</th>\n",
              "      <th>Hospital stay in days</th>\n",
              "      <th>Respiratory Support</th>\n",
              "      <th>Respiratory rate(breaths per minute)</th>\n",
              "      <th>Outcome</th>\n",
              "      <th>O2 supplementation required</th>\n",
              "      <th>Ventilatory support required</th>\n",
              "      <th>qSOFA SCORE</th>\n",
              "      <th>RESPIRATORY FINDINGS</th>\n",
              "      <th>HEMOGLOBIN</th>\n",
              "      <th>TLC COUNT</th>\n",
              "      <th>PLATELET COUNT</th>\n",
              "      <th>RANDOM BLOOD SUGAR</th>\n",
              "      <th>UREA</th>\n",
              "      <th>CREATININE</th>\n",
              "      <th>SODIUM</th>\n",
              "      <th>POTASSIUM</th>\n",
              "      <th>CHLORIDE</th>\n",
              "      <th>TOTAL BILIRUBIN</th>\n",
              "      <th>DIRECT BILIRUBIN</th>\n",
              "      <th>SGOT</th>\n",
              "      <th>SGPT</th>\n",
              "      <th>TOTAL PROTEINS</th>\n",
              "      <th>ALBUMIN</th>\n",
              "      <th>ALKALINE PHOSPHATASE</th>\n",
              "      <th>C-REACTIVE PROTEINS</th>\n",
              "      <th>ECG</th>\n",
              "      <th>CXR</th>\n",
              "      <th>CORADS SCORE ON HRCT</th>\n",
              "      <th>PATIENT CATEGORY</th>\n",
              "      <th>PLASMA THERAPY</th>\n",
              "      <th>Age Above 60?</th>\n",
              "      <th>Temp Groups</th>\n",
              "      <th>CORADS 6</th>\n",
              "    </tr>\n",
              "  </thead>\n",
              "  <tbody>\n",
              "    <tr>\n",
              "      <th>0</th>\n",
              "      <td>0</td>\n",
              "      <td>1013</td>\n",
              "      <td>IGIB1040201013</td>\n",
              "      <td>IGIB1040201013-1</td>\n",
              "      <td>0.551724</td>\n",
              "      <td>1</td>\n",
              "      <td>0.436782</td>\n",
              "      <td>fever, cough,breathlessness</td>\n",
              "      <td>1</td>\n",
              "      <td>1</td>\n",
              "      <td>1</td>\n",
              "      <td>1</td>\n",
              "      <td>0</td>\n",
              "      <td>0.2</td>\n",
              "      <td>0.833333</td>\n",
              "      <td>1</td>\n",
              "      <td>1</td>\n",
              "      <td>1</td>\n",
              "      <td>1</td>\n",
              "      <td>1</td>\n",
              "      <td>1</td>\n",
              "      <td>1</td>\n",
              "      <td>1</td>\n",
              "      <td>METHYLPREDNISOLONE, Low molecular weight hepar...</td>\n",
              "      <td>1</td>\n",
              "      <td>no</td>\n",
              "      <td>0</td>\n",
              "      <td>0</td>\n",
              "      <td>0</td>\n",
              "      <td>0</td>\n",
              "      <td>18.0</td>\n",
              "      <td>1</td>\n",
              "      <td>0.3</td>\n",
              "      <td>0</td>\n",
              "      <td>1</td>\n",
              "      <td>0</td>\n",
              "      <td>0</td>\n",
              "      <td>Basal crepitations</td>\n",
              "      <td>0.854839</td>\n",
              "      <td>0.162996</td>\n",
              "      <td>0.030910</td>\n",
              "      <td>0.131285</td>\n",
              "      <td>0.209231</td>\n",
              "      <td>0.000172</td>\n",
              "      <td>0.542857</td>\n",
              "      <td>0.018793</td>\n",
              "      <td>0.862793</td>\n",
              "      <td>0.051282</td>\n",
              "      <td>0.047619</td>\n",
              "      <td>0.171097</td>\n",
              "      <td>0.355532</td>\n",
              "      <td>0.255556</td>\n",
              "      <td>0.300</td>\n",
              "      <td>0.127089</td>\n",
              "      <td>0.152271</td>\n",
              "      <td>sinus rhythm</td>\n",
              "      <td>normal</td>\n",
              "      <td>4.0</td>\n",
              "      <td>5a</td>\n",
              "      <td>No</td>\n",
              "      <td>0</td>\n",
              "      <td>0.2</td>\n",
              "      <td>0.0</td>\n",
              "    </tr>\n",
              "    <tr>\n",
              "      <th>1</th>\n",
              "      <td>1</td>\n",
              "      <td>1014</td>\n",
              "      <td>IGIB1040201014</td>\n",
              "      <td>IGIB1040201014-1</td>\n",
              "      <td>0.241379</td>\n",
              "      <td>0</td>\n",
              "      <td>0.804598</td>\n",
              "      <td>asymptomatic</td>\n",
              "      <td>0</td>\n",
              "      <td>0</td>\n",
              "      <td>0</td>\n",
              "      <td>0</td>\n",
              "      <td>0</td>\n",
              "      <td>0.5</td>\n",
              "      <td>0.666667</td>\n",
              "      <td>1</td>\n",
              "      <td>1</td>\n",
              "      <td>1</td>\n",
              "      <td>1</td>\n",
              "      <td>0</td>\n",
              "      <td>1</td>\n",
              "      <td>1</td>\n",
              "      <td>1</td>\n",
              "      <td>METHYLPREDNISOLONE, Low molecular weight hepar...</td>\n",
              "      <td>1</td>\n",
              "      <td>no</td>\n",
              "      <td>0</td>\n",
              "      <td>0</td>\n",
              "      <td>0</td>\n",
              "      <td>0</td>\n",
              "      <td>NaN</td>\n",
              "      <td>0</td>\n",
              "      <td>0.1</td>\n",
              "      <td>0</td>\n",
              "      <td>0</td>\n",
              "      <td>0</td>\n",
              "      <td>0</td>\n",
              "      <td>Basal crepitations</td>\n",
              "      <td>0.720430</td>\n",
              "      <td>0.072247</td>\n",
              "      <td>0.065827</td>\n",
              "      <td>0.061453</td>\n",
              "      <td>0.051077</td>\n",
              "      <td>0.000121</td>\n",
              "      <td>0.685714</td>\n",
              "      <td>0.011869</td>\n",
              "      <td>0.862793</td>\n",
              "      <td>0.000000</td>\n",
              "      <td>0.000000</td>\n",
              "      <td>0.046414</td>\n",
              "      <td>0.059076</td>\n",
              "      <td>0.333333</td>\n",
              "      <td>0.325</td>\n",
              "      <td>0.172501</td>\n",
              "      <td>0.009346</td>\n",
              "      <td>sinus rhythm</td>\n",
              "      <td>normal</td>\n",
              "      <td>0.0</td>\n",
              "      <td>5b</td>\n",
              "      <td>No</td>\n",
              "      <td>0</td>\n",
              "      <td>0.6</td>\n",
              "      <td>0.0</td>\n",
              "    </tr>\n",
              "    <tr>\n",
              "      <th>2</th>\n",
              "      <td>2</td>\n",
              "      <td>1015</td>\n",
              "      <td>IGIB1040201015</td>\n",
              "      <td>IGIB1040201015-1</td>\n",
              "      <td>0.264368</td>\n",
              "      <td>1</td>\n",
              "      <td>0.402299</td>\n",
              "      <td>asymptomatic</td>\n",
              "      <td>0</td>\n",
              "      <td>0</td>\n",
              "      <td>0</td>\n",
              "      <td>0</td>\n",
              "      <td>0</td>\n",
              "      <td>0.4</td>\n",
              "      <td>0.666667</td>\n",
              "      <td>1</td>\n",
              "      <td>1</td>\n",
              "      <td>1</td>\n",
              "      <td>1</td>\n",
              "      <td>0</td>\n",
              "      <td>1</td>\n",
              "      <td>1</td>\n",
              "      <td>1</td>\n",
              "      <td>METHYLPREDNISOLONE, Low molecular weight hepar...</td>\n",
              "      <td>1</td>\n",
              "      <td>no</td>\n",
              "      <td>0</td>\n",
              "      <td>0</td>\n",
              "      <td>0</td>\n",
              "      <td>0</td>\n",
              "      <td>11.0</td>\n",
              "      <td>0</td>\n",
              "      <td>0.1</td>\n",
              "      <td>0</td>\n",
              "      <td>0</td>\n",
              "      <td>0</td>\n",
              "      <td>0</td>\n",
              "      <td>Basal crepitations</td>\n",
              "      <td>0.854839</td>\n",
              "      <td>0.096035</td>\n",
              "      <td>0.090441</td>\n",
              "      <td>0.078212</td>\n",
              "      <td>0.029538</td>\n",
              "      <td>1.000000</td>\n",
              "      <td>1.000000</td>\n",
              "      <td>0.150346</td>\n",
              "      <td>0.000000</td>\n",
              "      <td>0.128205</td>\n",
              "      <td>0.095238</td>\n",
              "      <td>0.040295</td>\n",
              "      <td>0.048335</td>\n",
              "      <td>0.377778</td>\n",
              "      <td>0.400</td>\n",
              "      <td>0.259224</td>\n",
              "      <td>0.026437</td>\n",
              "      <td>sinus rhythm</td>\n",
              "      <td>normal</td>\n",
              "      <td>0.0</td>\n",
              "      <td>5b</td>\n",
              "      <td>No</td>\n",
              "      <td>0</td>\n",
              "      <td>0.4</td>\n",
              "      <td>0.0</td>\n",
              "    </tr>\n",
              "    <tr>\n",
              "      <th>3</th>\n",
              "      <td>3</td>\n",
              "      <td>1016</td>\n",
              "      <td>IGIB1040201016</td>\n",
              "      <td>IGIB1040201016-1</td>\n",
              "      <td>0.781609</td>\n",
              "      <td>1</td>\n",
              "      <td>0.321839</td>\n",
              "      <td>fever, cough,breathlessness</td>\n",
              "      <td>1</td>\n",
              "      <td>1</td>\n",
              "      <td>1</td>\n",
              "      <td>1</td>\n",
              "      <td>0</td>\n",
              "      <td>0.4</td>\n",
              "      <td>0.666667</td>\n",
              "      <td>1</td>\n",
              "      <td>1</td>\n",
              "      <td>1</td>\n",
              "      <td>1</td>\n",
              "      <td>1</td>\n",
              "      <td>1</td>\n",
              "      <td>1</td>\n",
              "      <td>1</td>\n",
              "      <td>METHYLPREDNISOLONE, Low molecular weight hepar...</td>\n",
              "      <td>1</td>\n",
              "      <td>no</td>\n",
              "      <td>0</td>\n",
              "      <td>0</td>\n",
              "      <td>0</td>\n",
              "      <td>0</td>\n",
              "      <td>14.0</td>\n",
              "      <td>1</td>\n",
              "      <td>0.6</td>\n",
              "      <td>1</td>\n",
              "      <td>1</td>\n",
              "      <td>1</td>\n",
              "      <td>1</td>\n",
              "      <td>Basal crepitations</td>\n",
              "      <td>0.709677</td>\n",
              "      <td>0.118943</td>\n",
              "      <td>0.092158</td>\n",
              "      <td>0.125698</td>\n",
              "      <td>0.142154</td>\n",
              "      <td>0.000103</td>\n",
              "      <td>0.457143</td>\n",
              "      <td>0.012859</td>\n",
              "      <td>0.830508</td>\n",
              "      <td>0.538462</td>\n",
              "      <td>0.523810</td>\n",
              "      <td>0.124051</td>\n",
              "      <td>0.236842</td>\n",
              "      <td>0.300000</td>\n",
              "      <td>0.275</td>\n",
              "      <td>0.366446</td>\n",
              "      <td>0.443161</td>\n",
              "      <td>sinus rhythm</td>\n",
              "      <td>normal</td>\n",
              "      <td>5.0</td>\n",
              "      <td>4</td>\n",
              "      <td>No</td>\n",
              "      <td>1</td>\n",
              "      <td>0.4</td>\n",
              "      <td>0.0</td>\n",
              "    </tr>\n",
              "    <tr>\n",
              "      <th>4</th>\n",
              "      <td>4</td>\n",
              "      <td>1060</td>\n",
              "      <td>IGIB1040201060</td>\n",
              "      <td>IGIB1040201060-1</td>\n",
              "      <td>0.505747</td>\n",
              "      <td>1</td>\n",
              "      <td>1.000000</td>\n",
              "      <td>fever,cough</td>\n",
              "      <td>1</td>\n",
              "      <td>1</td>\n",
              "      <td>1</td>\n",
              "      <td>0</td>\n",
              "      <td>0</td>\n",
              "      <td>0.8</td>\n",
              "      <td>0.666667</td>\n",
              "      <td>1</td>\n",
              "      <td>1</td>\n",
              "      <td>1</td>\n",
              "      <td>1</td>\n",
              "      <td>1</td>\n",
              "      <td>1</td>\n",
              "      <td>1</td>\n",
              "      <td>1</td>\n",
              "      <td>METHYLPREDNISOLONE, Low molecular weight hepar...</td>\n",
              "      <td>1</td>\n",
              "      <td>Psychiatric disorder</td>\n",
              "      <td>1</td>\n",
              "      <td>0</td>\n",
              "      <td>0</td>\n",
              "      <td>0</td>\n",
              "      <td>1.0</td>\n",
              "      <td>0</td>\n",
              "      <td>0.3</td>\n",
              "      <td>0</td>\n",
              "      <td>0</td>\n",
              "      <td>0</td>\n",
              "      <td>0</td>\n",
              "      <td>no any</td>\n",
              "      <td>0.736559</td>\n",
              "      <td>0.308370</td>\n",
              "      <td>0.141958</td>\n",
              "      <td>0.050279</td>\n",
              "      <td>0.052308</td>\n",
              "      <td>0.000103</td>\n",
              "      <td>0.000000</td>\n",
              "      <td>0.008902</td>\n",
              "      <td>0.733656</td>\n",
              "      <td>1.000000</td>\n",
              "      <td>0.952381</td>\n",
              "      <td>0.093671</td>\n",
              "      <td>0.277658</td>\n",
              "      <td>0.255556</td>\n",
              "      <td>0.125</td>\n",
              "      <td>0.546200</td>\n",
              "      <td>0.430297</td>\n",
              "      <td>sinus rhythm</td>\n",
              "      <td>normal</td>\n",
              "      <td>5.0</td>\n",
              "      <td>4</td>\n",
              "      <td>No</td>\n",
              "      <td>0</td>\n",
              "      <td>0.8</td>\n",
              "      <td>0.0</td>\n",
              "    </tr>\n",
              "  </tbody>\n",
              "</table>\n",
              "</div>"
            ],
            "text/plain": [
              "   Unnamed: 0  Sample No.      Patient ID  ... Age Above 60?  Temp Groups  CORADS 6\n",
              "0           0        1013  IGIB1040201013  ...             0          0.2       0.0\n",
              "1           1        1014  IGIB1040201014  ...             0          0.6       0.0\n",
              "2           2        1015  IGIB1040201015  ...             0          0.4       0.0\n",
              "3           3        1016  IGIB1040201016  ...             1          0.4       0.0\n",
              "4           4        1060  IGIB1040201060  ...             0          0.8       0.0\n",
              "\n",
              "[5 rows x 63 columns]"
            ]
          },
          "metadata": {
            "tags": []
          },
          "execution_count": 9
        }
      ]
    },
    {
      "cell_type": "code",
      "metadata": {
        "id": "ijFogCLT2-Qx"
      },
      "source": [
        "data.drop(columns=['Unnamed: 0'], inplace = True)"
      ],
      "execution_count": 10,
      "outputs": []
    },
    {
      "cell_type": "markdown",
      "metadata": {
        "id": "ZPXP5yKR0V1A"
      },
      "source": [
        "## Model"
      ]
    },
    {
      "cell_type": "markdown",
      "metadata": {
        "id": "V5_-5EI2fwpC"
      },
      "source": [
        "#### Paramter finetuning :  https://www.analyticsvidhya.com/blog/2016/03/complete-guide-parameter-tuning-xgboost-with-codes-python/\n",
        "\n"
      ]
    },
    {
      "cell_type": "code",
      "metadata": {
        "id": "y5cneeF05yfw"
      },
      "source": [
        "model = XGBClassifier(max_depth = 5, min_child_weight = 1, gamma = 0, scale_pos_weight = 1)"
      ],
      "execution_count": 25,
      "outputs": []
    },
    {
      "cell_type": "code",
      "metadata": {
        "id": "6NsETcDK0GfG"
      },
      "source": [
        "def model_perf(x,y,model):\n",
        "    cm = metrics.confusion_matrix(y, model.predict(x))\n",
        "    plt.figure\n",
        "    sns.heatmap(cm, annot=True, fmt=\".3f\", linewidths=.5, square = True, cmap = 'Blues_r');\n",
        "    plt.ylabel('Actual label');\n",
        "    plt.xlabel('Predicted label');\n",
        "    plt.savefig('covidseverity.png')\n",
        "    accuracy = model.score(x,y)\n",
        "    precision,recall,f1,support = sklearn.metrics.precision_recall_fscore_support(y, model.predict(x),average='binary')\n",
        "    print(\"Accuracy Score = \",accuracy)\n",
        "    print(\"Precision Score = \",precision)    \n",
        "    print(\"Recall Score = \",recall)    \n",
        "    print(\"F1 Score = \",f1)"
      ],
      "execution_count": 26,
      "outputs": []
    },
    {
      "cell_type": "markdown",
      "metadata": {
        "id": "e9DcC1Xv1hgJ"
      },
      "source": [
        "## Initial factors"
      ]
    },
    {
      "cell_type": "code",
      "metadata": {
        "id": "8PS65uHd0GcO"
      },
      "source": [
        "X = data[['Age Above 60?','Gender','Temp Groups','Respiratory rate(breaths per minute)']]\n",
        "Y = data['Outcome']\n",
        "\n",
        "Xtrain, Xtest, ytrain, ytest = train_test_split(X, Y, test_size=0.25, random_state=0)\n",
        "\n",
        "model.fit(Xtrain, ytrain);"
      ],
      "execution_count": 27,
      "outputs": []
    },
    {
      "cell_type": "code",
      "metadata": {
        "colab": {
          "base_uri": "https://localhost:8080/",
          "height": 350
        },
        "id": "YaffuT4l1dd7",
        "outputId": "5b34e8a7-aa83-4ecf-80ae-8fd3b7f23bd8"
      },
      "source": [
        "model_perf(Xtrain, ytrain, model)"
      ],
      "execution_count": 28,
      "outputs": [
        {
          "output_type": "stream",
          "text": [
            "Accuracy Score =  0.9541984732824428\n",
            "Precision Score =  0.85\n",
            "Recall Score =  0.85\n",
            "F1 Score =  0.85\n"
          ],
          "name": "stdout"
        },
        {
          "output_type": "display_data",
          "data": {
            "image/png": "[encoded data removed]",
            "text/plain": [
              "<Figure size 432x288 with 2 Axes>"
            ]
          },
          "metadata": {
            "tags": [],
            "needs_background": "light"
          }
        }
      ]
    },
    {
      "cell_type": "code",
      "metadata": {
        "colab": {
          "base_uri": "https://localhost:8080/",
          "height": 350
        },
        "id": "AZu3H0731dbD",
        "outputId": "5614c0cc-276f-457d-84cf-60a51650399e"
      },
      "source": [
        "model_perf(Xtest, ytest, model)"
      ],
      "execution_count": 29,
      "outputs": [
        {
          "output_type": "stream",
          "text": [
            "Accuracy Score =  0.8863636363636364\n",
            "Precision Score =  0.4\n",
            "Recall Score =  0.5\n",
            "F1 Score =  0.4444444444444445\n"
          ],
          "name": "stdout"
        },
        {
          "output_type": "display_data",
          "data": {
            "image/png": "[encoded data removed]",
            "text/plain": [
              "<Figure size 432x288 with 2 Axes>"
            ]
          },
          "metadata": {
            "tags": [],
            "needs_background": "light"
          }
        }
      ]
    },
    {
      "cell_type": "markdown",
      "metadata": {
        "id": "kU1OqFyf5QDC"
      },
      "source": [
        "## Initial Factors + Symptoms and Comorbidities\n"
      ]
    },
    {
      "cell_type": "code",
      "metadata": {
        "id": "FAcsj5Mj5Pb0"
      },
      "source": [
        "X = data[['Age Above 60?','Gender','Temp Groups','Respiratory rate(breaths per minute)','Symptoms Present?','Co-morbidity?','Cough','Breathlessness','Hypertension']]\n",
        "Y = data['Outcome']\n",
        "\n",
        "Xtrain, Xtest, ytrain, ytest = train_test_split(X, Y, test_size=0.25, random_state=0)\n",
        "\n",
        "model.fit(Xtrain, ytrain);"
      ],
      "execution_count": 30,
      "outputs": []
    },
    {
      "cell_type": "code",
      "metadata": {
        "colab": {
          "base_uri": "https://localhost:8080/",
          "height": 350
        },
        "id": "UdrwlJZI5PY_",
        "outputId": "0c6cf3cf-9bd8-456a-fe3b-8d0626deb522"
      },
      "source": [
        "model_perf(Xtrain, ytrain, model)"
      ],
      "execution_count": 31,
      "outputs": [
        {
          "output_type": "stream",
          "text": [
            "Accuracy Score =  0.9770992366412213\n",
            "Precision Score =  0.9473684210526315\n",
            "Recall Score =  0.9\n",
            "F1 Score =  0.9230769230769231\n"
          ],
          "name": "stdout"
        },
        {
          "output_type": "display_data",
          "data": {
            "image/png": "[encoded data removed]",
            "text/plain": [
              "<Figure size 432x288 with 2 Axes>"
            ]
          },
          "metadata": {
            "tags": [],
            "needs_background": "light"
          }
        }
      ]
    },
    {
      "cell_type": "code",
      "metadata": {
        "colab": {
          "base_uri": "https://localhost:8080/",
          "height": 350
        },
        "id": "v_lxdAt35ibG",
        "outputId": "669a3047-150e-4941-af06-bb307fdde483"
      },
      "source": [
        "model_perf(Xtest, ytest, model)"
      ],
      "execution_count": 32,
      "outputs": [
        {
          "output_type": "stream",
          "text": [
            "Accuracy Score =  0.9090909090909091\n",
            "Precision Score =  0.5\n",
            "Recall Score =  0.5\n",
            "F1 Score =  0.5\n"
          ],
          "name": "stdout"
        },
        {
          "output_type": "display_data",
          "data": {
            "image/png": "[encoded data removed]",
            "text/plain": [
              "<Figure size 432x288 with 2 Axes>"
            ]
          },
          "metadata": {
            "tags": [],
            "needs_background": "light"
          }
        }
      ]
    },
    {
      "cell_type": "markdown",
      "metadata": {
        "id": "PWCsVaIi42Zu"
      },
      "source": [
        "## Initial Factors + Symptoms and Comorbidities + Blood"
      ]
    },
    {
      "cell_type": "code",
      "metadata": {
        "id": "1AJ6Jmtz1dZB"
      },
      "source": [
        "X = data[['Age Above 60?','Gender','Temp Groups','Respiratory rate(breaths per minute)','Symptoms Present?','Co-morbidity?','Cough','Breathlessness','Hypertension','C-REACTIVE PROTEINS','UREA']]\n",
        "Y = data['Outcome']\n",
        "\n",
        "Xtrain, Xtest, ytrain, ytest = train_test_split(X, Y, test_size=0.25, random_state=0)\n",
        "\n",
        "model.fit(Xtrain, ytrain);"
      ],
      "execution_count": 33,
      "outputs": []
    },
    {
      "cell_type": "code",
      "metadata": {
        "colab": {
          "base_uri": "https://localhost:8080/",
          "height": 350
        },
        "id": "q0L4AW2M1dW0",
        "outputId": "adb525bc-3654-4403-d206-65f6eb3972cd"
      },
      "source": [
        "model_perf(Xtrain, ytrain, model)"
      ],
      "execution_count": 34,
      "outputs": [
        {
          "output_type": "stream",
          "text": [
            "Accuracy Score =  0.9923664122137404\n",
            "Precision Score =  0.9523809523809523\n",
            "Recall Score =  1.0\n",
            "F1 Score =  0.975609756097561\n"
          ],
          "name": "stdout"
        },
        {
          "output_type": "display_data",
          "data": {
            "image/png": "[encoded data removed]",
            "text/plain": [
              "<Figure size 432x288 with 2 Axes>"
            ]
          },
          "metadata": {
            "tags": [],
            "needs_background": "light"
          }
        }
      ]
    },
    {
      "cell_type": "code",
      "metadata": {
        "colab": {
          "base_uri": "https://localhost:8080/",
          "height": 350
        },
        "id": "kmYntnGB45zZ",
        "outputId": "5043aa1f-9a12-42fc-9dc9-d04ab9b805cd"
      },
      "source": [
        "model_perf(Xtest, ytest, model)"
      ],
      "execution_count": 35,
      "outputs": [
        {
          "output_type": "stream",
          "text": [
            "Accuracy Score =  0.9545454545454546\n",
            "Precision Score =  0.75\n",
            "Recall Score =  0.75\n",
            "F1 Score =  0.75\n"
          ],
          "name": "stdout"
        },
        {
          "output_type": "display_data",
          "data": {
            "image/png": "[encoded data removed]",
            "text/plain": [
              "<Figure size 432x288 with 2 Axes>"
            ]
          },
          "metadata": {
            "tags": [],
            "needs_background": "light"
          }
        }
      ]
    }
  ]
}