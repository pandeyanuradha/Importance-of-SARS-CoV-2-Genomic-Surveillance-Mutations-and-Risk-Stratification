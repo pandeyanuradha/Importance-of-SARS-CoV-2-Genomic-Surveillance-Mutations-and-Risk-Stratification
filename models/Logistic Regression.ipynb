{
 "cells": [
  {
   "cell_type": "markdown",
   "metadata": {},
   "source": [
    "# Logistic Regression Model for Mortality Prediction"
   ]
  },
  {
   "cell_type": "code",
   "execution_count": 1,
   "metadata": {},
   "outputs": [
    {
     "name": "stderr",
     "output_type": "stream",
     "text": [
      "/home/shikha/snap/jupyter/common/lib/python3.7/site-packages/joblib/_multiprocessing_helpers.py:45: UserWarning: [Errno 13] Permission denied.  joblib will operate in serial mode\n",
      "  warnings.warn('%s.  joblib will operate in serial mode' % (e,))\n"
     ]
    }
   ],
   "source": [
    "import pandas as pd\n",
    "import numpy as np\n",
    "import scipy \n",
    "import matplotlib.pyplot as plt\n",
    "import seaborn as sns\n",
    "import sklearn.metrics\n",
    "%matplotlib inline "
   ]
  },
  {
   "cell_type": "code",
   "execution_count": 1,
   "metadata": {
    "scrolled": true
   },
   "outputs": [
    {
     "ename": "NameError",
     "evalue": "name 'pd' is not defined",
     "output_type": "error",
     "traceback": [
      "\u001b[0;31m---------------------------------------------------------------------------\u001b[0m",
      "\u001b[0;31mNameError\u001b[0m                                 Traceback (most recent call last)",
      "\u001b[0;32m<ipython-input-1-c58de02651cc>\u001b[0m in \u001b[0;36m<module>\u001b[0;34m\u001b[0m\n\u001b[1;32m      1\u001b[0m \u001b[0mcsv\u001b[0m \u001b[0;34m=\u001b[0m \u001b[0;34m'/home/shikha/Documents/PS1/COVID-19/notebooks/clean_df.csv'\u001b[0m\u001b[0;34m\u001b[0m\u001b[0;34m\u001b[0m\u001b[0m\n\u001b[0;32m----> 2\u001b[0;31m \u001b[0mdf\u001b[0m \u001b[0;34m=\u001b[0m \u001b[0mpd\u001b[0m\u001b[0;34m.\u001b[0m\u001b[0mread_csv\u001b[0m\u001b[0;34m(\u001b[0m\u001b[0mcsv\u001b[0m\u001b[0;34m)\u001b[0m\u001b[0;34m\u001b[0m\u001b[0;34m\u001b[0m\u001b[0m\n\u001b[0m\u001b[1;32m      3\u001b[0m \u001b[0mdf\u001b[0m\u001b[0;34m.\u001b[0m\u001b[0mdrop\u001b[0m\u001b[0;34m(\u001b[0m\u001b[0mcolumns\u001b[0m\u001b[0;34m=\u001b[0m\u001b[0;34m[\u001b[0m\u001b[0;34m'Unnamed: 0'\u001b[0m\u001b[0;34m]\u001b[0m\u001b[0;34m,\u001b[0m\u001b[0minplace\u001b[0m\u001b[0;34m=\u001b[0m\u001b[0;32mTrue\u001b[0m\u001b[0;34m)\u001b[0m\u001b[0;34m\u001b[0m\u001b[0;34m\u001b[0m\u001b[0m\n\u001b[1;32m      4\u001b[0m \u001b[0mdf\u001b[0m\u001b[0;34m\u001b[0m\u001b[0;34m\u001b[0m\u001b[0m\n",
      "\u001b[0;31mNameError\u001b[0m: name 'pd' is not defined"
     ]
    }
   ],
   "source": [
    "csv = '/home/shikha/Documents/PS1/COVID-19/notebooks/clean_df.csv'\n",
    "df = pd.read_csv(csv)\n",
    "df.drop(columns=['Unnamed: 0'],inplace=True)\n",
    "df"
   ]
  },
  {
   "cell_type": "markdown",
   "metadata": {},
   "source": [
    "## Model Performance"
   ]
  },
  {
   "cell_type": "markdown",
   "metadata": {},
   "source": [
    "#### Performance Metrics\n",
    "The precision is the ratio tp / (tp + fp) where tp is the number of true positives and fp the number of false positives. The precision is intuitively the ability of the classifier not to label as positive a sample that is negative.\n",
    "\n",
    "The recall is the ratio tp / (tp + fn) where tp is the number of true positives and fn the number of false negatives. The recall is intuitively the ability of the classifier to find all the positive samples.\n",
    "\n",
    "The F-beta score can be interpreted as a weighted harmonic mean of the precision and recall, where an F-beta score reaches its best value at 1 and worst score at 0.\n",
    "\n",
    "Note that in binary classification, recall of the positive class is also known as “sensitivity”; recall of the negative class is “specificity”."
   ]
  },
  {
   "cell_type": "code",
   "execution_count": 3,
   "metadata": {},
   "outputs": [],
   "source": [
    "def visualize(x,y, model):\n",
    "    \n",
    "        cm = metrics.confusion_matrix(y, model.predict(x))\n",
    "        plt.figure\n",
    "        sns.heatmap(cm, annot=True, fmt=\".3f\", linewidths=.5, square = True, cmap = 'Blues_r');\n",
    "        plt.ylabel('Actual label');\n",
    "        plt.xlabel('Predicted label');\n",
    "        plt.savefig('covidseverity.png')\n",
    "        \n",
    "        \n",
    "def ttmodel(X, Y, lm, n):\n",
    "    \n",
    "        train_accuracy = [0]*n\n",
    "        train_precision = [0]*n\n",
    "        train_recall = [0]*n\n",
    "        train_f1 = [0]*n\n",
    "\n",
    "        test_accuracy = [0]*n\n",
    "        test_precision = [0]*n\n",
    "        test_recall = [0]*n\n",
    "        test_f1 = [0]*n\n",
    "        \n",
    "        for i in range(n):\n",
    "            x_train, x_test, y_train, y_test = train_test_split(X, Y, test_size = 0.25)\n",
    "\n",
    "            lm.fit(x_train,y_train)\n",
    "\n",
    "            train_accuracy[i] = lm.score(x_train,y_train)\n",
    "            train_precision[i], train_recall[i], train_f1[i], s = sklearn.metrics.precision_recall_fscore_support(y_train, lm.predict(x_train), average='binary')\n",
    "\n",
    "            test_accuracy[i] = lm.score(x_test,y_test)\n",
    "            test_precision[i], test_recall[i], test_f1[i], s = sklearn.metrics.precision_recall_fscore_support(y_test, lm.predict(x_test), average='binary')\n",
    "\n",
    "        print(\"Average training statistics over\",n,\"runs of the logistic regression model - \")\n",
    "        print(\"Accuracy Score = \", sum(train_accuracy)/n)\n",
    "        print(\"Precision Score = \", sum(train_precision)/n)    \n",
    "        print(\"Recall Score = \", sum(train_recall)/n)   \n",
    "        print(\"F1 Score = \", sum(train_f1)/n) \n",
    "\n",
    "        print()\n",
    "        \n",
    "        print(\"Average testing statistics over\",n,\"runs of the logistic regression model - \")\n",
    "        print(\"Accuracy Score = \", sum(test_accuracy)/n)\n",
    "        print(\"Precision Score = \", sum(test_precision)/n)    \n",
    "        print(\"Recall Score = \", sum(test_recall)/n)   \n",
    "        print(\"F1 Score = \", sum(test_f1)/n) \n",
    "        \n",
    "        visualize(x_test, y_test, lm)\n",
    "        \n",
    "        \n",
    "def cvmodel(X, Y, lm, cv):\n",
    "    \n",
    "        from sklearn.model_selection import cross_validate\n",
    "        scoring = ['f1','roc_auc']\n",
    "        scores = cross_validate(lm, X, Y, cv=cv, scoring = scoring, return_train_score=True)\n",
    "        \n",
    "        for k,v in scores.items():\n",
    "            ans = [min(v),sum(v)/len(v),max(v)]\n",
    "            print(k,\"=\",ans)\n",
    "            print()\n"
   ]
  },
  {
   "cell_type": "markdown",
   "metadata": {},
   "source": [
    "## Implementation"
   ]
  },
  {
   "cell_type": "code",
   "execution_count": 4,
   "metadata": {},
   "outputs": [],
   "source": [
    "from sklearn.linear_model import LogisticRegression\n",
    "from sklearn.model_selection import train_test_split\n",
    "from sklearn import metrics"
   ]
  },
  {
   "cell_type": "markdown",
   "metadata": {},
   "source": [
    "### Using Train-Test Split"
   ]
  },
  {
   "cell_type": "code",
   "execution_count": 5,
   "metadata": {},
   "outputs": [
    {
     "name": "stdout",
     "output_type": "stream",
     "text": [
      "Average training statistics over 100 runs of the logistic regression model - \n",
      "Accuracy Score =  0.9506870229007647\n",
      "Precision Score =  0.9121424088896994\n",
      "Recall Score =  0.7026215431884937\n",
      "F1 Score =  0.7889350481232238\n",
      "\n",
      "Average testing statistics over 100 runs of the logistic regression model - \n",
      "Accuracy Score =  0.9211363636363632\n",
      "Precision Score =  0.8058405483405481\n",
      "Recall Score =  0.5942756132756133\n",
      "F1 Score =  0.6498625870173853\n"
     ]
    },
    {
     "data": {
      "image/png": "[encoded data removed]",
      "text/plain": [
       "<Figure size 432x288 with 2 Axes>"
      ]
     },
     "metadata": {
      "needs_background": "light"
     },
     "output_type": "display_data"
    }
   ],
   "source": [
    "lm = LogisticRegression(solver = 'liblinear', max_iter = 1000, penalty = 'l1', C = 3)\n",
    "\n",
    "#Maybe - Temp, SPO2, TOTAL PROTEINS, SODIUM\n",
    "X = df[['Age Above 60?','Gender','Temp Groups','Respiratory rate(breaths per minute)','Symptoms Present?','Co-morbidity?','Cough','Breathlessness','Hypertension','C-REACTIVE PROTEINS','UREA']]\n",
    "Y = df['Outcome']\n",
    "\n",
    "ttmodel(X, Y, lm, 100)"
   ]
  },
  {
   "cell_type": "markdown",
   "metadata": {},
   "source": [
    "### Using K-Fold Cross Validation\n",
    "\n",
    "Values for minimum, average and maximum using K-fold cross validation."
   ]
  },
  {
   "cell_type": "code",
   "execution_count": 6,
   "metadata": {},
   "outputs": [
    {
     "name": "stdout",
     "output_type": "stream",
     "text": [
      "fit_time = [0.003095865249633789, 0.0038754940032958984, 0.004618406295776367]\n",
      "\n",
      "score_time = [0.0049610137939453125, 0.005203621728079659, 0.005842924118041992]\n",
      "\n",
      "test_f1 = [0.5714285714285715, 0.7537414965986393, 0.8571428571428571]\n",
      "\n",
      "train_f1 = [0.7647058823529412, 0.8231236354190798, 0.9047619047619048]\n",
      "\n",
      "test_roc_auc = [0.8333333333333333, 0.9434137291280148, 1.0]\n",
      "\n",
      "train_roc_auc = [0.955703211517165, 0.9633694563096558, 0.9819121447028424]\n",
      "\n"
     ]
    }
   ],
   "source": [
    "cvmodel(X, Y, lm, 7)"
   ]
  }
 ],
 "metadata": {
  "kernelspec": {
   "display_name": "Python 3",
   "language": "python",
   "name": "python3"
  },
  "language_info": {
   "codemirror_mode": {
    "name": "ipython",
    "version": 3
   },
   "file_extension": ".py",
   "mimetype": "text/x-python",
   "name": "python",
   "nbconvert_exporter": "python",
   "pygments_lexer": "ipython3",
   "version": "3.7.3"
  }
 },
 "nbformat": 4,
 "nbformat_minor": 2
}
