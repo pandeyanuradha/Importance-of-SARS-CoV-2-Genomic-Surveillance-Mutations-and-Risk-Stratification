{
  "nbformat": 4,
  "nbformat_minor": 0,
  "metadata": {
    "kernelspec": {
      "display_name": "Python 3",
      "language": "python",
      "name": "python3"
    },
    "language_info": {
      "codemirror_mode": {
        "name": "ipython",
        "version": 3
      },
      "file_extension": ".py",
      "mimetype": "text/x-python",
      "name": "python",
      "nbconvert_exporter": "python",
      "pygments_lexer": "ipython3",
      "version": "3.7.3"
    },
    "colab": {
      "name": "Nested Cross-Validation.ipynb",
      "provenance": [],
      "collapsed_sections": []
    }
  },
  "cells": [
    {
      "cell_type": "code",
      "metadata": {
        "colab": {
          "base_uri": "https://localhost:8080/"
        },
        "id": "e6n_LSlHcBNA",
        "outputId": "5616957b-5503-43d9-fc15-93d19f5552a1"
      },
      "source": [
        "from google.colab import drive\n",
        "drive.mount('/content/drive')"
      ],
      "execution_count": 12,
      "outputs": [
        {
          "output_type": "stream",
          "text": [
            "Drive already mounted at /content/drive; to attempt to forcibly remount, call drive.mount(\"/content/drive\", force_remount=True).\n"
          ],
          "name": "stdout"
        }
      ]
    },
    {
      "cell_type": "code",
      "metadata": {
        "id": "D2I6LCnpb-gE"
      },
      "source": [
        "import pandas as pd\n",
        "import numpy as np\n",
        "\n",
        "import matplotlib.pyplot as plt\n",
        "import seaborn as sns\n",
        "from sklearn.model_selection import cross_validate\n",
        "from sklearn.preprocessing import MinMaxScaler\n",
        "from sklearn.ensemble import ExtraTreesClassifier\n",
        "from sklearn.model_selection import KFold\n",
        "from sklearn.pipeline import make_pipeline\n",
        "from sklearn.model_selection import GridSearchCV\n",
        "from sklearn.metrics import roc_curve, roc_auc_score\n",
        "\n",
        "from sklearn.neural_network import MLPClassifier\n",
        "from sklearn.ensemble import RandomForestClassifier\n",
        "from sklearn.linear_model import LogisticRegression\n",
        "from sklearn.svm import SVC\n",
        "from sklearn.preprocessing import MinMaxScaler\n",
        "\n",
        "from xgboost import XGBClassifier\n",
        "from sklearn.model_selection import train_test_split\n",
        "from sklearn import metrics\n",
        "\n",
        "import sklearn\n",
        "from sklearn.metrics import roc_curve, roc_auc_score\n",
        "from sklearn.metrics import confusion_matrix"
      ],
      "execution_count": 13,
      "outputs": []
    },
    {
      "cell_type": "code",
      "metadata": {
        "colab": {
          "base_uri": "https://localhost:8080/",
          "height": 487
        },
        "id": "tyYVGbd1b-gG",
        "outputId": "d50d89b2-cfef-4d5a-ce7a-e67c0bc70ed9"
      },
      "source": [
        "data = pd.read_csv('/content/drive/MyDrive/College/PS - 1/Notebooks/manuscript/models/comparison/unnormalized.csv')\n",
        "data.drop(columns=['Unnamed: 0'], inplace = True)\n",
        "data"
      ],
      "execution_count": 14,
      "outputs": [
        {
          "output_type": "execute_result",
          "data": {
            "text/html": [
              "<div>\n",
              "<style scoped>\n",
              "    .dataframe tbody tr th:only-of-type {\n",
              "        vertical-align: middle;\n",
              "    }\n",
              "\n",
              "    .dataframe tbody tr th {\n",
              "        vertical-align: top;\n",
              "    }\n",
              "\n",
              "    .dataframe thead th {\n",
              "        text-align: right;\n",
              "    }\n",
              "</style>\n",
              "<table border=\"1\" class=\"dataframe\">\n",
              "  <thead>\n",
              "    <tr style=\"text-align: right;\">\n",
              "      <th></th>\n",
              "      <th>Age</th>\n",
              "      <th>Gender</th>\n",
              "      <th>BMI</th>\n",
              "      <th>Symptoms Present?</th>\n",
              "      <th>Fever</th>\n",
              "      <th>Cough</th>\n",
              "      <th>Breathlessness</th>\n",
              "      <th>Travel History</th>\n",
              "      <th>Temp</th>\n",
              "      <th>SPO2</th>\n",
              "      <th>Contact to NCOVID Patient</th>\n",
              "      <th>Co-morbidity?</th>\n",
              "      <th>Diabetes</th>\n",
              "      <th>Hypertension</th>\n",
              "      <th>Heart Condition</th>\n",
              "      <th>Respiratory rate(breaths per minute)</th>\n",
              "      <th>Outcome</th>\n",
              "      <th>qSOFA SCORE</th>\n",
              "      <th>HEMOGLOBIN</th>\n",
              "      <th>TLC COUNT</th>\n",
              "      <th>PLATELET COUNT</th>\n",
              "      <th>RANDOM BLOOD SUGAR</th>\n",
              "      <th>UREA</th>\n",
              "      <th>CREATININE</th>\n",
              "      <th>SODIUM</th>\n",
              "      <th>POTASSIUM</th>\n",
              "      <th>CHLORIDE</th>\n",
              "      <th>TOTAL BILIRUBIN</th>\n",
              "      <th>DIRECT BILIRUBIN</th>\n",
              "      <th>SGOT</th>\n",
              "      <th>SGPT</th>\n",
              "      <th>TOTAL PROTEINS</th>\n",
              "      <th>ALBUMIN</th>\n",
              "      <th>ALKALINE PHOSPHATASE</th>\n",
              "      <th>C-REACTIVE PROTEINS</th>\n",
              "    </tr>\n",
              "  </thead>\n",
              "  <tbody>\n",
              "    <tr>\n",
              "      <th>0</th>\n",
              "      <td>53</td>\n",
              "      <td>1</td>\n",
              "      <td>22.5</td>\n",
              "      <td>1</td>\n",
              "      <td>1</td>\n",
              "      <td>1</td>\n",
              "      <td>1</td>\n",
              "      <td>0</td>\n",
              "      <td>96.8</td>\n",
              "      <td>99.0</td>\n",
              "      <td>1</td>\n",
              "      <td>0</td>\n",
              "      <td>0</td>\n",
              "      <td>0</td>\n",
              "      <td>0</td>\n",
              "      <td>20.0</td>\n",
              "      <td>0.0</td>\n",
              "      <td>0.0</td>\n",
              "      <td>15.9</td>\n",
              "      <td>6200.0</td>\n",
              "      <td>127000.0</td>\n",
              "      <td>121.0</td>\n",
              "      <td>47.5</td>\n",
              "      <td>1.3</td>\n",
              "      <td>143.0</td>\n",
              "      <td>4.8</td>\n",
              "      <td>108.0</td>\n",
              "      <td>0.5</td>\n",
              "      <td>0.2</td>\n",
              "      <td>81.3</td>\n",
              "      <td>70.0</td>\n",
              "      <td>5.9</td>\n",
              "      <td>3.8</td>\n",
              "      <td>44.1</td>\n",
              "      <td>58.10</td>\n",
              "    </tr>\n",
              "    <tr>\n",
              "      <th>1</th>\n",
              "      <td>26</td>\n",
              "      <td>0</td>\n",
              "      <td>25.7</td>\n",
              "      <td>0</td>\n",
              "      <td>0</td>\n",
              "      <td>0</td>\n",
              "      <td>0</td>\n",
              "      <td>0</td>\n",
              "      <td>98.7</td>\n",
              "      <td>98.0</td>\n",
              "      <td>1</td>\n",
              "      <td>0</td>\n",
              "      <td>0</td>\n",
              "      <td>0</td>\n",
              "      <td>0</td>\n",
              "      <td>16.0</td>\n",
              "      <td>0.0</td>\n",
              "      <td>0.0</td>\n",
              "      <td>13.4</td>\n",
              "      <td>4140.0</td>\n",
              "      <td>188000.0</td>\n",
              "      <td>96.0</td>\n",
              "      <td>21.8</td>\n",
              "      <td>1.0</td>\n",
              "      <td>148.0</td>\n",
              "      <td>4.1</td>\n",
              "      <td>108.0</td>\n",
              "      <td>0.3</td>\n",
              "      <td>0.1</td>\n",
              "      <td>22.2</td>\n",
              "      <td>14.8</td>\n",
              "      <td>6.6</td>\n",
              "      <td>3.9</td>\n",
              "      <td>58.5</td>\n",
              "      <td>3.66</td>\n",
              "    </tr>\n",
              "    <tr>\n",
              "      <th>2</th>\n",
              "      <td>28</td>\n",
              "      <td>1</td>\n",
              "      <td>22.2</td>\n",
              "      <td>0</td>\n",
              "      <td>0</td>\n",
              "      <td>0</td>\n",
              "      <td>0</td>\n",
              "      <td>0</td>\n",
              "      <td>98.4</td>\n",
              "      <td>98.0</td>\n",
              "      <td>1</td>\n",
              "      <td>0</td>\n",
              "      <td>0</td>\n",
              "      <td>0</td>\n",
              "      <td>0</td>\n",
              "      <td>16.0</td>\n",
              "      <td>0.0</td>\n",
              "      <td>0.0</td>\n",
              "      <td>15.9</td>\n",
              "      <td>4680.0</td>\n",
              "      <td>231000.0</td>\n",
              "      <td>102.0</td>\n",
              "      <td>18.3</td>\n",
              "      <td>5800.0</td>\n",
              "      <td>159.0</td>\n",
              "      <td>18.1</td>\n",
              "      <td>1.1</td>\n",
              "      <td>0.8</td>\n",
              "      <td>0.3</td>\n",
              "      <td>19.3</td>\n",
              "      <td>12.8</td>\n",
              "      <td>7.0</td>\n",
              "      <td>4.2</td>\n",
              "      <td>86.0</td>\n",
              "      <td>10.17</td>\n",
              "    </tr>\n",
              "    <tr>\n",
              "      <th>3</th>\n",
              "      <td>73</td>\n",
              "      <td>1</td>\n",
              "      <td>21.5</td>\n",
              "      <td>1</td>\n",
              "      <td>1</td>\n",
              "      <td>1</td>\n",
              "      <td>1</td>\n",
              "      <td>0</td>\n",
              "      <td>98.0</td>\n",
              "      <td>98.0</td>\n",
              "      <td>1</td>\n",
              "      <td>0</td>\n",
              "      <td>0</td>\n",
              "      <td>0</td>\n",
              "      <td>0</td>\n",
              "      <td>26.0</td>\n",
              "      <td>1.0</td>\n",
              "      <td>1.0</td>\n",
              "      <td>13.2</td>\n",
              "      <td>5200.0</td>\n",
              "      <td>234000.0</td>\n",
              "      <td>119.0</td>\n",
              "      <td>36.6</td>\n",
              "      <td>0.9</td>\n",
              "      <td>140.0</td>\n",
              "      <td>4.2</td>\n",
              "      <td>104.0</td>\n",
              "      <td>2.4</td>\n",
              "      <td>1.2</td>\n",
              "      <td>59.0</td>\n",
              "      <td>47.9</td>\n",
              "      <td>6.3</td>\n",
              "      <td>3.7</td>\n",
              "      <td>120.0</td>\n",
              "      <td>168.90</td>\n",
              "    </tr>\n",
              "    <tr>\n",
              "      <th>4</th>\n",
              "      <td>49</td>\n",
              "      <td>1</td>\n",
              "      <td>27.4</td>\n",
              "      <td>1</td>\n",
              "      <td>1</td>\n",
              "      <td>1</td>\n",
              "      <td>0</td>\n",
              "      <td>0</td>\n",
              "      <td>101.0</td>\n",
              "      <td>98.0</td>\n",
              "      <td>1</td>\n",
              "      <td>1</td>\n",
              "      <td>0</td>\n",
              "      <td>0</td>\n",
              "      <td>0</td>\n",
              "      <td>20.0</td>\n",
              "      <td>0.0</td>\n",
              "      <td>0.0</td>\n",
              "      <td>13.7</td>\n",
              "      <td>9500.0</td>\n",
              "      <td>321000.0</td>\n",
              "      <td>92.0</td>\n",
              "      <td>22.0</td>\n",
              "      <td>0.9</td>\n",
              "      <td>124.0</td>\n",
              "      <td>3.8</td>\n",
              "      <td>92.0</td>\n",
              "      <td>4.2</td>\n",
              "      <td>2.1</td>\n",
              "      <td>44.6</td>\n",
              "      <td>55.5</td>\n",
              "      <td>5.9</td>\n",
              "      <td>3.1</td>\n",
              "      <td>177.0</td>\n",
              "      <td>164.00</td>\n",
              "    </tr>\n",
              "    <tr>\n",
              "      <th>...</th>\n",
              "      <td>...</td>\n",
              "      <td>...</td>\n",
              "      <td>...</td>\n",
              "      <td>...</td>\n",
              "      <td>...</td>\n",
              "      <td>...</td>\n",
              "      <td>...</td>\n",
              "      <td>...</td>\n",
              "      <td>...</td>\n",
              "      <td>...</td>\n",
              "      <td>...</td>\n",
              "      <td>...</td>\n",
              "      <td>...</td>\n",
              "      <td>...</td>\n",
              "      <td>...</td>\n",
              "      <td>...</td>\n",
              "      <td>...</td>\n",
              "      <td>...</td>\n",
              "      <td>...</td>\n",
              "      <td>...</td>\n",
              "      <td>...</td>\n",
              "      <td>...</td>\n",
              "      <td>...</td>\n",
              "      <td>...</td>\n",
              "      <td>...</td>\n",
              "      <td>...</td>\n",
              "      <td>...</td>\n",
              "      <td>...</td>\n",
              "      <td>...</td>\n",
              "      <td>...</td>\n",
              "      <td>...</td>\n",
              "      <td>...</td>\n",
              "      <td>...</td>\n",
              "      <td>...</td>\n",
              "      <td>...</td>\n",
              "    </tr>\n",
              "    <tr>\n",
              "      <th>170</th>\n",
              "      <td>53</td>\n",
              "      <td>1</td>\n",
              "      <td>27.2</td>\n",
              "      <td>1</td>\n",
              "      <td>1</td>\n",
              "      <td>1</td>\n",
              "      <td>1</td>\n",
              "      <td>0</td>\n",
              "      <td>98.9</td>\n",
              "      <td>96.0</td>\n",
              "      <td>1</td>\n",
              "      <td>1</td>\n",
              "      <td>1</td>\n",
              "      <td>1</td>\n",
              "      <td>0</td>\n",
              "      <td>28.0</td>\n",
              "      <td>1.0</td>\n",
              "      <td>1.0</td>\n",
              "      <td>18.2</td>\n",
              "      <td>6700.0</td>\n",
              "      <td>101000.0</td>\n",
              "      <td>200.0</td>\n",
              "      <td>54.1</td>\n",
              "      <td>0.9</td>\n",
              "      <td>136.0</td>\n",
              "      <td>2.9</td>\n",
              "      <td>97.0</td>\n",
              "      <td>1.4</td>\n",
              "      <td>0.5</td>\n",
              "      <td>43.8</td>\n",
              "      <td>38.8</td>\n",
              "      <td>6.2</td>\n",
              "      <td>3.7</td>\n",
              "      <td>73.3</td>\n",
              "      <td>127.60</td>\n",
              "    </tr>\n",
              "    <tr>\n",
              "      <th>171</th>\n",
              "      <td>33</td>\n",
              "      <td>1</td>\n",
              "      <td>26.0</td>\n",
              "      <td>1</td>\n",
              "      <td>1</td>\n",
              "      <td>1</td>\n",
              "      <td>1</td>\n",
              "      <td>0</td>\n",
              "      <td>99.3</td>\n",
              "      <td>98.0</td>\n",
              "      <td>1</td>\n",
              "      <td>1</td>\n",
              "      <td>1</td>\n",
              "      <td>0</td>\n",
              "      <td>0</td>\n",
              "      <td>28.0</td>\n",
              "      <td>1.0</td>\n",
              "      <td>1.0</td>\n",
              "      <td>13.9</td>\n",
              "      <td>6800.0</td>\n",
              "      <td>156000.0</td>\n",
              "      <td>151.0</td>\n",
              "      <td>59.6</td>\n",
              "      <td>1.9</td>\n",
              "      <td>141.0</td>\n",
              "      <td>4.2</td>\n",
              "      <td>106.0</td>\n",
              "      <td>0.5</td>\n",
              "      <td>0.2</td>\n",
              "      <td>80.6</td>\n",
              "      <td>42.6</td>\n",
              "      <td>6.6</td>\n",
              "      <td>3.8</td>\n",
              "      <td>57.4</td>\n",
              "      <td>138.15</td>\n",
              "    </tr>\n",
              "    <tr>\n",
              "      <th>172</th>\n",
              "      <td>70</td>\n",
              "      <td>1</td>\n",
              "      <td>21.4</td>\n",
              "      <td>1</td>\n",
              "      <td>1</td>\n",
              "      <td>0</td>\n",
              "      <td>1</td>\n",
              "      <td>0</td>\n",
              "      <td>98.3</td>\n",
              "      <td>99.0</td>\n",
              "      <td>0</td>\n",
              "      <td>1</td>\n",
              "      <td>0</td>\n",
              "      <td>0</td>\n",
              "      <td>0</td>\n",
              "      <td>20.0</td>\n",
              "      <td>1.0</td>\n",
              "      <td>0.0</td>\n",
              "      <td>14.9</td>\n",
              "      <td>8900.0</td>\n",
              "      <td>1820000.0</td>\n",
              "      <td>189.0</td>\n",
              "      <td>25.2</td>\n",
              "      <td>1.1</td>\n",
              "      <td>137.0</td>\n",
              "      <td>4.2</td>\n",
              "      <td>106.0</td>\n",
              "      <td>1.8</td>\n",
              "      <td>0.6</td>\n",
              "      <td>77.0</td>\n",
              "      <td>27.9</td>\n",
              "      <td>5.9</td>\n",
              "      <td>3.3</td>\n",
              "      <td>60.1</td>\n",
              "      <td>143.00</td>\n",
              "    </tr>\n",
              "    <tr>\n",
              "      <th>173</th>\n",
              "      <td>65</td>\n",
              "      <td>0</td>\n",
              "      <td>22.4</td>\n",
              "      <td>1</td>\n",
              "      <td>0</td>\n",
              "      <td>1</td>\n",
              "      <td>1</td>\n",
              "      <td>0</td>\n",
              "      <td>98.9</td>\n",
              "      <td>97.0</td>\n",
              "      <td>0</td>\n",
              "      <td>1</td>\n",
              "      <td>1</td>\n",
              "      <td>1</td>\n",
              "      <td>0</td>\n",
              "      <td>32.0</td>\n",
              "      <td>1.0</td>\n",
              "      <td>1.0</td>\n",
              "      <td>11.2</td>\n",
              "      <td>12000.0</td>\n",
              "      <td>124000.0</td>\n",
              "      <td>210.0</td>\n",
              "      <td>43.2</td>\n",
              "      <td>1.3</td>\n",
              "      <td>132.0</td>\n",
              "      <td>3.8</td>\n",
              "      <td>110.0</td>\n",
              "      <td>1.2</td>\n",
              "      <td>0.6</td>\n",
              "      <td>56.2</td>\n",
              "      <td>43.2</td>\n",
              "      <td>5.6</td>\n",
              "      <td>3.4</td>\n",
              "      <td>216.0</td>\n",
              "      <td>124.00</td>\n",
              "    </tr>\n",
              "    <tr>\n",
              "      <th>174</th>\n",
              "      <td>75</td>\n",
              "      <td>1</td>\n",
              "      <td>26.2</td>\n",
              "      <td>1</td>\n",
              "      <td>1</td>\n",
              "      <td>0</td>\n",
              "      <td>1</td>\n",
              "      <td>0</td>\n",
              "      <td>99.0</td>\n",
              "      <td>95.0</td>\n",
              "      <td>0</td>\n",
              "      <td>1</td>\n",
              "      <td>0</td>\n",
              "      <td>1</td>\n",
              "      <td>0</td>\n",
              "      <td>28.0</td>\n",
              "      <td>1.0</td>\n",
              "      <td>1.0</td>\n",
              "      <td>15.3</td>\n",
              "      <td>5500.0</td>\n",
              "      <td>191000.0</td>\n",
              "      <td>149.0</td>\n",
              "      <td>54.6</td>\n",
              "      <td>1.5</td>\n",
              "      <td>127.0</td>\n",
              "      <td>6.7</td>\n",
              "      <td>93.0</td>\n",
              "      <td>0.6</td>\n",
              "      <td>0.3</td>\n",
              "      <td>474.2</td>\n",
              "      <td>157.9</td>\n",
              "      <td>6.6</td>\n",
              "      <td>3.3</td>\n",
              "      <td>320.9</td>\n",
              "      <td>163.15</td>\n",
              "    </tr>\n",
              "  </tbody>\n",
              "</table>\n",
              "<p>175 rows × 35 columns</p>\n",
              "</div>"
            ],
            "text/plain": [
              "     Age  Gender   BMI  ...  ALBUMIN  ALKALINE PHOSPHATASE  C-REACTIVE PROTEINS\n",
              "0     53       1  22.5  ...      3.8                  44.1                58.10\n",
              "1     26       0  25.7  ...      3.9                  58.5                 3.66\n",
              "2     28       1  22.2  ...      4.2                  86.0                10.17\n",
              "3     73       1  21.5  ...      3.7                 120.0               168.90\n",
              "4     49       1  27.4  ...      3.1                 177.0               164.00\n",
              "..   ...     ...   ...  ...      ...                   ...                  ...\n",
              "170   53       1  27.2  ...      3.7                  73.3               127.60\n",
              "171   33       1  26.0  ...      3.8                  57.4               138.15\n",
              "172   70       1  21.4  ...      3.3                  60.1               143.00\n",
              "173   65       0  22.4  ...      3.4                 216.0               124.00\n",
              "174   75       1  26.2  ...      3.3                 320.9               163.15\n",
              "\n",
              "[175 rows x 35 columns]"
            ]
          },
          "metadata": {
            "tags": []
          },
          "execution_count": 14
        }
      ]
    },
    {
      "cell_type": "code",
      "metadata": {
        "id": "iM9S-kwGb-gH"
      },
      "source": [
        "# data.drop(['qSOFA SCORE'],inplace=True)\n",
        "X= data.drop(['Outcome','qSOFA SCORE'],axis=1)\n",
        "Y = data['Outcome']"
      ],
      "execution_count": 15,
      "outputs": []
    },
    {
      "cell_type": "code",
      "metadata": {
        "id": "iMbM_k7vb-gI"
      },
      "source": [
        "def nestedcv(pipeline,param_grid, X, Y):\n",
        "    \n",
        "    \n",
        "    f1 = [0]*7\n",
        "    roc = [0]*7\n",
        "    prec = [0]*7\n",
        "    rec = [0]*7\n",
        "    acc = [0]*7\n",
        "    \n",
        "    \n",
        "    cv_outer = KFold(n_splits=7, random_state=1, shuffle=True)\n",
        "    i = 0\n",
        "    \n",
        "    for train_ix, test_ix in cv_outer.split(X):\n",
        "        \n",
        "        X_train = X.iloc[train_ix]\n",
        "        X_test =  X.iloc[test_ix]\n",
        "        y_train = Y.iloc[train_ix]\n",
        "        y_test =  Y.iloc[test_ix]\n",
        "        scaler = MinMaxScaler()\n",
        "        \n",
        "        model = ExtraTreesClassifier()\n",
        "        model.fit(scaler.fit_transform(X_train),y_train)\n",
        "\n",
        "        feat_importances = pd.Series(model.feature_importances_, index=X_train.columns)\n",
        "        x = feat_importances.nlargest(5)\n",
        "        features = np.array(x.index)\n",
        "        print(features)\n",
        "\n",
        "        gs = GridSearchCV(estimator=pipeline, param_grid = param_grid,\n",
        "                     cv = 6, scoring = 'f1', n_jobs = -1, refit = True)\n",
        "        \n",
        "        result = gs.fit(X_train[features],y_train)\n",
        "        print(result.best_params_)\n",
        "        best_model = result.best_estimator_\n",
        "        \n",
        "        y_hat = best_model.predict(X_test[features])\n",
        "        f1[i] = metrics.f1_score(y_test, y_hat)\n",
        "        roc[i] = metrics.roc_auc_score(y_test, y_hat)\n",
        "        prec[i] = metrics.precision_score(y_test, y_hat)\n",
        "        rec[i] = metrics.recall_score(y_test,y_hat)\n",
        "        acc[i] = metrics.accuracy_score(y_test,y_hat)\n",
        "        i+=1\n",
        "        print(i)\n",
        "        if i==6:\n",
        "          pred_prob1 = model.predict_proba(X_test)\n",
        "          fpr, tpr, thresh = roc_curve(y_test, pred_prob1[:,1], pos_label=1)\n",
        "          random_probs = [0 for i in range(len(y_test))]\n",
        "          p_fpr, p_tpr, _ = roc_curve(y_test, random_probs, pos_label=1)\n",
        "          cf_matrix = confusion_matrix(y_test, y_hat)\n",
        "         \n",
        "    arr = [np.mean(acc),np.mean(f1),np.mean(roc),np.mean(prec),np.mean(rec)]\n",
        "    return arr, fpr, tpr, p_fpr, p_tpr, cf_matrix"
      ],
      "execution_count": 16,
      "outputs": []
    },
    {
      "cell_type": "code",
      "metadata": {
        "colab": {
          "base_uri": "https://localhost:8080/"
        },
        "id": "aZJvSxXsb-gI",
        "outputId": "2fa1263a-c780-4398-a1c3-d799b874bbbb"
      },
      "source": [
        "# Pipeline created using Logistic Regression\n",
        "pipeline = make_pipeline(MinMaxScaler(),LogisticRegression(max_iter=10000))\n",
        "\n",
        "param_grid = {'logisticregression__solver' : ['newton-cg', 'lbfgs', 'liblinear','sag','saga'],\n",
        "'logisticregression__penalty' : ['l2'],\n",
        "'logisticregression__C' : [300, 100, 30, 10, 3, 1.0, 0.3, 0.1, 0.03, 0.01]} \n",
        "\n",
        "lg, fpr_lr, tpr_lr, p_fpr, p_tpr, cf_lr = nestedcv(pipeline,param_grid,X,Y)\n",
        "lg"
      ],
      "execution_count": 17,
      "outputs": [
        {
          "output_type": "stream",
          "text": [
            "['Respiratory rate(breaths per minute)' 'C-REACTIVE PROTEINS'\n",
            " 'Breathlessness' 'Age' 'TLC COUNT']\n",
            "{'logisticregression__C': 100, 'logisticregression__penalty': 'l2', 'logisticregression__solver': 'liblinear'}\n",
            "1\n",
            "['Respiratory rate(breaths per minute)' 'Breathlessness'\n",
            " 'C-REACTIVE PROTEINS' 'Age' 'TLC COUNT']\n",
            "{'logisticregression__C': 300, 'logisticregression__penalty': 'l2', 'logisticregression__solver': 'newton-cg'}\n",
            "2\n",
            "['Respiratory rate(breaths per minute)' 'C-REACTIVE PROTEINS'\n",
            " 'Breathlessness' 'Age' 'UREA']\n",
            "{'logisticregression__C': 30, 'logisticregression__penalty': 'l2', 'logisticregression__solver': 'newton-cg'}\n",
            "3\n",
            "['Respiratory rate(breaths per minute)' 'C-REACTIVE PROTEINS'\n",
            " 'Breathlessness' 'Age' 'TLC COUNT']\n",
            "{'logisticregression__C': 30, 'logisticregression__penalty': 'l2', 'logisticregression__solver': 'newton-cg'}\n",
            "4\n",
            "['Respiratory rate(breaths per minute)' 'C-REACTIVE PROTEINS'\n",
            " 'Breathlessness' 'TLC COUNT' 'Age']\n",
            "{'logisticregression__C': 300, 'logisticregression__penalty': 'l2', 'logisticregression__solver': 'newton-cg'}\n",
            "5\n",
            "['Respiratory rate(breaths per minute)' 'C-REACTIVE PROTEINS'\n",
            " 'Breathlessness' 'Age' 'TLC COUNT']\n",
            "{'logisticregression__C': 10, 'logisticregression__penalty': 'l2', 'logisticregression__solver': 'newton-cg'}\n",
            "6\n",
            "['Respiratory rate(breaths per minute)' 'C-REACTIVE PROTEINS'\n",
            " 'Breathlessness' 'Age' 'TLC COUNT']\n",
            "{'logisticregression__C': 300, 'logisticregression__penalty': 'l2', 'logisticregression__solver': 'newton-cg'}\n",
            "7\n"
          ],
          "name": "stdout"
        },
        {
          "output_type": "stream",
          "text": [
            "/usr/local/lib/python3.7/dist-packages/sklearn/metrics/_classification.py:1272: UndefinedMetricWarning: Precision is ill-defined and being set to 0.0 due to no predicted samples. Use `zero_division` parameter to control this behavior.\n",
            "  _warn_prf(average, modifier, msg_start, len(result))\n"
          ],
          "name": "stderr"
        },
        {
          "output_type": "execute_result",
          "data": {
            "text/plain": [
              "[0.9199999999999999,\n",
              " 0.600453514739229,\n",
              " 0.7767221908526257,\n",
              " 0.6571428571428571,\n",
              " 0.5928571428571427]"
            ]
          },
          "metadata": {
            "tags": []
          },
          "execution_count": 17
        }
      ]
    },
    {
      "cell_type": "code",
      "metadata": {
        "colab": {
          "base_uri": "https://localhost:8080/"
        },
        "id": "JkOiyk_Rb-gJ",
        "outputId": "ae41fecb-9e68-419d-92cf-a72269951e12"
      },
      "source": [
        "# Pipeline created using Logistic Regression\n",
        "pipeline = make_pipeline(MinMaxScaler(),\n",
        "                         RandomForestClassifier())\n",
        "#\n",
        "# Create the parameter grid\n",
        "#\n",
        "\n",
        "param_grid = {\n",
        "    'randomforestclassifier__n_estimators': [400, 700],\n",
        "    'randomforestclassifier__max_depth': [15,20],\n",
        "    'randomforestclassifier__max_leaf_nodes': [50, 100]\n",
        "}\n",
        "\n",
        "rf, fpr_rf, tpr_rf, p_fpr, p_tpr, cf_rf = nestedcv(pipeline,param_grid,X,Y)\n",
        "rf"
      ],
      "execution_count": 18,
      "outputs": [
        {
          "output_type": "stream",
          "text": [
            "['Respiratory rate(breaths per minute)' 'C-REACTIVE PROTEINS'\n",
            " 'Breathlessness' 'TLC COUNT' 'Age']\n",
            "{'randomforestclassifier__max_depth': 15, 'randomforestclassifier__max_leaf_nodes': 100, 'randomforestclassifier__n_estimators': 700}\n",
            "1\n",
            "['Respiratory rate(breaths per minute)' 'Breathlessness'\n",
            " 'C-REACTIVE PROTEINS' 'Age' 'TLC COUNT']\n",
            "{'randomforestclassifier__max_depth': 15, 'randomforestclassifier__max_leaf_nodes': 100, 'randomforestclassifier__n_estimators': 400}\n",
            "2\n",
            "['Respiratory rate(breaths per minute)' 'C-REACTIVE PROTEINS'\n",
            " 'Breathlessness' 'UREA' 'Age']\n",
            "{'randomforestclassifier__max_depth': 15, 'randomforestclassifier__max_leaf_nodes': 100, 'randomforestclassifier__n_estimators': 400}\n",
            "3\n",
            "['C-REACTIVE PROTEINS' 'Respiratory rate(breaths per minute)'\n",
            " 'Breathlessness' 'Age' 'TLC COUNT']\n",
            "{'randomforestclassifier__max_depth': 15, 'randomforestclassifier__max_leaf_nodes': 50, 'randomforestclassifier__n_estimators': 700}\n",
            "4\n",
            "['Respiratory rate(breaths per minute)' 'C-REACTIVE PROTEINS'\n",
            " 'Breathlessness' 'Age' 'TLC COUNT']\n",
            "{'randomforestclassifier__max_depth': 20, 'randomforestclassifier__max_leaf_nodes': 100, 'randomforestclassifier__n_estimators': 400}\n",
            "5\n",
            "['Respiratory rate(breaths per minute)' 'C-REACTIVE PROTEINS'\n",
            " 'Breathlessness' 'Age' 'TLC COUNT']\n",
            "{'randomforestclassifier__max_depth': 15, 'randomforestclassifier__max_leaf_nodes': 100, 'randomforestclassifier__n_estimators': 400}\n",
            "6\n",
            "['Respiratory rate(breaths per minute)' 'C-REACTIVE PROTEINS'\n",
            " 'Breathlessness' 'Age' 'TLC COUNT']\n",
            "{'randomforestclassifier__max_depth': 20, 'randomforestclassifier__max_leaf_nodes': 50, 'randomforestclassifier__n_estimators': 400}\n",
            "7\n"
          ],
          "name": "stdout"
        },
        {
          "output_type": "execute_result",
          "data": {
            "text/plain": [
              "[0.9542857142857143,\n",
              " 0.7976190476190476,\n",
              " 0.8698381328816112,\n",
              " 0.8809523809523808,\n",
              " 0.7523809523809524]"
            ]
          },
          "metadata": {
            "tags": []
          },
          "execution_count": 18
        }
      ]
    },
    {
      "cell_type": "code",
      "metadata": {
        "colab": {
          "base_uri": "https://localhost:8080/"
        },
        "id": "HjBKoMQtb-gJ",
        "outputId": "2fb42d93-f9ce-44a8-e805-3285869d05a6"
      },
      "source": [
        "# Pipeline created using Logistic Regression\n",
        "pipeline = make_pipeline(MinMaxScaler(),\n",
        "                         MLPClassifier(max_iter=3000))\n",
        "#\n",
        "# Create the parameter grid\n",
        "#\n",
        "pipeline.get_params().keys()\n",
        "param_grid = {\n",
        "    'mlpclassifier__hidden_layer_sizes': [(50,), (100,)],\n",
        "    'mlpclassifier__activation': ['relu','logistic'],\n",
        "    'mlpclassifier__solver': ['lbfgs'],\n",
        "    'mlpclassifier__alpha': [0.001, 0.003, 0.01, 0.03, 0.1, 0.3],\n",
        "    'mlpclassifier__learning_rate': ['constant','adaptive'],\n",
        "}\n",
        "\n",
        "mlp, fpr_mlp, tpr_mlp, p_fpr, p_tpr, cf_mlp = nestedcv(pipeline,param_grid,X,Y)\n",
        "mlp"
      ],
      "execution_count": 19,
      "outputs": [
        {
          "output_type": "stream",
          "text": [
            "['Respiratory rate(breaths per minute)' 'C-REACTIVE PROTEINS'\n",
            " 'Breathlessness' 'Age' 'TLC COUNT']\n",
            "{'mlpclassifier__activation': 'relu', 'mlpclassifier__alpha': 0.03, 'mlpclassifier__hidden_layer_sizes': (100,), 'mlpclassifier__learning_rate': 'constant', 'mlpclassifier__solver': 'lbfgs'}\n",
            "1\n",
            "['Respiratory rate(breaths per minute)' 'Breathlessness'\n",
            " 'C-REACTIVE PROTEINS' 'Age' 'TLC COUNT']\n",
            "{'mlpclassifier__activation': 'relu', 'mlpclassifier__alpha': 0.01, 'mlpclassifier__hidden_layer_sizes': (50,), 'mlpclassifier__learning_rate': 'constant', 'mlpclassifier__solver': 'lbfgs'}\n",
            "2\n",
            "['Respiratory rate(breaths per minute)' 'C-REACTIVE PROTEINS'\n",
            " 'Breathlessness' 'Age' 'TLC COUNT']\n",
            "{'mlpclassifier__activation': 'relu', 'mlpclassifier__alpha': 0.1, 'mlpclassifier__hidden_layer_sizes': (100,), 'mlpclassifier__learning_rate': 'adaptive', 'mlpclassifier__solver': 'lbfgs'}\n",
            "3\n",
            "['C-REACTIVE PROTEINS' 'Respiratory rate(breaths per minute)'\n",
            " 'Breathlessness' 'TLC COUNT' 'ALBUMIN']\n",
            "{'mlpclassifier__activation': 'logistic', 'mlpclassifier__alpha': 0.003, 'mlpclassifier__hidden_layer_sizes': (100,), 'mlpclassifier__learning_rate': 'constant', 'mlpclassifier__solver': 'lbfgs'}\n",
            "4\n",
            "['Respiratory rate(breaths per minute)' 'C-REACTIVE PROTEINS'\n",
            " 'Breathlessness' 'TLC COUNT' 'TOTAL PROTEINS']\n",
            "{'mlpclassifier__activation': 'relu', 'mlpclassifier__alpha': 0.3, 'mlpclassifier__hidden_layer_sizes': (50,), 'mlpclassifier__learning_rate': 'constant', 'mlpclassifier__solver': 'lbfgs'}\n",
            "5\n",
            "['Respiratory rate(breaths per minute)' 'C-REACTIVE PROTEINS'\n",
            " 'Breathlessness' 'Age' 'UREA']\n",
            "{'mlpclassifier__activation': 'logistic', 'mlpclassifier__alpha': 0.03, 'mlpclassifier__hidden_layer_sizes': (100,), 'mlpclassifier__learning_rate': 'constant', 'mlpclassifier__solver': 'lbfgs'}\n",
            "6\n",
            "['Respiratory rate(breaths per minute)' 'Breathlessness'\n",
            " 'C-REACTIVE PROTEINS' 'Age' 'TOTAL PROTEINS']\n",
            "{'mlpclassifier__activation': 'relu', 'mlpclassifier__alpha': 0.001, 'mlpclassifier__hidden_layer_sizes': (50,), 'mlpclassifier__learning_rate': 'adaptive', 'mlpclassifier__solver': 'lbfgs'}\n",
            "7\n"
          ],
          "name": "stdout"
        },
        {
          "output_type": "execute_result",
          "data": {
            "text/plain": [
              "[0.9428571428571428,\n",
              " 0.7444444444444445,\n",
              " 0.8631359065365277,\n",
              " 0.7999999999999999,\n",
              " 0.7523809523809524]"
            ]
          },
          "metadata": {
            "tags": []
          },
          "execution_count": 19
        }
      ]
    },
    {
      "cell_type": "code",
      "metadata": {
        "colab": {
          "base_uri": "https://localhost:8080/"
        },
        "id": "-BPMu_htb-gK",
        "outputId": "092e74da-d620-4a2d-8e60-d22d56e0486b"
      },
      "source": [
        "# Pipeline created using Logistic Regression\n",
        "pipeline = make_pipeline(MinMaxScaler(),\n",
        "                         XGBClassifier())\n",
        "#\n",
        "# Create the parameter grid\n",
        "#\n",
        "# pipeline.get_params().keys()\n",
        "\n",
        "param_grid = {\n",
        "    'xgbclassifier__n_estimators': [400, 700],\n",
        "    'xgbclassifier__colsample_bytree': [0.7, 0.8],\n",
        "    'xgbclassifier__max_depth': [15,20],\n",
        "    'xgbclassifier__reg_alpha': [1.1, 1.2],\n",
        "    'xgbclassifier__reg_lambda': [1.1, 1.2],\n",
        "    'xgbclassifier__subsample': [0.7, 0.8]\n",
        "}\n",
        "xgb, fpr_xgb, tpr_xgb, p_fpr, p_tpr, cf_xgb = nestedcv(pipeline,param_grid,X,Y)\n",
        "xgb"
      ],
      "execution_count": 20,
      "outputs": [
        {
          "output_type": "stream",
          "text": [
            "['Respiratory rate(breaths per minute)' 'C-REACTIVE PROTEINS'\n",
            " 'Breathlessness' 'Age' 'TLC COUNT']\n",
            "{'xgbclassifier__colsample_bytree': 0.7, 'xgbclassifier__max_depth': 15, 'xgbclassifier__n_estimators': 400, 'xgbclassifier__reg_alpha': 1.2, 'xgbclassifier__reg_lambda': 1.1, 'xgbclassifier__subsample': 0.8}\n",
            "1\n",
            "['Respiratory rate(breaths per minute)' 'Breathlessness'\n",
            " 'C-REACTIVE PROTEINS' 'Age' 'TLC COUNT']\n",
            "{'xgbclassifier__colsample_bytree': 0.7, 'xgbclassifier__max_depth': 15, 'xgbclassifier__n_estimators': 700, 'xgbclassifier__reg_alpha': 1.1, 'xgbclassifier__reg_lambda': 1.1, 'xgbclassifier__subsample': 0.8}\n",
            "2\n",
            "['Respiratory rate(breaths per minute)' 'C-REACTIVE PROTEINS'\n",
            " 'Breathlessness' 'Age' 'UREA']\n",
            "{'xgbclassifier__colsample_bytree': 0.7, 'xgbclassifier__max_depth': 15, 'xgbclassifier__n_estimators': 400, 'xgbclassifier__reg_alpha': 1.1, 'xgbclassifier__reg_lambda': 1.1, 'xgbclassifier__subsample': 0.8}\n",
            "3\n",
            "['Respiratory rate(breaths per minute)' 'C-REACTIVE PROTEINS'\n",
            " 'Breathlessness' 'TLC COUNT' 'Age']\n",
            "{'xgbclassifier__colsample_bytree': 0.8, 'xgbclassifier__max_depth': 15, 'xgbclassifier__n_estimators': 400, 'xgbclassifier__reg_alpha': 1.1, 'xgbclassifier__reg_lambda': 1.2, 'xgbclassifier__subsample': 0.8}\n",
            "4\n",
            "['Respiratory rate(breaths per minute)' 'C-REACTIVE PROTEINS'\n",
            " 'Breathlessness' 'Age' 'TLC COUNT']\n",
            "{'xgbclassifier__colsample_bytree': 0.8, 'xgbclassifier__max_depth': 15, 'xgbclassifier__n_estimators': 400, 'xgbclassifier__reg_alpha': 1.2, 'xgbclassifier__reg_lambda': 1.1, 'xgbclassifier__subsample': 0.8}\n",
            "5\n",
            "['Respiratory rate(breaths per minute)' 'C-REACTIVE PROTEINS'\n",
            " 'Breathlessness' 'Age' 'TLC COUNT']\n",
            "{'xgbclassifier__colsample_bytree': 0.7, 'xgbclassifier__max_depth': 15, 'xgbclassifier__n_estimators': 400, 'xgbclassifier__reg_alpha': 1.1, 'xgbclassifier__reg_lambda': 1.1, 'xgbclassifier__subsample': 0.7}\n",
            "6\n",
            "['Respiratory rate(breaths per minute)' 'C-REACTIVE PROTEINS'\n",
            " 'Breathlessness' 'Age' 'TLC COUNT']\n",
            "{'xgbclassifier__colsample_bytree': 0.8, 'xgbclassifier__max_depth': 15, 'xgbclassifier__n_estimators': 400, 'xgbclassifier__reg_alpha': 1.1, 'xgbclassifier__reg_lambda': 1.1, 'xgbclassifier__subsample': 0.8}\n",
            "7\n"
          ],
          "name": "stdout"
        },
        {
          "output_type": "execute_result",
          "data": {
            "text/plain": [
              "[0.9542857142857143,\n",
              " 0.7976190476190476,\n",
              " 0.8698381328816112,\n",
              " 0.8809523809523808,\n",
              " 0.7523809523809524]"
            ]
          },
          "metadata": {
            "tags": []
          },
          "execution_count": 20
        }
      ]
    },
    {
      "cell_type": "code",
      "metadata": {
        "colab": {
          "base_uri": "https://localhost:8080/"
        },
        "id": "XEWfwwCdb-gL",
        "outputId": "828753ef-a793-4d16-a346-bb616faa8873"
      },
      "source": [
        "svm = SVC()\n",
        "pipeline = make_pipeline(MinMaxScaler(),\n",
        "                         SVC())\n",
        "#\n",
        "# Create the parameter grid\n",
        "#\n",
        "param_grid = {'svc__C': [0.1, 0.3, 1, 3, 10, 30, 100, 300, 1000], \n",
        "              'svc__gamma': [3, 1, 0.3, 0.1, 0.03, 0.01, 0.003, 0.001, 0.0003, 0.0001],\n",
        "              'svc__kernel': ['rbf','linear','sigmoid','poly']} \n",
        "\n",
        "\n",
        "svc, fpr_svc, tpr_svc, p_fpr, p_tpr, cf_svc = nestedcv(pipeline,param_grid,X,Y)\n",
        "svc\n"
      ],
      "execution_count": 21,
      "outputs": [
        {
          "output_type": "stream",
          "text": [
            "['Respiratory rate(breaths per minute)' 'C-REACTIVE PROTEINS'\n",
            " 'Breathlessness' 'Age' 'SGOT']\n",
            "{'svc__C': 10, 'svc__gamma': 0.3, 'svc__kernel': 'rbf'}\n",
            "1\n",
            "['Respiratory rate(breaths per minute)' 'Breathlessness'\n",
            " 'C-REACTIVE PROTEINS' 'Age' 'TLC COUNT']\n",
            "{'svc__C': 30, 'svc__gamma': 0.1, 'svc__kernel': 'rbf'}\n",
            "2\n",
            "['Respiratory rate(breaths per minute)' 'C-REACTIVE PROTEINS'\n",
            " 'Breathlessness' 'Age' 'ALKALINE PHOSPHATASE']\n",
            "{'svc__C': 100, 'svc__gamma': 1, 'svc__kernel': 'poly'}\n",
            "3\n",
            "['Respiratory rate(breaths per minute)' 'C-REACTIVE PROTEINS'\n",
            " 'Breathlessness' 'Age' 'TLC COUNT']\n",
            "{'svc__C': 30, 'svc__gamma': 3, 'svc__kernel': 'poly'}\n",
            "4\n",
            "['Respiratory rate(breaths per minute)' 'C-REACTIVE PROTEINS'\n",
            " 'Breathlessness' 'TLC COUNT' 'Age']\n",
            "{'svc__C': 3, 'svc__gamma': 3, 'svc__kernel': 'rbf'}\n",
            "5\n",
            "['Respiratory rate(breaths per minute)' 'C-REACTIVE PROTEINS'\n",
            " 'Breathlessness' 'TLC COUNT' 'Age']\n",
            "{'svc__C': 3, 'svc__gamma': 3, 'svc__kernel': 'rbf'}\n",
            "6\n",
            "['Respiratory rate(breaths per minute)' 'C-REACTIVE PROTEINS'\n",
            " 'Breathlessness' 'Age' 'TOTAL PROTEINS']\n",
            "{'svc__C': 100, 'svc__gamma': 0.1, 'svc__kernel': 'sigmoid'}\n",
            "7\n"
          ],
          "name": "stdout"
        },
        {
          "output_type": "execute_result",
          "data": {
            "text/plain": [
              "[0.9428571428571428,\n",
              " 0.7555555555555555,\n",
              " 0.8533126293995859,\n",
              " 0.8639455782312925,\n",
              " 0.7333333333333334]"
            ]
          },
          "metadata": {
            "tags": []
          },
          "execution_count": 21
        }
      ]
    },
    {
      "cell_type": "code",
      "metadata": {
        "colab": {
          "base_uri": "https://localhost:8080/",
          "height": 203
        },
        "id": "prCIbyIVb-gM",
        "outputId": "1eafe68e-be9a-4fe9-baac-95dd29e7d9b7"
      },
      "source": [
        "headings = ['Model','Accuracy Score','Precision Score','Recall Score','F1 Score','ROC-AUC']\n",
        "data = [['Logistic Regression',0.926, 0.678, 0.593, 0.610,0.780], ['Random Forest',0.96,0.928,\n",
        " 0.752,\n",
        " 0.817,\n",
        " 0.873\n",
        " ], ['Support Vector Machine',\n",
        "0.931,\n",
        "                                                                                       0.787,\n",
        " 0.662,\n",
        " 0.683,\n",
        " 0.814,\n",
        " ],['XGBoost', 0.937,\n",
        "    0.824,\n",
        " 0.724,\n",
        " 0.753,\n",
        " 0.849,\n",
        " ],['Multi-Layer Perception',0.960,\n",
        "                 0.876,\n",
        " 0.828,\n",
        " 0.836,\n",
        " 0.904,\n",
        " ]]\n",
        "df = pd.DataFrame(data, columns = headings)\n",
        "df"
      ],
      "execution_count": 22,
      "outputs": [
        {
          "output_type": "execute_result",
          "data": {
            "text/html": [
              "<div>\n",
              "<style scoped>\n",
              "    .dataframe tbody tr th:only-of-type {\n",
              "        vertical-align: middle;\n",
              "    }\n",
              "\n",
              "    .dataframe tbody tr th {\n",
              "        vertical-align: top;\n",
              "    }\n",
              "\n",
              "    .dataframe thead th {\n",
              "        text-align: right;\n",
              "    }\n",
              "</style>\n",
              "<table border=\"1\" class=\"dataframe\">\n",
              "  <thead>\n",
              "    <tr style=\"text-align: right;\">\n",
              "      <th></th>\n",
              "      <th>Model</th>\n",
              "      <th>Accuracy Score</th>\n",
              "      <th>Precision Score</th>\n",
              "      <th>Recall Score</th>\n",
              "      <th>F1 Score</th>\n",
              "      <th>ROC-AUC</th>\n",
              "    </tr>\n",
              "  </thead>\n",
              "  <tbody>\n",
              "    <tr>\n",
              "      <th>0</th>\n",
              "      <td>Logistic Regression</td>\n",
              "      <td>0.926</td>\n",
              "      <td>0.678</td>\n",
              "      <td>0.593</td>\n",
              "      <td>0.610</td>\n",
              "      <td>0.780</td>\n",
              "    </tr>\n",
              "    <tr>\n",
              "      <th>1</th>\n",
              "      <td>Random Forest</td>\n",
              "      <td>0.960</td>\n",
              "      <td>0.928</td>\n",
              "      <td>0.752</td>\n",
              "      <td>0.817</td>\n",
              "      <td>0.873</td>\n",
              "    </tr>\n",
              "    <tr>\n",
              "      <th>2</th>\n",
              "      <td>Support Vector Machine</td>\n",
              "      <td>0.931</td>\n",
              "      <td>0.787</td>\n",
              "      <td>0.662</td>\n",
              "      <td>0.683</td>\n",
              "      <td>0.814</td>\n",
              "    </tr>\n",
              "    <tr>\n",
              "      <th>3</th>\n",
              "      <td>XGBoost</td>\n",
              "      <td>0.937</td>\n",
              "      <td>0.824</td>\n",
              "      <td>0.724</td>\n",
              "      <td>0.753</td>\n",
              "      <td>0.849</td>\n",
              "    </tr>\n",
              "    <tr>\n",
              "      <th>4</th>\n",
              "      <td>Multi-Layer Perception</td>\n",
              "      <td>0.960</td>\n",
              "      <td>0.876</td>\n",
              "      <td>0.828</td>\n",
              "      <td>0.836</td>\n",
              "      <td>0.904</td>\n",
              "    </tr>\n",
              "  </tbody>\n",
              "</table>\n",
              "</div>"
            ],
            "text/plain": [
              "                    Model  Accuracy Score  ...  F1 Score  ROC-AUC\n",
              "0     Logistic Regression           0.926  ...     0.610    0.780\n",
              "1           Random Forest           0.960  ...     0.817    0.873\n",
              "2  Support Vector Machine           0.931  ...     0.683    0.814\n",
              "3                 XGBoost           0.937  ...     0.753    0.849\n",
              "4  Multi-Layer Perception           0.960  ...     0.836    0.904\n",
              "\n",
              "[5 rows x 6 columns]"
            ]
          },
          "metadata": {
            "tags": []
          },
          "execution_count": 22
        }
      ]
    },
    {
      "cell_type": "code",
      "metadata": {
        "colab": {
          "base_uri": "https://localhost:8080/",
          "height": 376
        },
        "id": "Z8x5GUwUb-gN",
        "outputId": "8d36b998-01e8-4a04-b55e-dbe96f631f97"
      },
      "source": [
        "import matplotlib.pyplot as plt\n",
        "plt.style.use('seaborn')\n",
        "\n",
        "# plot roc curves\n",
        "plt.plot(fpr_lr, tpr_lr, linestyle='--',color='cyan', label='Logistic Regression')\n",
        "plt.plot(fpr_rf, tpr_rf, linestyle='--',color='green', label='Random Forest')\n",
        "plt.plot(fpr_mlp, tpr_mlp, linestyle='--',color='red', label='Multi Layer Perceptron')\n",
        "plt.plot(fpr_xgb, tpr_xgb, linestyle='--',color='darkorange', label='XG Boost')\n",
        "plt.plot(fpr_svc, tpr_svc, linestyle='--',color='m', label='Support Vector Machines')\n",
        "plt.plot(p_fpr, p_tpr, linestyle='--', color='black')\n",
        "# title\n",
        "plt.title('ROC curve')\n",
        "# x label\n",
        "plt.xlabel('False Positive Rate')\n",
        "# y label\n",
        "plt.ylabel('True Positive rate')\n",
        "\n",
        "plt.legend(loc='best')\n",
        "plt.savefig('ROC')\n",
        "plt.show();"
      ],
      "execution_count": 23,
      "outputs": [
        {
          "output_type": "display_data",
          "data": {
            "image/png": "[encoded data removed]",
            "text/plain": [
              "<Figure size 576x396 with 1 Axes>"
            ]
          },
          "metadata": {
            "tags": []
          }
        }
      ]
    },
    {
      "cell_type": "code",
      "metadata": {
        "colab": {
          "base_uri": "https://localhost:8080/",
          "height": 369
        },
        "id": "NP1nGT2wRx5f",
        "outputId": "9d2f29c3-c88b-48f5-fd0c-737982596ea9"
      },
      "source": [
        "import seaborn as sns\n",
        "sns.heatmap(cf_lr, cmap=\"Reds\", annot=True, vmin = 0, vmax = 20)"
      ],
      "execution_count": 24,
      "outputs": [
        {
          "output_type": "execute_result",
          "data": {
            "text/plain": [
              "<matplotlib.axes._subplots.AxesSubplot at 0x7fba3aaef0d0>"
            ]
          },
          "metadata": {
            "tags": []
          },
          "execution_count": 24
        },
        {
          "output_type": "display_data",
          "data": {
            "image/png": "[encoded data removed]",
            "text/plain": [
              "<Figure size 576x396 with 2 Axes>"
            ]
          },
          "metadata": {
            "tags": []
          }
        }
      ]
    },
    {
      "cell_type": "code",
      "metadata": {
        "colab": {
          "base_uri": "https://localhost:8080/",
          "height": 369
        },
        "id": "PgSEk_KoGvW9",
        "outputId": "8fb0121f-870b-48eb-d63f-6fc68b861013"
      },
      "source": [
        "import seaborn as sns\n",
        "sns.heatmap(cf_xgb, cmap=\"Reds\", annot=True, vmin = 0, vmax = 20)"
      ],
      "execution_count": 25,
      "outputs": [
        {
          "output_type": "execute_result",
          "data": {
            "text/plain": [
              "<matplotlib.axes._subplots.AxesSubplot at 0x7fba43c3b750>"
            ]
          },
          "metadata": {
            "tags": []
          },
          "execution_count": 25
        },
        {
          "output_type": "display_data",
          "data": {
            "image/png": "[encoded data removed]",
            "text/plain": [
              "<Figure size 576x396 with 2 Axes>"
            ]
          },
          "metadata": {
            "tags": []
          }
        }
      ]
    },
    {
      "cell_type": "code",
      "metadata": {
        "colab": {
          "base_uri": "https://localhost:8080/",
          "height": 369
        },
        "id": "g6Wutt6KcrcE",
        "outputId": "97bf4c8d-4225-4209-c129-b8b874387629"
      },
      "source": [
        "import seaborn as sns\n",
        "sns.heatmap(cf_rf, cmap=\"Reds\", annot=True, vmin = 0, vmax = 20)"
      ],
      "execution_count": 26,
      "outputs": [
        {
          "output_type": "execute_result",
          "data": {
            "text/plain": [
              "<matplotlib.axes._subplots.AxesSubplot at 0x7fba43c3bc90>"
            ]
          },
          "metadata": {
            "tags": []
          },
          "execution_count": 26
        },
        {
          "output_type": "display_data",
          "data": {
            "image/png": "[encoded data removed]",
            "text/plain": [
              "<Figure size 576x396 with 2 Axes>"
            ]
          },
          "metadata": {
            "tags": []
          }
        }
      ]
    },
    {
      "cell_type": "code",
      "metadata": {
        "colab": {
          "base_uri": "https://localhost:8080/",
          "height": 369
        },
        "id": "RXiTdmXacrZR",
        "outputId": "00a84996-f278-426d-b2b7-7c9bd9e528a6"
      },
      "source": [
        "import seaborn as sns\n",
        "sns.heatmap(cf_svc,cmap=\"Reds\", annot=True, vmin = 0, vmax = 20)"
      ],
      "execution_count": 27,
      "outputs": [
        {
          "output_type": "execute_result",
          "data": {
            "text/plain": [
              "<matplotlib.axes._subplots.AxesSubplot at 0x7fba43c3b410>"
            ]
          },
          "metadata": {
            "tags": []
          },
          "execution_count": 27
        },
        {
          "output_type": "display_data",
          "data": {
            "image/png": "[encoded data removed]",
            "text/plain": [
              "<Figure size 576x396 with 2 Axes>"
            ]
          },
          "metadata": {
            "tags": []
          }
        }
      ]
    },
    {
      "cell_type": "code",
      "metadata": {
        "colab": {
          "base_uri": "https://localhost:8080/",
          "height": 369
        },
        "id": "l6VLYnVKcrW2",
        "outputId": "9911eeb9-6268-4e9d-bf9c-4ac094e08058"
      },
      "source": [
        "import seaborn as sns\n",
        "sns.heatmap(cf_mlp,cmap=\"Reds\", annot=True, vmin = 0, vmax = 20)"
      ],
      "execution_count": 28,
      "outputs": [
        {
          "output_type": "execute_result",
          "data": {
            "text/plain": [
              "<matplotlib.axes._subplots.AxesSubplot at 0x7fba3a4785d0>"
            ]
          },
          "metadata": {
            "tags": []
          },
          "execution_count": 28
        },
        {
          "output_type": "display_data",
          "data": {
            "image/png": "[encoded data removed]",
            "text/plain": [
              "<Figure size 576x396 with 2 Axes>"
            ]
          },
          "metadata": {
            "tags": []
          }
        }
      ]
    }
  ]
}